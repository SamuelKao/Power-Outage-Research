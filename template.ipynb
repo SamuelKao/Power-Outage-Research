{
 "cells": [
  {
   "cell_type": "markdown",
   "metadata": {},
   "source": [
    "# Your Title Here\n",
    "\n",
    "**Name(s)**: (Dawson Tam)\n",
    "\n",
    "**Website Link**: (your website link)"
   ]
  },
  {
   "cell_type": "code",
   "execution_count": 64,
   "metadata": {
    "ExecuteTime": {
     "end_time": "2019-10-31T23:36:28.652554Z",
     "start_time": "2019-10-31T23:36:27.180520Z"
    }
   },
   "outputs": [],
   "source": [
    "import pandas as pd\n",
    "import numpy as np\n",
    "import plotly.io as pio\n",
    "\n",
    "from pathlib import Path\n",
    "import matplotlib.pyplot as plt\n",
    "\n",
    "import plotly.express as px\n",
    "pd.options.plotting.backend = 'plotly'\n",
    "\n",
    "# from dsc80_utils import * # Feel free to uncomment and use this."
   ]
  },
  {
   "cell_type": "markdown",
   "metadata": {},
   "source": [
    "## Step 1: Introduction"
   ]
  },
  {
   "cell_type": "markdown",
   "metadata": {},
   "source": [
    "My partner and I are planning to conduct analysis on the outages dataset. It seems the most relevant and has real world applications; thus, we believe the power outages dataset to be the most appealing.\n",
    "\n",
    "There are various questions that we can explore when it comes to this dataset. Here are a few of them.\n",
    "\n",
    "-Which factors most heavily contribute to increasing the duration of a power outage?\n",
    "\n",
    "-Do different regions/states have different distributions in the number of power outages that they experience?\n",
    "\n",
    "-Has there been an increase in the number of power outages across the United States due to the increase of rapid urbanization?"
   ]
  },
  {
   "cell_type": "code",
   "execution_count": null,
   "metadata": {},
   "outputs": [],
   "source": []
  },
  {
   "cell_type": "markdown",
   "metadata": {},
   "source": [
    "## Step 2: Data Cleaning and Exploratory Data Analysis"
   ]
  },
  {
   "cell_type": "code",
   "execution_count": 65,
   "metadata": {
    "ExecuteTime": {
     "end_time": "2019-10-31T23:36:28.657068Z",
     "start_time": "2019-10-31T23:36:28.654650Z"
    }
   },
   "outputs": [],
   "source": [
    "import pandas as pd\n",
    "\n",
    "# Read the CSV file\n",
    "df = pd.read_csv(\"outage.csv\")\n",
    "\n",
    "# Make a copy of the DataFrame\n",
    "\n",
    "# Slice the DataFrame starting from row 6 (index 5)\n",
    "outages = df.iloc[6:].copy()  # Ensure a copy is made\n",
    "\n",
    "# Use the row at index 4 as column names\n",
    "column_names = list(df.iloc[4].values)\n",
    "\n",
    "# Rename columns for better understanding\n",
    "outages.rename(columns=dict(zip(outages.columns, column_names)), inplace=True)\n",
    "\n",
    "# Drop the 'variables' column\n",
    "outages.drop(columns='variables', inplace=True)\n",
    "\n",
    "# Now modifications are applied to the original DataFrame 'outages1' without raising the warning\n"
   ]
  },
  {
   "cell_type": "code",
   "execution_count": null,
   "metadata": {},
   "outputs": [],
   "source": []
  },
  {
   "cell_type": "code",
   "execution_count": 66,
   "metadata": {},
   "outputs": [
    {
     "data": {
      "text/plain": [
       "Index(['OBS', 'YEAR', 'MONTH', 'U.S._STATE', 'POSTAL.CODE', 'NERC.REGION',\n",
       "       'CLIMATE.REGION', 'ANOMALY.LEVEL', 'CLIMATE.CATEGORY',\n",
       "       'OUTAGE.START.DATE', 'OUTAGE.START.TIME', 'OUTAGE.RESTORATION.DATE',\n",
       "       'OUTAGE.RESTORATION.TIME', 'CAUSE.CATEGORY', 'CAUSE.CATEGORY.DETAIL',\n",
       "       'HURRICANE.NAMES', 'OUTAGE.DURATION', 'DEMAND.LOSS.MW',\n",
       "       'CUSTOMERS.AFFECTED', 'RES.PRICE', 'COM.PRICE', 'IND.PRICE',\n",
       "       'TOTAL.PRICE', 'RES.SALES', 'COM.SALES', 'IND.SALES', 'TOTAL.SALES',\n",
       "       'RES.PERCEN', 'COM.PERCEN', 'IND.PERCEN', 'RES.CUSTOMERS',\n",
       "       'COM.CUSTOMERS', 'IND.CUSTOMERS', 'TOTAL.CUSTOMERS', 'RES.CUST.PCT',\n",
       "       'COM.CUST.PCT', 'IND.CUST.PCT', 'PC.REALGSP.STATE', 'PC.REALGSP.USA',\n",
       "       'PC.REALGSP.REL', 'PC.REALGSP.CHANGE', 'UTIL.REALGSP', 'TOTAL.REALGSP',\n",
       "       'UTIL.CONTRI', 'PI.UTIL.OFUSA', 'POPULATION', 'POPPCT_URBAN',\n",
       "       'POPPCT_UC', 'POPDEN_URBAN', 'POPDEN_UC', 'POPDEN_RURAL',\n",
       "       'AREAPCT_URBAN', 'AREAPCT_UC', 'PCT_LAND', 'PCT_WATER_TOT',\n",
       "       'PCT_WATER_INLAND'],\n",
       "      dtype='object')"
      ]
     },
     "execution_count": 66,
     "metadata": {},
     "output_type": "execute_result"
    }
   ],
   "source": [
    "#lets check what columns we have to work with\n",
    "outages.columns"
   ]
  },
  {
   "cell_type": "code",
   "execution_count": 67,
   "metadata": {},
   "outputs": [
    {
     "data": {
      "text/plain": [
       "['MONTH',\n",
       " 'CLIMATE.REGION',\n",
       " 'ANOMALY.LEVEL',\n",
       " 'CLIMATE.CATEGORY',\n",
       " 'OUTAGE.START.DATE',\n",
       " 'OUTAGE.START.TIME',\n",
       " 'OUTAGE.RESTORATION.DATE',\n",
       " 'OUTAGE.RESTORATION.TIME',\n",
       " 'CAUSE.CATEGORY.DETAIL',\n",
       " 'HURRICANE.NAMES',\n",
       " 'OUTAGE.DURATION',\n",
       " 'DEMAND.LOSS.MW',\n",
       " 'CUSTOMERS.AFFECTED',\n",
       " 'RES.PRICE',\n",
       " 'COM.PRICE',\n",
       " 'IND.PRICE',\n",
       " 'TOTAL.PRICE',\n",
       " 'RES.SALES',\n",
       " 'COM.SALES',\n",
       " 'IND.SALES',\n",
       " 'TOTAL.SALES',\n",
       " 'RES.PERCEN',\n",
       " 'COM.PERCEN',\n",
       " 'IND.PERCEN',\n",
       " 'POPDEN_UC',\n",
       " 'POPDEN_RURAL']"
      ]
     },
     "execution_count": 67,
     "metadata": {},
     "output_type": "execute_result"
    }
   ],
   "source": [
    "#CHECK OUT WHICH COLUMNS HAVE MISSING VALUES\n",
    "columns_with_na = outages.columns[outages.isna().any()].tolist()\n",
    "columns_with_na"
   ]
  },
  {
   "cell_type": "markdown",
   "metadata": {},
   "source": [
    "There are a couple of columns that we don't need. Because we are ultimately trying to predict which variables are going to be the most efffective at determining how long outages last for, we might not need columns such as \"OUTAGE.RESTORATION.DATE\".\"OUTAGE.RESTORATION.TIME\", \"RES.PRICE\".etc. "
   ]
  },
  {
   "cell_type": "code",
   "execution_count": 68,
   "metadata": {},
   "outputs": [],
   "source": [
    "#lets take out some of those unecessary columsn\n",
    "outages.drop(columns = \"OUTAGE.RESTORATION.DATE\", inplace = True)\n"
   ]
  },
  {
   "cell_type": "code",
   "execution_count": 69,
   "metadata": {},
   "outputs": [
    {
     "data": {
      "text/html": [
       "<div>\n",
       "<style scoped>\n",
       "    .dataframe tbody tr th:only-of-type {\n",
       "        vertical-align: middle;\n",
       "    }\n",
       "\n",
       "    .dataframe tbody tr th {\n",
       "        vertical-align: top;\n",
       "    }\n",
       "\n",
       "    .dataframe thead th {\n",
       "        text-align: right;\n",
       "    }\n",
       "</style>\n",
       "<table border=\"1\" class=\"dataframe\">\n",
       "  <thead>\n",
       "    <tr style=\"text-align: right;\">\n",
       "      <th></th>\n",
       "      <th>OBS</th>\n",
       "      <th>YEAR</th>\n",
       "      <th>MONTH</th>\n",
       "      <th>U.S._STATE</th>\n",
       "      <th>POSTAL.CODE</th>\n",
       "      <th>NERC.REGION</th>\n",
       "      <th>CLIMATE.REGION</th>\n",
       "      <th>ANOMALY.LEVEL</th>\n",
       "      <th>CLIMATE.CATEGORY</th>\n",
       "      <th>OUTAGE.START.DATE</th>\n",
       "      <th>...</th>\n",
       "      <th>POPPCT_URBAN</th>\n",
       "      <th>POPPCT_UC</th>\n",
       "      <th>POPDEN_URBAN</th>\n",
       "      <th>POPDEN_UC</th>\n",
       "      <th>POPDEN_RURAL</th>\n",
       "      <th>AREAPCT_URBAN</th>\n",
       "      <th>AREAPCT_UC</th>\n",
       "      <th>PCT_LAND</th>\n",
       "      <th>PCT_WATER_TOT</th>\n",
       "      <th>PCT_WATER_INLAND</th>\n",
       "    </tr>\n",
       "  </thead>\n",
       "  <tbody>\n",
       "    <tr>\n",
       "      <th>6</th>\n",
       "      <td>1</td>\n",
       "      <td>2011</td>\n",
       "      <td>7</td>\n",
       "      <td>Minnesota</td>\n",
       "      <td>MN</td>\n",
       "      <td>MRO</td>\n",
       "      <td>East North Central</td>\n",
       "      <td>-0.3</td>\n",
       "      <td>normal</td>\n",
       "      <td>Friday, July 1, 2011</td>\n",
       "      <td>...</td>\n",
       "      <td>73.27</td>\n",
       "      <td>15.28</td>\n",
       "      <td>2279</td>\n",
       "      <td>1700.5</td>\n",
       "      <td>18.2</td>\n",
       "      <td>2.14</td>\n",
       "      <td>0.6</td>\n",
       "      <td>91.59266587</td>\n",
       "      <td>8.407334131</td>\n",
       "      <td>5.478742983</td>\n",
       "    </tr>\n",
       "    <tr>\n",
       "      <th>7</th>\n",
       "      <td>2</td>\n",
       "      <td>2014</td>\n",
       "      <td>5</td>\n",
       "      <td>Minnesota</td>\n",
       "      <td>MN</td>\n",
       "      <td>MRO</td>\n",
       "      <td>East North Central</td>\n",
       "      <td>-0.1</td>\n",
       "      <td>normal</td>\n",
       "      <td>Sunday, May 11, 2014</td>\n",
       "      <td>...</td>\n",
       "      <td>73.27</td>\n",
       "      <td>15.28</td>\n",
       "      <td>2279</td>\n",
       "      <td>1700.5</td>\n",
       "      <td>18.2</td>\n",
       "      <td>2.14</td>\n",
       "      <td>0.6</td>\n",
       "      <td>91.59266587</td>\n",
       "      <td>8.407334131</td>\n",
       "      <td>5.478742983</td>\n",
       "    </tr>\n",
       "    <tr>\n",
       "      <th>8</th>\n",
       "      <td>3</td>\n",
       "      <td>2010</td>\n",
       "      <td>10</td>\n",
       "      <td>Minnesota</td>\n",
       "      <td>MN</td>\n",
       "      <td>MRO</td>\n",
       "      <td>East North Central</td>\n",
       "      <td>-1.5</td>\n",
       "      <td>cold</td>\n",
       "      <td>Tuesday, October 26, 2010</td>\n",
       "      <td>...</td>\n",
       "      <td>73.27</td>\n",
       "      <td>15.28</td>\n",
       "      <td>2279</td>\n",
       "      <td>1700.5</td>\n",
       "      <td>18.2</td>\n",
       "      <td>2.14</td>\n",
       "      <td>0.6</td>\n",
       "      <td>91.59266587</td>\n",
       "      <td>8.407334131</td>\n",
       "      <td>5.478742983</td>\n",
       "    </tr>\n",
       "    <tr>\n",
       "      <th>9</th>\n",
       "      <td>4</td>\n",
       "      <td>2012</td>\n",
       "      <td>6</td>\n",
       "      <td>Minnesota</td>\n",
       "      <td>MN</td>\n",
       "      <td>MRO</td>\n",
       "      <td>East North Central</td>\n",
       "      <td>-0.1</td>\n",
       "      <td>normal</td>\n",
       "      <td>Tuesday, June 19, 2012</td>\n",
       "      <td>...</td>\n",
       "      <td>73.27</td>\n",
       "      <td>15.28</td>\n",
       "      <td>2279</td>\n",
       "      <td>1700.5</td>\n",
       "      <td>18.2</td>\n",
       "      <td>2.14</td>\n",
       "      <td>0.6</td>\n",
       "      <td>91.59266587</td>\n",
       "      <td>8.407334131</td>\n",
       "      <td>5.478742983</td>\n",
       "    </tr>\n",
       "    <tr>\n",
       "      <th>10</th>\n",
       "      <td>5</td>\n",
       "      <td>2015</td>\n",
       "      <td>7</td>\n",
       "      <td>Minnesota</td>\n",
       "      <td>MN</td>\n",
       "      <td>MRO</td>\n",
       "      <td>East North Central</td>\n",
       "      <td>1.2</td>\n",
       "      <td>warm</td>\n",
       "      <td>Saturday, July 18, 2015</td>\n",
       "      <td>...</td>\n",
       "      <td>73.27</td>\n",
       "      <td>15.28</td>\n",
       "      <td>2279</td>\n",
       "      <td>1700.5</td>\n",
       "      <td>18.2</td>\n",
       "      <td>2.14</td>\n",
       "      <td>0.6</td>\n",
       "      <td>91.59266587</td>\n",
       "      <td>8.407334131</td>\n",
       "      <td>5.478742983</td>\n",
       "    </tr>\n",
       "    <tr>\n",
       "      <th>...</th>\n",
       "      <td>...</td>\n",
       "      <td>...</td>\n",
       "      <td>...</td>\n",
       "      <td>...</td>\n",
       "      <td>...</td>\n",
       "      <td>...</td>\n",
       "      <td>...</td>\n",
       "      <td>...</td>\n",
       "      <td>...</td>\n",
       "      <td>...</td>\n",
       "      <td>...</td>\n",
       "      <td>...</td>\n",
       "      <td>...</td>\n",
       "      <td>...</td>\n",
       "      <td>...</td>\n",
       "      <td>...</td>\n",
       "      <td>...</td>\n",
       "      <td>...</td>\n",
       "      <td>...</td>\n",
       "      <td>...</td>\n",
       "      <td>...</td>\n",
       "    </tr>\n",
       "    <tr>\n",
       "      <th>1535</th>\n",
       "      <td>1530</td>\n",
       "      <td>2011</td>\n",
       "      <td>12</td>\n",
       "      <td>North Dakota</td>\n",
       "      <td>ND</td>\n",
       "      <td>MRO</td>\n",
       "      <td>West North Central</td>\n",
       "      <td>-0.9</td>\n",
       "      <td>cold</td>\n",
       "      <td>Tuesday, December 6, 2011</td>\n",
       "      <td>...</td>\n",
       "      <td>59.9</td>\n",
       "      <td>19.9</td>\n",
       "      <td>2192.2</td>\n",
       "      <td>1868.2</td>\n",
       "      <td>3.9</td>\n",
       "      <td>0.27</td>\n",
       "      <td>0.1</td>\n",
       "      <td>97.59964921</td>\n",
       "      <td>2.401765255</td>\n",
       "      <td>2.401765255</td>\n",
       "    </tr>\n",
       "    <tr>\n",
       "      <th>1536</th>\n",
       "      <td>1531</td>\n",
       "      <td>2006</td>\n",
       "      <td>NaN</td>\n",
       "      <td>North Dakota</td>\n",
       "      <td>ND</td>\n",
       "      <td>MRO</td>\n",
       "      <td>West North Central</td>\n",
       "      <td>NaN</td>\n",
       "      <td>NaN</td>\n",
       "      <td>NaN</td>\n",
       "      <td>...</td>\n",
       "      <td>59.9</td>\n",
       "      <td>19.9</td>\n",
       "      <td>2192.2</td>\n",
       "      <td>1868.2</td>\n",
       "      <td>3.9</td>\n",
       "      <td>0.27</td>\n",
       "      <td>0.1</td>\n",
       "      <td>97.59964921</td>\n",
       "      <td>2.401765255</td>\n",
       "      <td>2.401765255</td>\n",
       "    </tr>\n",
       "    <tr>\n",
       "      <th>1537</th>\n",
       "      <td>1532</td>\n",
       "      <td>2009</td>\n",
       "      <td>8</td>\n",
       "      <td>South Dakota</td>\n",
       "      <td>SD</td>\n",
       "      <td>RFC</td>\n",
       "      <td>West North Central</td>\n",
       "      <td>0.5</td>\n",
       "      <td>warm</td>\n",
       "      <td>Saturday, August 29, 2009</td>\n",
       "      <td>...</td>\n",
       "      <td>56.65</td>\n",
       "      <td>26.73</td>\n",
       "      <td>2038.3</td>\n",
       "      <td>1905.4</td>\n",
       "      <td>4.7</td>\n",
       "      <td>0.3</td>\n",
       "      <td>0.15</td>\n",
       "      <td>98.30774418</td>\n",
       "      <td>1.692255822</td>\n",
       "      <td>1.692255822</td>\n",
       "    </tr>\n",
       "    <tr>\n",
       "      <th>1538</th>\n",
       "      <td>1533</td>\n",
       "      <td>2009</td>\n",
       "      <td>8</td>\n",
       "      <td>South Dakota</td>\n",
       "      <td>SD</td>\n",
       "      <td>MRO</td>\n",
       "      <td>West North Central</td>\n",
       "      <td>0.5</td>\n",
       "      <td>warm</td>\n",
       "      <td>Saturday, August 29, 2009</td>\n",
       "      <td>...</td>\n",
       "      <td>56.65</td>\n",
       "      <td>26.73</td>\n",
       "      <td>2038.3</td>\n",
       "      <td>1905.4</td>\n",
       "      <td>4.7</td>\n",
       "      <td>0.3</td>\n",
       "      <td>0.15</td>\n",
       "      <td>98.30774418</td>\n",
       "      <td>1.692255822</td>\n",
       "      <td>1.692255822</td>\n",
       "    </tr>\n",
       "    <tr>\n",
       "      <th>1539</th>\n",
       "      <td>1534</td>\n",
       "      <td>2000</td>\n",
       "      <td>NaN</td>\n",
       "      <td>Alaska</td>\n",
       "      <td>AK</td>\n",
       "      <td>ASCC</td>\n",
       "      <td>NaN</td>\n",
       "      <td>NaN</td>\n",
       "      <td>NaN</td>\n",
       "      <td>NaN</td>\n",
       "      <td>...</td>\n",
       "      <td>66.02</td>\n",
       "      <td>21.56</td>\n",
       "      <td>1802.6</td>\n",
       "      <td>1276</td>\n",
       "      <td>0.4</td>\n",
       "      <td>0.05</td>\n",
       "      <td>0.02</td>\n",
       "      <td>85.76115446</td>\n",
       "      <td>14.23884554</td>\n",
       "      <td>2.901181874</td>\n",
       "    </tr>\n",
       "  </tbody>\n",
       "</table>\n",
       "<p>1534 rows × 54 columns</p>\n",
       "</div>"
      ],
      "text/plain": [
       "       OBS  YEAR MONTH    U.S._STATE POSTAL.CODE NERC.REGION  \\\n",
       "6        1  2011     7     Minnesota          MN         MRO   \n",
       "7        2  2014     5     Minnesota          MN         MRO   \n",
       "8        3  2010    10     Minnesota          MN         MRO   \n",
       "9        4  2012     6     Minnesota          MN         MRO   \n",
       "10       5  2015     7     Minnesota          MN         MRO   \n",
       "...    ...   ...   ...           ...         ...         ...   \n",
       "1535  1530  2011    12  North Dakota          ND         MRO   \n",
       "1536  1531  2006   NaN  North Dakota          ND         MRO   \n",
       "1537  1532  2009     8  South Dakota          SD         RFC   \n",
       "1538  1533  2009     8  South Dakota          SD         MRO   \n",
       "1539  1534  2000   NaN        Alaska          AK        ASCC   \n",
       "\n",
       "          CLIMATE.REGION ANOMALY.LEVEL CLIMATE.CATEGORY  \\\n",
       "6     East North Central          -0.3           normal   \n",
       "7     East North Central          -0.1           normal   \n",
       "8     East North Central          -1.5             cold   \n",
       "9     East North Central          -0.1           normal   \n",
       "10    East North Central           1.2             warm   \n",
       "...                  ...           ...              ...   \n",
       "1535  West North Central          -0.9             cold   \n",
       "1536  West North Central           NaN              NaN   \n",
       "1537  West North Central           0.5             warm   \n",
       "1538  West North Central           0.5             warm   \n",
       "1539                 NaN           NaN              NaN   \n",
       "\n",
       "              OUTAGE.START.DATE  ... POPPCT_URBAN POPPCT_UC POPDEN_URBAN  \\\n",
       "6          Friday, July 1, 2011  ...        73.27     15.28         2279   \n",
       "7          Sunday, May 11, 2014  ...        73.27     15.28         2279   \n",
       "8     Tuesday, October 26, 2010  ...        73.27     15.28         2279   \n",
       "9        Tuesday, June 19, 2012  ...        73.27     15.28         2279   \n",
       "10      Saturday, July 18, 2015  ...        73.27     15.28         2279   \n",
       "...                         ...  ...          ...       ...          ...   \n",
       "1535  Tuesday, December 6, 2011  ...         59.9      19.9       2192.2   \n",
       "1536                        NaN  ...         59.9      19.9       2192.2   \n",
       "1537  Saturday, August 29, 2009  ...        56.65     26.73       2038.3   \n",
       "1538  Saturday, August 29, 2009  ...        56.65     26.73       2038.3   \n",
       "1539                        NaN  ...        66.02     21.56       1802.6   \n",
       "\n",
       "     POPDEN_UC POPDEN_RURAL AREAPCT_URBAN AREAPCT_UC     PCT_LAND  \\\n",
       "6       1700.5         18.2          2.14        0.6  91.59266587   \n",
       "7       1700.5         18.2          2.14        0.6  91.59266587   \n",
       "8       1700.5         18.2          2.14        0.6  91.59266587   \n",
       "9       1700.5         18.2          2.14        0.6  91.59266587   \n",
       "10      1700.5         18.2          2.14        0.6  91.59266587   \n",
       "...        ...          ...           ...        ...          ...   \n",
       "1535    1868.2          3.9          0.27        0.1  97.59964921   \n",
       "1536    1868.2          3.9          0.27        0.1  97.59964921   \n",
       "1537    1905.4          4.7           0.3       0.15  98.30774418   \n",
       "1538    1905.4          4.7           0.3       0.15  98.30774418   \n",
       "1539      1276          0.4          0.05       0.02  85.76115446   \n",
       "\n",
       "     PCT_WATER_TOT PCT_WATER_INLAND  \n",
       "6      8.407334131      5.478742983  \n",
       "7      8.407334131      5.478742983  \n",
       "8      8.407334131      5.478742983  \n",
       "9      8.407334131      5.478742983  \n",
       "10     8.407334131      5.478742983  \n",
       "...            ...              ...  \n",
       "1535   2.401765255      2.401765255  \n",
       "1536   2.401765255      2.401765255  \n",
       "1537   1.692255822      1.692255822  \n",
       "1538   1.692255822      1.692255822  \n",
       "1539   14.23884554      2.901181874  \n",
       "\n",
       "[1534 rows x 54 columns]"
      ]
     },
     "execution_count": 69,
     "metadata": {},
     "output_type": "execute_result"
    }
   ],
   "source": [
    "outages.drop(columns = \"OUTAGE.RESTORATION.TIME\", inplace = True)\n",
    "outages"
   ]
  },
  {
   "cell_type": "code",
   "execution_count": 70,
   "metadata": {},
   "outputs": [
    {
     "data": {
      "text/html": [
       "<div>\n",
       "<style scoped>\n",
       "    .dataframe tbody tr th:only-of-type {\n",
       "        vertical-align: middle;\n",
       "    }\n",
       "\n",
       "    .dataframe tbody tr th {\n",
       "        vertical-align: top;\n",
       "    }\n",
       "\n",
       "    .dataframe thead th {\n",
       "        text-align: right;\n",
       "    }\n",
       "</style>\n",
       "<table border=\"1\" class=\"dataframe\">\n",
       "  <thead>\n",
       "    <tr style=\"text-align: right;\">\n",
       "      <th></th>\n",
       "      <th>YEAR</th>\n",
       "      <th>MONTH</th>\n",
       "      <th>U.S._STATE</th>\n",
       "      <th>POSTAL.CODE</th>\n",
       "      <th>NERC.REGION</th>\n",
       "      <th>CLIMATE.REGION</th>\n",
       "      <th>ANOMALY.LEVEL</th>\n",
       "      <th>CLIMATE.CATEGORY</th>\n",
       "      <th>OUTAGE.START.DATE</th>\n",
       "      <th>OUTAGE.START.TIME</th>\n",
       "      <th>...</th>\n",
       "      <th>POPPCT_URBAN</th>\n",
       "      <th>POPPCT_UC</th>\n",
       "      <th>POPDEN_URBAN</th>\n",
       "      <th>POPDEN_UC</th>\n",
       "      <th>POPDEN_RURAL</th>\n",
       "      <th>AREAPCT_URBAN</th>\n",
       "      <th>AREAPCT_UC</th>\n",
       "      <th>PCT_LAND</th>\n",
       "      <th>PCT_WATER_TOT</th>\n",
       "      <th>PCT_WATER_INLAND</th>\n",
       "    </tr>\n",
       "  </thead>\n",
       "  <tbody>\n",
       "    <tr>\n",
       "      <th>6</th>\n",
       "      <td>2011</td>\n",
       "      <td>7</td>\n",
       "      <td>Minnesota</td>\n",
       "      <td>MN</td>\n",
       "      <td>MRO</td>\n",
       "      <td>East North Central</td>\n",
       "      <td>-0.3</td>\n",
       "      <td>normal</td>\n",
       "      <td>Friday, July 1, 2011</td>\n",
       "      <td>5:00:00 PM</td>\n",
       "      <td>...</td>\n",
       "      <td>73.27</td>\n",
       "      <td>15.28</td>\n",
       "      <td>2279</td>\n",
       "      <td>1700.5</td>\n",
       "      <td>18.2</td>\n",
       "      <td>2.14</td>\n",
       "      <td>0.6</td>\n",
       "      <td>91.59266587</td>\n",
       "      <td>8.407334131</td>\n",
       "      <td>5.478742983</td>\n",
       "    </tr>\n",
       "    <tr>\n",
       "      <th>7</th>\n",
       "      <td>2014</td>\n",
       "      <td>5</td>\n",
       "      <td>Minnesota</td>\n",
       "      <td>MN</td>\n",
       "      <td>MRO</td>\n",
       "      <td>East North Central</td>\n",
       "      <td>-0.1</td>\n",
       "      <td>normal</td>\n",
       "      <td>Sunday, May 11, 2014</td>\n",
       "      <td>6:38:00 PM</td>\n",
       "      <td>...</td>\n",
       "      <td>73.27</td>\n",
       "      <td>15.28</td>\n",
       "      <td>2279</td>\n",
       "      <td>1700.5</td>\n",
       "      <td>18.2</td>\n",
       "      <td>2.14</td>\n",
       "      <td>0.6</td>\n",
       "      <td>91.59266587</td>\n",
       "      <td>8.407334131</td>\n",
       "      <td>5.478742983</td>\n",
       "    </tr>\n",
       "    <tr>\n",
       "      <th>8</th>\n",
       "      <td>2010</td>\n",
       "      <td>10</td>\n",
       "      <td>Minnesota</td>\n",
       "      <td>MN</td>\n",
       "      <td>MRO</td>\n",
       "      <td>East North Central</td>\n",
       "      <td>-1.5</td>\n",
       "      <td>cold</td>\n",
       "      <td>Tuesday, October 26, 2010</td>\n",
       "      <td>8:00:00 PM</td>\n",
       "      <td>...</td>\n",
       "      <td>73.27</td>\n",
       "      <td>15.28</td>\n",
       "      <td>2279</td>\n",
       "      <td>1700.5</td>\n",
       "      <td>18.2</td>\n",
       "      <td>2.14</td>\n",
       "      <td>0.6</td>\n",
       "      <td>91.59266587</td>\n",
       "      <td>8.407334131</td>\n",
       "      <td>5.478742983</td>\n",
       "    </tr>\n",
       "    <tr>\n",
       "      <th>9</th>\n",
       "      <td>2012</td>\n",
       "      <td>6</td>\n",
       "      <td>Minnesota</td>\n",
       "      <td>MN</td>\n",
       "      <td>MRO</td>\n",
       "      <td>East North Central</td>\n",
       "      <td>-0.1</td>\n",
       "      <td>normal</td>\n",
       "      <td>Tuesday, June 19, 2012</td>\n",
       "      <td>4:30:00 AM</td>\n",
       "      <td>...</td>\n",
       "      <td>73.27</td>\n",
       "      <td>15.28</td>\n",
       "      <td>2279</td>\n",
       "      <td>1700.5</td>\n",
       "      <td>18.2</td>\n",
       "      <td>2.14</td>\n",
       "      <td>0.6</td>\n",
       "      <td>91.59266587</td>\n",
       "      <td>8.407334131</td>\n",
       "      <td>5.478742983</td>\n",
       "    </tr>\n",
       "    <tr>\n",
       "      <th>10</th>\n",
       "      <td>2015</td>\n",
       "      <td>7</td>\n",
       "      <td>Minnesota</td>\n",
       "      <td>MN</td>\n",
       "      <td>MRO</td>\n",
       "      <td>East North Central</td>\n",
       "      <td>1.2</td>\n",
       "      <td>warm</td>\n",
       "      <td>Saturday, July 18, 2015</td>\n",
       "      <td>2:00:00 AM</td>\n",
       "      <td>...</td>\n",
       "      <td>73.27</td>\n",
       "      <td>15.28</td>\n",
       "      <td>2279</td>\n",
       "      <td>1700.5</td>\n",
       "      <td>18.2</td>\n",
       "      <td>2.14</td>\n",
       "      <td>0.6</td>\n",
       "      <td>91.59266587</td>\n",
       "      <td>8.407334131</td>\n",
       "      <td>5.478742983</td>\n",
       "    </tr>\n",
       "    <tr>\n",
       "      <th>...</th>\n",
       "      <td>...</td>\n",
       "      <td>...</td>\n",
       "      <td>...</td>\n",
       "      <td>...</td>\n",
       "      <td>...</td>\n",
       "      <td>...</td>\n",
       "      <td>...</td>\n",
       "      <td>...</td>\n",
       "      <td>...</td>\n",
       "      <td>...</td>\n",
       "      <td>...</td>\n",
       "      <td>...</td>\n",
       "      <td>...</td>\n",
       "      <td>...</td>\n",
       "      <td>...</td>\n",
       "      <td>...</td>\n",
       "      <td>...</td>\n",
       "      <td>...</td>\n",
       "      <td>...</td>\n",
       "      <td>...</td>\n",
       "      <td>...</td>\n",
       "    </tr>\n",
       "    <tr>\n",
       "      <th>1535</th>\n",
       "      <td>2011</td>\n",
       "      <td>12</td>\n",
       "      <td>North Dakota</td>\n",
       "      <td>ND</td>\n",
       "      <td>MRO</td>\n",
       "      <td>West North Central</td>\n",
       "      <td>-0.9</td>\n",
       "      <td>cold</td>\n",
       "      <td>Tuesday, December 6, 2011</td>\n",
       "      <td>8:00:00 AM</td>\n",
       "      <td>...</td>\n",
       "      <td>59.9</td>\n",
       "      <td>19.9</td>\n",
       "      <td>2192.2</td>\n",
       "      <td>1868.2</td>\n",
       "      <td>3.9</td>\n",
       "      <td>0.27</td>\n",
       "      <td>0.1</td>\n",
       "      <td>97.59964921</td>\n",
       "      <td>2.401765255</td>\n",
       "      <td>2.401765255</td>\n",
       "    </tr>\n",
       "    <tr>\n",
       "      <th>1536</th>\n",
       "      <td>2006</td>\n",
       "      <td>NaN</td>\n",
       "      <td>North Dakota</td>\n",
       "      <td>ND</td>\n",
       "      <td>MRO</td>\n",
       "      <td>West North Central</td>\n",
       "      <td>NaN</td>\n",
       "      <td>NaN</td>\n",
       "      <td>NaN</td>\n",
       "      <td>NaN</td>\n",
       "      <td>...</td>\n",
       "      <td>59.9</td>\n",
       "      <td>19.9</td>\n",
       "      <td>2192.2</td>\n",
       "      <td>1868.2</td>\n",
       "      <td>3.9</td>\n",
       "      <td>0.27</td>\n",
       "      <td>0.1</td>\n",
       "      <td>97.59964921</td>\n",
       "      <td>2.401765255</td>\n",
       "      <td>2.401765255</td>\n",
       "    </tr>\n",
       "    <tr>\n",
       "      <th>1537</th>\n",
       "      <td>2009</td>\n",
       "      <td>8</td>\n",
       "      <td>South Dakota</td>\n",
       "      <td>SD</td>\n",
       "      <td>RFC</td>\n",
       "      <td>West North Central</td>\n",
       "      <td>0.5</td>\n",
       "      <td>warm</td>\n",
       "      <td>Saturday, August 29, 2009</td>\n",
       "      <td>10:54:00 PM</td>\n",
       "      <td>...</td>\n",
       "      <td>56.65</td>\n",
       "      <td>26.73</td>\n",
       "      <td>2038.3</td>\n",
       "      <td>1905.4</td>\n",
       "      <td>4.7</td>\n",
       "      <td>0.3</td>\n",
       "      <td>0.15</td>\n",
       "      <td>98.30774418</td>\n",
       "      <td>1.692255822</td>\n",
       "      <td>1.692255822</td>\n",
       "    </tr>\n",
       "    <tr>\n",
       "      <th>1538</th>\n",
       "      <td>2009</td>\n",
       "      <td>8</td>\n",
       "      <td>South Dakota</td>\n",
       "      <td>SD</td>\n",
       "      <td>MRO</td>\n",
       "      <td>West North Central</td>\n",
       "      <td>0.5</td>\n",
       "      <td>warm</td>\n",
       "      <td>Saturday, August 29, 2009</td>\n",
       "      <td>11:00:00 AM</td>\n",
       "      <td>...</td>\n",
       "      <td>56.65</td>\n",
       "      <td>26.73</td>\n",
       "      <td>2038.3</td>\n",
       "      <td>1905.4</td>\n",
       "      <td>4.7</td>\n",
       "      <td>0.3</td>\n",
       "      <td>0.15</td>\n",
       "      <td>98.30774418</td>\n",
       "      <td>1.692255822</td>\n",
       "      <td>1.692255822</td>\n",
       "    </tr>\n",
       "    <tr>\n",
       "      <th>1539</th>\n",
       "      <td>2000</td>\n",
       "      <td>NaN</td>\n",
       "      <td>Alaska</td>\n",
       "      <td>AK</td>\n",
       "      <td>ASCC</td>\n",
       "      <td>NaN</td>\n",
       "      <td>NaN</td>\n",
       "      <td>NaN</td>\n",
       "      <td>NaN</td>\n",
       "      <td>NaN</td>\n",
       "      <td>...</td>\n",
       "      <td>66.02</td>\n",
       "      <td>21.56</td>\n",
       "      <td>1802.6</td>\n",
       "      <td>1276</td>\n",
       "      <td>0.4</td>\n",
       "      <td>0.05</td>\n",
       "      <td>0.02</td>\n",
       "      <td>85.76115446</td>\n",
       "      <td>14.23884554</td>\n",
       "      <td>2.901181874</td>\n",
       "    </tr>\n",
       "  </tbody>\n",
       "</table>\n",
       "<p>1534 rows × 53 columns</p>\n",
       "</div>"
      ],
      "text/plain": [
       "      YEAR MONTH    U.S._STATE POSTAL.CODE NERC.REGION      CLIMATE.REGION  \\\n",
       "6     2011     7     Minnesota          MN         MRO  East North Central   \n",
       "7     2014     5     Minnesota          MN         MRO  East North Central   \n",
       "8     2010    10     Minnesota          MN         MRO  East North Central   \n",
       "9     2012     6     Minnesota          MN         MRO  East North Central   \n",
       "10    2015     7     Minnesota          MN         MRO  East North Central   \n",
       "...    ...   ...           ...         ...         ...                 ...   \n",
       "1535  2011    12  North Dakota          ND         MRO  West North Central   \n",
       "1536  2006   NaN  North Dakota          ND         MRO  West North Central   \n",
       "1537  2009     8  South Dakota          SD         RFC  West North Central   \n",
       "1538  2009     8  South Dakota          SD         MRO  West North Central   \n",
       "1539  2000   NaN        Alaska          AK        ASCC                 NaN   \n",
       "\n",
       "     ANOMALY.LEVEL CLIMATE.CATEGORY          OUTAGE.START.DATE  \\\n",
       "6             -0.3           normal       Friday, July 1, 2011   \n",
       "7             -0.1           normal       Sunday, May 11, 2014   \n",
       "8             -1.5             cold  Tuesday, October 26, 2010   \n",
       "9             -0.1           normal     Tuesday, June 19, 2012   \n",
       "10             1.2             warm    Saturday, July 18, 2015   \n",
       "...            ...              ...                        ...   \n",
       "1535          -0.9             cold  Tuesday, December 6, 2011   \n",
       "1536           NaN              NaN                        NaN   \n",
       "1537           0.5             warm  Saturday, August 29, 2009   \n",
       "1538           0.5             warm  Saturday, August 29, 2009   \n",
       "1539           NaN              NaN                        NaN   \n",
       "\n",
       "     OUTAGE.START.TIME  ... POPPCT_URBAN POPPCT_UC POPDEN_URBAN POPDEN_UC  \\\n",
       "6           5:00:00 PM  ...        73.27     15.28         2279    1700.5   \n",
       "7           6:38:00 PM  ...        73.27     15.28         2279    1700.5   \n",
       "8           8:00:00 PM  ...        73.27     15.28         2279    1700.5   \n",
       "9           4:30:00 AM  ...        73.27     15.28         2279    1700.5   \n",
       "10          2:00:00 AM  ...        73.27     15.28         2279    1700.5   \n",
       "...                ...  ...          ...       ...          ...       ...   \n",
       "1535        8:00:00 AM  ...         59.9      19.9       2192.2    1868.2   \n",
       "1536               NaN  ...         59.9      19.9       2192.2    1868.2   \n",
       "1537       10:54:00 PM  ...        56.65     26.73       2038.3    1905.4   \n",
       "1538       11:00:00 AM  ...        56.65     26.73       2038.3    1905.4   \n",
       "1539               NaN  ...        66.02     21.56       1802.6      1276   \n",
       "\n",
       "     POPDEN_RURAL AREAPCT_URBAN AREAPCT_UC     PCT_LAND PCT_WATER_TOT  \\\n",
       "6            18.2          2.14        0.6  91.59266587   8.407334131   \n",
       "7            18.2          2.14        0.6  91.59266587   8.407334131   \n",
       "8            18.2          2.14        0.6  91.59266587   8.407334131   \n",
       "9            18.2          2.14        0.6  91.59266587   8.407334131   \n",
       "10           18.2          2.14        0.6  91.59266587   8.407334131   \n",
       "...           ...           ...        ...          ...           ...   \n",
       "1535          3.9          0.27        0.1  97.59964921   2.401765255   \n",
       "1536          3.9          0.27        0.1  97.59964921   2.401765255   \n",
       "1537          4.7           0.3       0.15  98.30774418   1.692255822   \n",
       "1538          4.7           0.3       0.15  98.30774418   1.692255822   \n",
       "1539          0.4          0.05       0.02  85.76115446   14.23884554   \n",
       "\n",
       "     PCT_WATER_INLAND  \n",
       "6         5.478742983  \n",
       "7         5.478742983  \n",
       "8         5.478742983  \n",
       "9         5.478742983  \n",
       "10        5.478742983  \n",
       "...               ...  \n",
       "1535      2.401765255  \n",
       "1536      2.401765255  \n",
       "1537      1.692255822  \n",
       "1538      1.692255822  \n",
       "1539      2.901181874  \n",
       "\n",
       "[1534 rows x 53 columns]"
      ]
     },
     "execution_count": 70,
     "metadata": {},
     "output_type": "execute_result"
    }
   ],
   "source": [
    "#drop the first columns too\n",
    "outages = outages.iloc[:,1:]\n",
    "outages"
   ]
  },
  {
   "cell_type": "code",
   "execution_count": 71,
   "metadata": {},
   "outputs": [],
   "source": [
    "\n",
    "outages1 = outages.copy()\n",
    "\n",
    "# Fill missing values in 'OUTAGE.DURATION' column with string '0' in the copy\n",
    "outages1[\"OUTAGE.DURATION\"].fillna(\"0\", inplace=True)\n",
    "\n",
    "# Convert the values in 'OUTAGE.DURATION' column to int in the copy\n",
    "outages1[\"OUTAGE.DURATION\"] = outages1[\"OUTAGE.DURATION\"].astype(int)"
   ]
  },
  {
   "cell_type": "code",
   "execution_count": 72,
   "metadata": {},
   "outputs": [
    {
     "data": {
      "text/plain": [
       "6       3060.000000\n",
       "7          1.000000\n",
       "8       3000.000000\n",
       "9       2550.000000\n",
       "10      1740.000000\n",
       "           ...     \n",
       "1535     720.000000\n",
       "1536    2771.879828\n",
       "1537      59.000000\n",
       "1538     181.000000\n",
       "1539    2771.879828\n",
       "Name: OUTAGE.DURATION, Length: 1534, dtype: float64"
      ]
     },
     "execution_count": 72,
     "metadata": {},
     "output_type": "execute_result"
    }
   ],
   "source": [
    "#impute all 0 to the mean of outage_duration\n",
    "outages1[\"OUTAGE.DURATION\"] = outages1[\"OUTAGE.DURATION\"].replace(0, np.nan)\n",
    "average_outage_duration = outages1[\"OUTAGE.DURATION\"].mean()\n",
    "outages1[\"OUTAGE.DURATION\"].fillna(average_outage_duration, inplace = True)\n",
    "outages1[\"OUTAGE.DURATION\"]"
   ]
  },
  {
   "cell_type": "code",
   "execution_count": 73,
   "metadata": {},
   "outputs": [],
   "source": [
    "import plotly.express as px"
   ]
  },
  {
   "cell_type": "code",
   "execution_count": 74,
   "metadata": {},
   "outputs": [
    {
     "data": {
      "text/plain": [
       "6       3060.000000\n",
       "7          1.000000\n",
       "8       3000.000000\n",
       "9       2550.000000\n",
       "10      1740.000000\n",
       "           ...     \n",
       "1535     720.000000\n",
       "1536    2771.879828\n",
       "1537      59.000000\n",
       "1538     181.000000\n",
       "1539    2771.879828\n",
       "Name: OUTAGE_DURATION, Length: 1534, dtype: float64"
      ]
     },
     "execution_count": 74,
     "metadata": {},
     "output_type": "execute_result"
    }
   ],
   "source": [
    "#rename because the periods are not helpful\n",
    "outages1.rename(columns = {\"OUTAGE.DURATION\":\"OUTAGE_DURATION\"}, inplace = True)\n",
    "outages1[\"OUTAGE_DURATION\"]"
   ]
  },
  {
   "cell_type": "code",
   "execution_count": 75,
   "metadata": {},
   "outputs": [
    {
     "data": {
      "application/vnd.plotly.v1+json": {
       "config": {
        "plotlyServerURL": "https://plot.ly"
       },
       "data": [
        {
         "type": "histogram",
         "x": [
          3060,
          1,
          3000,
          2550,
          1740,
          1860,
          2970,
          3960,
          155,
          3621,
          7740,
          8880,
          2771.8798283261804,
          1322,
          60,
          19,
          2771.8798283261804,
          21,
          196,
          840,
          935,
          1260,
          2771.8798283261804,
          619,
          150,
          762,
          2771.8798283261804,
          660,
          1,
          2700,
          1,
          4921,
          95,
          251,
          4125,
          2550,
          2771.8798283261804,
          1200,
          310,
          2818,
          5054,
          136,
          528,
          150,
          46,
          1,
          1920,
          2771.8798283261804,
          32,
          2771.8798283261804,
          135,
          3000,
          32,
          108653,
          8468,
          960,
          44,
          1605,
          4410,
          388,
          480,
          1219,
          90,
          18660,
          538,
          104,
          60,
          1272,
          60,
          1,
          1000,
          17339,
          9576,
          3090,
          6510,
          5820,
          1078,
          1513,
          4830,
          3051,
          4200,
          2085,
          5730,
          4290,
          2670,
          3540,
          3637,
          1710,
          4320,
          3915,
          3120,
          4590,
          7530,
          5034,
          8160,
          3300,
          4320,
          1770,
          9857,
          4080,
          5670,
          5700,
          1995,
          300,
          5115,
          2670,
          7650,
          4338,
          761,
          5760,
          2820,
          4110,
          3360,
          3015,
          232,
          11525,
          6420,
          46080,
          5700,
          5610,
          78377,
          270,
          4050,
          5865,
          1,
          2325,
          4170,
          4485,
          2694,
          168,
          5580,
          705,
          11850,
          3494,
          4560,
          2760,
          5760,
          8922,
          6030,
          7800,
          4242,
          3120,
          5700,
          900,
          1046,
          7620,
          3630,
          1260,
          5840,
          5790,
          2820,
          600,
          4259,
          2939,
          7080,
          3600,
          1588,
          4260,
          2700,
          200,
          8430,
          85,
          9150,
          1019,
          420,
          1140,
          7440,
          4458,
          373,
          1203,
          868,
          1455,
          206,
          1195,
          1559,
          900,
          2690,
          5115,
          5,
          189,
          2142,
          360,
          2771.8798283261804,
          225,
          2340,
          480,
          9486,
          480,
          3000,
          300,
          3020,
          766,
          2771.8798283261804,
          1335,
          197,
          245,
          3255,
          12180,
          1077,
          600,
          186,
          690,
          27698,
          402,
          2420,
          327,
          1,
          1860,
          220,
          455,
          318,
          757,
          847,
          410,
          215,
          5,
          570,
          12124,
          2655,
          20160,
          1440,
          600,
          39,
          181,
          1185,
          1500,
          2771.8798283261804,
          271,
          1860,
          1200,
          2159,
          6300,
          2771.8798283261804,
          1620,
          224,
          70,
          1697,
          95,
          2220,
          2771.8798283261804,
          7809,
          1200,
          121,
          63,
          5595,
          1,
          557,
          240,
          3360,
          685,
          2280,
          210,
          167,
          1920,
          3569,
          3300,
          10,
          1560,
          840,
          240,
          990,
          6000,
          17865,
          1282,
          1080,
          7540,
          1320,
          1110,
          27698,
          130,
          3040,
          394,
          10140,
          20160,
          21540,
          45,
          1,
          1200,
          550,
          900,
          885,
          940,
          2771.8798283261804,
          3050,
          1830,
          6000,
          1500,
          150,
          1955,
          2220,
          330,
          74,
          420,
          1440,
          255,
          1060,
          12240,
          5250,
          4320,
          120,
          233,
          2771.8798283261804,
          65,
          2120,
          96,
          3,
          4320,
          65,
          2146,
          96,
          4032,
          2580,
          6,
          569,
          2771.8798283261804,
          15950,
          200,
          1980,
          4045,
          2730,
          3314,
          7319,
          1,
          47,
          1440,
          276,
          2771.8798283261804,
          2771.8798283261804,
          3646,
          1130,
          2880,
          513,
          35,
          23773,
          10,
          3872,
          23187,
          12240,
          390,
          2771.8798283261804,
          3264,
          1230,
          803,
          77,
          30,
          300,
          1,
          5,
          1450,
          2680,
          2771.8798283261804,
          7609,
          150,
          3000,
          420,
          479,
          1680,
          2700,
          149,
          1110,
          2790,
          659,
          1320,
          1830,
          3000,
          2771.8798283261804,
          870,
          810,
          1336,
          1695,
          360,
          360,
          120,
          3000,
          1290,
          1530,
          2370,
          1200,
          1200,
          90,
          120,
          1200,
          2761,
          720,
          1120,
          2100,
          960,
          450,
          1440,
          1020,
          2771.8798283261804,
          2010,
          120,
          9230,
          1240,
          465,
          2771.8798283261804,
          2460,
          1183,
          8880,
          394,
          219,
          487,
          19,
          28,
          2771.8798283261804,
          1,
          5340,
          8940,
          467,
          2771.8798283261804,
          1920,
          2771.8798283261804,
          25,
          420,
          2040,
          2771.8798283261804,
          1,
          1423,
          60,
          1620,
          3300,
          385,
          663,
          123,
          1276,
          1919,
          2771.8798283261804,
          440,
          6690,
          2771.8798283261804,
          2771.8798283261804,
          2771.8798283261804,
          717,
          1204,
          292,
          313,
          1,
          5,
          6276,
          2771.8798283261804,
          74,
          2771.8798283261804,
          2771.8798283261804,
          248,
          1,
          2700,
          25,
          126,
          1,
          255,
          1207,
          2771.8798283261804,
          2771.8798283261804,
          245,
          476,
          2771.8798283261804,
          2771.8798283261804,
          2771.8798283261804,
          1,
          2639,
          502,
          548,
          369,
          6480,
          15,
          5,
          2771.8798283261804,
          1,
          2771.8798283261804,
          432,
          21,
          1697,
          2771.8798283261804,
          2615,
          9630,
          3507,
          2820,
          314,
          5855,
          2771.8798283261804,
          2771.8798283261804,
          1,
          22769,
          70,
          4285,
          355,
          2771.8798283261804,
          2520,
          2771.8798283261804,
          180,
          554,
          50,
          70,
          180,
          3842,
          35,
          1,
          189,
          49320,
          4200,
          353,
          1,
          87,
          66,
          2771.8798283261804,
          1,
          227,
          2771.8798283261804,
          1440,
          1,
          2700,
          2771.8798283261804,
          49320,
          2,
          215,
          451,
          418,
          100,
          2021,
          1671,
          3938,
          4470,
          2279,
          4440,
          2760,
          2771.8798283261804,
          1,
          2771.8798283261804,
          1,
          1840,
          428,
          331,
          1980,
          1,
          1,
          1950,
          3037,
          1,
          1,
          1196,
          5628,
          1440,
          7700,
          2,
          12890,
          4232,
          95,
          2610,
          4320,
          17,
          113,
          2771.8798283261804,
          2507,
          2771.8798283261804,
          1,
          4920,
          1,
          4080,
          2771.8798283261804,
          960,
          185,
          1320,
          1673,
          2855,
          3060,
          565,
          1,
          1,
          7298,
          5790,
          3040,
          11700,
          7987,
          304,
          4517,
          2771.8798283261804,
          3058,
          13381,
          2865,
          152,
          380,
          9450,
          7803,
          5579,
          8979,
          4800,
          3060,
          4792,
          3894,
          1757,
          2880,
          2985,
          164,
          3232,
          2319,
          4338,
          2880,
          1714,
          90,
          59,
          4139,
          10530,
          6938,
          930,
          278,
          299,
          5320,
          2880,
          1,
          4260,
          6713,
          5160,
          1440,
          78,
          7523,
          2668,
          1,
          376,
          1324,
          6940,
          2684,
          54,
          100,
          720,
          2880,
          3189,
          2790,
          13679,
          2843,
          13488,
          1642,
          7709,
          7080,
          1440,
          1,
          1680,
          1579,
          652,
          108,
          300,
          1020,
          3570,
          6492,
          23700,
          10499,
          15180,
          2771.8798283261804,
          120,
          1,
          1,
          1,
          1,
          1,
          1,
          60,
          113,
          204,
          31,
          57,
          13,
          2,
          11,
          283,
          2771.8798283261804,
          1,
          871,
          1631,
          56,
          15,
          15,
          20,
          60,
          1,
          95,
          300,
          1,
          3186,
          575,
          2275,
          15,
          1,
          44,
          21,
          1,
          114,
          1,
          60,
          4920,
          2771.8798283261804,
          4920,
          420,
          2771.8798283261804,
          7,
          21,
          340,
          4200,
          805,
          5040,
          7430,
          5490,
          165,
          3630,
          11640,
          1590,
          3137,
          1440,
          7920,
          360,
          2771.8798283261804,
          1440,
          1372,
          6480,
          2190,
          285,
          75,
          1843,
          1,
          11531,
          1420,
          2771.8798283261804,
          930,
          11420,
          2771.8798283261804,
          352,
          2771.8798283261804,
          960,
          1733,
          3690,
          10619,
          634,
          11280,
          1440,
          180,
          1574,
          45,
          563,
          388,
          373,
          4510,
          290,
          1950,
          270,
          1355,
          1318,
          2490,
          1265,
          195,
          3120,
          3388,
          1025,
          990,
          240,
          1485,
          129,
          2771.8798283261804,
          1528,
          1890,
          2551,
          985,
          405,
          1698,
          167,
          1460,
          182,
          4113,
          2771.8798283261804,
          885,
          15,
          42,
          1050,
          1,
          132,
          4140,
          2880,
          2771.8798283261804,
          11430,
          3599,
          2771.8798283261804,
          2941,
          2771.8798283261804,
          6090,
          1365,
          375,
          2520,
          10080,
          76,
          2771.8798283261804,
          3720,
          333,
          2771.8798283261804,
          353,
          11337,
          2771.8798283261804,
          2771.8798283261804,
          7020,
          11058,
          2771.8798283261804,
          9360,
          3300,
          3339,
          2880,
          11580,
          9600,
          13201,
          9719,
          488,
          2415,
          180,
          4177,
          7440,
          3480,
          6600,
          300,
          1526,
          60,
          210,
          2,
          1350,
          73,
          1,
          200,
          2771.8798283261804,
          2771.8798283261804,
          4380,
          2771.8798283261804,
          120,
          2680,
          840,
          989,
          4313,
          214,
          4,
          164,
          91,
          1050,
          838,
          60,
          1,
          1,
          9886,
          2425,
          390,
          14500,
          6660,
          159,
          54,
          30,
          8077,
          855,
          65,
          810,
          4150,
          4740,
          25,
          2771.8798283261804,
          2771.8798283261804,
          2070,
          870,
          12652,
          2880,
          120,
          1199,
          2771.8798283261804,
          1470,
          4140,
          15420,
          50,
          2771.8798283261804,
          1,
          1,
          2771.8798283261804,
          2771.8798283261804,
          2771.8798283261804,
          457,
          1,
          1,
          2771.8798283261804,
          30,
          1,
          1,
          65,
          1,
          2771.8798283261804,
          2771.8798283261804,
          2771.8798283261804,
          1,
          2771.8798283261804,
          1,
          2771.8798283261804,
          1,
          1,
          110,
          39,
          1,
          1,
          1,
          1,
          1,
          1,
          507,
          213,
          4254,
          1,
          1,
          53,
          2771.8798283261804,
          2771.8798283261804,
          251,
          347,
          1637,
          21360,
          2161,
          2880,
          1044,
          8670,
          56,
          93,
          13,
          2089,
          20280,
          14639,
          2880,
          681,
          494,
          1,
          5355,
          2771.8798283261804,
          3943,
          3300,
          191,
          2771.8798283261804,
          73,
          4680,
          17310,
          10080,
          10726,
          1,
          5,
          2515,
          25920,
          2730,
          9480,
          5400,
          30,
          3584,
          3600,
          5850,
          4710,
          1,
          1732,
          2771.8798283261804,
          23040,
          1800,
          6074,
          2771.8798283261804,
          49,
          2299,
          5760,
          420,
          7320,
          2880,
          448,
          2520,
          18717,
          5513,
          21,
          2100,
          3120,
          8221,
          3240,
          2880,
          255,
          2355,
          161,
          50,
          258,
          13140,
          8640,
          18240,
          15492,
          8268,
          2771.8798283261804,
          300,
          14400,
          7962,
          2400,
          11296,
          48,
          60480,
          28170,
          300,
          8054,
          2775,
          2775,
          2160,
          2100,
          2775,
          3180,
          2775,
          1440,
          430,
          2129,
          1755,
          2771.8798283261804,
          692,
          732,
          7,
          510,
          420,
          13215,
          557,
          300,
          17812,
          20416,
          6240,
          467,
          3067,
          3060,
          355,
          430,
          300,
          227,
          52,
          2771.8798283261804,
          2880,
          18804,
          1867,
          1690,
          295,
          17,
          240,
          17520,
          8189,
          182,
          5820,
          83,
          230,
          2009,
          720,
          155,
          4320,
          4320,
          480,
          1005,
          221,
          372,
          13430,
          4320,
          91,
          1419,
          3600,
          10080,
          5071,
          152,
          6840,
          221,
          24780,
          38,
          61,
          7560,
          90,
          10380,
          396,
          2040,
          12060,
          1080,
          1680,
          13920,
          14101,
          1099,
          2460,
          540,
          52,
          816,
          420,
          155,
          437,
          247,
          540,
          1135,
          437,
          180,
          171,
          656,
          84,
          202,
          255,
          1054,
          1,
          1254,
          1456,
          177,
          106,
          32,
          2464,
          55,
          144,
          70,
          64,
          8873,
          945,
          2771.8798283261804,
          523,
          56,
          3,
          8472,
          155,
          33,
          749,
          159,
          2771.8798283261804,
          270,
          2790,
          224,
          1470,
          334,
          2050,
          370,
          26,
          797,
          12,
          195,
          1,
          230,
          125,
          15,
          316,
          365,
          1560,
          4740,
          294,
          455,
          2878,
          336,
          295,
          480,
          25,
          2771.8798283261804,
          223,
          2645,
          2016,
          7371,
          360,
          3408,
          3698,
          4890,
          1,
          871,
          2759,
          250,
          3301,
          249,
          164,
          435,
          420,
          854,
          5160,
          133,
          15180,
          2055,
          451,
          140,
          199,
          721,
          179,
          1524,
          78,
          268,
          39,
          1,
          14190,
          47,
          161,
          900,
          6070,
          697,
          234,
          14,
          5910,
          2771.8798283261804,
          34390,
          40,
          166,
          182,
          829,
          15,
          64,
          13,
          245,
          1080,
          2771.8798283261804,
          390,
          47,
          269,
          2771.8798283261804,
          400,
          660,
          213,
          2771.8798283261804,
          761,
          8100,
          180,
          124,
          4320,
          2820,
          3100,
          49427,
          989,
          125,
          44,
          26,
          245,
          2771.8798283261804,
          98,
          1,
          2771.8798283261804,
          135,
          50,
          1008,
          53,
          554,
          1260,
          2895,
          89,
          98,
          865,
          128,
          230,
          252,
          130,
          5,
          157,
          6914,
          11,
          13,
          2880,
          270,
          962,
          47,
          2771.8798283261804,
          20,
          108,
          9855,
          75,
          17,
          21,
          1950,
          11867,
          141,
          959,
          1035,
          617,
          1230,
          572,
          324,
          1835,
          6780,
          900,
          2771.8798283261804,
          37,
          72,
          1,
          251,
          620,
          89,
          909,
          236,
          326,
          300,
          751,
          122,
          214,
          193,
          8,
          5227,
          2771.8798283261804,
          1414,
          448,
          4605,
          4080,
          2771.8798283261804,
          1914,
          759,
          1,
          10274,
          3,
          2700,
          105,
          240,
          210,
          1,
          1201,
          30,
          2806,
          1226,
          300,
          206,
          270,
          2880,
          513,
          8160,
          3314,
          414,
          126,
          60,
          285,
          110,
          62,
          2363,
          424,
          180,
          2771.8798283261804,
          448,
          2,
          624,
          2435,
          131,
          2771.8798283261804,
          208,
          103,
          1355,
          1523,
          90,
          1205,
          385,
          144,
          235,
          241,
          6787,
          1337,
          1673,
          3366,
          2640,
          1826,
          570,
          1565,
          2691,
          1072,
          115,
          816,
          168,
          30,
          160,
          485,
          1508,
          1301,
          159,
          60,
          4,
          9600,
          106,
          2771.8798283261804,
          2771.8798283261804,
          1,
          32,
          61,
          314,
          30,
          2771.8798283261804,
          92,
          390,
          161,
          60,
          76,
          1,
          1,
          160,
          20,
          1,
          1,
          70,
          50,
          15,
          810,
          1380,
          1800,
          1560,
          2054,
          1452,
          1865,
          1999,
          120,
          1950,
          360,
          1087,
          1200,
          4122,
          360,
          645,
          108,
          2771.8798283261804,
          1,
          1440,
          4560,
          1,
          1,
          110,
          210,
          120,
          2771.8798283261804,
          4260,
          76,
          210,
          3305,
          5880,
          145,
          60,
          2640,
          1042,
          110,
          11880,
          2245,
          984,
          7200,
          1381,
          148,
          13972,
          2771.8798283261804,
          796,
          300,
          2771.8798283261804,
          2612,
          3000,
          431,
          5310,
          1732,
          2771.8798283261804,
          6685,
          3300,
          280,
          117,
          2895,
          480,
          31,
          1,
          2771.8798283261804,
          2771.8798283261804,
          103,
          4745,
          307,
          1656,
          3525,
          374,
          1068,
          1569,
          114,
          115,
          15,
          2891,
          1,
          1676,
          2771.8798283261804,
          2771.8798283261804,
          3604,
          195,
          1,
          2771.8798283261804,
          2108,
          198,
          3667,
          1037,
          673,
          2771.8798283261804,
          2652,
          300,
          881,
          618,
          1187,
          950,
          2535,
          27,
          108,
          73,
          200,
          5,
          75,
          2771.8798283261804,
          77,
          660,
          2771.8798283261804,
          92,
          30,
          33,
          1895,
          274,
          1,
          1534,
          1,
          60,
          108,
          2,
          175,
          2771.8798283261804,
          2040,
          2710,
          284,
          105,
          4019,
          1,
          391,
          439,
          5,
          201,
          2140,
          103,
          2771.8798283261804,
          187,
          1406,
          348,
          13650,
          90,
          913,
          2771.8798283261804,
          14040,
          1367,
          174,
          543,
          237,
          1906,
          224,
          2771.8798283261804,
          95,
          360,
          1548,
          870,
          2771.8798283261804,
          2771.8798283261804,
          220,
          720,
          2771.8798283261804,
          59,
          181,
          2771.8798283261804
         ]
        }
       ],
       "layout": {
        "template": {
         "data": {
          "bar": [
           {
            "error_x": {
             "color": "#2a3f5f"
            },
            "error_y": {
             "color": "#2a3f5f"
            },
            "marker": {
             "line": {
              "color": "#E5ECF6",
              "width": 0.5
             },
             "pattern": {
              "fillmode": "overlay",
              "size": 10,
              "solidity": 0.2
             }
            },
            "type": "bar"
           }
          ],
          "barpolar": [
           {
            "marker": {
             "line": {
              "color": "#E5ECF6",
              "width": 0.5
             },
             "pattern": {
              "fillmode": "overlay",
              "size": 10,
              "solidity": 0.2
             }
            },
            "type": "barpolar"
           }
          ],
          "carpet": [
           {
            "aaxis": {
             "endlinecolor": "#2a3f5f",
             "gridcolor": "white",
             "linecolor": "white",
             "minorgridcolor": "white",
             "startlinecolor": "#2a3f5f"
            },
            "baxis": {
             "endlinecolor": "#2a3f5f",
             "gridcolor": "white",
             "linecolor": "white",
             "minorgridcolor": "white",
             "startlinecolor": "#2a3f5f"
            },
            "type": "carpet"
           }
          ],
          "choropleth": [
           {
            "colorbar": {
             "outlinewidth": 0,
             "ticks": ""
            },
            "type": "choropleth"
           }
          ],
          "contour": [
           {
            "colorbar": {
             "outlinewidth": 0,
             "ticks": ""
            },
            "colorscale": [
             [
              0,
              "#0d0887"
             ],
             [
              0.1111111111111111,
              "#46039f"
             ],
             [
              0.2222222222222222,
              "#7201a8"
             ],
             [
              0.3333333333333333,
              "#9c179e"
             ],
             [
              0.4444444444444444,
              "#bd3786"
             ],
             [
              0.5555555555555556,
              "#d8576b"
             ],
             [
              0.6666666666666666,
              "#ed7953"
             ],
             [
              0.7777777777777778,
              "#fb9f3a"
             ],
             [
              0.8888888888888888,
              "#fdca26"
             ],
             [
              1,
              "#f0f921"
             ]
            ],
            "type": "contour"
           }
          ],
          "contourcarpet": [
           {
            "colorbar": {
             "outlinewidth": 0,
             "ticks": ""
            },
            "type": "contourcarpet"
           }
          ],
          "heatmap": [
           {
            "colorbar": {
             "outlinewidth": 0,
             "ticks": ""
            },
            "colorscale": [
             [
              0,
              "#0d0887"
             ],
             [
              0.1111111111111111,
              "#46039f"
             ],
             [
              0.2222222222222222,
              "#7201a8"
             ],
             [
              0.3333333333333333,
              "#9c179e"
             ],
             [
              0.4444444444444444,
              "#bd3786"
             ],
             [
              0.5555555555555556,
              "#d8576b"
             ],
             [
              0.6666666666666666,
              "#ed7953"
             ],
             [
              0.7777777777777778,
              "#fb9f3a"
             ],
             [
              0.8888888888888888,
              "#fdca26"
             ],
             [
              1,
              "#f0f921"
             ]
            ],
            "type": "heatmap"
           }
          ],
          "heatmapgl": [
           {
            "colorbar": {
             "outlinewidth": 0,
             "ticks": ""
            },
            "colorscale": [
             [
              0,
              "#0d0887"
             ],
             [
              0.1111111111111111,
              "#46039f"
             ],
             [
              0.2222222222222222,
              "#7201a8"
             ],
             [
              0.3333333333333333,
              "#9c179e"
             ],
             [
              0.4444444444444444,
              "#bd3786"
             ],
             [
              0.5555555555555556,
              "#d8576b"
             ],
             [
              0.6666666666666666,
              "#ed7953"
             ],
             [
              0.7777777777777778,
              "#fb9f3a"
             ],
             [
              0.8888888888888888,
              "#fdca26"
             ],
             [
              1,
              "#f0f921"
             ]
            ],
            "type": "heatmapgl"
           }
          ],
          "histogram": [
           {
            "marker": {
             "pattern": {
              "fillmode": "overlay",
              "size": 10,
              "solidity": 0.2
             }
            },
            "type": "histogram"
           }
          ],
          "histogram2d": [
           {
            "colorbar": {
             "outlinewidth": 0,
             "ticks": ""
            },
            "colorscale": [
             [
              0,
              "#0d0887"
             ],
             [
              0.1111111111111111,
              "#46039f"
             ],
             [
              0.2222222222222222,
              "#7201a8"
             ],
             [
              0.3333333333333333,
              "#9c179e"
             ],
             [
              0.4444444444444444,
              "#bd3786"
             ],
             [
              0.5555555555555556,
              "#d8576b"
             ],
             [
              0.6666666666666666,
              "#ed7953"
             ],
             [
              0.7777777777777778,
              "#fb9f3a"
             ],
             [
              0.8888888888888888,
              "#fdca26"
             ],
             [
              1,
              "#f0f921"
             ]
            ],
            "type": "histogram2d"
           }
          ],
          "histogram2dcontour": [
           {
            "colorbar": {
             "outlinewidth": 0,
             "ticks": ""
            },
            "colorscale": [
             [
              0,
              "#0d0887"
             ],
             [
              0.1111111111111111,
              "#46039f"
             ],
             [
              0.2222222222222222,
              "#7201a8"
             ],
             [
              0.3333333333333333,
              "#9c179e"
             ],
             [
              0.4444444444444444,
              "#bd3786"
             ],
             [
              0.5555555555555556,
              "#d8576b"
             ],
             [
              0.6666666666666666,
              "#ed7953"
             ],
             [
              0.7777777777777778,
              "#fb9f3a"
             ],
             [
              0.8888888888888888,
              "#fdca26"
             ],
             [
              1,
              "#f0f921"
             ]
            ],
            "type": "histogram2dcontour"
           }
          ],
          "mesh3d": [
           {
            "colorbar": {
             "outlinewidth": 0,
             "ticks": ""
            },
            "type": "mesh3d"
           }
          ],
          "parcoords": [
           {
            "line": {
             "colorbar": {
              "outlinewidth": 0,
              "ticks": ""
             }
            },
            "type": "parcoords"
           }
          ],
          "pie": [
           {
            "automargin": true,
            "type": "pie"
           }
          ],
          "scatter": [
           {
            "fillpattern": {
             "fillmode": "overlay",
             "size": 10,
             "solidity": 0.2
            },
            "type": "scatter"
           }
          ],
          "scatter3d": [
           {
            "line": {
             "colorbar": {
              "outlinewidth": 0,
              "ticks": ""
             }
            },
            "marker": {
             "colorbar": {
              "outlinewidth": 0,
              "ticks": ""
             }
            },
            "type": "scatter3d"
           }
          ],
          "scattercarpet": [
           {
            "marker": {
             "colorbar": {
              "outlinewidth": 0,
              "ticks": ""
             }
            },
            "type": "scattercarpet"
           }
          ],
          "scattergeo": [
           {
            "marker": {
             "colorbar": {
              "outlinewidth": 0,
              "ticks": ""
             }
            },
            "type": "scattergeo"
           }
          ],
          "scattergl": [
           {
            "marker": {
             "colorbar": {
              "outlinewidth": 0,
              "ticks": ""
             }
            },
            "type": "scattergl"
           }
          ],
          "scattermapbox": [
           {
            "marker": {
             "colorbar": {
              "outlinewidth": 0,
              "ticks": ""
             }
            },
            "type": "scattermapbox"
           }
          ],
          "scatterpolar": [
           {
            "marker": {
             "colorbar": {
              "outlinewidth": 0,
              "ticks": ""
             }
            },
            "type": "scatterpolar"
           }
          ],
          "scatterpolargl": [
           {
            "marker": {
             "colorbar": {
              "outlinewidth": 0,
              "ticks": ""
             }
            },
            "type": "scatterpolargl"
           }
          ],
          "scatterternary": [
           {
            "marker": {
             "colorbar": {
              "outlinewidth": 0,
              "ticks": ""
             }
            },
            "type": "scatterternary"
           }
          ],
          "surface": [
           {
            "colorbar": {
             "outlinewidth": 0,
             "ticks": ""
            },
            "colorscale": [
             [
              0,
              "#0d0887"
             ],
             [
              0.1111111111111111,
              "#46039f"
             ],
             [
              0.2222222222222222,
              "#7201a8"
             ],
             [
              0.3333333333333333,
              "#9c179e"
             ],
             [
              0.4444444444444444,
              "#bd3786"
             ],
             [
              0.5555555555555556,
              "#d8576b"
             ],
             [
              0.6666666666666666,
              "#ed7953"
             ],
             [
              0.7777777777777778,
              "#fb9f3a"
             ],
             [
              0.8888888888888888,
              "#fdca26"
             ],
             [
              1,
              "#f0f921"
             ]
            ],
            "type": "surface"
           }
          ],
          "table": [
           {
            "cells": {
             "fill": {
              "color": "#EBF0F8"
             },
             "line": {
              "color": "white"
             }
            },
            "header": {
             "fill": {
              "color": "#C8D4E3"
             },
             "line": {
              "color": "white"
             }
            },
            "type": "table"
           }
          ]
         },
         "layout": {
          "annotationdefaults": {
           "arrowcolor": "#2a3f5f",
           "arrowhead": 0,
           "arrowwidth": 1
          },
          "autotypenumbers": "strict",
          "coloraxis": {
           "colorbar": {
            "outlinewidth": 0,
            "ticks": ""
           }
          },
          "colorscale": {
           "diverging": [
            [
             0,
             "#8e0152"
            ],
            [
             0.1,
             "#c51b7d"
            ],
            [
             0.2,
             "#de77ae"
            ],
            [
             0.3,
             "#f1b6da"
            ],
            [
             0.4,
             "#fde0ef"
            ],
            [
             0.5,
             "#f7f7f7"
            ],
            [
             0.6,
             "#e6f5d0"
            ],
            [
             0.7,
             "#b8e186"
            ],
            [
             0.8,
             "#7fbc41"
            ],
            [
             0.9,
             "#4d9221"
            ],
            [
             1,
             "#276419"
            ]
           ],
           "sequential": [
            [
             0,
             "#0d0887"
            ],
            [
             0.1111111111111111,
             "#46039f"
            ],
            [
             0.2222222222222222,
             "#7201a8"
            ],
            [
             0.3333333333333333,
             "#9c179e"
            ],
            [
             0.4444444444444444,
             "#bd3786"
            ],
            [
             0.5555555555555556,
             "#d8576b"
            ],
            [
             0.6666666666666666,
             "#ed7953"
            ],
            [
             0.7777777777777778,
             "#fb9f3a"
            ],
            [
             0.8888888888888888,
             "#fdca26"
            ],
            [
             1,
             "#f0f921"
            ]
           ],
           "sequentialminus": [
            [
             0,
             "#0d0887"
            ],
            [
             0.1111111111111111,
             "#46039f"
            ],
            [
             0.2222222222222222,
             "#7201a8"
            ],
            [
             0.3333333333333333,
             "#9c179e"
            ],
            [
             0.4444444444444444,
             "#bd3786"
            ],
            [
             0.5555555555555556,
             "#d8576b"
            ],
            [
             0.6666666666666666,
             "#ed7953"
            ],
            [
             0.7777777777777778,
             "#fb9f3a"
            ],
            [
             0.8888888888888888,
             "#fdca26"
            ],
            [
             1,
             "#f0f921"
            ]
           ]
          },
          "colorway": [
           "#636efa",
           "#EF553B",
           "#00cc96",
           "#ab63fa",
           "#FFA15A",
           "#19d3f3",
           "#FF6692",
           "#B6E880",
           "#FF97FF",
           "#FECB52"
          ],
          "font": {
           "color": "#2a3f5f"
          },
          "geo": {
           "bgcolor": "white",
           "lakecolor": "white",
           "landcolor": "#E5ECF6",
           "showlakes": true,
           "showland": true,
           "subunitcolor": "white"
          },
          "hoverlabel": {
           "align": "left"
          },
          "hovermode": "closest",
          "mapbox": {
           "style": "light"
          },
          "paper_bgcolor": "white",
          "plot_bgcolor": "#E5ECF6",
          "polar": {
           "angularaxis": {
            "gridcolor": "white",
            "linecolor": "white",
            "ticks": ""
           },
           "bgcolor": "#E5ECF6",
           "radialaxis": {
            "gridcolor": "white",
            "linecolor": "white",
            "ticks": ""
           }
          },
          "scene": {
           "xaxis": {
            "backgroundcolor": "#E5ECF6",
            "gridcolor": "white",
            "gridwidth": 2,
            "linecolor": "white",
            "showbackground": true,
            "ticks": "",
            "zerolinecolor": "white"
           },
           "yaxis": {
            "backgroundcolor": "#E5ECF6",
            "gridcolor": "white",
            "gridwidth": 2,
            "linecolor": "white",
            "showbackground": true,
            "ticks": "",
            "zerolinecolor": "white"
           },
           "zaxis": {
            "backgroundcolor": "#E5ECF6",
            "gridcolor": "white",
            "gridwidth": 2,
            "linecolor": "white",
            "showbackground": true,
            "ticks": "",
            "zerolinecolor": "white"
           }
          },
          "shapedefaults": {
           "line": {
            "color": "#2a3f5f"
           }
          },
          "ternary": {
           "aaxis": {
            "gridcolor": "white",
            "linecolor": "white",
            "ticks": ""
           },
           "baxis": {
            "gridcolor": "white",
            "linecolor": "white",
            "ticks": ""
           },
           "bgcolor": "#E5ECF6",
           "caxis": {
            "gridcolor": "white",
            "linecolor": "white",
            "ticks": ""
           }
          },
          "title": {
           "x": 0.05
          },
          "xaxis": {
           "automargin": true,
           "gridcolor": "white",
           "linecolor": "white",
           "ticks": "",
           "title": {
            "standoff": 15
           },
           "zerolinecolor": "white",
           "zerolinewidth": 2
          },
          "yaxis": {
           "automargin": true,
           "gridcolor": "white",
           "linecolor": "white",
           "ticks": "",
           "title": {
            "standoff": 15
           },
           "zerolinecolor": "white",
           "zerolinewidth": 2
          }
         }
        },
        "title": {
         "text": "Distribution of Outage Duration"
        },
        "xaxis": {
         "title": {
          "text": "Outage Duration"
         }
        },
        "yaxis": {
         "title": {
          "text": "Count of Outage Length"
         }
        }
       }
      }
     },
     "metadata": {},
     "output_type": "display_data"
    }
   ],
   "source": [
    "import plotly.graph_objects as go\n",
    "\n",
    "# Make the distribution plot using Plotly\n",
    "fig = go.Figure(data=[go.Histogram(x=outages1[\"OUTAGE_DURATION\"])])\n",
    "fig.update_layout(\n",
    "    title=\"Distribution of Outage Duration\",\n",
    "    xaxis_title=\"Outage Duration\",\n",
    "    yaxis_title=\"Count of Outage Length\"\n",
    ")\n",
    "fig.show()\n",
    "\n",
    "# Save the plot as HTML to a file\n",
    "fig.write_html('fig1.html', include_plotlyjs='cdn')\n"
   ]
  },
  {
   "cell_type": "code",
   "execution_count": 76,
   "metadata": {},
   "outputs": [
    {
     "data": {
      "text/plain": [
       "Index(['YEAR', 'MONTH', 'U.S._STATE', 'POSTAL.CODE', 'NERC.REGION',\n",
       "       'CLIMATE.REGION', 'ANOMALY.LEVEL', 'CLIMATE.CATEGORY',\n",
       "       'OUTAGE.START.DATE', 'OUTAGE.START.TIME', 'CAUSE.CATEGORY',\n",
       "       'CAUSE.CATEGORY.DETAIL', 'HURRICANE.NAMES', 'OUTAGE_DURATION',\n",
       "       'DEMAND.LOSS.MW', 'CUSTOMERS.AFFECTED', 'RES.PRICE', 'COM.PRICE',\n",
       "       'IND.PRICE', 'TOTAL.PRICE', 'RES.SALES', 'COM.SALES', 'IND.SALES',\n",
       "       'TOTAL.SALES', 'RES.PERCEN', 'COM.PERCEN', 'IND.PERCEN',\n",
       "       'RES.CUSTOMERS', 'COM.CUSTOMERS', 'IND.CUSTOMERS', 'TOTAL.CUSTOMERS',\n",
       "       'RES.CUST.PCT', 'COM.CUST.PCT', 'IND.CUST.PCT', 'PC.REALGSP.STATE',\n",
       "       'PC.REALGSP.USA', 'PC.REALGSP.REL', 'PC.REALGSP.CHANGE', 'UTIL.REALGSP',\n",
       "       'TOTAL.REALGSP', 'UTIL.CONTRI', 'PI.UTIL.OFUSA', 'POPULATION',\n",
       "       'POPPCT_URBAN', 'POPPCT_UC', 'POPDEN_URBAN', 'POPDEN_UC',\n",
       "       'POPDEN_RURAL', 'AREAPCT_URBAN', 'AREAPCT_UC', 'PCT_LAND',\n",
       "       'PCT_WATER_TOT', 'PCT_WATER_INLAND'],\n",
       "      dtype='object')"
      ]
     },
     "execution_count": 76,
     "metadata": {},
     "output_type": "execute_result"
    }
   ],
   "source": [
    "#scatter plot showing the number of outages that occur every year\n",
    "outages1.columns"
   ]
  },
  {
   "cell_type": "code",
   "execution_count": 77,
   "metadata": {},
   "outputs": [
    {
     "data": {
      "application/vnd.plotly.v1+json": {
       "config": {
        "plotlyServerURL": "https://plot.ly"
       },
       "data": [
        {
         "mode": "markers",
         "type": "scatter",
         "x": [
          "2000",
          "2001",
          "2002",
          "2003",
          "2004",
          "2005",
          "2006",
          "2007",
          "2008",
          "2009",
          "2010",
          "2011",
          "2012",
          "2013",
          "2014",
          "2015",
          "2016"
         ],
         "y": [
          19,
          15,
          16,
          46,
          71,
          55,
          66,
          56,
          111,
          78,
          106,
          269,
          174,
          153,
          112,
          119,
          59
         ]
        }
       ],
       "layout": {
        "template": {
         "data": {
          "bar": [
           {
            "error_x": {
             "color": "#2a3f5f"
            },
            "error_y": {
             "color": "#2a3f5f"
            },
            "marker": {
             "line": {
              "color": "#E5ECF6",
              "width": 0.5
             },
             "pattern": {
              "fillmode": "overlay",
              "size": 10,
              "solidity": 0.2
             }
            },
            "type": "bar"
           }
          ],
          "barpolar": [
           {
            "marker": {
             "line": {
              "color": "#E5ECF6",
              "width": 0.5
             },
             "pattern": {
              "fillmode": "overlay",
              "size": 10,
              "solidity": 0.2
             }
            },
            "type": "barpolar"
           }
          ],
          "carpet": [
           {
            "aaxis": {
             "endlinecolor": "#2a3f5f",
             "gridcolor": "white",
             "linecolor": "white",
             "minorgridcolor": "white",
             "startlinecolor": "#2a3f5f"
            },
            "baxis": {
             "endlinecolor": "#2a3f5f",
             "gridcolor": "white",
             "linecolor": "white",
             "minorgridcolor": "white",
             "startlinecolor": "#2a3f5f"
            },
            "type": "carpet"
           }
          ],
          "choropleth": [
           {
            "colorbar": {
             "outlinewidth": 0,
             "ticks": ""
            },
            "type": "choropleth"
           }
          ],
          "contour": [
           {
            "colorbar": {
             "outlinewidth": 0,
             "ticks": ""
            },
            "colorscale": [
             [
              0,
              "#0d0887"
             ],
             [
              0.1111111111111111,
              "#46039f"
             ],
             [
              0.2222222222222222,
              "#7201a8"
             ],
             [
              0.3333333333333333,
              "#9c179e"
             ],
             [
              0.4444444444444444,
              "#bd3786"
             ],
             [
              0.5555555555555556,
              "#d8576b"
             ],
             [
              0.6666666666666666,
              "#ed7953"
             ],
             [
              0.7777777777777778,
              "#fb9f3a"
             ],
             [
              0.8888888888888888,
              "#fdca26"
             ],
             [
              1,
              "#f0f921"
             ]
            ],
            "type": "contour"
           }
          ],
          "contourcarpet": [
           {
            "colorbar": {
             "outlinewidth": 0,
             "ticks": ""
            },
            "type": "contourcarpet"
           }
          ],
          "heatmap": [
           {
            "colorbar": {
             "outlinewidth": 0,
             "ticks": ""
            },
            "colorscale": [
             [
              0,
              "#0d0887"
             ],
             [
              0.1111111111111111,
              "#46039f"
             ],
             [
              0.2222222222222222,
              "#7201a8"
             ],
             [
              0.3333333333333333,
              "#9c179e"
             ],
             [
              0.4444444444444444,
              "#bd3786"
             ],
             [
              0.5555555555555556,
              "#d8576b"
             ],
             [
              0.6666666666666666,
              "#ed7953"
             ],
             [
              0.7777777777777778,
              "#fb9f3a"
             ],
             [
              0.8888888888888888,
              "#fdca26"
             ],
             [
              1,
              "#f0f921"
             ]
            ],
            "type": "heatmap"
           }
          ],
          "heatmapgl": [
           {
            "colorbar": {
             "outlinewidth": 0,
             "ticks": ""
            },
            "colorscale": [
             [
              0,
              "#0d0887"
             ],
             [
              0.1111111111111111,
              "#46039f"
             ],
             [
              0.2222222222222222,
              "#7201a8"
             ],
             [
              0.3333333333333333,
              "#9c179e"
             ],
             [
              0.4444444444444444,
              "#bd3786"
             ],
             [
              0.5555555555555556,
              "#d8576b"
             ],
             [
              0.6666666666666666,
              "#ed7953"
             ],
             [
              0.7777777777777778,
              "#fb9f3a"
             ],
             [
              0.8888888888888888,
              "#fdca26"
             ],
             [
              1,
              "#f0f921"
             ]
            ],
            "type": "heatmapgl"
           }
          ],
          "histogram": [
           {
            "marker": {
             "pattern": {
              "fillmode": "overlay",
              "size": 10,
              "solidity": 0.2
             }
            },
            "type": "histogram"
           }
          ],
          "histogram2d": [
           {
            "colorbar": {
             "outlinewidth": 0,
             "ticks": ""
            },
            "colorscale": [
             [
              0,
              "#0d0887"
             ],
             [
              0.1111111111111111,
              "#46039f"
             ],
             [
              0.2222222222222222,
              "#7201a8"
             ],
             [
              0.3333333333333333,
              "#9c179e"
             ],
             [
              0.4444444444444444,
              "#bd3786"
             ],
             [
              0.5555555555555556,
              "#d8576b"
             ],
             [
              0.6666666666666666,
              "#ed7953"
             ],
             [
              0.7777777777777778,
              "#fb9f3a"
             ],
             [
              0.8888888888888888,
              "#fdca26"
             ],
             [
              1,
              "#f0f921"
             ]
            ],
            "type": "histogram2d"
           }
          ],
          "histogram2dcontour": [
           {
            "colorbar": {
             "outlinewidth": 0,
             "ticks": ""
            },
            "colorscale": [
             [
              0,
              "#0d0887"
             ],
             [
              0.1111111111111111,
              "#46039f"
             ],
             [
              0.2222222222222222,
              "#7201a8"
             ],
             [
              0.3333333333333333,
              "#9c179e"
             ],
             [
              0.4444444444444444,
              "#bd3786"
             ],
             [
              0.5555555555555556,
              "#d8576b"
             ],
             [
              0.6666666666666666,
              "#ed7953"
             ],
             [
              0.7777777777777778,
              "#fb9f3a"
             ],
             [
              0.8888888888888888,
              "#fdca26"
             ],
             [
              1,
              "#f0f921"
             ]
            ],
            "type": "histogram2dcontour"
           }
          ],
          "mesh3d": [
           {
            "colorbar": {
             "outlinewidth": 0,
             "ticks": ""
            },
            "type": "mesh3d"
           }
          ],
          "parcoords": [
           {
            "line": {
             "colorbar": {
              "outlinewidth": 0,
              "ticks": ""
             }
            },
            "type": "parcoords"
           }
          ],
          "pie": [
           {
            "automargin": true,
            "type": "pie"
           }
          ],
          "scatter": [
           {
            "fillpattern": {
             "fillmode": "overlay",
             "size": 10,
             "solidity": 0.2
            },
            "type": "scatter"
           }
          ],
          "scatter3d": [
           {
            "line": {
             "colorbar": {
              "outlinewidth": 0,
              "ticks": ""
             }
            },
            "marker": {
             "colorbar": {
              "outlinewidth": 0,
              "ticks": ""
             }
            },
            "type": "scatter3d"
           }
          ],
          "scattercarpet": [
           {
            "marker": {
             "colorbar": {
              "outlinewidth": 0,
              "ticks": ""
             }
            },
            "type": "scattercarpet"
           }
          ],
          "scattergeo": [
           {
            "marker": {
             "colorbar": {
              "outlinewidth": 0,
              "ticks": ""
             }
            },
            "type": "scattergeo"
           }
          ],
          "scattergl": [
           {
            "marker": {
             "colorbar": {
              "outlinewidth": 0,
              "ticks": ""
             }
            },
            "type": "scattergl"
           }
          ],
          "scattermapbox": [
           {
            "marker": {
             "colorbar": {
              "outlinewidth": 0,
              "ticks": ""
             }
            },
            "type": "scattermapbox"
           }
          ],
          "scatterpolar": [
           {
            "marker": {
             "colorbar": {
              "outlinewidth": 0,
              "ticks": ""
             }
            },
            "type": "scatterpolar"
           }
          ],
          "scatterpolargl": [
           {
            "marker": {
             "colorbar": {
              "outlinewidth": 0,
              "ticks": ""
             }
            },
            "type": "scatterpolargl"
           }
          ],
          "scatterternary": [
           {
            "marker": {
             "colorbar": {
              "outlinewidth": 0,
              "ticks": ""
             }
            },
            "type": "scatterternary"
           }
          ],
          "surface": [
           {
            "colorbar": {
             "outlinewidth": 0,
             "ticks": ""
            },
            "colorscale": [
             [
              0,
              "#0d0887"
             ],
             [
              0.1111111111111111,
              "#46039f"
             ],
             [
              0.2222222222222222,
              "#7201a8"
             ],
             [
              0.3333333333333333,
              "#9c179e"
             ],
             [
              0.4444444444444444,
              "#bd3786"
             ],
             [
              0.5555555555555556,
              "#d8576b"
             ],
             [
              0.6666666666666666,
              "#ed7953"
             ],
             [
              0.7777777777777778,
              "#fb9f3a"
             ],
             [
              0.8888888888888888,
              "#fdca26"
             ],
             [
              1,
              "#f0f921"
             ]
            ],
            "type": "surface"
           }
          ],
          "table": [
           {
            "cells": {
             "fill": {
              "color": "#EBF0F8"
             },
             "line": {
              "color": "white"
             }
            },
            "header": {
             "fill": {
              "color": "#C8D4E3"
             },
             "line": {
              "color": "white"
             }
            },
            "type": "table"
           }
          ]
         },
         "layout": {
          "annotationdefaults": {
           "arrowcolor": "#2a3f5f",
           "arrowhead": 0,
           "arrowwidth": 1
          },
          "autotypenumbers": "strict",
          "coloraxis": {
           "colorbar": {
            "outlinewidth": 0,
            "ticks": ""
           }
          },
          "colorscale": {
           "diverging": [
            [
             0,
             "#8e0152"
            ],
            [
             0.1,
             "#c51b7d"
            ],
            [
             0.2,
             "#de77ae"
            ],
            [
             0.3,
             "#f1b6da"
            ],
            [
             0.4,
             "#fde0ef"
            ],
            [
             0.5,
             "#f7f7f7"
            ],
            [
             0.6,
             "#e6f5d0"
            ],
            [
             0.7,
             "#b8e186"
            ],
            [
             0.8,
             "#7fbc41"
            ],
            [
             0.9,
             "#4d9221"
            ],
            [
             1,
             "#276419"
            ]
           ],
           "sequential": [
            [
             0,
             "#0d0887"
            ],
            [
             0.1111111111111111,
             "#46039f"
            ],
            [
             0.2222222222222222,
             "#7201a8"
            ],
            [
             0.3333333333333333,
             "#9c179e"
            ],
            [
             0.4444444444444444,
             "#bd3786"
            ],
            [
             0.5555555555555556,
             "#d8576b"
            ],
            [
             0.6666666666666666,
             "#ed7953"
            ],
            [
             0.7777777777777778,
             "#fb9f3a"
            ],
            [
             0.8888888888888888,
             "#fdca26"
            ],
            [
             1,
             "#f0f921"
            ]
           ],
           "sequentialminus": [
            [
             0,
             "#0d0887"
            ],
            [
             0.1111111111111111,
             "#46039f"
            ],
            [
             0.2222222222222222,
             "#7201a8"
            ],
            [
             0.3333333333333333,
             "#9c179e"
            ],
            [
             0.4444444444444444,
             "#bd3786"
            ],
            [
             0.5555555555555556,
             "#d8576b"
            ],
            [
             0.6666666666666666,
             "#ed7953"
            ],
            [
             0.7777777777777778,
             "#fb9f3a"
            ],
            [
             0.8888888888888888,
             "#fdca26"
            ],
            [
             1,
             "#f0f921"
            ]
           ]
          },
          "colorway": [
           "#636efa",
           "#EF553B",
           "#00cc96",
           "#ab63fa",
           "#FFA15A",
           "#19d3f3",
           "#FF6692",
           "#B6E880",
           "#FF97FF",
           "#FECB52"
          ],
          "font": {
           "color": "#2a3f5f"
          },
          "geo": {
           "bgcolor": "white",
           "lakecolor": "white",
           "landcolor": "#E5ECF6",
           "showlakes": true,
           "showland": true,
           "subunitcolor": "white"
          },
          "hoverlabel": {
           "align": "left"
          },
          "hovermode": "closest",
          "mapbox": {
           "style": "light"
          },
          "paper_bgcolor": "white",
          "plot_bgcolor": "#E5ECF6",
          "polar": {
           "angularaxis": {
            "gridcolor": "white",
            "linecolor": "white",
            "ticks": ""
           },
           "bgcolor": "#E5ECF6",
           "radialaxis": {
            "gridcolor": "white",
            "linecolor": "white",
            "ticks": ""
           }
          },
          "scene": {
           "xaxis": {
            "backgroundcolor": "#E5ECF6",
            "gridcolor": "white",
            "gridwidth": 2,
            "linecolor": "white",
            "showbackground": true,
            "ticks": "",
            "zerolinecolor": "white"
           },
           "yaxis": {
            "backgroundcolor": "#E5ECF6",
            "gridcolor": "white",
            "gridwidth": 2,
            "linecolor": "white",
            "showbackground": true,
            "ticks": "",
            "zerolinecolor": "white"
           },
           "zaxis": {
            "backgroundcolor": "#E5ECF6",
            "gridcolor": "white",
            "gridwidth": 2,
            "linecolor": "white",
            "showbackground": true,
            "ticks": "",
            "zerolinecolor": "white"
           }
          },
          "shapedefaults": {
           "line": {
            "color": "#2a3f5f"
           }
          },
          "ternary": {
           "aaxis": {
            "gridcolor": "white",
            "linecolor": "white",
            "ticks": ""
           },
           "baxis": {
            "gridcolor": "white",
            "linecolor": "white",
            "ticks": ""
           },
           "bgcolor": "#E5ECF6",
           "caxis": {
            "gridcolor": "white",
            "linecolor": "white",
            "ticks": ""
           }
          },
          "title": {
           "x": 0.05
          },
          "xaxis": {
           "automargin": true,
           "gridcolor": "white",
           "linecolor": "white",
           "ticks": "",
           "title": {
            "standoff": 15
           },
           "zerolinecolor": "white",
           "zerolinewidth": 2
          },
          "yaxis": {
           "automargin": true,
           "gridcolor": "white",
           "linecolor": "white",
           "ticks": "",
           "title": {
            "standoff": 15
           },
           "zerolinecolor": "white",
           "zerolinewidth": 2
          }
         }
        },
        "title": {
         "text": "Number of Outages per Year"
        },
        "xaxis": {
         "tickangle": 45,
         "title": {
          "text": "Year"
         }
        },
        "yaxis": {
         "title": {
          "text": "Number of Outages"
         }
        }
       }
      }
     },
     "metadata": {},
     "output_type": "display_data"
    }
   ],
   "source": [
    "# Define data for scatter plot\n",
    "x = outages1.groupby(\"YEAR\").count()[\"MONTH\"].index\n",
    "y = outages1.groupby(\"YEAR\").count()[\"MONTH\"].values\n",
    "\n",
    "# Create scatter plot using Plotly\n",
    "fig = go.Figure(data=go.Scatter(x=x, y=y, mode='markers'))\n",
    "fig.update_layout(\n",
    "    title=\"Number of Outages per Year\",\n",
    "    xaxis_title=\"Year\",\n",
    "    yaxis_title=\"Number of Outages\",\n",
    "    xaxis=dict(tickangle=45)  # Rotate x-axis tick labels by 45 degrees\n",
    ")\n",
    "fig.show()\n",
    "\n",
    "# Save the plot as HTML to a file\n",
    "fig.write_html('scatter_plot.html', include_plotlyjs='cdn')"
   ]
  },
  {
   "cell_type": "code",
   "execution_count": 78,
   "metadata": {},
   "outputs": [
    {
     "data": {
      "text/plain": [
       "6        70000\n",
       "7          NaN\n",
       "8        70000\n",
       "9        68200\n",
       "10      250000\n",
       "         ...  \n",
       "1535     34500\n",
       "1536       NaN\n",
       "1537       NaN\n",
       "1538       NaN\n",
       "1539     14273\n",
       "Name: CUSTOMERS.AFFECTED, Length: 1534, dtype: object"
      ]
     },
     "execution_count": 78,
     "metadata": {},
     "output_type": "execute_result"
    }
   ],
   "source": [
    "outages1['CUSTOMERS.AFFECTED']"
   ]
  },
  {
   "cell_type": "markdown",
   "metadata": {},
   "source": [
    "Let's do something about the Missingness of some of the columns that we are going to be using later on in the regression portion of this project."
   ]
  },
  {
   "cell_type": "code",
   "execution_count": 79,
   "metadata": {},
   "outputs": [],
   "source": [
    "linear_outages = outages1[[\n",
    "    \"RES.PRICE\"\n",
    "    ,\"CLIMATE.REGION\"\n",
    "    ,\"COM.PRICE\"\n",
    "    ,\"OUTAGE_DURATION\",\"PI.UTIL.OFUSA\",\"CUSTOMERS.AFFECTED\"]]\n",
    "linear_outages1 = linear_outages.copy()\n",
    "linear_outages1 = linear_outages1.reset_index(drop=True)\n",
    "linear_outages1['CUSTOMERS.AFFECTED'] = linear_outages1['CUSTOMERS.AFFECTED'].astype(float)\n",
    "\n",
    "probabilities = linear_outages1.groupby('OUTAGE_DURATION')['CUSTOMERS.AFFECTED'].apply(lambda x: x.value_counts(normalize=True))\n",
    "\n",
    "# Function to fill missing values probabilistically\n",
    "def fill_missing_customers(row):\n",
    "    if pd.isnull(row['CUSTOMERS.AFFECTED']):\n",
    "        outage_duration = row['OUTAGE_DURATION']\n",
    "        if outage_duration in probabilities:\n",
    "            sampled_value = np.random.choice(probabilities[outage_duration].index, p=probabilities[outage_duration].values)\n",
    "            return sampled_value\n",
    "    return row['CUSTOMERS.AFFECTED']\n",
    "\n",
    "# Apply the function to fill missing values\n",
    "linear_outages1['CUSTOMERS.AFFECTED'] = linear_outages1.apply(fill_missing_customers, axis=1)\n",
    "linear_outages1['CUSTOMERS.AFFECTED'].fillna(linear_outages1['CUSTOMERS.AFFECTED'].mean(), inplace=True)  # Or you can use mode() for mode or any default value\n"
   ]
  },
  {
   "cell_type": "code",
   "execution_count": 80,
   "metadata": {},
   "outputs": [
    {
     "data": {
      "text/plain": [
       "1066    3241437.0\n",
       "1190    3241437.0\n",
       "950     3125350.0\n",
       "1051    2775093.0\n",
       "1159    2606931.0\n",
       "          ...    \n",
       "456           0.0\n",
       "458           0.0\n",
       "1272          0.0\n",
       "459           0.0\n",
       "794           0.0\n",
       "Name: CUSTOMERS.AFFECTED, Length: 1534, dtype: float64"
      ]
     },
     "execution_count": 80,
     "metadata": {},
     "output_type": "execute_result"
    }
   ],
   "source": [
    "linear_outages1['CUSTOMERS.AFFECTED'].sort_values(ascending=False)"
   ]
  },
  {
   "cell_type": "code",
   "execution_count": 81,
   "metadata": {},
   "outputs": [
    {
     "data": {
      "text/plain": [
       "RES.PRICE             22\n",
       "CLIMATE.REGION         6\n",
       "COM.PRICE             22\n",
       "OUTAGE_DURATION        0\n",
       "PI.UTIL.OFUSA          0\n",
       "CUSTOMERS.AFFECTED     0\n",
       "dtype: int64"
      ]
     },
     "execution_count": 81,
     "metadata": {},
     "output_type": "execute_result"
    }
   ],
   "source": [
    "linear_outages1.isna().sum()"
   ]
  },
  {
   "cell_type": "code",
   "execution_count": 82,
   "metadata": {},
   "outputs": [
    {
     "data": {
      "text/plain": [
       "324"
      ]
     },
     "execution_count": 82,
     "metadata": {},
     "output_type": "execute_result"
    }
   ],
   "source": [
    "(linear_outages1[\"CUSTOMERS.AFFECTED\"] ==0.0).sum()"
   ]
  },
  {
   "cell_type": "code",
   "execution_count": 83,
   "metadata": {},
   "outputs": [
    {
     "data": {
      "text/plain": [
       "RES.PRICE             22\n",
       "CLIMATE.REGION         6\n",
       "COM.PRICE             22\n",
       "OUTAGE_DURATION        0\n",
       "PI.UTIL.OFUSA          0\n",
       "CUSTOMERS.AFFECTED     0\n",
       "dtype: int64"
      ]
     },
     "execution_count": 83,
     "metadata": {},
     "output_type": "execute_result"
    }
   ],
   "source": [
    "linear_outages1.isna().sum()"
   ]
  },
  {
   "cell_type": "code",
   "execution_count": 84,
   "metadata": {},
   "outputs": [
    {
     "data": {
      "text/plain": [
       "1534"
      ]
     },
     "execution_count": 84,
     "metadata": {},
     "output_type": "execute_result"
    }
   ],
   "source": [
    "linear_outages1.shape[0]"
   ]
  },
  {
   "cell_type": "markdown",
   "metadata": {},
   "source": [
    "The total number of NA rows seemed pretty insignficant in the grand scheme of things, thus we are dropping it for the first round of our model testing."
   ]
  },
  {
   "cell_type": "code",
   "execution_count": 85,
   "metadata": {},
   "outputs": [
    {
     "data": {
      "text/plain": [
       "1507"
      ]
     },
     "execution_count": 85,
     "metadata": {},
     "output_type": "execute_result"
    }
   ],
   "source": [
    "linear_outages1 = linear_outages1.dropna()\n",
    "linear_outages1.shape[0]"
   ]
  },
  {
   "cell_type": "markdown",
   "metadata": {},
   "source": [
    "## Step 3: Assessment of Missingness"
   ]
  },
  {
   "cell_type": "code",
   "execution_count": 86,
   "metadata": {},
   "outputs": [
    {
     "data": {
      "text/html": [
       "<div>\n",
       "<style scoped>\n",
       "    .dataframe tbody tr th:only-of-type {\n",
       "        vertical-align: middle;\n",
       "    }\n",
       "\n",
       "    .dataframe tbody tr th {\n",
       "        vertical-align: top;\n",
       "    }\n",
       "\n",
       "    .dataframe thead th {\n",
       "        text-align: right;\n",
       "    }\n",
       "</style>\n",
       "<table border=\"1\" class=\"dataframe\">\n",
       "  <thead>\n",
       "    <tr style=\"text-align: right;\">\n",
       "      <th></th>\n",
       "      <th>MONTH</th>\n",
       "      <th>CLIMATE.REGION</th>\n",
       "      <th>ANOMALY.LEVEL</th>\n",
       "      <th>CLIMATE.CATEGORY</th>\n",
       "      <th>OUTAGE.START.TIME</th>\n",
       "      <th>CAUSE.CATEGORY.DETAIL</th>\n",
       "      <th>COM.PRICE</th>\n",
       "      <th>IND.PRICE</th>\n",
       "      <th>RES.SALES</th>\n",
       "      <th>COM.SALES</th>\n",
       "      <th>IND.SALES</th>\n",
       "      <th>TOTAL.SALES</th>\n",
       "      <th>RES.PERCEN</th>\n",
       "      <th>COM.PERCEN</th>\n",
       "      <th>IND.PERCEN</th>\n",
       "      <th>POPDEN_UC</th>\n",
       "      <th>POPDEN_RURAL</th>\n",
       "      <th>RES.PRICE</th>\n",
       "    </tr>\n",
       "  </thead>\n",
       "  <tbody>\n",
       "    <tr>\n",
       "      <th>6</th>\n",
       "      <td>7</td>\n",
       "      <td>East North Central</td>\n",
       "      <td>-0.3</td>\n",
       "      <td>normal</td>\n",
       "      <td>5:00:00 PM</td>\n",
       "      <td>NaN</td>\n",
       "      <td>9.18</td>\n",
       "      <td>6.81</td>\n",
       "      <td>2332915</td>\n",
       "      <td>2114774</td>\n",
       "      <td>2113291</td>\n",
       "      <td>6562520</td>\n",
       "      <td>35.54907261</td>\n",
       "      <td>32.22502941</td>\n",
       "      <td>32.20243138</td>\n",
       "      <td>1700.5</td>\n",
       "      <td>18.2</td>\n",
       "      <td>11.6</td>\n",
       "    </tr>\n",
       "    <tr>\n",
       "      <th>7</th>\n",
       "      <td>5</td>\n",
       "      <td>East North Central</td>\n",
       "      <td>-0.1</td>\n",
       "      <td>normal</td>\n",
       "      <td>6:38:00 PM</td>\n",
       "      <td>vandalism</td>\n",
       "      <td>9.71</td>\n",
       "      <td>6.49</td>\n",
       "      <td>1586986</td>\n",
       "      <td>1807756</td>\n",
       "      <td>1887927</td>\n",
       "      <td>5284231</td>\n",
       "      <td>30.03248722</td>\n",
       "      <td>34.21038936</td>\n",
       "      <td>35.72756376</td>\n",
       "      <td>1700.5</td>\n",
       "      <td>18.2</td>\n",
       "      <td>12.12</td>\n",
       "    </tr>\n",
       "    <tr>\n",
       "      <th>8</th>\n",
       "      <td>10</td>\n",
       "      <td>East North Central</td>\n",
       "      <td>-1.5</td>\n",
       "      <td>cold</td>\n",
       "      <td>8:00:00 PM</td>\n",
       "      <td>heavy wind</td>\n",
       "      <td>8.19</td>\n",
       "      <td>6.07</td>\n",
       "      <td>1467293</td>\n",
       "      <td>1801683</td>\n",
       "      <td>1951295</td>\n",
       "      <td>5222116</td>\n",
       "      <td>28.09767152</td>\n",
       "      <td>34.50101453</td>\n",
       "      <td>37.36598344</td>\n",
       "      <td>1700.5</td>\n",
       "      <td>18.2</td>\n",
       "      <td>10.87</td>\n",
       "    </tr>\n",
       "    <tr>\n",
       "      <th>9</th>\n",
       "      <td>6</td>\n",
       "      <td>East North Central</td>\n",
       "      <td>-0.1</td>\n",
       "      <td>normal</td>\n",
       "      <td>4:30:00 AM</td>\n",
       "      <td>thunderstorm</td>\n",
       "      <td>9.25</td>\n",
       "      <td>6.71</td>\n",
       "      <td>1851519</td>\n",
       "      <td>1941174</td>\n",
       "      <td>1993026</td>\n",
       "      <td>5787064</td>\n",
       "      <td>31.99409925</td>\n",
       "      <td>33.54333043</td>\n",
       "      <td>34.43932882</td>\n",
       "      <td>1700.5</td>\n",
       "      <td>18.2</td>\n",
       "      <td>11.79</td>\n",
       "    </tr>\n",
       "    <tr>\n",
       "      <th>10</th>\n",
       "      <td>7</td>\n",
       "      <td>East North Central</td>\n",
       "      <td>1.2</td>\n",
       "      <td>warm</td>\n",
       "      <td>2:00:00 AM</td>\n",
       "      <td>NaN</td>\n",
       "      <td>10.16</td>\n",
       "      <td>7.74</td>\n",
       "      <td>2028875</td>\n",
       "      <td>2161612</td>\n",
       "      <td>1777937</td>\n",
       "      <td>5970339</td>\n",
       "      <td>33.9825762</td>\n",
       "      <td>36.20585029</td>\n",
       "      <td>29.77949828</td>\n",
       "      <td>1700.5</td>\n",
       "      <td>18.2</td>\n",
       "      <td>13.07</td>\n",
       "    </tr>\n",
       "    <tr>\n",
       "      <th>...</th>\n",
       "      <td>...</td>\n",
       "      <td>...</td>\n",
       "      <td>...</td>\n",
       "      <td>...</td>\n",
       "      <td>...</td>\n",
       "      <td>...</td>\n",
       "      <td>...</td>\n",
       "      <td>...</td>\n",
       "      <td>...</td>\n",
       "      <td>...</td>\n",
       "      <td>...</td>\n",
       "      <td>...</td>\n",
       "      <td>...</td>\n",
       "      <td>...</td>\n",
       "      <td>...</td>\n",
       "      <td>...</td>\n",
       "      <td>...</td>\n",
       "      <td>...</td>\n",
       "    </tr>\n",
       "    <tr>\n",
       "      <th>1535</th>\n",
       "      <td>12</td>\n",
       "      <td>West North Central</td>\n",
       "      <td>-0.9</td>\n",
       "      <td>cold</td>\n",
       "      <td>8:00:00 AM</td>\n",
       "      <td>NaN</td>\n",
       "      <td>7.8</td>\n",
       "      <td>6.2</td>\n",
       "      <td>488853</td>\n",
       "      <td>438133</td>\n",
       "      <td>386693</td>\n",
       "      <td>1313678</td>\n",
       "      <td>37.21254371</td>\n",
       "      <td>33.35162802</td>\n",
       "      <td>29.43590438</td>\n",
       "      <td>1868.2</td>\n",
       "      <td>3.9</td>\n",
       "      <td>8.41</td>\n",
       "    </tr>\n",
       "    <tr>\n",
       "      <th>1536</th>\n",
       "      <td>NaN</td>\n",
       "      <td>West North Central</td>\n",
       "      <td>NaN</td>\n",
       "      <td>NaN</td>\n",
       "      <td>NaN</td>\n",
       "      <td>Coal</td>\n",
       "      <td>NaN</td>\n",
       "      <td>NaN</td>\n",
       "      <td>NaN</td>\n",
       "      <td>NaN</td>\n",
       "      <td>NaN</td>\n",
       "      <td>NaN</td>\n",
       "      <td>NaN</td>\n",
       "      <td>NaN</td>\n",
       "      <td>NaN</td>\n",
       "      <td>1868.2</td>\n",
       "      <td>3.9</td>\n",
       "      <td>NaN</td>\n",
       "    </tr>\n",
       "    <tr>\n",
       "      <th>1537</th>\n",
       "      <td>8</td>\n",
       "      <td>West North Central</td>\n",
       "      <td>0.5</td>\n",
       "      <td>warm</td>\n",
       "      <td>10:54:00 PM</td>\n",
       "      <td>NaN</td>\n",
       "      <td>7.47</td>\n",
       "      <td>5.53</td>\n",
       "      <td>337874</td>\n",
       "      <td>370771</td>\n",
       "      <td>215406</td>\n",
       "      <td>924051</td>\n",
       "      <td>36.56443205</td>\n",
       "      <td>40.12451694</td>\n",
       "      <td>23.31105101</td>\n",
       "      <td>1905.4</td>\n",
       "      <td>4.7</td>\n",
       "      <td>9.25</td>\n",
       "    </tr>\n",
       "    <tr>\n",
       "      <th>1538</th>\n",
       "      <td>8</td>\n",
       "      <td>West North Central</td>\n",
       "      <td>0.5</td>\n",
       "      <td>warm</td>\n",
       "      <td>11:00:00 AM</td>\n",
       "      <td>NaN</td>\n",
       "      <td>7.47</td>\n",
       "      <td>5.53</td>\n",
       "      <td>337874</td>\n",
       "      <td>370771</td>\n",
       "      <td>215406</td>\n",
       "      <td>924051</td>\n",
       "      <td>36.56443205</td>\n",
       "      <td>40.12451694</td>\n",
       "      <td>23.31105101</td>\n",
       "      <td>1905.4</td>\n",
       "      <td>4.7</td>\n",
       "      <td>9.25</td>\n",
       "    </tr>\n",
       "    <tr>\n",
       "      <th>1539</th>\n",
       "      <td>NaN</td>\n",
       "      <td>NaN</td>\n",
       "      <td>NaN</td>\n",
       "      <td>NaN</td>\n",
       "      <td>NaN</td>\n",
       "      <td>failure</td>\n",
       "      <td>NaN</td>\n",
       "      <td>NaN</td>\n",
       "      <td>NaN</td>\n",
       "      <td>NaN</td>\n",
       "      <td>NaN</td>\n",
       "      <td>NaN</td>\n",
       "      <td>NaN</td>\n",
       "      <td>NaN</td>\n",
       "      <td>NaN</td>\n",
       "      <td>1276</td>\n",
       "      <td>0.4</td>\n",
       "      <td>NaN</td>\n",
       "    </tr>\n",
       "  </tbody>\n",
       "</table>\n",
       "<p>1534 rows × 18 columns</p>\n",
       "</div>"
      ],
      "text/plain": [
       "     MONTH      CLIMATE.REGION ANOMALY.LEVEL CLIMATE.CATEGORY  \\\n",
       "6        7  East North Central          -0.3           normal   \n",
       "7        5  East North Central          -0.1           normal   \n",
       "8       10  East North Central          -1.5             cold   \n",
       "9        6  East North Central          -0.1           normal   \n",
       "10       7  East North Central           1.2             warm   \n",
       "...    ...                 ...           ...              ...   \n",
       "1535    12  West North Central          -0.9             cold   \n",
       "1536   NaN  West North Central           NaN              NaN   \n",
       "1537     8  West North Central           0.5             warm   \n",
       "1538     8  West North Central           0.5             warm   \n",
       "1539   NaN                 NaN           NaN              NaN   \n",
       "\n",
       "     OUTAGE.START.TIME CAUSE.CATEGORY.DETAIL COM.PRICE IND.PRICE RES.SALES  \\\n",
       "6           5:00:00 PM                   NaN      9.18      6.81   2332915   \n",
       "7           6:38:00 PM             vandalism      9.71      6.49   1586986   \n",
       "8           8:00:00 PM            heavy wind      8.19      6.07   1467293   \n",
       "9           4:30:00 AM          thunderstorm      9.25      6.71   1851519   \n",
       "10          2:00:00 AM                   NaN     10.16      7.74   2028875   \n",
       "...                ...                   ...       ...       ...       ...   \n",
       "1535        8:00:00 AM                   NaN       7.8       6.2    488853   \n",
       "1536               NaN                  Coal       NaN       NaN       NaN   \n",
       "1537       10:54:00 PM                   NaN      7.47      5.53    337874   \n",
       "1538       11:00:00 AM                   NaN      7.47      5.53    337874   \n",
       "1539               NaN               failure       NaN       NaN       NaN   \n",
       "\n",
       "     COM.SALES IND.SALES TOTAL.SALES   RES.PERCEN   COM.PERCEN   IND.PERCEN  \\\n",
       "6      2114774   2113291     6562520  35.54907261  32.22502941  32.20243138   \n",
       "7      1807756   1887927     5284231  30.03248722  34.21038936  35.72756376   \n",
       "8      1801683   1951295     5222116  28.09767152  34.50101453  37.36598344   \n",
       "9      1941174   1993026     5787064  31.99409925  33.54333043  34.43932882   \n",
       "10     2161612   1777937     5970339   33.9825762  36.20585029  29.77949828   \n",
       "...        ...       ...         ...          ...          ...          ...   \n",
       "1535    438133    386693     1313678  37.21254371  33.35162802  29.43590438   \n",
       "1536       NaN       NaN         NaN          NaN          NaN          NaN   \n",
       "1537    370771    215406      924051  36.56443205  40.12451694  23.31105101   \n",
       "1538    370771    215406      924051  36.56443205  40.12451694  23.31105101   \n",
       "1539       NaN       NaN         NaN          NaN          NaN          NaN   \n",
       "\n",
       "     POPDEN_UC POPDEN_RURAL RES.PRICE  \n",
       "6       1700.5         18.2      11.6  \n",
       "7       1700.5         18.2     12.12  \n",
       "8       1700.5         18.2     10.87  \n",
       "9       1700.5         18.2     11.79  \n",
       "10      1700.5         18.2     13.07  \n",
       "...        ...          ...       ...  \n",
       "1535    1868.2          3.9      8.41  \n",
       "1536    1868.2          3.9       NaN  \n",
       "1537    1905.4          4.7      9.25  \n",
       "1538    1905.4          4.7      9.25  \n",
       "1539      1276          0.4       NaN  \n",
       "\n",
       "[1534 rows x 18 columns]"
      ]
     },
     "execution_count": 86,
     "metadata": {},
     "output_type": "execute_result"
    }
   ],
   "source": [
    "outages1[['MONTH',\n",
    " 'CLIMATE.REGION',\n",
    " 'ANOMALY.LEVEL',\n",
    " 'CLIMATE.CATEGORY','OUTAGE.START.TIME',\n",
    "          'CAUSE.CATEGORY.DETAIL',\n",
    " 'COM.PRICE',\n",
    " 'IND.PRICE',\n",
    " 'RES.SALES',\n",
    " 'COM.SALES',\n",
    " 'IND.SALES',\n",
    " 'TOTAL.SALES',\n",
    " 'RES.PERCEN',\n",
    " 'COM.PERCEN',\n",
    " 'IND.PERCEN',\n",
    " 'POPDEN_UC',\n",
    " 'POPDEN_RURAL',\"RES.PRICE\"\n",
    "]]"
   ]
  },
  {
   "cell_type": "markdown",
   "metadata": {
    "ExecuteTime": {
     "end_time": "2019-10-31T23:36:28.662099Z",
     "start_time": "2019-10-31T23:36:28.660016Z"
    }
   },
   "source": [
    "Relevant Columns:\n",
    "\n",
    "MONTH - The Month Column has no correlation whatsoever with any other column so thus it MCAR.\n",
    "\n",
    "'CLIMATE.REGION' - MCAR because Climate Region relies on National Centers for Environmental Information which is outside the scope of this df.\n",
    "\n",
    "'ANOMALY.LEVEL - Anomaly level and climate category refer to each other so thus missing values in Anomaly Level are MAR.\n",
    "\n",
    "'CLIMATE.CATEGORY' - Climate Category relies on Climate region so if Climate Region is missing then Climate Category is also missing. This makes it MAR.\n",
    "\n",
    "‘CAUSE.CATEGORY.DETAIL' - This variable is a detailed description of the cause of the outage. Missingess relies on the value itself so this is NMAR. \n",
    "\n",
    "'RES.PRICE' - Despite these next 3 columns all deal with prices in various sectors they are NMAR as they aren;t related to one another and the missing is instead to the individual value itself. This applies to COMP.PRICE, IND.PRICE,RES.SALES,COM.SALES,IND.SALES\n",
    " 'COM.PRICE', \n",
    " 'IND.PRICE', \n",
    "'RES.SALES', \n",
    " 'COM.SALES' : \n",
    " 'IND.SALES',\n",
    "\n",
    "'TOTAL.SALES', Total Sales relies on RES, Com, and Ind Sales so it would be MAR\n",
    "\n",
    "The reason is that the percentage of residential, commercial, and industrial electricity consumption compared to the total consumption so they are mar\n",
    " 'RES.PERCEN',\n",
    " 'COM.PERCEN',\n",
    " 'IND.PERCEN',  \n",
    "\n",
    "'POPDEN_UC',  MCAR because it does not rely on any columns\n",
    "\n",
    "'POPDEN_RURAL'   MCAR because it does not rely on any columns\n"
   ]
  },
  {
   "cell_type": "markdown",
   "metadata": {},
   "source": [
    "### CUSTOMERS.AFFECTED and POSTAL.CODE (MCAR)"
   ]
  },
  {
   "cell_type": "markdown",
   "metadata": {},
   "source": [
    "Null Hypothesis: The missingness of Customers Affected does not depend on Postal Code\n",
    "\n",
    "Alternative Hypothesis: The missingness of Customers Affected depend on Postal Code"
   ]
  },
  {
   "cell_type": "markdown",
   "metadata": {},
   "source": [
    "#### Test Statistic"
   ]
  },
  {
   "cell_type": "code",
   "execution_count": 87,
   "metadata": {},
   "outputs": [
    {
     "data": {
      "text/html": [
       "<div>\n",
       "<style scoped>\n",
       "    .dataframe tbody tr th:only-of-type {\n",
       "        vertical-align: middle;\n",
       "    }\n",
       "\n",
       "    .dataframe tbody tr th {\n",
       "        vertical-align: top;\n",
       "    }\n",
       "\n",
       "    .dataframe thead th {\n",
       "        text-align: right;\n",
       "    }\n",
       "</style>\n",
       "<table border=\"1\" class=\"dataframe\">\n",
       "  <thead>\n",
       "    <tr style=\"text-align: right;\">\n",
       "      <th>POSTAL.CODE</th>\n",
       "      <th>AK</th>\n",
       "      <th>AL</th>\n",
       "      <th>AR</th>\n",
       "      <th>AZ</th>\n",
       "      <th>CA</th>\n",
       "      <th>CO</th>\n",
       "      <th>CT</th>\n",
       "      <th>DC</th>\n",
       "      <th>DE</th>\n",
       "      <th>FL</th>\n",
       "      <th>...</th>\n",
       "      <th>SD</th>\n",
       "      <th>TN</th>\n",
       "      <th>TX</th>\n",
       "      <th>UT</th>\n",
       "      <th>VA</th>\n",
       "      <th>VT</th>\n",
       "      <th>WA</th>\n",
       "      <th>WI</th>\n",
       "      <th>WV</th>\n",
       "      <th>WY</th>\n",
       "    </tr>\n",
       "    <tr>\n",
       "      <th>is_missing</th>\n",
       "      <th></th>\n",
       "      <th></th>\n",
       "      <th></th>\n",
       "      <th></th>\n",
       "      <th></th>\n",
       "      <th></th>\n",
       "      <th></th>\n",
       "      <th></th>\n",
       "      <th></th>\n",
       "      <th></th>\n",
       "      <th></th>\n",
       "      <th></th>\n",
       "      <th></th>\n",
       "      <th></th>\n",
       "      <th></th>\n",
       "      <th></th>\n",
       "      <th></th>\n",
       "      <th></th>\n",
       "      <th></th>\n",
       "      <th></th>\n",
       "      <th></th>\n",
       "    </tr>\n",
       "  </thead>\n",
       "  <tbody>\n",
       "    <tr>\n",
       "      <th>False</th>\n",
       "      <td>1</td>\n",
       "      <td>5</td>\n",
       "      <td>13</td>\n",
       "      <td>9</td>\n",
       "      <td>127</td>\n",
       "      <td>11</td>\n",
       "      <td>13</td>\n",
       "      <td>9</td>\n",
       "      <td>24</td>\n",
       "      <td>44</td>\n",
       "      <td>...</td>\n",
       "      <td>0</td>\n",
       "      <td>17</td>\n",
       "      <td>94</td>\n",
       "      <td>22</td>\n",
       "      <td>34</td>\n",
       "      <td>5</td>\n",
       "      <td>44</td>\n",
       "      <td>10</td>\n",
       "      <td>3</td>\n",
       "      <td>3</td>\n",
       "    </tr>\n",
       "    <tr>\n",
       "      <th>True</th>\n",
       "      <td>0</td>\n",
       "      <td>1</td>\n",
       "      <td>12</td>\n",
       "      <td>19</td>\n",
       "      <td>83</td>\n",
       "      <td>4</td>\n",
       "      <td>5</td>\n",
       "      <td>1</td>\n",
       "      <td>17</td>\n",
       "      <td>1</td>\n",
       "      <td>...</td>\n",
       "      <td>2</td>\n",
       "      <td>17</td>\n",
       "      <td>33</td>\n",
       "      <td>19</td>\n",
       "      <td>3</td>\n",
       "      <td>4</td>\n",
       "      <td>53</td>\n",
       "      <td>10</td>\n",
       "      <td>1</td>\n",
       "      <td>3</td>\n",
       "    </tr>\n",
       "  </tbody>\n",
       "</table>\n",
       "<p>2 rows × 50 columns</p>\n",
       "</div>"
      ],
      "text/plain": [
       "POSTAL.CODE  AK  AL  AR  AZ   CA  CO  CT  DC  DE  FL  ...  SD  TN  TX  UT  VA  \\\n",
       "is_missing                                            ...                       \n",
       "False         1   5  13   9  127  11  13   9  24  44  ...   0  17  94  22  34   \n",
       "True          0   1  12  19   83   4   5   1  17   1  ...   2  17  33  19   3   \n",
       "\n",
       "POSTAL.CODE  VT  WA  WI  WV  WY  \n",
       "is_missing                       \n",
       "False         5  44  10   3   3  \n",
       "True          4  53  10   1   3  \n",
       "\n",
       "[2 rows x 50 columns]"
      ]
     },
     "execution_count": 87,
     "metadata": {},
     "output_type": "execute_result"
    }
   ],
   "source": [
    "\n",
    "# Create a DataFrame indicating missing values (1) and non-missing values (0) in 'CUSTOMERS.AFFECTED' column\n",
    "missing_indicator = outages1[['CUSTOMERS.AFFECTED', 'POSTAL.CODE']].assign(is_missing=outages1['CUSTOMERS.AFFECTED'].isna())\n",
    "missing_indicator = missing_indicator.drop(columns=['CUSTOMERS.AFFECTED'])\n",
    "pivot_table = missing_indicator.pivot_table(index='is_missing', columns='POSTAL.CODE', aggfunc='size', fill_value=0)\n",
    "pivot_table"
   ]
  },
  {
   "cell_type": "code",
   "execution_count": 88,
   "metadata": {},
   "outputs": [
    {
     "data": {
      "text/html": [
       "<div>\n",
       "<style scoped>\n",
       "    .dataframe tbody tr th:only-of-type {\n",
       "        vertical-align: middle;\n",
       "    }\n",
       "\n",
       "    .dataframe tbody tr th {\n",
       "        vertical-align: top;\n",
       "    }\n",
       "\n",
       "    .dataframe thead th {\n",
       "        text-align: right;\n",
       "    }\n",
       "</style>\n",
       "<table border=\"1\" class=\"dataframe\">\n",
       "  <thead>\n",
       "    <tr style=\"text-align: right;\">\n",
       "      <th>POSTAL.CODE</th>\n",
       "      <th>AK</th>\n",
       "      <th>AL</th>\n",
       "      <th>AR</th>\n",
       "      <th>AZ</th>\n",
       "      <th>CA</th>\n",
       "      <th>CO</th>\n",
       "      <th>CT</th>\n",
       "      <th>DC</th>\n",
       "      <th>DE</th>\n",
       "      <th>FL</th>\n",
       "      <th>...</th>\n",
       "      <th>SD</th>\n",
       "      <th>TN</th>\n",
       "      <th>TX</th>\n",
       "      <th>UT</th>\n",
       "      <th>VA</th>\n",
       "      <th>VT</th>\n",
       "      <th>WA</th>\n",
       "      <th>WI</th>\n",
       "      <th>WV</th>\n",
       "      <th>WY</th>\n",
       "    </tr>\n",
       "    <tr>\n",
       "      <th>is_missing</th>\n",
       "      <th></th>\n",
       "      <th></th>\n",
       "      <th></th>\n",
       "      <th></th>\n",
       "      <th></th>\n",
       "      <th></th>\n",
       "      <th></th>\n",
       "      <th></th>\n",
       "      <th></th>\n",
       "      <th></th>\n",
       "      <th></th>\n",
       "      <th></th>\n",
       "      <th></th>\n",
       "      <th></th>\n",
       "      <th></th>\n",
       "      <th></th>\n",
       "      <th></th>\n",
       "      <th></th>\n",
       "      <th></th>\n",
       "      <th></th>\n",
       "      <th></th>\n",
       "    </tr>\n",
       "  </thead>\n",
       "  <tbody>\n",
       "    <tr>\n",
       "      <th>False</th>\n",
       "      <td>1.0</td>\n",
       "      <td>0.833333</td>\n",
       "      <td>0.52</td>\n",
       "      <td>0.321429</td>\n",
       "      <td>0.604762</td>\n",
       "      <td>0.733333</td>\n",
       "      <td>0.722222</td>\n",
       "      <td>0.9</td>\n",
       "      <td>0.585366</td>\n",
       "      <td>0.977778</td>\n",
       "      <td>...</td>\n",
       "      <td>0.0</td>\n",
       "      <td>0.5</td>\n",
       "      <td>0.740157</td>\n",
       "      <td>0.536585</td>\n",
       "      <td>0.918919</td>\n",
       "      <td>0.555556</td>\n",
       "      <td>0.453608</td>\n",
       "      <td>0.5</td>\n",
       "      <td>0.75</td>\n",
       "      <td>0.5</td>\n",
       "    </tr>\n",
       "    <tr>\n",
       "      <th>True</th>\n",
       "      <td>0.0</td>\n",
       "      <td>0.166667</td>\n",
       "      <td>0.48</td>\n",
       "      <td>0.678571</td>\n",
       "      <td>0.395238</td>\n",
       "      <td>0.266667</td>\n",
       "      <td>0.277778</td>\n",
       "      <td>0.1</td>\n",
       "      <td>0.414634</td>\n",
       "      <td>0.022222</td>\n",
       "      <td>...</td>\n",
       "      <td>1.0</td>\n",
       "      <td>0.5</td>\n",
       "      <td>0.259843</td>\n",
       "      <td>0.463415</td>\n",
       "      <td>0.081081</td>\n",
       "      <td>0.444444</td>\n",
       "      <td>0.546392</td>\n",
       "      <td>0.5</td>\n",
       "      <td>0.25</td>\n",
       "      <td>0.5</td>\n",
       "    </tr>\n",
       "  </tbody>\n",
       "</table>\n",
       "<p>2 rows × 50 columns</p>\n",
       "</div>"
      ],
      "text/plain": [
       "POSTAL.CODE   AK        AL    AR        AZ        CA        CO        CT   DC  \\\n",
       "is_missing                                                                      \n",
       "False        1.0  0.833333  0.52  0.321429  0.604762  0.733333  0.722222  0.9   \n",
       "True         0.0  0.166667  0.48  0.678571  0.395238  0.266667  0.277778  0.1   \n",
       "\n",
       "POSTAL.CODE        DE        FL  ...   SD   TN        TX        UT        VA  \\\n",
       "is_missing                       ...                                           \n",
       "False        0.585366  0.977778  ...  0.0  0.5  0.740157  0.536585  0.918919   \n",
       "True         0.414634  0.022222  ...  1.0  0.5  0.259843  0.463415  0.081081   \n",
       "\n",
       "POSTAL.CODE        VT        WA   WI    WV   WY  \n",
       "is_missing                                       \n",
       "False        0.555556  0.453608  0.5  0.75  0.5  \n",
       "True         0.444444  0.546392  0.5  0.25  0.5  \n",
       "\n",
       "[2 rows x 50 columns]"
      ]
     },
     "execution_count": 88,
     "metadata": {},
     "output_type": "execute_result"
    }
   ],
   "source": [
    "column_sum = pivot_table.sum(axis=0)\n",
    "# Divide each column by its sum to get proportions\n",
    "proportions = pivot_table.div(column_sum, axis=1)\n",
    "proportions"
   ]
  },
  {
   "cell_type": "markdown",
   "metadata": {},
   "source": [
    "We're analyzing missing values in the 'CUSTOMERS.AFFECTED' column of the dataset. We've created an indicator showing missing (1) and non-missing (0) values. Then, we're calculating Total Variation Distance (TVD) for these proportions. This helps measure the difference in distribution between missing and non-missing values across postal codes."
   ]
  },
  {
   "cell_type": "code",
   "execution_count": 89,
   "metadata": {},
   "outputs": [
    {
     "data": {
      "text/plain": [
       "25.021954716018406"
      ]
     },
     "execution_count": 89,
     "metadata": {},
     "output_type": "execute_result"
    }
   ],
   "source": [
    "observe_tvd = proportions.diff().abs().sum(axis=1).iloc[-1]\n",
    "observe_tvd"
   ]
  },
  {
   "cell_type": "markdown",
   "metadata": {},
   "source": [
    "#### Permutation Test"
   ]
  },
  {
   "cell_type": "code",
   "execution_count": 126,
   "metadata": {},
   "outputs": [
    {
     "data": {
      "text/plain": [
       "0.057"
      ]
     },
     "execution_count": 126,
     "metadata": {},
     "output_type": "execute_result"
    }
   ],
   "source": [
    "# Number of permutations\n",
    "n_permutations = 1000\n",
    "\n",
    "# Initialize an array to store permuted differences\n",
    "permuted_diffs = []\n",
    "\n",
    "# Perform permutations and calculate differences\n",
    "for i in range(n_permutations):\n",
    "    shuffled_categories = np.random.permutation(outages1['POSTAL.CODE'])\n",
    "    shuffled_df = outages1.copy()\n",
    "    shuffled_df['POSTAL.CODE'] = shuffled_categories\n",
    "\n",
    "    missing_indicator = shuffled_df[['CUSTOMERS.AFFECTED', 'POSTAL.CODE']].assign(is_missing=shuffled_df['CUSTOMERS.AFFECTED'].isna())\n",
    "    missing_indicator = missing_indicator.drop(columns=['CUSTOMERS.AFFECTED'])\n",
    "    pivot_table = missing_indicator.pivot_table(index='is_missing', columns='POSTAL.CODE', aggfunc='size', fill_value=0)\n",
    "    column_sum = pivot_table.sum(axis=0)\n",
    "\n",
    "    # Divide each column by its sum to get proportions\n",
    "    proportions = pivot_table.div(column_sum, axis=1)\n",
    "    tvd = proportions.diff().abs().sum(axis=1).iloc[-1]\n",
    "    \n",
    "    # Append the calculated TVD to the list\n",
    "    permuted_diffs.append(tvd)\n",
    "\n",
    "# Convert the list of TVDs to a NumPy array\n",
    "permuted_diffs = np.array(permuted_diffs)\n",
    "\n",
    "# Calculate the p-value\n",
    "p_value = np.sum(permuted_diffs >= observe_tvd) / n_permutations\n",
    "\n",
    "p_value\n"
   ]
  },
  {
   "cell_type": "markdown",
   "metadata": {},
   "source": [
    "Below is the graph of our result of permutation test, our p-value is greater than our significance level of 5%, so we fail to reject the null hypothesis. The significance of this is that it is highly possible that the missingness of Customer Affected does not depend on Postal Code.\n"
   ]
  },
  {
   "cell_type": "code",
   "execution_count": 138,
   "metadata": {},
   "outputs": [
    {
     "data": {
      "image/png": "[encoded data removed]",
      "text/plain": [
       "<Figure size 640x480 with 1 Axes>"
      ]
     },
     "metadata": {},
     "output_type": "display_data"
    }
   ],
   "source": [
    "fig = go.Figure()\n",
    "fig.add_trace(go.Histogram(x=permuted_diffs, opacity=0.5, marker_color='blue', name='Permuted Differences'))\n",
    "fig.add_shape(type=\"line\", x0=observe_tvd, y0=0, x1=observe_tvd, y1=max(plt.hist(permuted_diffs, bins=30)[0]), line=dict(color=\"red\", width=2))\n",
    "fig.update_layout(xaxis_title='TVD', yaxis_title='Frequency', title='Distribution of Permuted Differences', showlegend=True)\n",
    "fig.write_html('Dist_Perm_Diff.html', include_plotlyjs='cdn')\n"
   ]
  },
  {
   "cell_type": "markdown",
   "metadata": {},
   "source": [
    "### CUSTOMERS.AFFECTED and OUTAGE_DURATION (MAR)"
   ]
  },
  {
   "cell_type": "markdown",
   "metadata": {},
   "source": [
    "Null Hypothesis: The missingness of CUSTOMERS.AFFECTED does not depend on OUTAGE_DURATION\n",
    "\n",
    "Alternative Hypothesis: The missingness of CUSTOMERS.AFFECTED depend on OUTAGE_DURATION"
   ]
  },
  {
   "cell_type": "markdown",
   "metadata": {},
   "source": [
    "#### Test Statistic"
   ]
  },
  {
   "cell_type": "code",
   "execution_count": 92,
   "metadata": {},
   "outputs": [
    {
     "data": {
      "text/plain": [
       "OUTAGE_DURATION    730.670575\n",
       "Name: True, dtype: float64"
      ]
     },
     "execution_count": 92,
     "metadata": {},
     "output_type": "execute_result"
    }
   ],
   "source": [
    "missing_indic = outages1[['CUSTOMERS.AFFECTED', 'OUTAGE_DURATION']].assign(is_missing=outages1['CUSTOMERS.AFFECTED'].isna())\n",
    "missing_indic = missing_indic.drop(columns=['CUSTOMERS.AFFECTED'])\n",
    "observed_diff = missing_indic.groupby('is_missing').mean().diff().abs().iloc[-1]\n",
    "observed_diff"
   ]
  },
  {
   "cell_type": "markdown",
   "metadata": {},
   "source": [
    "#### Permutation Test"
   ]
  },
  {
   "cell_type": "code",
   "execution_count": 146,
   "metadata": {},
   "outputs": [
    {
     "data": {
      "text/plain": [
       "0.033"
      ]
     },
     "execution_count": 146,
     "metadata": {},
     "output_type": "execute_result"
    }
   ],
   "source": [
    "n_permutations = 1000\n",
    "permutation_results = []\n",
    "\n",
    "for _ in range(n_permutations):\n",
    "    # Shuffle the 'is_missing' indicator\n",
    "    shuffled_categories = np.random.permutation(outages1['OUTAGE_DURATION'])\n",
    "    shuffled_df = outages1.copy()\n",
    "    shuffled_df['OUTAGE_DURATION'] = shuffled_categories\n",
    "\n",
    "    missing_indic = shuffled_df[['CUSTOMERS.AFFECTED', 'OUTAGE_DURATION']].assign(is_missing=shuffled_df['CUSTOMERS.AFFECTED'].isna())\n",
    "    missing_indic = missing_indic.drop(columns=['CUSTOMERS.AFFECTED'])\n",
    "    test_diff = missing_indic.groupby('is_missing').mean().diff().abs().iloc[-1]\n",
    "    permutation_results.append(test_diff)\n",
    "\n",
    "permuted_diffs = np.array(permutation_results)\n",
    "\n",
    "p_value = np.sum(permuted_diffs >= observed_diff[-1]) / n_permutations\n",
    "\n",
    "p_value"
   ]
  },
  {
   "cell_type": "markdown",
   "metadata": {},
   "source": [
    "Below is the graph and the output of permutation test. Our p-value is less than our significance level of 5%, so we reject the null hypothesis. The significance of this is that it is highly possible that the missingness of Customer Affected depends on outage duration.\n"
   ]
  },
  {
   "cell_type": "code",
   "execution_count": 150,
   "metadata": {},
   "outputs": [
    {
     "data": {
      "application/vnd.plotly.v1+json": {
       "config": {
        "plotlyServerURL": "https://plot.ly"
       },
       "data": [
        {
         "marker": {
          "color": "blue"
         },
         "name": "Permuted Differences",
         "opacity": 0.7,
         "type": "histogram",
         "x": [
          [
           34.96724500652181
          ],
          [
           236.0188643780357
          ],
          [
           232.5424611809999
          ],
          [
           124.29074877138419
          ],
          [
           129.11567574692754
          ],
          [
           73.99150383082451
          ],
          [
           137.01743171453882
          ],
          [
           504.6085365609888
          ],
          [
           29.01511093021054
          ],
          [
           561.1142656121274
          ],
          [
           242.41444912998577
          ],
          [
           635.2378347590511
          ],
          [
           8.423696622761781
          ],
          [
           293.6192848095161
          ],
          [
           281.60952786804637
          ],
          [
           499.99002379223975
          ],
          [
           171.09517356726928
          ],
          [
           180.13319526743908
          ],
          [
           598.4576101702332
          ],
          [
           159.93876698444592
          ],
          [
           438.08728451849856
          ],
          [
           128.24685079322262
          ],
          [
           33.803244876481585
          ],
          [
           145.26074577765212
          ],
          [
           85.84941630828507
          ],
          [
           248.21518826837564
          ],
          [
           181.05046006271687
          ],
          [
           82.7364890090821
          ],
          [
           134.23382995241946
          ],
          [
           81.86778665340171
          ],
          [
           80.07838675776566
          ],
          [
           241.8070304079415
          ],
          [
           308.4575143899724
          ],
          [
           12.501048090562108
          ],
          [
           261.9694606066114
          ],
          [
           211.96011912734366
          ],
          [
           734.5086152817789
          ],
          [
           418.77083517501933
          ],
          [
           46.79589742219923
          ],
          [
           323.19825129716037
          ],
          [
           307.4251709159512
          ],
          [
           546.9934660474564
          ],
          [
           72.77042750950477
          ],
          [
           809.6803294258461
          ],
          [
           126.50925537382454
          ],
          [
           252.036854745646
          ],
          [
           287.46098172246
          ],
          [
           454.0656621022804
          ],
          [
           141.8258624448208
          ],
          [
           51.3706699403042
          ],
          [
           440.15274792069295
          ],
          [
           139.39260496994075
          ],
          [
           326.22992335030494
          ],
          [
           454.01576470641885
          ],
          [
           542.6521746554931
          ],
          [
           249.77726418308703
          ],
          [
           110.92902168472801
          ],
          [
           107.82752324578314
          ],
          [
           486.8845674422291
          ],
          [
           164.95395247158922
          ],
          [
           32.62183582700209
          ],
          [
           376.2652828547143
          ],
          [
           137.51998825985856
          ],
          [
           181.43094984191202
          ],
          [
           454.18791957644135
          ],
          [
           277.28714381582085
          ],
          [
           105.30267142480034
          ],
          [
           171.42279635401655
          ],
          [
           104.84092639954633
          ],
          [
           230.86466635342003
          ],
          [
           97.84273149250475
          ],
          [
           225.5779126206071
          ],
          [
           300.30243003829537
          ],
          [
           107.41148003956187
          ],
          [
           221.89825552140246
          ],
          [
           320.88610704821485
          ],
          [
           151.11081018779078
          ],
          [
           144.02279179499737
          ],
          [
           176.9609713905179
          ],
          [
           366.3105821053823
          ],
          [
           23.267838152385593
          ],
          [
           136.22820012256443
          ],
          [
           185.15669017622486
          ],
          [
           112.61564357005227
          ],
          [
           283.7523097575213
          ],
          [
           228.14929720278587
          ],
          [
           267.81741360633305
          ],
          [
           109.88155778771898
          ],
          [
           125.6445442649333
          ],
          [
           88.59429071674958
          ],
          [
           660.9481661041436
          ],
          [
           99.08056287713543
          ],
          [
           357.333641465284
          ],
          [
           170.4744870146037
          ],
          [
           83.39323300287288
          ],
          [
           278.5212972597242
          ],
          [
           3.9219925270967906
          ],
          [
           342.9798103005587
          ],
          [
           294.71321335770745
          ],
          [
           3.8037262997249854
          ],
          [
           66.19202185942459
          ],
          [
           240.11024650860963
          ],
          [
           381.77648632588443
          ],
          [
           41.03839452035345
          ],
          [
           289.0024339250949
          ],
          [
           120.22652891417965
          ],
          [
           96.36088917365032
          ],
          [
           132.34496219312632
          ],
          [
           388.67788328179677
          ],
          [
           579.2600536662508
          ],
          [
           54.581035424763286
          ],
          [
           226.93153102812084
          ],
          [
           557.9142528497132
          ],
          [
           141.2220535534916
          ],
          [
           140.6106980726704
          ],
          [
           898.8417722246809
          ],
          [
           835.0210277278884
          ],
          [
           242.8801990240304
          ],
          [
           352.5497030958418
          ],
          [
           108.62189033277309
          ],
          [
           323.2424955619049
          ],
          [
           23.33657477797078
          ],
          [
           6.9909207576047265
          ],
          [
           384.72018748564324
          ],
          [
           519.3871017696533
          ],
          [
           454.553043736601
          ],
          [
           150.02036887228905
          ],
          [
           629.7426916290547
          ],
          [
           11.58473683547345
          ],
          [
           243.6739394988963
          ],
          [
           518.4352370875381
          ],
          [
           130.92475943645377
          ],
          [
           136.31301071132475
          ],
          [
           177.30998072149214
          ],
          [
           99.49717820747037
          ],
          [
           237.1988022512246
          ],
          [
           185.84061006538695
          ],
          [
           242.04913426178837
          ],
          [
           618.4430633099269
          ],
          [
           110.25170846687115
          ],
          [
           104.07047954928476
          ],
          [
           424.32177402804336
          ],
          [
           140.77491131512352
          ],
          [
           179.62326921866315
          ],
          [
           29.24503671365028
          ],
          [
           177.72621463575115
          ],
          [
           223.01433344597126
          ],
          [
           6.996383180684006
          ],
          [
           752.1417392645849
          ],
          [
           418.6240717180144
          ],
          [
           655.8973045919497
          ],
          [
           59.85483463301671
          ],
          [
           353.2590143980219
          ],
          [
           124.99681803692374
          ],
          [
           106.8010644769256
          ],
          [
           274.52970992087376
          ],
          [
           42.097981999757394
          ],
          [
           75.96612209706518
          ],
          [
           99.64247048818424
          ],
          [
           387.07727072147054
          ],
          [
           43.52180820914646
          ],
          [
           78.16489041760406
          ],
          [
           251.18896681007936
          ],
          [
           168.04662385278925
          ],
          [
           55.88640469874235
          ],
          [
           220.39438642419464
          ],
          [
           248.50389299343215
          ],
          [
           221.9361519328918
          ],
          [
           436.78210595255814
          ],
          [
           136.1821168874567
          ],
          [
           364.09994902049857
          ],
          [
           396.8870469841613
          ],
          [
           278.6146760881793
          ],
          [
           227.67575552320022
          ],
          [
           1014.5604671419842
          ],
          [
           12.271326637162929
          ],
          [
           63.0697634883777
          ],
          [
           337.1644819972844
          ],
          [
           340.7012579102525
          ],
          [
           157.42571181779476
          ],
          [
           419.82305315096755
          ],
          [
           193.7022356130674
          ],
          [
           157.11511653441266
          ],
          [
           288.9270770062026
          ],
          [
           96.53443348794826
          ],
          [
           271.21098140499817
          ],
          [
           379.2613469928215
          ],
          [
           354.74168765904005
          ],
          [
           220.859305376076
          ],
          [
           477.22738485369473
          ],
          [
           380.84386953357307
          ],
          [
           9.156996271683056
          ],
          [
           682.4900420274303
          ],
          [
           39.028413535123946
          ],
          [
           337.26674237149473
          ],
          [
           618.1767667792992
          ],
          [
           15.501294183496611
          ],
          [
           129.45440046586918
          ],
          [
           467.9856733472702
          ],
          [
           11.538653600365706
          ],
          [
           152.8584314011705
          ],
          [
           129.08140278815426
          ],
          [
           442.56099539863135
          ],
          [
           436.4650265958944
          ],
          [
           363.6714689258183
          ],
          [
           9.995294317354364
          ],
          [
           293.05356303771396
          ],
          [
           339.0509931501133
          ],
          [
           124.34749803459954
          ],
          [
           223.58945439963054
          ],
          [
           123.40725292078059
          ],
          [
           554.1895205436003
          ],
          [
           450.23364290296513
          ],
          [
           5.033248262713187
          ],
          [
           29.936121776228447
          ],
          [
           63.69020484499424
          ],
          [
           213.9532224512377
          ],
          [
           318.32868501879557
          ],
          [
           353.5383880512336
          ],
          [
           422.2066720480384
          ],
          [
           59.69213343286219
          ],
          [
           86.86475952294495
          ],
          [
           464.04606757069223
          ],
          [
           225.44727761478953
          ],
          [
           232.88188062207882
          ],
          [
           178.85162363216386
          ],
          [
           513.5545007669657
          ],
          [
           918.9643308214709
          ],
          [
           3.824745049877947
          ],
          [
           197.88344122939225
          ],
          [
           224.12272856102163
          ],
          [
           47.676151236162696
          ],
          [
           13.007541394660166
          ],
          [
           342.47128731806015
          ],
          [
           128.86595719357592
          ],
          [
           135.97466740845903
          ],
          [
           223.74147594967508
          ],
          [
           141.27677313830554
          ],
          [
           236.04996341018204
          ],
          [
           569.8421824210122
          ],
          [
           306.3314330757976
          ],
          [
           214.90279863690103
          ],
          [
           365.4067758487645
          ],
          [
           193.11422824486044
          ],
          [
           85.8839480851093
          ],
          [
           427.6094579997821
          ],
          [
           12.76016582577222
          ],
          [
           33.40249917928304
          ],
          [
           605.1093975488157
          ],
          [
           1.0614536937737284
          ],
          [
           236.0725078246369
          ],
          [
           128.21809474553993
          ],
          [
           156.41608984426512
          ],
          [
           341.6689786035008
          ],
          [
           19.230780568548653
          ],
          [
           269.63246373303855
          ],
          [
           132.7358046943673
          ],
          [
           147.93319199780353
          ],
          [
           123.55750361047467
          ],
          [
           210.81153910435205
          ],
          [
           514.100034730779
          ],
          [
           355.2562451887311
          ],
          [
           232.1073880370168
          ],
          [
           297.65067564023366
          ],
          [
           508.4119767986567
          ],
          [
           363.0450611320225
          ],
          [
           224.59146167365589
          ],
          [
           149.57138766355683
          ],
          [
           441.4576812905848
          ],
          [
           4.30007121181643
          ],
          [
           355.49866234863975
          ],
          [
           500.8382250338682
          ],
          [
           200.17723664071082
          ],
          [
           34.264281557596405
          ],
          [
           356.95549467055116
          ],
          [
           354.4855531424205
          ],
          [
           30.876244292023785
          ],
          [
           27.0090667037598
          ],
          [
           95.57039073542592
          ],
          [
           332.8201392767187
          ],
          [
           392.0388808720254
          ],
          [
           250.78771709878083
          ],
          [
           102.56915776658025
          ],
          [
           337.66043187129844
          ],
          [
           569.2129821166641
          ],
          [
           304.3582042538319
          ],
          [
           29.269351988455583
          ],
          [
           421.1366092485641
          ],
          [
           364.7712276911625
          ],
          [
           803.7824109202497
          ],
          [
           388.8447664367777
          ],
          [
           111.79569436200654
          ],
          [
           0.7942036229569567
          ],
          [
           282.15188790523234
          ],
          [
           22.218031270914253
          ],
          [
           52.692862387606965
          ],
          [
           293.1628114993041
          ],
          [
           347.2240585453428
          ],
          [
           16.72561254145603
          ],
          [
           87.66686390746418
          ],
          [
           464.1421707996851
          ],
          [
           92.56582646763763
          ],
          [
           235.20919978202255
          ],
          [
           269.2138868343154
          ],
          [
           361.9051719467484
          ],
          [
           47.365487842766925
          ],
          [
           230.84822459616998
          ],
          [
           24.520708227988962
          ],
          [
           8.354442361075598
          ],
          [
           309.87258165162893
          ],
          [
           128.24043482995512
          ],
          [
           223.85205936752982
          ],
          [
           249.41118648273914
          ],
          [
           282.02271045370344
          ],
          [
           593.4866689478336
          ],
          [
           286.8281579653967
          ],
          [
           424.64818445655055
          ],
          [
           59.226519758844006
          ],
          [
           602.450096561262
          ],
          [
           79.00325657328904
          ],
          [
           1004.5685647033006
          ],
          [
           48.665217607629984
          ],
          [
           582.7134084347313
          ],
          [
           87.16716798270954
          ],
          [
           183.86960162985952
          ],
          [
           154.45377224645563
          ],
          [
           174.43535673738415
          ],
          [
           24.577907017292546
          ],
          [
           697.6546820363947
          ],
          [
           248.31516014613362
          ],
          [
           422.23352101534465
          ],
          [
           316.8723022229733
          ],
          [
           634.3487538873433
          ],
          [
           69.39635279669164
          ],
          [
           196.4477366336564
          ],
          [
           556.2459116920018
          ],
          [
           137.5862593029551
          ],
          [
           814.9622473477039
          ],
          [
           101.50030732534515
          ],
          [
           197.27760265966117
          ],
          [
           106.92866177614269
          ],
          [
           385.0681070564028
          ],
          [
           211.23493819202758
          ],
          [
           122.72015910499158
          ],
          [
           544.0608259538822
          ],
          [
           199.8174386836049
          ],
          [
           757.7463215642097
          ],
          [
           357.3831574450692
          ],
          [
           118.3817828216047
          ],
          [
           610.5363625553382
          ],
          [
           117.74134436503618
          ],
          [
           402.00691756199285
          ],
          [
           537.7907270907335
          ],
          [
           305.11810767400993
          ],
          [
           474.79228840845053
          ],
          [
           184.89642819278924
          ],
          [
           12.663871888741141
          ],
          [
           110.88134467530563
          ],
          [
           174.82200366179677
          ],
          [
           350.4640518856577
          ],
          [
           516.3373396969332
          ],
          [
           51.01474063196292
          ],
          [
           535.220800062843
          ],
          [
           396.14086092069374
          ],
          [
           321.1686546280539
          ],
          [
           532.4502754233085
          ],
          [
           158.2183080444347
          ],
          [
           96.25125929598471
          ],
          [
           115.5839052006645
          ],
          [
           95.66789703069571
          ],
          [
           199.37385178793966
          ],
          [
           521.3977229890097
          ],
          [
           163.7908922597353
          ],
          [
           184.36339922744764
          ],
          [
           23.709776785725353
          ],
          [
           538.2710116616504
          ],
          [
           366.32384993600454
          ],
          [
           53.62186934920601
          ],
          [
           131.43239698877733
          ],
          [
           339.6487130062392
          ],
          [
           284.2431241365198
          ],
          [
           151.33069655524696
          ],
          [
           350.3425572436472
          ],
          [
           68.42252944623624
          ],
          [
           296.8699577999414
          ],
          [
           214.95510712723853
          ],
          [
           175.3776315296045
          ],
          [
           560.6927054948151
          ],
          [
           116.03644175209865
          ],
          [
           297.32287576745057
          ],
          [
           294.59329886800924
          ],
          [
           401.2364707117308
          ],
          [
           271.69468509859234
          ],
          [
           105.57072519377607
          ],
          [
           18.488599373872603
          ],
          [
           281.5873103816557
          ],
          [
           261.2937275410677
          ],
          [
           230.0386144881686
          ],
          [
           332.15996253824915
          ],
          [
           80.66627152794808
          ],
          [
           303.14512404809284
          ],
          [
           1.6077504897375547
          ],
          [
           261.6558821046392
          ],
          [
           106.11341215902667
          ],
          [
           417.0802765309172
          ],
          [
           204.9284140936793
          ],
          [
           289.4472195569979
          ],
          [
           12.582112628583218
          ],
          [
           746.5157023107208
          ],
          [
           140.46209564530227
          ],
          [
           794.4431386305446
          ],
          [
           128.06917901211
          ],
          [
           99.86781927871971
          ],
          [
           56.446160033365686
          ],
          [
           358.9458054838933
          ],
          [
           23.739608971621237
          ],
          [
           0.8511572162124139
          ],
          [
           279.60608544410934
          ],
          [
           337.01924420458136
          ],
          [
           484.52392886369944
          ],
          [
           228.22128948701356
          ],
          [
           86.50761785636405
          ],
          [
           1.4264552559084223
          ],
          [
           561.2796912128201
          ],
          [
           150.2623501281114
          ],
          [
           159.76128591137058
          ],
          [
           512.3838939656212
          ],
          [
           365.7884779861997
          ],
          [
           112.24543840288925
          ],
          [
           644.2917124703545
          ],
          [
           331.2943659991829
          ],
          [
           393.70195031469575
          ],
          [
           9.333591914583394
          ],
          [
           356.9559441966403
          ],
          [
           178.8632432004606
          ],
          [
           437.9644549202244
          ],
          [
           63.53232583379349
          ],
          [
           218.9782430243249
          ],
          [
           197.15742935191201
          ],
          [
           309.08747752647105
          ],
          [
           104.8762754965328
          ],
          [
           213.37251647647417
          ],
          [
           266.4097158481318
          ],
          [
           189.23893194299126
          ],
          [
           245.19506767351413
          ],
          [
           403.0409774083523
          ],
          [
           138.99662697368376
          ],
          [
           109.59749816558042
          ],
          [
           137.90549093604477
          ],
          [
           243.5748394293114
          ],
          [
           148.14235784914035
          ],
          [
           453.3837718915197
          ],
          [
           39.046190248636776
          ],
          [
           821.8836958915786
          ],
          [
           179.59406364489178
          ],
          [
           217.1264543563584
          ],
          [
           248.79131725023535
          ],
          [
           910.3850845499683
          ],
          [
           23.122341541632068
          ],
          [
           30.57472126243374
          ],
          [
           308.7026695724221
          ],
          [
           126.47161778038617
          ],
          [
           343.04125915470286
          ],
          [
           116.94900695644765
          ],
          [
           184.96701741074003
          ],
          [
           184.4215515569399
          ],
          [
           236.51602661028937
          ],
          [
           819.1360289725612
          ],
          [
           378.8221463820232
          ],
          [
           334.7903848800952
          ],
          [
           201.34321196114115
          ],
          [
           606.9028568012536
          ],
          [
           114.44859300829467
          ],
          [
           470.8271005108172
          ],
          [
           107.09205769843447
          ],
          [
           252.03094279647712
          ],
          [
           1.0817640997879607
          ],
          [
           210.9862957768887
          ],
          [
           698.3211521401081
          ],
          [
           174.7148529886208
          ],
          [
           5.13861445353632
          ],
          [
           454.17503316189504
          ],
          [
           473.4283172788914
          ],
          [
           865.6915661572584
          ],
          [
           395.70514754258375
          ],
          [
           602.9514407483421
          ],
          [
           44.083334404119796
          ],
          [
           311.79154041487027
          ],
          [
           426.7005026261477
          ],
          [
           8.297243571771105
          ],
          [
           80.1979879414016
          ],
          [
           61.375962807635005
          ],
          [
           225.05839668193585
          ],
          [
           531.8975762860791
          ],
          [
           322.8276647139219
          ],
          [
           103.05305216821216
          ],
          [
           68.71617895827012
          ],
          [
           35.32399163502487
          ],
          [
           810.2587469041578
          ],
          [
           401.1761661058131
          ],
          [
           245.21359359717553
          ],
          [
           123.74686306989724
          ],
          [
           540.276674472027
          ],
          [
           133.376433858974
          ],
          [
           257.0429543569935
          ],
          [
           105.29003020630262
          ],
          [
           331.1141469035665
          ],
          [
           127.28634976140029
          ],
          [
           45.05937814101344
          ],
          [
           356.35118176512196
          ],
          [
           385.0737601875203
          ],
          [
           104.88047107336206
          ],
          [
           411.85998454923947
          ],
          [
           131.52850021777022
          ],
          [
           30.58145053176395
          ],
          [
           373.1696282549251
          ],
          [
           758.9565411493836
          ],
          [
           269.81414038294315
          ],
          [
           627.6887115751301
          ],
          [
           166.23786709132764
          ],
          [
           353.27171010453094
          ],
          [
           305.8028448833343
          ],
          [
           250.49470782087383
          ],
          [
           561.2120171034458
          ],
          [
           723.1817565792699
          ],
          [
           120.75182058199152
          ],
          [
           78.50208947224428
          ],
          [
           750.6857923728489
          ],
          [
           978.9691981921383
          ],
          [
           258.2550810225439
          ],
          [
           347.0251091960249
          ],
          [
           267.24211556663795
          ],
          [
           69.9135666169077
          ],
          [
           228.28247952310676
          ],
          [
           248.86920786162864
          ],
          [
           103.81288747837743
          ],
          [
           187.31660854508618
          ],
          [
           27.66296369898737
          ],
          [
           37.79096356656828
          ],
          [
           751.2199655864165
          ],
          [
           875.3573169854858
          ],
          [
           340.6219642325814
          ],
          [
           45.089087728885715
          ],
          [
           97.86361402263174
          ],
          [
           170.168836518199
          ],
          [
           438.60229157427875
          ],
          [
           303.9871681445047
          ],
          [
           547.0078781263041
          ],
          [
           565.6474637780157
          ],
          [
           33.500890904728294
          ],
          [
           101.70990908076828
          ],
          [
           511.7181322060469
          ],
          [
           118.97645134912818
          ],
          [
           200.41522664974536
          ],
          [
           397.20913923781563
          ],
          [
           129.80150271646608
          ],
          [
           208.62317799387029
          ],
          [
           485.65320650887725
          ],
          [
           516.0338414769544
          ],
          [
           265.3213178330334
          ],
          [
           262.3050113989252
          ],
          [
           252.3216227119242
          ],
          [
           368.5004688801664
          ],
          [
           575.3822781598919
          ],
          [
           467.6027724735977
          ],
          [
           305.43517340867174
          ],
          [
           491.9044525203003
          ],
          [
           419.5231102736907
          ],
          [
           14.072523187130628
          ],
          [
           28.098295661022348
          ],
          [
           5.8500916541443075
          ],
          [
           401.1947056514764
          ],
          [
           186.6902688613036
          ],
          [
           48.69498168351265
          ],
          [
           195.49550415746853
          ],
          [
           278.1639785071088
          ],
          [
           367.08749940692314
          ],
          [
           399.50522314558657
          ],
          [
           520.1386821461874
          ],
          [
           684.0905319897329
          ],
          [
           25.620480615335055
          ],
          [
           637.3182823642069
          ],
          [
           122.93535950352089
          ],
          [
           148.63755851300584
          ],
          [
           40.64584926877478
          ],
          [
           99.44606845336966
          ],
          [
           32.08925638774872
          ],
          [
           411.76077550363243
          ],
          [
           131.14204400139533
          ],
          [
           586.4620064895612
          ],
          [
           377.6609932505462
          ],
          [
           399.22343839789846
          ],
          [
           113.02508010496831
          ],
          [
           174.59157386425795
          ],
          [
           129.81502936513925
          ],
          [
           186.78739374049792
          ],
          [
           58.96219841860602
          ],
          [
           501.20373061010287
          ],
          [
           209.9093811100597
          ],
          [
           650.3666080349267
          ],
          [
           40.688254563155624
          ],
          [
           160.67981755289838
          ],
          [
           206.70612631100585
          ],
          [
           178.5371460780143
          ],
          [
           265.17906325892
          ],
          [
           375.3150800569274
          ],
          [
           171.97409242496815
          ],
          [
           16.084097946674774
          ],
          [
           67.76622135653133
          ],
          [
           137.66319637416018
          ],
          [
           28.372901613292015
          ],
          [
           277.5057088490148
          ],
          [
           38.08626134092765
          ],
          [
           6.6200889783176535
          ],
          [
           191.1166296600777
          ],
          [
           169.2656023856939
          ],
          [
           188.87627336531978
          ],
          [
           447.7737271688152
          ],
          [
           129.7924849506844
          ],
          [
           643.7939100039753
          ],
          [
           12.529736028232037
          ],
          [
           0.5732411172889442
          ],
          [
           70.464631113814
          ],
          [
           166.8268824877341
          ],
          [
           341.2015940691326
          ],
          [
           846.2011774614039
          ],
          [
           14.652466329743675
          ],
          [
           253.9009577040456
          ],
          [
           590.1720134107641
          ],
          [
           204.53167326527182
          ],
          [
           282.0150957541982
          ],
          [
           194.31575699231644
          ],
          [
           404.77255190256074
          ],
          [
           43.20618640677094
          ],
          [
           162.82112826608272
          ],
          [
           272.3893391258748
          ],
          [
           501.7281368477402
          ],
          [
           560.0620476361787
          ],
          [
           34.474973073234196
          ],
          [
           47.60309643572464
          ],
          [
           107.51672363236003
          ],
          [
           416.5507347982639
          ],
          [
           358.7038923380842
          ],
          [
           247.9433067166442
          ],
          [
           101.74723336814532
          ],
          [
           360.1539953906654
          ],
          [
           219.15858471796582
          ],
          [
           99.95587190412107
          ],
          [
           94.28888721016392
          ],
          [
           364.57641943066255
          ],
          [
           26.804791151389054
          ],
          [
           24.186301683901092
          ],
          [
           14.351828730329544
          ],
          [
           463.98888240339056
          ],
          [
           433.25942881237734
          ],
          [
           341.675326456756
          ],
          [
           237.18763220901747
          ],
          [
           141.85213928801477
          ],
          [
           840.6007226285942
          ],
          [
           262.9678580499226
          ],
          [
           44.38790876231178
          ],
          [
           219.07999938443436
          ],
          [
           263.84747162975964
          ],
          [
           145.24773676508084
          ],
          [
           312.7196619462934
          ],
          [
           681.0548686897996
          ],
          [
           182.20658667520047
          ],
          [
           86.5095249367414
          ],
          [
           431.54696598794544
          ],
          [
           121.25330098909853
          ],
          [
           728.9021259017773
          ],
          [
           577.0666115487638
          ],
          [
           253.0302937799779
          ],
          [
           217.53074177425742
          ],
          [
           202.98298777920718
          ],
          [
           129.18544764471653
          ],
          [
           262.96258633488105
          ],
          [
           364.538836325235
          ],
          [
           487.80658631644656
          ],
          [
           440.12043653030787
          ],
          [
           419.0796459760495
          ],
          [
           389.24150726518474
          ],
          [
           68.07764758207804
          ],
          [
           148.13430724554928
          ],
          [
           26.406020644579712
          ],
          [
           50.37532382559584
          ],
          [
           206.6874096793067
          ],
          [
           375.5561758825743
          ],
          [
           120.04365352803734
          ],
          [
           548.1179896136941
          ],
          [
           526.666441190258
          ],
          [
           98.76317021440946
          ],
          [
           136.34308809326922
          ],
          [
           1.13330975797453
          ],
          [
           84.36141684421364
          ],
          [
           95.72782022053752
          ],
          [
           171.62013830701744
          ],
          [
           99.06476135401226
          ],
          [
           643.1544931976077
          ],
          [
           392.60269556345156
          ],
          [
           216.17986138928472
          ],
          [
           179.60644604533854
          ],
          [
           311.8658756835607
          ],
          [
           218.00702147638412
          ],
          [
           400.0693511430745
          ],
          [
           105.32945228209383
          ],
          [
           361.40115784714044
          ],
          [
           135.31544421017725
          ],
          [
           892.0087577222835
          ],
          [
           402.78591902994594
          ],
          [
           279.8450153713288
          ],
          [
           28.841566615913507
          ],
          [
           750.2488666365002
          ],
          [
           479.8955810090065
          ],
          [
           506.26456342826714
          ],
          [
           189.03280379825492
          ],
          [
           208.58401473612957
          ],
          [
           620.9007041696264
          ],
          [
           237.50953375463405
          ],
          [
           126.49624636125372
          ],
          [
           333.06763744363207
          ],
          [
           300.2775426393773
          ],
          [
           361.38769930848093
          ],
          [
           127.82764728237635
          ],
          [
           247.89106633632036
          ],
          [
           147.78700066491228
          ],
          [
           69.72104685286058
          ],
          [
           568.0204711349897
          ],
          [
           23.34876647038027
          ],
          [
           300.7451315037856
          ],
          [
           63.955220907369494
          ],
          [
           334.6523122608087
          ],
          [
           125.78216735813157
          ],
          [
           416.6593430257285
          ],
          [
           245.1205416967864
          ],
          [
           231.10333746258812
          ],
          [
           168.22429563390233
          ],
          [
           139.25968146767127
          ],
          [
           376.3862734826257
          ],
          [
           459.5267774695517
          ],
          [
           90.25311009457982
          ],
          [
           116.73826095279856
          ],
          [
           399.74403047478245
          ],
          [
           7.5368361374935375
          ],
          [
           544.7698784380123
          ],
          [
           281.3365701781022
          ],
          [
           229.32359556686015
          ],
          [
           197.73419856789815
          ],
          [
           243.03965818754386
          ],
          [
           102.47043911307173
          ],
          [
           529.4346637113372
          ],
          [
           196.63926199150683
          ],
          [
           418.5069497388681
          ],
          [
           149.98838440996724
          ],
          [
           116.39376050471537
          ],
          [
           43.456422596224
          ],
          [
           148.7712448474258
          ],
          [
           351.90572291857234
          ],
          [
           538.0614643942386
          ],
          [
           395.1751017958318
          ],
          [
           313.70897351380927
          ],
          [
           75.88569779317095
          ],
          [
           262.7077731525228
          ],
          [
           63.73375438760104
          ],
          [
           501.1962385086222
          ],
          [
           313.84430811055563
          ],
          [
           191.9120728852804
          ],
          [
           752.2066072414054
          ],
          [
           153.9069714363918
          ],
          [
           471.7757912663051
          ],
          [
           194.92019249577015
          ],
          [
           54.01175831025921
          ],
          [
           269.5003575509304
          ],
          [
           147.60856605164827
          ],
          [
           238.46323740711296
          ],
          [
           128.17239292650765
          ],
          [
           122.20522015922506
          ],
          [
           139.02170508064
          ],
          [
           67.40902520193958
          ],
          [
           50.25256233733444
          ],
          [
           208.94863488218925
          ],
          [
           29.762127935842727
          ],
          [
           284.82674521986064
          ],
          [
           54.46797280241981
          ],
          [
           736.7769511700662
          ],
          [
           147.1106409872441
          ],
          [
           592.4656181140454
          ],
          [
           16.51885778459564
          ],
          [
           121.26027545447687
          ],
          [
           21.02005786616064
          ],
          [
           175.57980929356108
          ],
          [
           1.8046565386512157
          ],
          [
           260.2368780842039
          ],
          [
           253.21214751591742
          ],
          [
           332.6076087907177
          ],
          [
           121.81800111069924
          ],
          [
           70.9879475912362
          ],
          [
           127.11795456412074
          ],
          [
           300.0897769542694
          ],
          [
           19.65958759129353
          ],
          [
           200.61295001882127
          ],
          [
           113.79965442204639
          ],
          [
           213.4718617421072
          ],
          [
           206.919610337196
          ],
          [
           29.996235674108902
          ],
          [
           86.14421006854445
          ],
          [
           131.5384715237401
          ],
          [
           473.74971481040893
          ],
          [
           140.4128929715789
          ],
          [
           370.7912810728958
          ],
          [
           368.9441783738557
          ],
          [
           339.9420492122108
          ],
          [
           188.3030050040261
          ],
          [
           457.17699562716825
          ],
          [
           395.5005450621484
          ],
          [
           165.24829670576037
          ],
          [
           399.209857261214
          ],
          [
           426.0403258876777
          ],
          [
           386.8907718826126
          ],
          [
           232.1321392159084
          ],
          [
           209.36117723371945
          ],
          [
           236.23875074549187
          ],
          [
           321.77607335009816
          ],
          [
           542.7030800795533
          ],
          [
           177.0701653640972
          ],
          [
           548.4193219352451
          ],
          [
           290.40987286524523
          ],
          [
           186.2522669867417
          ],
          [
           106.79053466884488
          ],
          [
           193.77060444457857
          ],
          [
           373.71599316090214
          ],
          [
           117.91864835207662
          ],
          [
           73.11149521290918
          ],
          [
           348.8573502901281
          ],
          [
           69.62392197366626
          ],
          [
           730.6861178623449
          ],
          [
           223.5799871077602
          ],
          [
           351.30026576491673
          ],
          [
           420.30663424653676
          ],
          [
           36.95133056463328
          ],
          [
           568.8781941565003
          ],
          [
           340.6624624465853
          ],
          [
           243.52056937058614
          ],
          [
           352.1166596302596
          ],
          [
           178.38441618383104
          ],
          [
           58.244509584770185
          ],
          [
           256.4961535469297
          ],
          [
           317.0948585029564
          ],
          [
           400.92339622385816
          ],
          [
           730.356860435274
          ],
          [
           433.0674675504406
          ],
          [
           65.86630615305467
          ],
          [
           592.4628800915048
          ],
          [
           25.921622228849174
          ],
          [
           97.82667115133108
          ],
          [
           316.66129740127235
          ],
          [
           257.79333599729034
          ],
          [
           237.45913234467344
          ],
          [
           386.154162087038
          ],
          [
           411.3725348049047
          ],
          [
           5.9063913912705175
          ],
          [
           372.285505792197
          ],
          [
           166.61200901726897
          ],
          [
           402.0196677565127
          ],
          [
           133.84191131296575
          ],
          [
           371.45000025707714
          ],
          [
           260.2879742163018
          ],
          [
           426.2041032260445
          ],
          [
           193.01063291438686
          ],
          [
           57.614927864347464
          ],
          [
           394.1078315069094
          ],
          [
           782.0200083953805
          ],
          [
           180.87944944091987
          ],
          [
           722.7052861691059
          ],
          [
           279.45526263030206
          ],
          [
           458.80521998695167
          ],
          [
           126.08008055700702
          ],
          [
           68.26960884401478
          ],
          [
           153.5873583872276
          ],
          [
           50.86150672367921
          ],
          [
           286.12697899882323
          ],
          [
           94.1445348476359
          ],
          [
           14.085341491664167
          ],
          [
           93.83850293515525
          ],
          [
           30.719577639061754
          ],
          [
           32.23773621709279
          ],
          [
           57.27448677306711
          ],
          [
           182.226079761052
          ],
          [
           372.1209656216797
          ],
          [
           519.046660678373
          ],
          [
           34.616464815197105
          ],
          [
           90.2194092599193
          ],
          [
           351.1028420799007
          ],
          [
           160.6147452460391
          ],
          [
           304.32932560812424
          ],
          [
           320.7119906098046
          ],
          [
           399.19334739395117
          ],
          [
           86.13741268920148
          ],
          [
           219.0622907809352
          ],
          [
           302.6437117509995
          ],
          [
           47.590714035277415
          ],
          [
           135.70856158586957
          ],
          [
           116.41273595446592
          ],
          [
           518.7154280609116
          ],
          [
           179.88042538548416
          ],
          [
           149.0185523063019
          ],
          [
           348.4528721641914
          ],
          [
           42.78113905676855
          ],
          [
           822.9533091649646
          ],
          [
           276.85701545881557
          ],
          [
           490.9600799396658
          ],
          [
           65.14856283120753
          ],
          [
           98.1062355125805
          ],
          [
           439.50818199730884
          ],
          [
           128.0743145071251
          ],
          [
           248.59916528026133
          ],
          [
           307.3010063614124
          ],
          [
           98.17453623407846
          ],
          [
           334.20638238067977
          ],
          [
           411.7438842202946
          ],
          [
           143.91310742932046
          ],
          [
           76.81883222158467
          ],
          [
           212.40415554909805
          ],
          [
           324.8702159075883
          ],
          [
           216.77496582089498
          ],
          [
           135.47204275312606
          ],
          [
           548.1663613452533
          ],
          [
           547.377129753279
          ],
          [
           221.72483380512904
          ],
          [
           146.49007703260304
          ],
          [
           283.2086147640721
          ],
          [
           73.22873979008091
          ],
          [
           48.437580320643065
          ],
          [
           607.9821144525463
          ],
          [
           95.91698897192327
          ],
          [
           89.30302989481652
          ],
          [
           95.06726206599251
          ],
          [
           663.3214322791678
          ],
          [
           119.08341131426687
          ],
          [
           110.89119338325145
          ],
          [
           84.45510897872964
          ],
          [
           363.84539465619173
          ],
          [
           217.74714090902398
          ],
          [
           216.0871772829678
          ],
          [
           430.5493994867984
          ],
          [
           519.5160204031317
          ],
          [
           91.24750266910041
          ],
          [
           197.6005803434905
          ],
          [
           321.64944321307166
          ],
          [
           735.8747931757739
          ],
          [
           285.6900532624745
          ],
          [
           435.60737168439755
          ],
          [
           85.95193550054546
          ],
          [
           18.81043280947688
          ],
          [
           148.99385561542067
          ],
          [
           585.7452030859004
          ],
          [
           431.06269017023897
          ],
          [
           186.402967202524
          ],
          [
           518.5115339246163
          ],
          [
           365.3361866308146
          ],
          [
           43.91936635771526
          ],
          [
           205.31042953717633
          ],
          [
           75.44039452516608
          ],
          [
           532.2010063960452
          ],
          [
           589.3895791981327
          ],
          [
           200.65979608607904
          ],
          [
           293.9955245238716
          ],
          [
           221.6251071234201
          ],
          [
           214.9975669096293
          ],
          [
           194.2009235096225
          ],
          [
           255.13028895899606
          ],
          [
           589.1062687861427
          ],
          [
           716.5819507629603
          ],
          [
           143.74773631663857
          ],
          [
           112.58175202735401
          ],
          [
           41.0090663485571
          ],
          [
           53.89749695167757
          ],
          [
           221.20817848702382
          ],
          [
           5.447820292644337
          ],
          [
           319.33799368626387
          ],
          [
           396.10258309312803
          ],
          [
           608.1041948406723
          ],
          [
           218.7012804655892
          ],
          [
           643.6448035625071
          ],
          [
           583.1362353982945
          ],
          [
           379.86680414647753
          ],
          [
           1.64743138357926
          ],
          [
           68.3253364570287
          ],
          [
           54.74093049236444
          ],
          [
           120.8355414105381
          ],
          [
           576.5248917457052
          ],
          [
           110.20004021066006
          ],
          [
           97.10332918637823
          ],
          [
           76.6289687480621
          ],
          [
           53.81814878599562
          ],
          [
           162.86823315139236
          ],
          [
           9.03714989199807
          ],
          [
           271.5268484034227
          ],
          [
           354.84921974829194
          ],
          [
           340.516788749796
          ]
         ]
        }
       ],
       "layout": {
        "shapes": [
         {
          "line": {
           "color": "red",
           "width": 2
          },
          "name": "Observed Difference",
          "type": "line",
          "x0": [
           730.6705751572731
          ],
          "x1": [
           730.6705751572731
          ],
          "y0": 0,
          "y1": 98
         }
        ],
        "showlegend": true,
        "template": {
         "data": {
          "bar": [
           {
            "error_x": {
             "color": "#2a3f5f"
            },
            "error_y": {
             "color": "#2a3f5f"
            },
            "marker": {
             "line": {
              "color": "#E5ECF6",
              "width": 0.5
             },
             "pattern": {
              "fillmode": "overlay",
              "size": 10,
              "solidity": 0.2
             }
            },
            "type": "bar"
           }
          ],
          "barpolar": [
           {
            "marker": {
             "line": {
              "color": "#E5ECF6",
              "width": 0.5
             },
             "pattern": {
              "fillmode": "overlay",
              "size": 10,
              "solidity": 0.2
             }
            },
            "type": "barpolar"
           }
          ],
          "carpet": [
           {
            "aaxis": {
             "endlinecolor": "#2a3f5f",
             "gridcolor": "white",
             "linecolor": "white",
             "minorgridcolor": "white",
             "startlinecolor": "#2a3f5f"
            },
            "baxis": {
             "endlinecolor": "#2a3f5f",
             "gridcolor": "white",
             "linecolor": "white",
             "minorgridcolor": "white",
             "startlinecolor": "#2a3f5f"
            },
            "type": "carpet"
           }
          ],
          "choropleth": [
           {
            "colorbar": {
             "outlinewidth": 0,
             "ticks": ""
            },
            "type": "choropleth"
           }
          ],
          "contour": [
           {
            "colorbar": {
             "outlinewidth": 0,
             "ticks": ""
            },
            "colorscale": [
             [
              0,
              "#0d0887"
             ],
             [
              0.1111111111111111,
              "#46039f"
             ],
             [
              0.2222222222222222,
              "#7201a8"
             ],
             [
              0.3333333333333333,
              "#9c179e"
             ],
             [
              0.4444444444444444,
              "#bd3786"
             ],
             [
              0.5555555555555556,
              "#d8576b"
             ],
             [
              0.6666666666666666,
              "#ed7953"
             ],
             [
              0.7777777777777778,
              "#fb9f3a"
             ],
             [
              0.8888888888888888,
              "#fdca26"
             ],
             [
              1,
              "#f0f921"
             ]
            ],
            "type": "contour"
           }
          ],
          "contourcarpet": [
           {
            "colorbar": {
             "outlinewidth": 0,
             "ticks": ""
            },
            "type": "contourcarpet"
           }
          ],
          "heatmap": [
           {
            "colorbar": {
             "outlinewidth": 0,
             "ticks": ""
            },
            "colorscale": [
             [
              0,
              "#0d0887"
             ],
             [
              0.1111111111111111,
              "#46039f"
             ],
             [
              0.2222222222222222,
              "#7201a8"
             ],
             [
              0.3333333333333333,
              "#9c179e"
             ],
             [
              0.4444444444444444,
              "#bd3786"
             ],
             [
              0.5555555555555556,
              "#d8576b"
             ],
             [
              0.6666666666666666,
              "#ed7953"
             ],
             [
              0.7777777777777778,
              "#fb9f3a"
             ],
             [
              0.8888888888888888,
              "#fdca26"
             ],
             [
              1,
              "#f0f921"
             ]
            ],
            "type": "heatmap"
           }
          ],
          "heatmapgl": [
           {
            "colorbar": {
             "outlinewidth": 0,
             "ticks": ""
            },
            "colorscale": [
             [
              0,
              "#0d0887"
             ],
             [
              0.1111111111111111,
              "#46039f"
             ],
             [
              0.2222222222222222,
              "#7201a8"
             ],
             [
              0.3333333333333333,
              "#9c179e"
             ],
             [
              0.4444444444444444,
              "#bd3786"
             ],
             [
              0.5555555555555556,
              "#d8576b"
             ],
             [
              0.6666666666666666,
              "#ed7953"
             ],
             [
              0.7777777777777778,
              "#fb9f3a"
             ],
             [
              0.8888888888888888,
              "#fdca26"
             ],
             [
              1,
              "#f0f921"
             ]
            ],
            "type": "heatmapgl"
           }
          ],
          "histogram": [
           {
            "marker": {
             "pattern": {
              "fillmode": "overlay",
              "size": 10,
              "solidity": 0.2
             }
            },
            "type": "histogram"
           }
          ],
          "histogram2d": [
           {
            "colorbar": {
             "outlinewidth": 0,
             "ticks": ""
            },
            "colorscale": [
             [
              0,
              "#0d0887"
             ],
             [
              0.1111111111111111,
              "#46039f"
             ],
             [
              0.2222222222222222,
              "#7201a8"
             ],
             [
              0.3333333333333333,
              "#9c179e"
             ],
             [
              0.4444444444444444,
              "#bd3786"
             ],
             [
              0.5555555555555556,
              "#d8576b"
             ],
             [
              0.6666666666666666,
              "#ed7953"
             ],
             [
              0.7777777777777778,
              "#fb9f3a"
             ],
             [
              0.8888888888888888,
              "#fdca26"
             ],
             [
              1,
              "#f0f921"
             ]
            ],
            "type": "histogram2d"
           }
          ],
          "histogram2dcontour": [
           {
            "colorbar": {
             "outlinewidth": 0,
             "ticks": ""
            },
            "colorscale": [
             [
              0,
              "#0d0887"
             ],
             [
              0.1111111111111111,
              "#46039f"
             ],
             [
              0.2222222222222222,
              "#7201a8"
             ],
             [
              0.3333333333333333,
              "#9c179e"
             ],
             [
              0.4444444444444444,
              "#bd3786"
             ],
             [
              0.5555555555555556,
              "#d8576b"
             ],
             [
              0.6666666666666666,
              "#ed7953"
             ],
             [
              0.7777777777777778,
              "#fb9f3a"
             ],
             [
              0.8888888888888888,
              "#fdca26"
             ],
             [
              1,
              "#f0f921"
             ]
            ],
            "type": "histogram2dcontour"
           }
          ],
          "mesh3d": [
           {
            "colorbar": {
             "outlinewidth": 0,
             "ticks": ""
            },
            "type": "mesh3d"
           }
          ],
          "parcoords": [
           {
            "line": {
             "colorbar": {
              "outlinewidth": 0,
              "ticks": ""
             }
            },
            "type": "parcoords"
           }
          ],
          "pie": [
           {
            "automargin": true,
            "type": "pie"
           }
          ],
          "scatter": [
           {
            "fillpattern": {
             "fillmode": "overlay",
             "size": 10,
             "solidity": 0.2
            },
            "type": "scatter"
           }
          ],
          "scatter3d": [
           {
            "line": {
             "colorbar": {
              "outlinewidth": 0,
              "ticks": ""
             }
            },
            "marker": {
             "colorbar": {
              "outlinewidth": 0,
              "ticks": ""
             }
            },
            "type": "scatter3d"
           }
          ],
          "scattercarpet": [
           {
            "marker": {
             "colorbar": {
              "outlinewidth": 0,
              "ticks": ""
             }
            },
            "type": "scattercarpet"
           }
          ],
          "scattergeo": [
           {
            "marker": {
             "colorbar": {
              "outlinewidth": 0,
              "ticks": ""
             }
            },
            "type": "scattergeo"
           }
          ],
          "scattergl": [
           {
            "marker": {
             "colorbar": {
              "outlinewidth": 0,
              "ticks": ""
             }
            },
            "type": "scattergl"
           }
          ],
          "scattermapbox": [
           {
            "marker": {
             "colorbar": {
              "outlinewidth": 0,
              "ticks": ""
             }
            },
            "type": "scattermapbox"
           }
          ],
          "scatterpolar": [
           {
            "marker": {
             "colorbar": {
              "outlinewidth": 0,
              "ticks": ""
             }
            },
            "type": "scatterpolar"
           }
          ],
          "scatterpolargl": [
           {
            "marker": {
             "colorbar": {
              "outlinewidth": 0,
              "ticks": ""
             }
            },
            "type": "scatterpolargl"
           }
          ],
          "scatterternary": [
           {
            "marker": {
             "colorbar": {
              "outlinewidth": 0,
              "ticks": ""
             }
            },
            "type": "scatterternary"
           }
          ],
          "surface": [
           {
            "colorbar": {
             "outlinewidth": 0,
             "ticks": ""
            },
            "colorscale": [
             [
              0,
              "#0d0887"
             ],
             [
              0.1111111111111111,
              "#46039f"
             ],
             [
              0.2222222222222222,
              "#7201a8"
             ],
             [
              0.3333333333333333,
              "#9c179e"
             ],
             [
              0.4444444444444444,
              "#bd3786"
             ],
             [
              0.5555555555555556,
              "#d8576b"
             ],
             [
              0.6666666666666666,
              "#ed7953"
             ],
             [
              0.7777777777777778,
              "#fb9f3a"
             ],
             [
              0.8888888888888888,
              "#fdca26"
             ],
             [
              1,
              "#f0f921"
             ]
            ],
            "type": "surface"
           }
          ],
          "table": [
           {
            "cells": {
             "fill": {
              "color": "#EBF0F8"
             },
             "line": {
              "color": "white"
             }
            },
            "header": {
             "fill": {
              "color": "#C8D4E3"
             },
             "line": {
              "color": "white"
             }
            },
            "type": "table"
           }
          ]
         },
         "layout": {
          "annotationdefaults": {
           "arrowcolor": "#2a3f5f",
           "arrowhead": 0,
           "arrowwidth": 1
          },
          "autotypenumbers": "strict",
          "coloraxis": {
           "colorbar": {
            "outlinewidth": 0,
            "ticks": ""
           }
          },
          "colorscale": {
           "diverging": [
            [
             0,
             "#8e0152"
            ],
            [
             0.1,
             "#c51b7d"
            ],
            [
             0.2,
             "#de77ae"
            ],
            [
             0.3,
             "#f1b6da"
            ],
            [
             0.4,
             "#fde0ef"
            ],
            [
             0.5,
             "#f7f7f7"
            ],
            [
             0.6,
             "#e6f5d0"
            ],
            [
             0.7,
             "#b8e186"
            ],
            [
             0.8,
             "#7fbc41"
            ],
            [
             0.9,
             "#4d9221"
            ],
            [
             1,
             "#276419"
            ]
           ],
           "sequential": [
            [
             0,
             "#0d0887"
            ],
            [
             0.1111111111111111,
             "#46039f"
            ],
            [
             0.2222222222222222,
             "#7201a8"
            ],
            [
             0.3333333333333333,
             "#9c179e"
            ],
            [
             0.4444444444444444,
             "#bd3786"
            ],
            [
             0.5555555555555556,
             "#d8576b"
            ],
            [
             0.6666666666666666,
             "#ed7953"
            ],
            [
             0.7777777777777778,
             "#fb9f3a"
            ],
            [
             0.8888888888888888,
             "#fdca26"
            ],
            [
             1,
             "#f0f921"
            ]
           ],
           "sequentialminus": [
            [
             0,
             "#0d0887"
            ],
            [
             0.1111111111111111,
             "#46039f"
            ],
            [
             0.2222222222222222,
             "#7201a8"
            ],
            [
             0.3333333333333333,
             "#9c179e"
            ],
            [
             0.4444444444444444,
             "#bd3786"
            ],
            [
             0.5555555555555556,
             "#d8576b"
            ],
            [
             0.6666666666666666,
             "#ed7953"
            ],
            [
             0.7777777777777778,
             "#fb9f3a"
            ],
            [
             0.8888888888888888,
             "#fdca26"
            ],
            [
             1,
             "#f0f921"
            ]
           ]
          },
          "colorway": [
           "#636efa",
           "#EF553B",
           "#00cc96",
           "#ab63fa",
           "#FFA15A",
           "#19d3f3",
           "#FF6692",
           "#B6E880",
           "#FF97FF",
           "#FECB52"
          ],
          "font": {
           "color": "#2a3f5f"
          },
          "geo": {
           "bgcolor": "white",
           "lakecolor": "white",
           "landcolor": "#E5ECF6",
           "showlakes": true,
           "showland": true,
           "subunitcolor": "white"
          },
          "hoverlabel": {
           "align": "left"
          },
          "hovermode": "closest",
          "mapbox": {
           "style": "light"
          },
          "paper_bgcolor": "white",
          "plot_bgcolor": "#E5ECF6",
          "polar": {
           "angularaxis": {
            "gridcolor": "white",
            "linecolor": "white",
            "ticks": ""
           },
           "bgcolor": "#E5ECF6",
           "radialaxis": {
            "gridcolor": "white",
            "linecolor": "white",
            "ticks": ""
           }
          },
          "scene": {
           "xaxis": {
            "backgroundcolor": "#E5ECF6",
            "gridcolor": "white",
            "gridwidth": 2,
            "linecolor": "white",
            "showbackground": true,
            "ticks": "",
            "zerolinecolor": "white"
           },
           "yaxis": {
            "backgroundcolor": "#E5ECF6",
            "gridcolor": "white",
            "gridwidth": 2,
            "linecolor": "white",
            "showbackground": true,
            "ticks": "",
            "zerolinecolor": "white"
           },
           "zaxis": {
            "backgroundcolor": "#E5ECF6",
            "gridcolor": "white",
            "gridwidth": 2,
            "linecolor": "white",
            "showbackground": true,
            "ticks": "",
            "zerolinecolor": "white"
           }
          },
          "shapedefaults": {
           "line": {
            "color": "#2a3f5f"
           }
          },
          "ternary": {
           "aaxis": {
            "gridcolor": "white",
            "linecolor": "white",
            "ticks": ""
           },
           "baxis": {
            "gridcolor": "white",
            "linecolor": "white",
            "ticks": ""
           },
           "bgcolor": "#E5ECF6",
           "caxis": {
            "gridcolor": "white",
            "linecolor": "white",
            "ticks": ""
           }
          },
          "title": {
           "x": 0.05
          },
          "xaxis": {
           "automargin": true,
           "gridcolor": "white",
           "linecolor": "white",
           "ticks": "",
           "title": {
            "standoff": 15
           },
           "zerolinecolor": "white",
           "zerolinewidth": 2
          },
          "yaxis": {
           "automargin": true,
           "gridcolor": "white",
           "linecolor": "white",
           "ticks": "",
           "title": {
            "standoff": 15
           },
           "zerolinecolor": "white",
           "zerolinewidth": 2
          }
         }
        },
        "title": {
         "text": "Distribution of Permuted Absolute Mean Differences"
        },
        "xaxis": {
         "title": {
          "text": "Absolute Mean Difference"
         }
        },
        "yaxis": {
         "title": {
          "text": "Frequency"
         }
        }
       }
      }
     },
     "metadata": {},
     "output_type": "display_data"
    }
   ],
   "source": [
    "\n",
    "plt.figure(figsize=(8, 6))\n",
    "plt.hist(permuted_diffs, bins=30, alpha=0.7, color='blue', label='Permuted Differences')\n",
    "plt.axvline(x=observed_diff[-1], color='red', linestyle='-', linewidth=2, label='Observed Difference')\n",
    "plt.xlabel('Absolute Mean Difference')\n",
    "plt.ylabel('Frequency')\n",
    "plt.title('Distribution of Permuted Absolute Mean Differences')\n",
    "plt.show()"
   ]
  },
  {
   "cell_type": "markdown",
   "metadata": {},
   "source": [
    "## Step 4: Hypothesis Testing"
   ]
  },
  {
   "cell_type": "code",
   "execution_count": 95,
   "metadata": {
    "ExecuteTime": {
     "end_time": "2019-10-31T23:36:28.666489Z",
     "start_time": "2019-10-31T23:36:28.664381Z"
    }
   },
   "outputs": [],
   "source": [
    "outages1.loc[:, \"RES.PRICE\"] = pd.to_numeric(outages1[\"RES.PRICE\"])"
   ]
  },
  {
   "cell_type": "code",
   "execution_count": 96,
   "metadata": {},
   "outputs": [
    {
     "data": {
      "text/plain": [
       "11.96837301587301"
      ]
     },
     "execution_count": 96,
     "metadata": {},
     "output_type": "execute_result"
    }
   ],
   "source": [
    "res_price_mean = outages1[\"RES.PRICE\"].mean()\n",
    "res_price_mean"
   ]
  },
  {
   "cell_type": "markdown",
   "metadata": {},
   "source": [
    "### DEFINING THE HYPOTHESIS\n",
    "\n",
    "Null Hypothesis: The mean duration of power outages in areas with a RES.PRICE > 11.5 are the same as the mean duration of power outages in areas witha. RES.pRICE <= 11.5. \n",
    "\n",
    "Alternative Hypothesis: The mean duration of power outages in areas with a RES.PRICE > 11.5 are different than the mean duration of power outages in areas witha. RES.pRICE <= 11.5. "
   ]
  },
  {
   "cell_type": "code",
   "execution_count": 97,
   "metadata": {},
   "outputs": [
    {
     "data": {
      "text/plain": [
       "False    775\n",
       "True     759\n",
       "Name: RES.PRICE <= 11.5, dtype: int64"
      ]
     },
     "execution_count": 97,
     "metadata": {},
     "output_type": "execute_result"
    }
   ],
   "source": [
    "#make a new columned called \"RES.PRICE < 11.5\" where the values are either true and false\n",
    "#this way we can group the RES.PRICE column into either of those groups for our permutation test.\n",
    "\n",
    "\n",
    "outages1[\"RES.PRICE <= 11.5\"] = outages1[\"RES.PRICE\"] <= 11.5\n",
    "outages1[\"RES.PRICE <= 11.5\"].value_counts()"
   ]
  },
  {
   "cell_type": "code",
   "execution_count": 98,
   "metadata": {},
   "outputs": [
    {
     "data": {
      "text/html": [
       "<div>\n",
       "<style scoped>\n",
       "    .dataframe tbody tr th:only-of-type {\n",
       "        vertical-align: middle;\n",
       "    }\n",
       "\n",
       "    .dataframe tbody tr th {\n",
       "        vertical-align: top;\n",
       "    }\n",
       "\n",
       "    .dataframe thead th {\n",
       "        text-align: right;\n",
       "    }\n",
       "</style>\n",
       "<table border=\"1\" class=\"dataframe\">\n",
       "  <thead>\n",
       "    <tr style=\"text-align: right;\">\n",
       "      <th></th>\n",
       "      <th>mean</th>\n",
       "      <th>count</th>\n",
       "    </tr>\n",
       "    <tr>\n",
       "      <th>RES.PRICE &lt;= 11.5</th>\n",
       "      <th></th>\n",
       "      <th></th>\n",
       "    </tr>\n",
       "  </thead>\n",
       "  <tbody>\n",
       "    <tr>\n",
       "      <th>False</th>\n",
       "      <td>-0.105744</td>\n",
       "      <td>766</td>\n",
       "    </tr>\n",
       "    <tr>\n",
       "      <th>True</th>\n",
       "      <td>-0.087879</td>\n",
       "      <td>759</td>\n",
       "    </tr>\n",
       "  </tbody>\n",
       "</table>\n",
       "</div>"
      ],
      "text/plain": [
       "                       mean  count\n",
       "RES.PRICE <= 11.5                 \n",
       "False             -0.105744    766\n",
       "True              -0.087879    759"
      ]
     },
     "execution_count": 98,
     "metadata": {},
     "output_type": "execute_result"
    }
   ],
   "source": [
    "#How many residential areas are in each group and what is the mean ANOMALY.LEVEL in each group?\n",
    "\n",
    "outages1.loc[:, \"ANOMALY.LEVEL\"] = pd.to_numeric(outages1[\"ANOMALY.LEVEL\"])\n",
    "\n",
    "outages1.groupby(\"RES.PRICE <= 11.5\")[\"ANOMALY.LEVEL\"].agg([\"mean\",\"count\"])"
   ]
  },
  {
   "cell_type": "markdown",
   "metadata": {},
   "source": [
    "Let's visualize the distribution of anomaly.levels in places with a res.price <= 11.5 and places with a res.price > 11.5"
   ]
  },
  {
   "cell_type": "code",
   "execution_count": 99,
   "metadata": {},
   "outputs": [
    {
     "data": {
      "application/vnd.plotly.v1+json": {
       "config": {
        "plotlyServerURL": "https://plot.ly"
       },
       "data": [
        {
         "alignmentgroup": "True",
         "bingroup": "x",
         "histnorm": "probability",
         "hovertemplate": "RES.PRICE <= 11.5=False<br>value=%{x}<br>probability=%{y}<extra></extra>",
         "legendgroup": "False",
         "marker": {
          "color": "#636efa",
          "opacity": 0.7,
          "pattern": {
           "shape": ""
          }
         },
         "name": "False",
         "offsetgroup": "False",
         "orientation": "v",
         "showlegend": true,
         "type": "histogram",
         "x": [
          -0.3,
          -0.1,
          -0.1,
          1.2,
          0.6,
          -0.2,
          -0.2,
          -0.3,
          0,
          -0.3,
          0,
          -0.5,
          -0.3,
          -0.5,
          -0.2,
          -0.5,
          2.2,
          -1.2,
          -1.5,
          -0.5,
          -0.4,
          0,
          -0.3,
          -0.5,
          -0.3,
          -0.5,
          -0.4,
          -0.3,
          2,
          -0.4,
          -0.4,
          -0.2,
          -0.4,
          2.2,
          0.9,
          0.4,
          -0.3,
          -1,
          -1.3,
          -0.3,
          0.3,
          1.4,
          -0.3,
          0.1,
          1,
          -0.3,
          -1.5,
          1.7,
          -0.5,
          0.5,
          -1.2,
          -0.4,
          -0.3,
          -0.4,
          -0.2,
          -1.4,
          -0.4,
          -0.4,
          -0.4,
          0,
          -0.2,
          -0.9,
          -0.3,
          -0.3,
          -0.9,
          -0.2,
          -0.3,
          1.4,
          -0.4,
          0.4,
          0.5,
          -0.9,
          2.3,
          -0.4,
          -0.3,
          -0.3,
          -1.4,
          -0.2,
          -0.4,
          -0.8,
          -0.6,
          1.2,
          -0.3,
          0.7,
          0.8,
          0,
          -0.2,
          -0.4,
          -0.4,
          -0.9,
          1.4,
          -0.9,
          1,
          0.7,
          -0.3,
          -0.2,
          -0.2,
          0,
          0.1,
          -0.3,
          0.6,
          -0.9,
          -0.3,
          0.5,
          -0.6,
          -0.4,
          -0.3,
          0.9,
          0.5,
          0.7,
          0,
          0,
          0.4,
          -0.2,
          null,
          -0.2,
          1.2,
          -0.9,
          0.5,
          -0.3,
          -1.4,
          -0.4,
          0.5,
          -0.1,
          -0.5,
          0.7,
          0.5,
          0.5,
          -0.3,
          0.8,
          -0.3,
          -0.2,
          0.8,
          -0.3,
          0,
          1.2,
          -0.2,
          -0.4,
          -1.2,
          -0.2,
          0.4,
          1.4,
          -0.7,
          0.5,
          0,
          2.2,
          -0.1,
          -0.1,
          -0.4,
          0,
          null,
          1.2,
          0,
          -0.1,
          0.8,
          -0.4,
          -0.4,
          -1.5,
          -0.4,
          -0.3,
          0,
          -0.3,
          null,
          -0.7,
          -0.3,
          -0.5,
          -0.6,
          1.4,
          -0.5,
          -1.5,
          -0.3,
          -0.3,
          -0.5,
          -0.3,
          0.2,
          -0.3,
          -0.3,
          0.5,
          0.5,
          -0.3,
          -0.3,
          -0.3,
          -0.1,
          0,
          0.5,
          -0.1,
          -0.5,
          -0.4,
          0.3,
          -1,
          0.3,
          -0.5,
          -0.9,
          -0.4,
          -0.6,
          0.3,
          -0.3,
          -1,
          0.1,
          -0.4,
          -0.5,
          0.3,
          -0.9,
          0.3,
          -1.3,
          -0.2,
          -0.1,
          -0.4,
          -0.3,
          -0.4,
          0.3,
          -0.4,
          -0.5,
          0.3,
          -0.1,
          -0.2,
          0.3,
          -0.5,
          1.1,
          0.4,
          -0.7,
          0.3,
          0.3,
          -0.9,
          -0.6,
          -0.1,
          0.7,
          -0.4,
          -0.9,
          0.5,
          -0.4,
          -0.2,
          1.2,
          -0.9,
          -0.5,
          0.3,
          -1.4,
          0.1,
          -0.6,
          2.2,
          -1.4,
          -0.9,
          1,
          -0.5,
          -1,
          0.3,
          -0.3,
          -1,
          -0.3,
          -0.3,
          0.9,
          -0.6,
          -0.5,
          -0.3,
          -0.3,
          0.1,
          -0.6,
          -0.5,
          -0.5,
          -0.9,
          -0.4,
          -0.5,
          -0.5,
          -0.9,
          -0.6,
          0.1,
          -0.9,
          -0.9,
          0.3,
          2,
          -0.4,
          1.2,
          0.1,
          -0.6,
          2.2,
          -0.3,
          -0.1,
          -0.6,
          0.1,
          -0.3,
          -0.3,
          0.1,
          -0.3,
          -0.4,
          -0.8,
          -0.3,
          -0.9,
          -0.3,
          -0.6,
          -0.3,
          0.3,
          -0.3,
          -0.3,
          -0.3,
          null,
          0.1,
          1,
          0.5,
          -0.6,
          -0.5,
          -0.9,
          -0.7,
          -0.9,
          0.1,
          1,
          -0.5,
          -0.7,
          -0.8,
          -0.6,
          1,
          2.2,
          -0.8,
          -0.5,
          -1,
          -0.5,
          0.3,
          -0.9,
          -0.8,
          -0.4,
          -0.1,
          -0.5,
          0.3,
          0.9,
          -0.3,
          -0.6,
          1.2,
          0.3,
          -0.9,
          0.9,
          -0.5,
          -0.5,
          -0.5,
          -0.3,
          1.2,
          -0.6,
          -1.2,
          -1.3,
          -0.4,
          -0.5,
          -0.2,
          -0.1,
          -1.2,
          -0.3,
          0.6,
          0.6,
          -0.2,
          -0.9,
          -0.7,
          -0.2,
          0.1,
          -0.5,
          -0.8,
          -0.1,
          -1.3,
          -0.4,
          -0.2,
          -1,
          -0.2,
          0.3,
          -0.3,
          2,
          0.1,
          -0.4,
          -0.8,
          -0.8,
          -0.3,
          null,
          -0.4,
          -0.4,
          -0.2,
          0.1,
          -0.3,
          0.3,
          0.1,
          0.1,
          -0.2,
          -0.2,
          -0.2,
          -0.4,
          -0.3,
          2.2,
          1,
          -0.2,
          -0.3,
          -0.5,
          -1.3,
          -0.7,
          0,
          0.3,
          0.3,
          -0.6,
          -0.7,
          -0.1,
          -0.6,
          -0.9,
          -0.4,
          -0.3,
          -0.4,
          0.6,
          -0.4,
          0.6,
          0.3,
          0.1,
          -1.2,
          -0.7,
          -0.2,
          2.2,
          -0.2,
          -0.5,
          -0.3,
          0.9,
          -0.7,
          -0.4,
          -1.4,
          -1.3,
          -0.7,
          -0.5,
          -0.4,
          0.2,
          -1.3,
          -0.6,
          -0.3,
          -0.9,
          2,
          -0.3,
          -0.6,
          0.9,
          -0.3,
          1.2,
          -0.4,
          -0.6,
          1.2,
          0.6,
          0.2,
          -0.4,
          0.3,
          0.3,
          -0.6,
          0.2,
          -0.6,
          1.2,
          -0.3,
          1.7,
          -0.5,
          -0.8,
          0.7,
          -0.6,
          -1.4,
          0.7,
          0.3,
          -0.1,
          -0.3,
          -0.7,
          -0.9,
          0.3,
          0.1,
          -0.3,
          -0.5,
          -0.3,
          -0.3,
          -0.7,
          -0.3,
          -0.5,
          -0.9,
          -0.7,
          0,
          2,
          -0.5,
          -0.2,
          -1.4,
          0.1,
          0,
          -0.3,
          0,
          -0.1,
          -0.2,
          -0.4,
          0.5,
          -0.4,
          -0.7,
          -1.4,
          -0.3,
          1.7,
          -1,
          1.2,
          -1.4,
          -0.3,
          -0.6,
          -1,
          1.1,
          1,
          -1.4,
          0.9,
          -0.3,
          0.9,
          -0.2,
          0.2,
          -1.3,
          0.9,
          -0.4,
          -1.3,
          -0.5,
          1.3,
          0.7,
          1,
          -0.5,
          1,
          1,
          0.7,
          -0.2,
          -0.3,
          -0.3,
          0.9,
          -0.3,
          0,
          -0.6,
          0.7,
          1.3,
          -0.3,
          -0.4,
          0.8,
          0.6,
          -0.3,
          1.1,
          -0.2,
          2,
          -0.6,
          -0.9,
          0.1,
          1.2,
          -1,
          -0.2,
          -1,
          2.3,
          0,
          0.3,
          -0.1,
          -0.4,
          -0.1,
          -0.2,
          -0.6,
          1,
          -0.1,
          1.2,
          -0.7,
          -1.4,
          1.2,
          -0.2,
          -1.5,
          0.3,
          -0.4,
          -1.4,
          -0.3,
          -1.4,
          0.9,
          0.5,
          1.3,
          0,
          0.7,
          1.3,
          -0.4,
          -0.7,
          0.3,
          0.3,
          -0.1,
          0.9,
          1.2,
          -0.2,
          -1.3,
          2.3,
          0.6,
          -0.5,
          -0.1,
          1.3,
          0.9,
          -0.9,
          -0.4,
          0.5,
          0.4,
          -1.2,
          -0.7,
          -0.1,
          -0.6,
          -0.7,
          0.1,
          -0.1,
          0.1,
          1.1,
          -0.2,
          1.6,
          2,
          0.1,
          1.2,
          0.3,
          0,
          0.6,
          -0.1,
          -0.3,
          -1.4,
          -0.4,
          -1.4,
          -0.3,
          -1,
          -1.5,
          0.5,
          1,
          -0.3,
          -0.3,
          -0.2,
          -0.4,
          -0.7,
          -1.4,
          1.2,
          -0.7,
          -1.5,
          -0.2,
          -0.1,
          0.2,
          -1.1,
          -0.9,
          2,
          0.3,
          -0.2,
          -0.9,
          -0.2,
          -1.1,
          -1.1,
          0.3,
          -0.7,
          -1.1,
          -0.7,
          -0.1,
          -0.1,
          0.3,
          -0.5,
          1.1,
          0.4,
          -0.1,
          -1.1,
          2.3,
          0.8,
          -1.4,
          -0.3,
          -0.4,
          0.5,
          0.7,
          1.3,
          -0.9,
          -0.6,
          -0.4,
          -1.3,
          -0.5,
          0.5,
          -1.4,
          0.3,
          0.5,
          -0.3,
          -0.4,
          0.4,
          -0.3,
          0.3,
          -0.6,
          1.2,
          null,
          -0.1,
          -0.1,
          -0.1,
          -0.3,
          -0.2,
          0.3,
          0.1,
          -0.4,
          -0.5,
          -0.3,
          -0.3,
          -0.3,
          -0.4,
          -0.3,
          -0.3,
          -0.4,
          -0.3,
          -0.6,
          0.4,
          -0.2,
          -0.3,
          -0.7,
          -0.4,
          -0.3,
          -0.8,
          -0.2,
          -0.9,
          -0.8,
          0.9,
          0.1,
          -0.7,
          -0.4,
          -0.3,
          -1.3,
          -0.1,
          -0.6,
          -1.3,
          -0.4,
          -0.4,
          -0.4,
          -0.4,
          0.3,
          0.3,
          0.6,
          1.6,
          -0.3,
          -0.3,
          0.3,
          -0.3,
          -0.4,
          0.1,
          -1.3,
          -0.3,
          -0.6,
          -0.1,
          -0.3,
          2.3,
          -0.3,
          -0.6,
          -0.7,
          -0.7,
          -1.3,
          -1.4,
          -1.1,
          -0.3,
          -0.2,
          0.5,
          -0.4,
          0.3,
          -0.1,
          0.3,
          0.1,
          -0.5,
          -0.3,
          -0.7,
          0.3,
          -0.4,
          -0.4,
          -0.2,
          -0.1,
          -0.4,
          -0.7,
          -1,
          0.1,
          -1.3,
          -0.2,
          2.3,
          -0.4,
          0.3,
          1.6,
          -0.2,
          -0.2,
          -0.3,
          0.5,
          -0.4,
          -0.1,
          null,
          0.6,
          2.3,
          0.7,
          2.3,
          1,
          -0.7,
          -0.4,
          0.7,
          0,
          0.7,
          -0.3,
          -0.3,
          null,
          null
         ],
         "xaxis": "x",
         "yaxis": "y"
        },
        {
         "alignmentgroup": "True",
         "hovertemplate": "RES.PRICE <= 11.5=False<br>value=%{x}<extra></extra>",
         "legendgroup": "False",
         "marker": {
          "color": "#636efa"
         },
         "name": "False",
         "notched": true,
         "offsetgroup": "False",
         "showlegend": false,
         "type": "box",
         "x": [
          -0.3,
          -0.1,
          -0.1,
          1.2,
          0.6,
          -0.2,
          -0.2,
          -0.3,
          0,
          -0.3,
          0,
          -0.5,
          -0.3,
          -0.5,
          -0.2,
          -0.5,
          2.2,
          -1.2,
          -1.5,
          -0.5,
          -0.4,
          0,
          -0.3,
          -0.5,
          -0.3,
          -0.5,
          -0.4,
          -0.3,
          2,
          -0.4,
          -0.4,
          -0.2,
          -0.4,
          2.2,
          0.9,
          0.4,
          -0.3,
          -1,
          -1.3,
          -0.3,
          0.3,
          1.4,
          -0.3,
          0.1,
          1,
          -0.3,
          -1.5,
          1.7,
          -0.5,
          0.5,
          -1.2,
          -0.4,
          -0.3,
          -0.4,
          -0.2,
          -1.4,
          -0.4,
          -0.4,
          -0.4,
          0,
          -0.2,
          -0.9,
          -0.3,
          -0.3,
          -0.9,
          -0.2,
          -0.3,
          1.4,
          -0.4,
          0.4,
          0.5,
          -0.9,
          2.3,
          -0.4,
          -0.3,
          -0.3,
          -1.4,
          -0.2,
          -0.4,
          -0.8,
          -0.6,
          1.2,
          -0.3,
          0.7,
          0.8,
          0,
          -0.2,
          -0.4,
          -0.4,
          -0.9,
          1.4,
          -0.9,
          1,
          0.7,
          -0.3,
          -0.2,
          -0.2,
          0,
          0.1,
          -0.3,
          0.6,
          -0.9,
          -0.3,
          0.5,
          -0.6,
          -0.4,
          -0.3,
          0.9,
          0.5,
          0.7,
          0,
          0,
          0.4,
          -0.2,
          null,
          -0.2,
          1.2,
          -0.9,
          0.5,
          -0.3,
          -1.4,
          -0.4,
          0.5,
          -0.1,
          -0.5,
          0.7,
          0.5,
          0.5,
          -0.3,
          0.8,
          -0.3,
          -0.2,
          0.8,
          -0.3,
          0,
          1.2,
          -0.2,
          -0.4,
          -1.2,
          -0.2,
          0.4,
          1.4,
          -0.7,
          0.5,
          0,
          2.2,
          -0.1,
          -0.1,
          -0.4,
          0,
          null,
          1.2,
          0,
          -0.1,
          0.8,
          -0.4,
          -0.4,
          -1.5,
          -0.4,
          -0.3,
          0,
          -0.3,
          null,
          -0.7,
          -0.3,
          -0.5,
          -0.6,
          1.4,
          -0.5,
          -1.5,
          -0.3,
          -0.3,
          -0.5,
          -0.3,
          0.2,
          -0.3,
          -0.3,
          0.5,
          0.5,
          -0.3,
          -0.3,
          -0.3,
          -0.1,
          0,
          0.5,
          -0.1,
          -0.5,
          -0.4,
          0.3,
          -1,
          0.3,
          -0.5,
          -0.9,
          -0.4,
          -0.6,
          0.3,
          -0.3,
          -1,
          0.1,
          -0.4,
          -0.5,
          0.3,
          -0.9,
          0.3,
          -1.3,
          -0.2,
          -0.1,
          -0.4,
          -0.3,
          -0.4,
          0.3,
          -0.4,
          -0.5,
          0.3,
          -0.1,
          -0.2,
          0.3,
          -0.5,
          1.1,
          0.4,
          -0.7,
          0.3,
          0.3,
          -0.9,
          -0.6,
          -0.1,
          0.7,
          -0.4,
          -0.9,
          0.5,
          -0.4,
          -0.2,
          1.2,
          -0.9,
          -0.5,
          0.3,
          -1.4,
          0.1,
          -0.6,
          2.2,
          -1.4,
          -0.9,
          1,
          -0.5,
          -1,
          0.3,
          -0.3,
          -1,
          -0.3,
          -0.3,
          0.9,
          -0.6,
          -0.5,
          -0.3,
          -0.3,
          0.1,
          -0.6,
          -0.5,
          -0.5,
          -0.9,
          -0.4,
          -0.5,
          -0.5,
          -0.9,
          -0.6,
          0.1,
          -0.9,
          -0.9,
          0.3,
          2,
          -0.4,
          1.2,
          0.1,
          -0.6,
          2.2,
          -0.3,
          -0.1,
          -0.6,
          0.1,
          -0.3,
          -0.3,
          0.1,
          -0.3,
          -0.4,
          -0.8,
          -0.3,
          -0.9,
          -0.3,
          -0.6,
          -0.3,
          0.3,
          -0.3,
          -0.3,
          -0.3,
          null,
          0.1,
          1,
          0.5,
          -0.6,
          -0.5,
          -0.9,
          -0.7,
          -0.9,
          0.1,
          1,
          -0.5,
          -0.7,
          -0.8,
          -0.6,
          1,
          2.2,
          -0.8,
          -0.5,
          -1,
          -0.5,
          0.3,
          -0.9,
          -0.8,
          -0.4,
          -0.1,
          -0.5,
          0.3,
          0.9,
          -0.3,
          -0.6,
          1.2,
          0.3,
          -0.9,
          0.9,
          -0.5,
          -0.5,
          -0.5,
          -0.3,
          1.2,
          -0.6,
          -1.2,
          -1.3,
          -0.4,
          -0.5,
          -0.2,
          -0.1,
          -1.2,
          -0.3,
          0.6,
          0.6,
          -0.2,
          -0.9,
          -0.7,
          -0.2,
          0.1,
          -0.5,
          -0.8,
          -0.1,
          -1.3,
          -0.4,
          -0.2,
          -1,
          -0.2,
          0.3,
          -0.3,
          2,
          0.1,
          -0.4,
          -0.8,
          -0.8,
          -0.3,
          null,
          -0.4,
          -0.4,
          -0.2,
          0.1,
          -0.3,
          0.3,
          0.1,
          0.1,
          -0.2,
          -0.2,
          -0.2,
          -0.4,
          -0.3,
          2.2,
          1,
          -0.2,
          -0.3,
          -0.5,
          -1.3,
          -0.7,
          0,
          0.3,
          0.3,
          -0.6,
          -0.7,
          -0.1,
          -0.6,
          -0.9,
          -0.4,
          -0.3,
          -0.4,
          0.6,
          -0.4,
          0.6,
          0.3,
          0.1,
          -1.2,
          -0.7,
          -0.2,
          2.2,
          -0.2,
          -0.5,
          -0.3,
          0.9,
          -0.7,
          -0.4,
          -1.4,
          -1.3,
          -0.7,
          -0.5,
          -0.4,
          0.2,
          -1.3,
          -0.6,
          -0.3,
          -0.9,
          2,
          -0.3,
          -0.6,
          0.9,
          -0.3,
          1.2,
          -0.4,
          -0.6,
          1.2,
          0.6,
          0.2,
          -0.4,
          0.3,
          0.3,
          -0.6,
          0.2,
          -0.6,
          1.2,
          -0.3,
          1.7,
          -0.5,
          -0.8,
          0.7,
          -0.6,
          -1.4,
          0.7,
          0.3,
          -0.1,
          -0.3,
          -0.7,
          -0.9,
          0.3,
          0.1,
          -0.3,
          -0.5,
          -0.3,
          -0.3,
          -0.7,
          -0.3,
          -0.5,
          -0.9,
          -0.7,
          0,
          2,
          -0.5,
          -0.2,
          -1.4,
          0.1,
          0,
          -0.3,
          0,
          -0.1,
          -0.2,
          -0.4,
          0.5,
          -0.4,
          -0.7,
          -1.4,
          -0.3,
          1.7,
          -1,
          1.2,
          -1.4,
          -0.3,
          -0.6,
          -1,
          1.1,
          1,
          -1.4,
          0.9,
          -0.3,
          0.9,
          -0.2,
          0.2,
          -1.3,
          0.9,
          -0.4,
          -1.3,
          -0.5,
          1.3,
          0.7,
          1,
          -0.5,
          1,
          1,
          0.7,
          -0.2,
          -0.3,
          -0.3,
          0.9,
          -0.3,
          0,
          -0.6,
          0.7,
          1.3,
          -0.3,
          -0.4,
          0.8,
          0.6,
          -0.3,
          1.1,
          -0.2,
          2,
          -0.6,
          -0.9,
          0.1,
          1.2,
          -1,
          -0.2,
          -1,
          2.3,
          0,
          0.3,
          -0.1,
          -0.4,
          -0.1,
          -0.2,
          -0.6,
          1,
          -0.1,
          1.2,
          -0.7,
          -1.4,
          1.2,
          -0.2,
          -1.5,
          0.3,
          -0.4,
          -1.4,
          -0.3,
          -1.4,
          0.9,
          0.5,
          1.3,
          0,
          0.7,
          1.3,
          -0.4,
          -0.7,
          0.3,
          0.3,
          -0.1,
          0.9,
          1.2,
          -0.2,
          -1.3,
          2.3,
          0.6,
          -0.5,
          -0.1,
          1.3,
          0.9,
          -0.9,
          -0.4,
          0.5,
          0.4,
          -1.2,
          -0.7,
          -0.1,
          -0.6,
          -0.7,
          0.1,
          -0.1,
          0.1,
          1.1,
          -0.2,
          1.6,
          2,
          0.1,
          1.2,
          0.3,
          0,
          0.6,
          -0.1,
          -0.3,
          -1.4,
          -0.4,
          -1.4,
          -0.3,
          -1,
          -1.5,
          0.5,
          1,
          -0.3,
          -0.3,
          -0.2,
          -0.4,
          -0.7,
          -1.4,
          1.2,
          -0.7,
          -1.5,
          -0.2,
          -0.1,
          0.2,
          -1.1,
          -0.9,
          2,
          0.3,
          -0.2,
          -0.9,
          -0.2,
          -1.1,
          -1.1,
          0.3,
          -0.7,
          -1.1,
          -0.7,
          -0.1,
          -0.1,
          0.3,
          -0.5,
          1.1,
          0.4,
          -0.1,
          -1.1,
          2.3,
          0.8,
          -1.4,
          -0.3,
          -0.4,
          0.5,
          0.7,
          1.3,
          -0.9,
          -0.6,
          -0.4,
          -1.3,
          -0.5,
          0.5,
          -1.4,
          0.3,
          0.5,
          -0.3,
          -0.4,
          0.4,
          -0.3,
          0.3,
          -0.6,
          1.2,
          null,
          -0.1,
          -0.1,
          -0.1,
          -0.3,
          -0.2,
          0.3,
          0.1,
          -0.4,
          -0.5,
          -0.3,
          -0.3,
          -0.3,
          -0.4,
          -0.3,
          -0.3,
          -0.4,
          -0.3,
          -0.6,
          0.4,
          -0.2,
          -0.3,
          -0.7,
          -0.4,
          -0.3,
          -0.8,
          -0.2,
          -0.9,
          -0.8,
          0.9,
          0.1,
          -0.7,
          -0.4,
          -0.3,
          -1.3,
          -0.1,
          -0.6,
          -1.3,
          -0.4,
          -0.4,
          -0.4,
          -0.4,
          0.3,
          0.3,
          0.6,
          1.6,
          -0.3,
          -0.3,
          0.3,
          -0.3,
          -0.4,
          0.1,
          -1.3,
          -0.3,
          -0.6,
          -0.1,
          -0.3,
          2.3,
          -0.3,
          -0.6,
          -0.7,
          -0.7,
          -1.3,
          -1.4,
          -1.1,
          -0.3,
          -0.2,
          0.5,
          -0.4,
          0.3,
          -0.1,
          0.3,
          0.1,
          -0.5,
          -0.3,
          -0.7,
          0.3,
          -0.4,
          -0.4,
          -0.2,
          -0.1,
          -0.4,
          -0.7,
          -1,
          0.1,
          -1.3,
          -0.2,
          2.3,
          -0.4,
          0.3,
          1.6,
          -0.2,
          -0.2,
          -0.3,
          0.5,
          -0.4,
          -0.1,
          null,
          0.6,
          2.3,
          0.7,
          2.3,
          1,
          -0.7,
          -0.4,
          0.7,
          0,
          0.7,
          -0.3,
          -0.3,
          null,
          null
         ],
         "xaxis": "x2",
         "yaxis": "y2"
        },
        {
         "alignmentgroup": "True",
         "bingroup": "x",
         "histnorm": "probability",
         "hovertemplate": "RES.PRICE <= 11.5=True<br>value=%{x}<br>probability=%{y}<extra></extra>",
         "legendgroup": "True",
         "marker": {
          "color": "#EF553B",
          "opacity": 0.7,
          "pattern": {
           "shape": ""
          }
         },
         "name": "True",
         "offsetgroup": "True",
         "orientation": "v",
         "showlegend": true,
         "type": "histogram",
         "x": [
          -1.5,
          -1.4,
          -0.9,
          0.2,
          0,
          -0.4,
          1,
          0.3,
          1,
          -0.5,
          -1.3,
          0.6,
          0.1,
          1.2,
          -0.2,
          -0.5,
          0.5,
          -0.3,
          -0.5,
          0,
          -0.1,
          0,
          -0.5,
          0.8,
          0.5,
          0,
          -0.5,
          -0.5,
          0.6,
          -0.4,
          -0.5,
          0.4,
          -0.4,
          -0.5,
          -0.5,
          0,
          -0.5,
          1.1,
          -0.7,
          -0.5,
          0.1,
          0,
          0,
          0.6,
          0,
          0.3,
          -0.1,
          0,
          0.3,
          -0.4,
          0.2,
          0,
          -0.1,
          -1.3,
          -0.4,
          0.2,
          0.2,
          -0.5,
          0.1,
          -0.1,
          0.2,
          -0.7,
          -0.7,
          0.2,
          -1.4,
          0.7,
          1.3,
          -0.6,
          -0.2,
          -0.4,
          -0.5,
          0.2,
          -0.9,
          -0.7,
          -0.5,
          0.2,
          -0.5,
          0.2,
          -0.2,
          0.3,
          0.2,
          0.7,
          -0.6,
          -0.5,
          0.1,
          0.1,
          0.7,
          -1,
          -1,
          0.3,
          -0.5,
          -0.5,
          0.6,
          -0.3,
          0.1,
          -0.7,
          -0.4,
          -0.6,
          -0.6,
          0.6,
          -0.7,
          0.6,
          0,
          -0.5,
          2,
          -1,
          -0.2,
          -0.5,
          2,
          -0.2,
          -0.7,
          1.1,
          -0.3,
          0.1,
          0.2,
          0.1,
          1.1,
          -0.7,
          -0.3,
          -0.3,
          -0.7,
          1.2,
          -1.1,
          -1,
          -0.1,
          -0.3,
          0.1,
          -0.5,
          -0.3,
          -0.1,
          -1.3,
          -0.4,
          -0.5,
          -0.6,
          0.2,
          -0.4,
          -0.6,
          0.3,
          -0.3,
          -0.1,
          -0.3,
          -0.5,
          0.3,
          2.3,
          1.1,
          -0.8,
          0.2,
          -0.7,
          0.3,
          -0.4,
          -0.9,
          -0.7,
          0.5,
          -0.3,
          -0.7,
          -0.5,
          -0.7,
          -0.7,
          -0.5,
          -0.3,
          -0.3,
          -0.3,
          -0.9,
          -0.3,
          0.3,
          0.1,
          -1,
          0.7,
          0.3,
          -0.4,
          -0.2,
          -0.2,
          -0.4,
          -0.7,
          -0.5,
          -0.9,
          0.1,
          0.3,
          -0.3,
          -0.4,
          -0.3,
          -0.3,
          -0.4,
          -0.7,
          -0.7,
          -0.5,
          -0.4,
          -0.4,
          -0.7,
          -0.8,
          -0.5,
          -0.2,
          -0.4,
          -0.7,
          -0.6,
          -0.1,
          0.1,
          -0.3,
          0.7,
          0.2,
          0.4,
          0.6,
          0.1,
          0.1,
          -0.2,
          0.1,
          -0.3,
          -0.3,
          0.5,
          -0.4,
          -1.3,
          -0.4,
          0.3,
          -0.5,
          -0.5,
          0.3,
          0.1,
          0.1,
          -1,
          -0.5,
          -0.9,
          -0.5,
          -1.4,
          -0.5,
          1.4,
          -0.6,
          -0.4,
          -0.4,
          0.8,
          -0.2,
          -0.3,
          0.3,
          0.3,
          0.9,
          -0.8,
          -0.9,
          -0.7,
          -0.4,
          1.2,
          2.3,
          0.7,
          -0.4,
          -0.8,
          -1,
          -0.9,
          -0.3,
          -0.6,
          0.6,
          -0.5,
          -0.8,
          1.6,
          1.6,
          -0.3,
          -0.6,
          1.6,
          -0.3,
          1.4,
          -0.5,
          -0.1,
          -0.4,
          1.1,
          -0.3,
          -0.2,
          -1.1,
          -1,
          -0.4,
          -0.7,
          2.2,
          -0.3,
          -0.3,
          -1.4,
          -0.5,
          -1,
          -0.3,
          0.3,
          -0.8,
          -0.3,
          -0.3,
          -0.8,
          -0.9,
          1.6,
          2.2,
          1.2,
          0.1,
          0.9,
          -0.4,
          0,
          -0.6,
          0.3,
          -0.3,
          -0.3,
          0.6,
          -0.9,
          -0.7,
          -0.9,
          1,
          -0.8,
          -0.3,
          -0.4,
          0.9,
          -0.6,
          0.9,
          -0.3,
          0.9,
          -0.3,
          -0.7,
          -0.4,
          0.9,
          -0.3,
          0.1,
          -0.6,
          -0.7,
          1.4,
          -0.7,
          -0.2,
          -0.3,
          0.1,
          0.5,
          1.3,
          -0.5,
          -0.5,
          -0.7,
          0.2,
          2,
          -0.5,
          -0.3,
          -0.5,
          -0.3,
          -0.7,
          0.5,
          -1,
          -0.4,
          0.3,
          0.1,
          0.3,
          -0.6,
          0.7,
          -0.6,
          0,
          0.3,
          0,
          0.2,
          0,
          0.3,
          0.2,
          -0.1,
          0.2,
          0.4,
          0,
          0.1,
          0.5,
          0,
          0.2,
          -0.7,
          0.7,
          0.1,
          0,
          -0.6,
          0.1,
          -1.1,
          1.1,
          1.1,
          -0.3,
          -0.5,
          -0.6,
          -0.6,
          0.2,
          1,
          -0.3,
          -1.3,
          -0.7,
          -0.7,
          -1.3,
          -0.3,
          -0.7,
          -0.9,
          2,
          -0.1,
          -0.3,
          -0.3,
          -0.3,
          -0.5,
          0.7,
          2.2,
          0.7,
          0.6,
          2,
          -0.3,
          -0.5,
          -0.3,
          -0.5,
          -0.4,
          -0.4,
          -0.3,
          -1.3,
          -0.9,
          -0.5,
          -1,
          0.5,
          1.1,
          -0.4,
          -0.6,
          -0.8,
          -0.4,
          -0.7,
          -0.5,
          -0.9,
          0.5,
          -0.1,
          -0.3,
          2,
          -0.3,
          -0.4,
          0.8,
          -0.3,
          0.2,
          -0.7,
          0.2,
          0.3,
          -0.7,
          -0.3,
          -1.4,
          0.1,
          -0.6,
          0.7,
          0.2,
          -0.9,
          0.5,
          -0.5,
          0.9,
          0.5,
          -0.4,
          -0.4,
          -0.3,
          0.9,
          -0.6,
          -0.3,
          1.3,
          -0.5,
          -0.5,
          -0.7,
          0,
          0,
          -0.5,
          -0.4,
          -0.5,
          -0.3,
          0.1,
          -0.5,
          -0.2,
          0.5,
          0.1,
          -1.3,
          -0.5,
          -0.5,
          -0.6,
          -0.1,
          0.7,
          -0.4,
          0.5,
          0.5,
          -0.2,
          -0.2,
          0.5,
          0.2,
          0.7,
          -0.6,
          -0.4,
          -0.2,
          1.3,
          -0.5,
          -0.6,
          -0.3,
          0.2,
          -0.4,
          -0.4,
          -0.6,
          0.6,
          -0.3,
          -1.6,
          0.3,
          -1.6,
          -0.7,
          -0.9,
          0.6,
          -0.2,
          -0.3,
          2,
          0.6,
          -0.7,
          -0.5,
          2,
          0.9,
          -0.6,
          -0.5,
          -0.5,
          -0.2,
          0.9,
          -0.4,
          -0.3,
          -0.6,
          0.6,
          0.9,
          -0.2,
          2,
          -0.5,
          1.7,
          0.2,
          2.3,
          0.2,
          -0.7,
          -0.7,
          -0.5,
          2.3,
          -0.6,
          -0.7,
          -0.4,
          -0.4,
          -0.5,
          -0.4,
          -0.2,
          -0.4,
          0.4,
          -0.4,
          -0.4,
          -0.4,
          -0.4,
          0.4,
          -0.5,
          -0.4,
          -0.2,
          -0.4,
          0.5,
          0.3,
          -1.2,
          -1.2,
          -0.1,
          0.7,
          -1.2,
          0.6,
          -1.2,
          0,
          -0.4,
          -0.7,
          0.5,
          0.6,
          -0.1,
          -0.1,
          -0.5,
          0.4,
          -0.4,
          -0.3,
          -0.4,
          0.5,
          -0.3,
          -0.3,
          0,
          -0.4,
          0.3,
          0.3,
          -0.7,
          -0.4,
          0.5,
          -0.2,
          -0.2,
          1.1,
          1.3,
          0,
          0.3,
          -0.5,
          0.5,
          -0.3,
          0.3,
          -0.1,
          0,
          -1.3,
          1.1,
          0.8,
          -0.7,
          -0.2,
          -1.3,
          0.2,
          0.2,
          0.6,
          0.1,
          0.5,
          1.3,
          -0.1,
          0.2,
          -1.3,
          0.7,
          0,
          -0.2,
          0.7,
          0.6,
          -0.2,
          -1.3,
          -1.3,
          0.7,
          -0.3,
          0.7,
          0.7,
          0.7,
          -0.2,
          0.7,
          0.6,
          -0.1,
          0.6,
          0.7,
          -0.7,
          -1.3,
          0.3,
          0.7,
          -0.4,
          -0.7,
          0.7,
          0.3,
          -0.4,
          -0.7,
          -0.4,
          -0.4,
          -0.7,
          -0.2,
          -0.7,
          -1,
          -0.7,
          -0.4,
          -0.3,
          0.3,
          -0.3,
          -0.5,
          -0.2,
          -0.5,
          1.2,
          -0.1,
          -0.4,
          -0.6,
          -0.3,
          -0.5,
          1.1,
          -0.3,
          0.1,
          -0.1,
          -0.2,
          -0.2,
          -0.3,
          0.1,
          2.2,
          -0.5,
          -0.3,
          -0.6,
          -0.3,
          -0.2,
          0.5,
          0.3,
          -0.9,
          -0.4,
          -1.3,
          0.3,
          -0.3,
          -0.4,
          -0.4,
          -0.9,
          -0.9,
          -0.1,
          -0.4,
          0.3,
          -1.2,
          -0.4,
          -0.5,
          -1.3,
          -0.3,
          1.1,
          0.1,
          0.1,
          -0.6,
          0.1,
          -1.4,
          -1,
          -0.6,
          -0.2,
          -1.2,
          -0.5,
          0.3,
          0.9,
          0.9,
          -1,
          -0.4,
          -0.3,
          -0.2,
          -1.4,
          -0.4,
          -1.1,
          -0.4,
          -0.4,
          -0.4,
          -0.3,
          0.3,
          0.7,
          0.3,
          0.7,
          -0.4,
          -0.7,
          0.5,
          0.9,
          -0.7,
          0.6,
          -0.5,
          0.4,
          -0.5,
          0.7,
          -0.4,
          1.2,
          2.3,
          -0.7,
          -0.2,
          -0.3,
          -0.6,
          1.3,
          -0.6,
          1.2,
          -1.3,
          2.3,
          0.3,
          2.2,
          -0.6,
          -0.2,
          -0.6,
          -0.2,
          -0.3,
          -0.3,
          0.3,
          2.2,
          2.3,
          -0.7,
          -0.4,
          -0.7,
          0.2,
          -0.9,
          0.5,
          1.6,
          0.3,
          -0.6,
          0.3,
          0.7,
          -0.5,
          -1.3,
          -0.3,
          0.7,
          -0.9,
          0.3,
          -1.3,
          -0.1,
          -0.3,
          1.6,
          1.6,
          -0.9,
          0.5,
          0.5
         ],
         "xaxis": "x",
         "yaxis": "y"
        },
        {
         "alignmentgroup": "True",
         "hovertemplate": "RES.PRICE <= 11.5=True<br>value=%{x}<extra></extra>",
         "legendgroup": "True",
         "marker": {
          "color": "#EF553B"
         },
         "name": "True",
         "notched": true,
         "offsetgroup": "True",
         "showlegend": false,
         "type": "box",
         "x": [
          -1.5,
          -1.4,
          -0.9,
          0.2,
          0,
          -0.4,
          1,
          0.3,
          1,
          -0.5,
          -1.3,
          0.6,
          0.1,
          1.2,
          -0.2,
          -0.5,
          0.5,
          -0.3,
          -0.5,
          0,
          -0.1,
          0,
          -0.5,
          0.8,
          0.5,
          0,
          -0.5,
          -0.5,
          0.6,
          -0.4,
          -0.5,
          0.4,
          -0.4,
          -0.5,
          -0.5,
          0,
          -0.5,
          1.1,
          -0.7,
          -0.5,
          0.1,
          0,
          0,
          0.6,
          0,
          0.3,
          -0.1,
          0,
          0.3,
          -0.4,
          0.2,
          0,
          -0.1,
          -1.3,
          -0.4,
          0.2,
          0.2,
          -0.5,
          0.1,
          -0.1,
          0.2,
          -0.7,
          -0.7,
          0.2,
          -1.4,
          0.7,
          1.3,
          -0.6,
          -0.2,
          -0.4,
          -0.5,
          0.2,
          -0.9,
          -0.7,
          -0.5,
          0.2,
          -0.5,
          0.2,
          -0.2,
          0.3,
          0.2,
          0.7,
          -0.6,
          -0.5,
          0.1,
          0.1,
          0.7,
          -1,
          -1,
          0.3,
          -0.5,
          -0.5,
          0.6,
          -0.3,
          0.1,
          -0.7,
          -0.4,
          -0.6,
          -0.6,
          0.6,
          -0.7,
          0.6,
          0,
          -0.5,
          2,
          -1,
          -0.2,
          -0.5,
          2,
          -0.2,
          -0.7,
          1.1,
          -0.3,
          0.1,
          0.2,
          0.1,
          1.1,
          -0.7,
          -0.3,
          -0.3,
          -0.7,
          1.2,
          -1.1,
          -1,
          -0.1,
          -0.3,
          0.1,
          -0.5,
          -0.3,
          -0.1,
          -1.3,
          -0.4,
          -0.5,
          -0.6,
          0.2,
          -0.4,
          -0.6,
          0.3,
          -0.3,
          -0.1,
          -0.3,
          -0.5,
          0.3,
          2.3,
          1.1,
          -0.8,
          0.2,
          -0.7,
          0.3,
          -0.4,
          -0.9,
          -0.7,
          0.5,
          -0.3,
          -0.7,
          -0.5,
          -0.7,
          -0.7,
          -0.5,
          -0.3,
          -0.3,
          -0.3,
          -0.9,
          -0.3,
          0.3,
          0.1,
          -1,
          0.7,
          0.3,
          -0.4,
          -0.2,
          -0.2,
          -0.4,
          -0.7,
          -0.5,
          -0.9,
          0.1,
          0.3,
          -0.3,
          -0.4,
          -0.3,
          -0.3,
          -0.4,
          -0.7,
          -0.7,
          -0.5,
          -0.4,
          -0.4,
          -0.7,
          -0.8,
          -0.5,
          -0.2,
          -0.4,
          -0.7,
          -0.6,
          -0.1,
          0.1,
          -0.3,
          0.7,
          0.2,
          0.4,
          0.6,
          0.1,
          0.1,
          -0.2,
          0.1,
          -0.3,
          -0.3,
          0.5,
          -0.4,
          -1.3,
          -0.4,
          0.3,
          -0.5,
          -0.5,
          0.3,
          0.1,
          0.1,
          -1,
          -0.5,
          -0.9,
          -0.5,
          -1.4,
          -0.5,
          1.4,
          -0.6,
          -0.4,
          -0.4,
          0.8,
          -0.2,
          -0.3,
          0.3,
          0.3,
          0.9,
          -0.8,
          -0.9,
          -0.7,
          -0.4,
          1.2,
          2.3,
          0.7,
          -0.4,
          -0.8,
          -1,
          -0.9,
          -0.3,
          -0.6,
          0.6,
          -0.5,
          -0.8,
          1.6,
          1.6,
          -0.3,
          -0.6,
          1.6,
          -0.3,
          1.4,
          -0.5,
          -0.1,
          -0.4,
          1.1,
          -0.3,
          -0.2,
          -1.1,
          -1,
          -0.4,
          -0.7,
          2.2,
          -0.3,
          -0.3,
          -1.4,
          -0.5,
          -1,
          -0.3,
          0.3,
          -0.8,
          -0.3,
          -0.3,
          -0.8,
          -0.9,
          1.6,
          2.2,
          1.2,
          0.1,
          0.9,
          -0.4,
          0,
          -0.6,
          0.3,
          -0.3,
          -0.3,
          0.6,
          -0.9,
          -0.7,
          -0.9,
          1,
          -0.8,
          -0.3,
          -0.4,
          0.9,
          -0.6,
          0.9,
          -0.3,
          0.9,
          -0.3,
          -0.7,
          -0.4,
          0.9,
          -0.3,
          0.1,
          -0.6,
          -0.7,
          1.4,
          -0.7,
          -0.2,
          -0.3,
          0.1,
          0.5,
          1.3,
          -0.5,
          -0.5,
          -0.7,
          0.2,
          2,
          -0.5,
          -0.3,
          -0.5,
          -0.3,
          -0.7,
          0.5,
          -1,
          -0.4,
          0.3,
          0.1,
          0.3,
          -0.6,
          0.7,
          -0.6,
          0,
          0.3,
          0,
          0.2,
          0,
          0.3,
          0.2,
          -0.1,
          0.2,
          0.4,
          0,
          0.1,
          0.5,
          0,
          0.2,
          -0.7,
          0.7,
          0.1,
          0,
          -0.6,
          0.1,
          -1.1,
          1.1,
          1.1,
          -0.3,
          -0.5,
          -0.6,
          -0.6,
          0.2,
          1,
          -0.3,
          -1.3,
          -0.7,
          -0.7,
          -1.3,
          -0.3,
          -0.7,
          -0.9,
          2,
          -0.1,
          -0.3,
          -0.3,
          -0.3,
          -0.5,
          0.7,
          2.2,
          0.7,
          0.6,
          2,
          -0.3,
          -0.5,
          -0.3,
          -0.5,
          -0.4,
          -0.4,
          -0.3,
          -1.3,
          -0.9,
          -0.5,
          -1,
          0.5,
          1.1,
          -0.4,
          -0.6,
          -0.8,
          -0.4,
          -0.7,
          -0.5,
          -0.9,
          0.5,
          -0.1,
          -0.3,
          2,
          -0.3,
          -0.4,
          0.8,
          -0.3,
          0.2,
          -0.7,
          0.2,
          0.3,
          -0.7,
          -0.3,
          -1.4,
          0.1,
          -0.6,
          0.7,
          0.2,
          -0.9,
          0.5,
          -0.5,
          0.9,
          0.5,
          -0.4,
          -0.4,
          -0.3,
          0.9,
          -0.6,
          -0.3,
          1.3,
          -0.5,
          -0.5,
          -0.7,
          0,
          0,
          -0.5,
          -0.4,
          -0.5,
          -0.3,
          0.1,
          -0.5,
          -0.2,
          0.5,
          0.1,
          -1.3,
          -0.5,
          -0.5,
          -0.6,
          -0.1,
          0.7,
          -0.4,
          0.5,
          0.5,
          -0.2,
          -0.2,
          0.5,
          0.2,
          0.7,
          -0.6,
          -0.4,
          -0.2,
          1.3,
          -0.5,
          -0.6,
          -0.3,
          0.2,
          -0.4,
          -0.4,
          -0.6,
          0.6,
          -0.3,
          -1.6,
          0.3,
          -1.6,
          -0.7,
          -0.9,
          0.6,
          -0.2,
          -0.3,
          2,
          0.6,
          -0.7,
          -0.5,
          2,
          0.9,
          -0.6,
          -0.5,
          -0.5,
          -0.2,
          0.9,
          -0.4,
          -0.3,
          -0.6,
          0.6,
          0.9,
          -0.2,
          2,
          -0.5,
          1.7,
          0.2,
          2.3,
          0.2,
          -0.7,
          -0.7,
          -0.5,
          2.3,
          -0.6,
          -0.7,
          -0.4,
          -0.4,
          -0.5,
          -0.4,
          -0.2,
          -0.4,
          0.4,
          -0.4,
          -0.4,
          -0.4,
          -0.4,
          0.4,
          -0.5,
          -0.4,
          -0.2,
          -0.4,
          0.5,
          0.3,
          -1.2,
          -1.2,
          -0.1,
          0.7,
          -1.2,
          0.6,
          -1.2,
          0,
          -0.4,
          -0.7,
          0.5,
          0.6,
          -0.1,
          -0.1,
          -0.5,
          0.4,
          -0.4,
          -0.3,
          -0.4,
          0.5,
          -0.3,
          -0.3,
          0,
          -0.4,
          0.3,
          0.3,
          -0.7,
          -0.4,
          0.5,
          -0.2,
          -0.2,
          1.1,
          1.3,
          0,
          0.3,
          -0.5,
          0.5,
          -0.3,
          0.3,
          -0.1,
          0,
          -1.3,
          1.1,
          0.8,
          -0.7,
          -0.2,
          -1.3,
          0.2,
          0.2,
          0.6,
          0.1,
          0.5,
          1.3,
          -0.1,
          0.2,
          -1.3,
          0.7,
          0,
          -0.2,
          0.7,
          0.6,
          -0.2,
          -1.3,
          -1.3,
          0.7,
          -0.3,
          0.7,
          0.7,
          0.7,
          -0.2,
          0.7,
          0.6,
          -0.1,
          0.6,
          0.7,
          -0.7,
          -1.3,
          0.3,
          0.7,
          -0.4,
          -0.7,
          0.7,
          0.3,
          -0.4,
          -0.7,
          -0.4,
          -0.4,
          -0.7,
          -0.2,
          -0.7,
          -1,
          -0.7,
          -0.4,
          -0.3,
          0.3,
          -0.3,
          -0.5,
          -0.2,
          -0.5,
          1.2,
          -0.1,
          -0.4,
          -0.6,
          -0.3,
          -0.5,
          1.1,
          -0.3,
          0.1,
          -0.1,
          -0.2,
          -0.2,
          -0.3,
          0.1,
          2.2,
          -0.5,
          -0.3,
          -0.6,
          -0.3,
          -0.2,
          0.5,
          0.3,
          -0.9,
          -0.4,
          -1.3,
          0.3,
          -0.3,
          -0.4,
          -0.4,
          -0.9,
          -0.9,
          -0.1,
          -0.4,
          0.3,
          -1.2,
          -0.4,
          -0.5,
          -1.3,
          -0.3,
          1.1,
          0.1,
          0.1,
          -0.6,
          0.1,
          -1.4,
          -1,
          -0.6,
          -0.2,
          -1.2,
          -0.5,
          0.3,
          0.9,
          0.9,
          -1,
          -0.4,
          -0.3,
          -0.2,
          -1.4,
          -0.4,
          -1.1,
          -0.4,
          -0.4,
          -0.4,
          -0.3,
          0.3,
          0.7,
          0.3,
          0.7,
          -0.4,
          -0.7,
          0.5,
          0.9,
          -0.7,
          0.6,
          -0.5,
          0.4,
          -0.5,
          0.7,
          -0.4,
          1.2,
          2.3,
          -0.7,
          -0.2,
          -0.3,
          -0.6,
          1.3,
          -0.6,
          1.2,
          -1.3,
          2.3,
          0.3,
          2.2,
          -0.6,
          -0.2,
          -0.6,
          -0.2,
          -0.3,
          -0.3,
          0.3,
          2.2,
          2.3,
          -0.7,
          -0.4,
          -0.7,
          0.2,
          -0.9,
          0.5,
          1.6,
          0.3,
          -0.6,
          0.3,
          0.7,
          -0.5,
          -1.3,
          -0.3,
          0.7,
          -0.9,
          0.3,
          -1.3,
          -0.1,
          -0.3,
          1.6,
          1.6,
          -0.9,
          0.5,
          0.5
         ],
         "xaxis": "x2",
         "yaxis": "y2"
        }
       ],
       "layout": {
        "barmode": "overlay",
        "legend": {
         "title": {
          "text": "RES.PRICE <= 11.5"
         },
         "tracegroupgap": 0
        },
        "template": {
         "data": {
          "bar": [
           {
            "error_x": {
             "color": "#2a3f5f"
            },
            "error_y": {
             "color": "#2a3f5f"
            },
            "marker": {
             "line": {
              "color": "#E5ECF6",
              "width": 0.5
             },
             "pattern": {
              "fillmode": "overlay",
              "size": 10,
              "solidity": 0.2
             }
            },
            "type": "bar"
           }
          ],
          "barpolar": [
           {
            "marker": {
             "line": {
              "color": "#E5ECF6",
              "width": 0.5
             },
             "pattern": {
              "fillmode": "overlay",
              "size": 10,
              "solidity": 0.2
             }
            },
            "type": "barpolar"
           }
          ],
          "carpet": [
           {
            "aaxis": {
             "endlinecolor": "#2a3f5f",
             "gridcolor": "white",
             "linecolor": "white",
             "minorgridcolor": "white",
             "startlinecolor": "#2a3f5f"
            },
            "baxis": {
             "endlinecolor": "#2a3f5f",
             "gridcolor": "white",
             "linecolor": "white",
             "minorgridcolor": "white",
             "startlinecolor": "#2a3f5f"
            },
            "type": "carpet"
           }
          ],
          "choropleth": [
           {
            "colorbar": {
             "outlinewidth": 0,
             "ticks": ""
            },
            "type": "choropleth"
           }
          ],
          "contour": [
           {
            "colorbar": {
             "outlinewidth": 0,
             "ticks": ""
            },
            "colorscale": [
             [
              0,
              "#0d0887"
             ],
             [
              0.1111111111111111,
              "#46039f"
             ],
             [
              0.2222222222222222,
              "#7201a8"
             ],
             [
              0.3333333333333333,
              "#9c179e"
             ],
             [
              0.4444444444444444,
              "#bd3786"
             ],
             [
              0.5555555555555556,
              "#d8576b"
             ],
             [
              0.6666666666666666,
              "#ed7953"
             ],
             [
              0.7777777777777778,
              "#fb9f3a"
             ],
             [
              0.8888888888888888,
              "#fdca26"
             ],
             [
              1,
              "#f0f921"
             ]
            ],
            "type": "contour"
           }
          ],
          "contourcarpet": [
           {
            "colorbar": {
             "outlinewidth": 0,
             "ticks": ""
            },
            "type": "contourcarpet"
           }
          ],
          "heatmap": [
           {
            "colorbar": {
             "outlinewidth": 0,
             "ticks": ""
            },
            "colorscale": [
             [
              0,
              "#0d0887"
             ],
             [
              0.1111111111111111,
              "#46039f"
             ],
             [
              0.2222222222222222,
              "#7201a8"
             ],
             [
              0.3333333333333333,
              "#9c179e"
             ],
             [
              0.4444444444444444,
              "#bd3786"
             ],
             [
              0.5555555555555556,
              "#d8576b"
             ],
             [
              0.6666666666666666,
              "#ed7953"
             ],
             [
              0.7777777777777778,
              "#fb9f3a"
             ],
             [
              0.8888888888888888,
              "#fdca26"
             ],
             [
              1,
              "#f0f921"
             ]
            ],
            "type": "heatmap"
           }
          ],
          "heatmapgl": [
           {
            "colorbar": {
             "outlinewidth": 0,
             "ticks": ""
            },
            "colorscale": [
             [
              0,
              "#0d0887"
             ],
             [
              0.1111111111111111,
              "#46039f"
             ],
             [
              0.2222222222222222,
              "#7201a8"
             ],
             [
              0.3333333333333333,
              "#9c179e"
             ],
             [
              0.4444444444444444,
              "#bd3786"
             ],
             [
              0.5555555555555556,
              "#d8576b"
             ],
             [
              0.6666666666666666,
              "#ed7953"
             ],
             [
              0.7777777777777778,
              "#fb9f3a"
             ],
             [
              0.8888888888888888,
              "#fdca26"
             ],
             [
              1,
              "#f0f921"
             ]
            ],
            "type": "heatmapgl"
           }
          ],
          "histogram": [
           {
            "marker": {
             "pattern": {
              "fillmode": "overlay",
              "size": 10,
              "solidity": 0.2
             }
            },
            "type": "histogram"
           }
          ],
          "histogram2d": [
           {
            "colorbar": {
             "outlinewidth": 0,
             "ticks": ""
            },
            "colorscale": [
             [
              0,
              "#0d0887"
             ],
             [
              0.1111111111111111,
              "#46039f"
             ],
             [
              0.2222222222222222,
              "#7201a8"
             ],
             [
              0.3333333333333333,
              "#9c179e"
             ],
             [
              0.4444444444444444,
              "#bd3786"
             ],
             [
              0.5555555555555556,
              "#d8576b"
             ],
             [
              0.6666666666666666,
              "#ed7953"
             ],
             [
              0.7777777777777778,
              "#fb9f3a"
             ],
             [
              0.8888888888888888,
              "#fdca26"
             ],
             [
              1,
              "#f0f921"
             ]
            ],
            "type": "histogram2d"
           }
          ],
          "histogram2dcontour": [
           {
            "colorbar": {
             "outlinewidth": 0,
             "ticks": ""
            },
            "colorscale": [
             [
              0,
              "#0d0887"
             ],
             [
              0.1111111111111111,
              "#46039f"
             ],
             [
              0.2222222222222222,
              "#7201a8"
             ],
             [
              0.3333333333333333,
              "#9c179e"
             ],
             [
              0.4444444444444444,
              "#bd3786"
             ],
             [
              0.5555555555555556,
              "#d8576b"
             ],
             [
              0.6666666666666666,
              "#ed7953"
             ],
             [
              0.7777777777777778,
              "#fb9f3a"
             ],
             [
              0.8888888888888888,
              "#fdca26"
             ],
             [
              1,
              "#f0f921"
             ]
            ],
            "type": "histogram2dcontour"
           }
          ],
          "mesh3d": [
           {
            "colorbar": {
             "outlinewidth": 0,
             "ticks": ""
            },
            "type": "mesh3d"
           }
          ],
          "parcoords": [
           {
            "line": {
             "colorbar": {
              "outlinewidth": 0,
              "ticks": ""
             }
            },
            "type": "parcoords"
           }
          ],
          "pie": [
           {
            "automargin": true,
            "type": "pie"
           }
          ],
          "scatter": [
           {
            "fillpattern": {
             "fillmode": "overlay",
             "size": 10,
             "solidity": 0.2
            },
            "type": "scatter"
           }
          ],
          "scatter3d": [
           {
            "line": {
             "colorbar": {
              "outlinewidth": 0,
              "ticks": ""
             }
            },
            "marker": {
             "colorbar": {
              "outlinewidth": 0,
              "ticks": ""
             }
            },
            "type": "scatter3d"
           }
          ],
          "scattercarpet": [
           {
            "marker": {
             "colorbar": {
              "outlinewidth": 0,
              "ticks": ""
             }
            },
            "type": "scattercarpet"
           }
          ],
          "scattergeo": [
           {
            "marker": {
             "colorbar": {
              "outlinewidth": 0,
              "ticks": ""
             }
            },
            "type": "scattergeo"
           }
          ],
          "scattergl": [
           {
            "marker": {
             "colorbar": {
              "outlinewidth": 0,
              "ticks": ""
             }
            },
            "type": "scattergl"
           }
          ],
          "scattermapbox": [
           {
            "marker": {
             "colorbar": {
              "outlinewidth": 0,
              "ticks": ""
             }
            },
            "type": "scattermapbox"
           }
          ],
          "scatterpolar": [
           {
            "marker": {
             "colorbar": {
              "outlinewidth": 0,
              "ticks": ""
             }
            },
            "type": "scatterpolar"
           }
          ],
          "scatterpolargl": [
           {
            "marker": {
             "colorbar": {
              "outlinewidth": 0,
              "ticks": ""
             }
            },
            "type": "scatterpolargl"
           }
          ],
          "scatterternary": [
           {
            "marker": {
             "colorbar": {
              "outlinewidth": 0,
              "ticks": ""
             }
            },
            "type": "scatterternary"
           }
          ],
          "surface": [
           {
            "colorbar": {
             "outlinewidth": 0,
             "ticks": ""
            },
            "colorscale": [
             [
              0,
              "#0d0887"
             ],
             [
              0.1111111111111111,
              "#46039f"
             ],
             [
              0.2222222222222222,
              "#7201a8"
             ],
             [
              0.3333333333333333,
              "#9c179e"
             ],
             [
              0.4444444444444444,
              "#bd3786"
             ],
             [
              0.5555555555555556,
              "#d8576b"
             ],
             [
              0.6666666666666666,
              "#ed7953"
             ],
             [
              0.7777777777777778,
              "#fb9f3a"
             ],
             [
              0.8888888888888888,
              "#fdca26"
             ],
             [
              1,
              "#f0f921"
             ]
            ],
            "type": "surface"
           }
          ],
          "table": [
           {
            "cells": {
             "fill": {
              "color": "#EBF0F8"
             },
             "line": {
              "color": "white"
             }
            },
            "header": {
             "fill": {
              "color": "#C8D4E3"
             },
             "line": {
              "color": "white"
             }
            },
            "type": "table"
           }
          ]
         },
         "layout": {
          "annotationdefaults": {
           "arrowcolor": "#2a3f5f",
           "arrowhead": 0,
           "arrowwidth": 1
          },
          "autotypenumbers": "strict",
          "coloraxis": {
           "colorbar": {
            "outlinewidth": 0,
            "ticks": ""
           }
          },
          "colorscale": {
           "diverging": [
            [
             0,
             "#8e0152"
            ],
            [
             0.1,
             "#c51b7d"
            ],
            [
             0.2,
             "#de77ae"
            ],
            [
             0.3,
             "#f1b6da"
            ],
            [
             0.4,
             "#fde0ef"
            ],
            [
             0.5,
             "#f7f7f7"
            ],
            [
             0.6,
             "#e6f5d0"
            ],
            [
             0.7,
             "#b8e186"
            ],
            [
             0.8,
             "#7fbc41"
            ],
            [
             0.9,
             "#4d9221"
            ],
            [
             1,
             "#276419"
            ]
           ],
           "sequential": [
            [
             0,
             "#0d0887"
            ],
            [
             0.1111111111111111,
             "#46039f"
            ],
            [
             0.2222222222222222,
             "#7201a8"
            ],
            [
             0.3333333333333333,
             "#9c179e"
            ],
            [
             0.4444444444444444,
             "#bd3786"
            ],
            [
             0.5555555555555556,
             "#d8576b"
            ],
            [
             0.6666666666666666,
             "#ed7953"
            ],
            [
             0.7777777777777778,
             "#fb9f3a"
            ],
            [
             0.8888888888888888,
             "#fdca26"
            ],
            [
             1,
             "#f0f921"
            ]
           ],
           "sequentialminus": [
            [
             0,
             "#0d0887"
            ],
            [
             0.1111111111111111,
             "#46039f"
            ],
            [
             0.2222222222222222,
             "#7201a8"
            ],
            [
             0.3333333333333333,
             "#9c179e"
            ],
            [
             0.4444444444444444,
             "#bd3786"
            ],
            [
             0.5555555555555556,
             "#d8576b"
            ],
            [
             0.6666666666666666,
             "#ed7953"
            ],
            [
             0.7777777777777778,
             "#fb9f3a"
            ],
            [
             0.8888888888888888,
             "#fdca26"
            ],
            [
             1,
             "#f0f921"
            ]
           ]
          },
          "colorway": [
           "#636efa",
           "#EF553B",
           "#00cc96",
           "#ab63fa",
           "#FFA15A",
           "#19d3f3",
           "#FF6692",
           "#B6E880",
           "#FF97FF",
           "#FECB52"
          ],
          "font": {
           "color": "#2a3f5f"
          },
          "geo": {
           "bgcolor": "white",
           "lakecolor": "white",
           "landcolor": "#E5ECF6",
           "showlakes": true,
           "showland": true,
           "subunitcolor": "white"
          },
          "hoverlabel": {
           "align": "left"
          },
          "hovermode": "closest",
          "mapbox": {
           "style": "light"
          },
          "paper_bgcolor": "white",
          "plot_bgcolor": "#E5ECF6",
          "polar": {
           "angularaxis": {
            "gridcolor": "white",
            "linecolor": "white",
            "ticks": ""
           },
           "bgcolor": "#E5ECF6",
           "radialaxis": {
            "gridcolor": "white",
            "linecolor": "white",
            "ticks": ""
           }
          },
          "scene": {
           "xaxis": {
            "backgroundcolor": "#E5ECF6",
            "gridcolor": "white",
            "gridwidth": 2,
            "linecolor": "white",
            "showbackground": true,
            "ticks": "",
            "zerolinecolor": "white"
           },
           "yaxis": {
            "backgroundcolor": "#E5ECF6",
            "gridcolor": "white",
            "gridwidth": 2,
            "linecolor": "white",
            "showbackground": true,
            "ticks": "",
            "zerolinecolor": "white"
           },
           "zaxis": {
            "backgroundcolor": "#E5ECF6",
            "gridcolor": "white",
            "gridwidth": 2,
            "linecolor": "white",
            "showbackground": true,
            "ticks": "",
            "zerolinecolor": "white"
           }
          },
          "shapedefaults": {
           "line": {
            "color": "#2a3f5f"
           }
          },
          "ternary": {
           "aaxis": {
            "gridcolor": "white",
            "linecolor": "white",
            "ticks": ""
           },
           "baxis": {
            "gridcolor": "white",
            "linecolor": "white",
            "ticks": ""
           },
           "bgcolor": "#E5ECF6",
           "caxis": {
            "gridcolor": "white",
            "linecolor": "white",
            "ticks": ""
           }
          },
          "title": {
           "x": 0.05
          },
          "xaxis": {
           "automargin": true,
           "gridcolor": "white",
           "linecolor": "white",
           "ticks": "",
           "title": {
            "standoff": 15
           },
           "zerolinecolor": "white",
           "zerolinewidth": 2
          },
          "yaxis": {
           "automargin": true,
           "gridcolor": "white",
           "linecolor": "white",
           "ticks": "",
           "title": {
            "standoff": 15
           },
           "zerolinecolor": "white",
           "zerolinewidth": 2
          }
         }
        },
        "title": {
         "text": "ANOMALY.LEVEL by RES.PRICE groups"
        },
        "xaxis": {
         "anchor": "y",
         "domain": [
          0,
          1
         ],
         "title": {
          "text": "value"
         }
        },
        "xaxis2": {
         "anchor": "y2",
         "domain": [
          0,
          1
         ],
         "matches": "x",
         "showgrid": true,
         "showticklabels": false
        },
        "yaxis": {
         "anchor": "x",
         "domain": [
          0,
          0.7326
         ],
         "title": {
          "text": "probability"
         }
        },
        "yaxis2": {
         "anchor": "x2",
         "domain": [
          0.7426,
          1
         ],
         "matches": "y2",
         "showgrid": false,
         "showline": false,
         "showticklabels": false,
         "ticks": ""
        }
       }
      }
     },
     "metadata": {},
     "output_type": "display_data"
    }
   ],
   "source": [
    "#Visualize the distribution of ANOMALY.LEVELS across both groups\n",
    "\n",
    "anomalies = outages1[[\"RES.PRICE <= 11.5\", \"ANOMALY.LEVEL\"]]\n",
    "\n",
    "fig = px.histogram(anomalies, color='RES.PRICE <= 11.5', histnorm='probability', marginal='box', \n",
    "                   title=\"ANOMALY.LEVEL by RES.PRICE groups\", barmode='overlay', opacity=0.7)\n",
    "fig"
   ]
  },
  {
   "cell_type": "markdown",
   "metadata": {},
   "source": [
    "From this distribution above, its difficulat to tell whether or not there is a difference between the two groups."
   ]
  },
  {
   "cell_type": "markdown",
   "metadata": {},
   "source": [
    "### Test Statistic Calculations\n",
    "\n",
    "Before we begin our permuation test, let's see what our observed statistic is. For the sake of our hypothesis testing, we will be using the difference in grouped means."
   ]
  },
  {
   "cell_type": "code",
   "execution_count": 100,
   "metadata": {},
   "outputs": [
    {
     "data": {
      "text/plain": [
       "RES.PRICE <= 11.5\n",
       "False   -0.105744\n",
       "True    -0.087879\n",
       "Name: ANOMALY.LEVEL, dtype: float64"
      ]
     },
     "execution_count": 100,
     "metadata": {},
     "output_type": "execute_result"
    }
   ],
   "source": [
    "#the test statistic that we are going to be using is the difference in group means\n",
    "anomaly_mean = anomalies[\"ANOMALY.LEVEL\"].mean()\n",
    "\n",
    "#we cant impute the mean because that might skew either group and make the two distributions look more similiar\n",
    "anomalies.dropna()\n",
    "\n",
    "grouped_means = anomalies.groupby(\"RES.PRICE <= 11.5\")[\"ANOMALY.LEVEL\"].mean()\n",
    "grouped_means"
   ]
  },
  {
   "cell_type": "code",
   "execution_count": 101,
   "metadata": {},
   "outputs": [
    {
     "data": {
      "text/plain": [
       "0.017865337447582882"
      ]
     },
     "execution_count": 101,
     "metadata": {},
     "output_type": "execute_result"
    }
   ],
   "source": [
    "#what is our observed statistic?\n",
    "\n",
    "grouped_means.diff().iloc[1]"
   ]
  },
  {
   "cell_type": "markdown",
   "metadata": {},
   "source": [
    "Our observed difference in grouped means is 0.01786"
   ]
  },
  {
   "cell_type": "markdown",
   "metadata": {},
   "source": [
    "### Permutation Test\n",
    "\n",
    "Now that we've calculated our observed statistic. Let' begin our comparison of these two samples by doing a permutation test. In order to do this test, we are goingt o be randomly shuffling around the values of ANOMALY.LEVEL. We are not shuffling around the RES.PRICE groups so that we can still groupby the \"RES.PRICE\" later on in our loop."
   ]
  },
  {
   "cell_type": "markdown",
   "metadata": {},
   "source": [
    "Once again, the question that we are trying to answer is that how likely is it that one random shuffle gives us a difference in grouped means (RES.PRICE <= 11.5 & RES.PRICE > 11.5) of 0.01786?"
   ]
  },
  {
   "cell_type": "code",
   "execution_count": 102,
   "metadata": {},
   "outputs": [
    {
     "data": {
      "text/html": [
       "<div>\n",
       "<style scoped>\n",
       "    .dataframe tbody tr th:only-of-type {\n",
       "        vertical-align: middle;\n",
       "    }\n",
       "\n",
       "    .dataframe tbody tr th {\n",
       "        vertical-align: top;\n",
       "    }\n",
       "\n",
       "    .dataframe thead th {\n",
       "        text-align: right;\n",
       "    }\n",
       "</style>\n",
       "<table border=\"1\" class=\"dataframe\">\n",
       "  <thead>\n",
       "    <tr style=\"text-align: right;\">\n",
       "      <th></th>\n",
       "      <th>ANOMALY.LEVEL</th>\n",
       "      <th>Shuffled_anomaly</th>\n",
       "    </tr>\n",
       "    <tr>\n",
       "      <th>RES.PRICE &lt;= 11.5</th>\n",
       "      <th></th>\n",
       "      <th></th>\n",
       "    </tr>\n",
       "  </thead>\n",
       "  <tbody>\n",
       "    <tr>\n",
       "      <th>False</th>\n",
       "      <td>-0.105744</td>\n",
       "      <td>-0.100908</td>\n",
       "    </tr>\n",
       "    <tr>\n",
       "      <th>True</th>\n",
       "      <td>-0.087879</td>\n",
       "      <td>-0.092706</td>\n",
       "    </tr>\n",
       "  </tbody>\n",
       "</table>\n",
       "</div>"
      ],
      "text/plain": [
       "                   ANOMALY.LEVEL  Shuffled_anomaly\n",
       "RES.PRICE <= 11.5                                 \n",
       "False                  -0.105744         -0.100908\n",
       "True                   -0.087879         -0.092706"
      ]
     },
     "execution_count": 102,
     "metadata": {},
     "output_type": "execute_result"
    }
   ],
   "source": [
    "#shuffle the ANOMALY.LEVEL COLUMNS FIRST\n",
    "with_shuffled = anomalies.assign(Shuffled_anomaly=np.random.permutation(outages1['ANOMALY.LEVEL']))\n",
    "group_means = with_shuffled.groupby('RES.PRICE <= 11.5').mean()\n",
    "group_means"
   ]
  },
  {
   "cell_type": "code",
   "execution_count": 103,
   "metadata": {},
   "outputs": [
    {
     "data": {
      "text/plain": [
       "[-0.0497789627590952,\n",
       " -0.04978602046222333,\n",
       " -0.08386901444309122,\n",
       " -0.03535874254339795,\n",
       " 0.02497351057169002,\n",
       " 0.04411327608982828,\n",
       " 0.006349206349206354,\n",
       " -0.04585130830254368,\n",
       " -0.04271091341919858,\n",
       " 0.018179613153603197]"
      ]
     },
     "execution_count": 103,
     "metadata": {},
     "output_type": "execute_result"
    }
   ],
   "source": [
    "#begin running the permutation test by shuffling the anomaly.level\n",
    "\n",
    "n_repetitions = 500\n",
    "\n",
    "differences = []\n",
    "for i in range(n_repetitions):\n",
    "    \n",
    "    with_shuffled = anomalies.assign(Shuffled_anomaly=np.random.permutation(anomalies['ANOMALY.LEVEL']))\n",
    "\n",
    "    # Step 2: Compute the test statistic.\n",
    "    # Remember, False (0) comes before True (1),\n",
    "    # so this computes True - False.\n",
    "    grouped_means = (\n",
    "        with_shuffled\n",
    "        .groupby('RES.PRICE <= 11.5')\n",
    "        .mean()\n",
    "        .loc[:, 'Shuffled_anomaly']\n",
    "    )\n",
    "    difference = grouped_means.diff().iloc[-1]\n",
    "    \n",
    "    # Step 4: Store the result\n",
    "    differences.append(difference)\n",
    "    \n",
    "differences[:10]"
   ]
  },
  {
   "cell_type": "code",
   "execution_count": 104,
   "metadata": {},
   "outputs": [
    {
     "data": {
      "text/plain": [
       "0.017865337447582882"
      ]
     },
     "execution_count": 104,
     "metadata": {},
     "output_type": "execute_result"
    }
   ],
   "source": [
    "#heres the observed statistic once again\n",
    "grouped_means = anomalies.groupby(\"RES.PRICE <= 11.5\")[\"ANOMALY.LEVEL\"].mean()\n",
    "observed_difference = grouped_means.diff().iloc[1]\n",
    "observed_difference"
   ]
  },
  {
   "cell_type": "markdown",
   "metadata": {},
   "source": [
    "### Conclusion\n",
    "\n",
    "After permutating and shuffling the groups 500 times. We have our observed statistic as well as our simulated difference. By plotting a histogram of the simulated differences against the actauly observed statistic we can answer our question from before."
   ]
  },
  {
   "cell_type": "code",
   "execution_count": 105,
   "metadata": {},
   "outputs": [
    {
     "data": {
      "application/vnd.plotly.v1+json": {
       "config": {
        "plotlyServerURL": "https://plot.ly"
       },
       "data": [
        {
         "alignmentgroup": "True",
         "bingroup": "x",
         "histnorm": "probability",
         "hovertemplate": "0=%{x}<br>probability=%{y}<extra></extra>",
         "legendgroup": "",
         "marker": {
          "color": "#636efa",
          "pattern": {
           "shape": ""
          }
         },
         "name": "",
         "nbinsx": 50,
         "offsetgroup": "",
         "orientation": "v",
         "showlegend": false,
         "type": "histogram",
         "x": [
          -0.0497789627590952,
          -0.04978602046222333,
          -0.08386901444309122,
          -0.03535874254339795,
          0.02497351057169002,
          0.04411327608982828,
          0.006349206349206354,
          -0.04585130830254368,
          -0.04271091341919858,
          0.018179613153603197,
          -0.0015119979358389907,
          -0.07679797024167884,
          0.02365319517833553,
          0.00398837905339855,
          -0.023269443813691684,
          0.011866345574954848,
          0.051720229249229394,
          0.0000536668937189122,
          -0.028523533803286927,
          -0.054481021716991,
          -0.08255733542513885,
          -0.035613657865313494,
          -0.058416194159257945,
          -0.009906252687709657,
          -0.005160193773912067,
          -0.01436570052464091,
          -0.0012332363120918788,
          0.02208805498792496,
          0.020015963778736545,
          -0.06524940911765009,
          -0.018802124907104117,
          0.036796058720116154,
          -0.03586870886615956,
          -0.008578638812625161,
          -0.008308331727725618,
          0.03654311940493639,
          0.016037709886374957,
          -0.028793325879418588,
          -0.01069321407069751,
          0.04045004506642996,
          -0.005184484389782404,
          0.05540195127321264,
          0.05383761933430806,
          0.06117286244074281,
          0.006357615894039742,
          0.041780284655636865,
          -0.0049303018418753175,
          0.005037635629313142,
          0.023390886448701007,
          0.04282015997247786,
          0.012154564972062423,
          -0.008594650382729857,
          0.06695364238410596,
          -0.03141653048937816,
          0.00768618100998425,
          0.0021355863402283404,
          0.027886037886450762,
          0.002177129134584288,
          0.022621484475789114,
          0.017366400396309364,
          -0.05999645631635807,
          -0.039818082991034856,
          -0.0015202179701529484,
          -0.008061974699570304,
          -0.035081725823708915,
          -0.026440061648124055,
          -0.09018879348304712,
          0.03362987732298525,
          0.06696374201405733,
          0.013448895127413832,
          0.03154038014965167,
          0.0011277859202224044,
          -0.00596335325303525,
          -0.012799726161234634,
          -0.01043889886542683,
          -0.007266959794672789,
          0.02916167850066051,
          0.046764510591157576,
          0.02051417012405307,
          0.047026838271974444,
          -0.0274742230800194,
          -0.011464332652120338,
          -0.015931805124076673,
          -0.06918432432990329,
          0.029432851019326967,
          0.051204924969554366,
          -0.0912198495185212,
          0.033892191466963914,
          0.04831021576398063,
          0.0024228089791003687,
          -0.058691217097228104,
          -0.01151233070860723,
          0.011866345574954862,
          0.0037595304285596293,
          -0.02512083942547519,
          0.010021604364907344,
          0.027858966155455092,
          -0.032465812333362,
          -0.012799726161234606,
          0.07690186729414356,
          0.05253571956912895,
          -0.0736633435160722,
          0.010300962957611293,
          -0.06445012523740058,
          0.021581053232737124,
          -0.010430893609701564,
          -0.02563792931430124,
          -0.028531005418422642,
          -0.09909520942633528,
          -0.04690785309335095,
          -0.024588618591033742,
          0.034163584759611246,
          0.03599070461879304,
          0.05201106420749517,
          0.039663102634494046,
          -0.002028438040782052,
          0.011087946000061938,
          0.026022767147604597,
          0.011849302344782028,
          0.01106237615587849,
          0.010300962957611307,
          0.03391045423113047,
          0.008473188420755659,
          -0.01149617459269045,
          -0.019596742563425057,
          -0.03849198567432836,
          -0.016988905134600496,
          0.018450840879689512,
          -0.046085987173488205,
          0.0047836931280639955,
          -0.025892801849596428,
          0.0648753861927076,
          -0.056055090693897774,
          0.025507009546744647,
          -0.023276980186949334,
          0.06670141433324042,
          0.053070275031136246,
          0.025235824715668653,
          0.00715303078780874,
          -0.06813501360663576,
          -0.08807775006450505,
          0.021870408791722987,
          -0.0502835044452396,
          -0.01149617459269045,
          0.032083410743898325,
          0.008701597589167775,
          -0.03900959202912013,
          -0.01541498236862475,
          0.029188555976426625,
          -0.07207620194375158,
          -0.0014955721156823393,
          -0.03299045325535392,
          0.04020631857073559,
          -0.02405645122446312,
          -0.058160105691224734,
          0.015792515532437504,
          0.027895254741130165,
          0.05748177630696301,
          -0.07023995871677988,
          0.014769247706927044,
          0.06090103478643771,
          0.10264030660515298,
          0.04045927582351423,
          0.03497856513721065,
          0.0779815046083663,
          -0.04347621160984909,
          0.02445772770276082,
          0.043607121355465725,
          -0.04084594265425345,
          0.02787691757234223,
          0.008980820503999315,
          -0.007266959794672789,
          0.06615683117633703,
          0.0163171438203948,
          0.05856925622791717,
          -0.02275232482531557,
          -0.003602404125683356,
          0.012915627418938674,
          -0.009111285422837817,
          -0.019604392655513003,
          0.028148373690041223,
          -0.005701025572218382,
          -0.07652949939277594,
          0.02212366849247198,
          0.0005700269704975724,
          -0.03770500263187772,
          0.00795704770031104,
          -0.01279972616123462,
          0.05959897757687094,
          0.053050657951320204,
          0.04281087236223778,
          0.012145889671022314,
          0.02866390061479286,
          -0.06473122903586478,
          0.003742770937189291,
          -0.03350775973880764,
          -0.05344466348089051,
          -0.06657412567685649,
          -0.04923412512730174,
          0.055139637129234004,
          0.02917053687534832,
          0.03336756317900662,
          0.027080932312720393,
          -0.022513141237340384,
          -0.003602404125683356,
          0.0338921914669639,
          -0.034834114255440654,
          -0.027466816671139288,
          -0.03430948596748336,
          0.006357615894039742,
          0.000586565752128676,
          -0.001503782679148316,
          0.018948998021845714,
          0.050155668393639774,
          -0.08098906996666287,
          0.012644745804693769,
          0.0957983294459237,
          -0.047673454502919155,
          -0.04743247055261998,
          -0.03430205556033371,
          0.08164358819987959,
          -0.01724344352816111,
          0.006662365591397851,
          -0.004676147622192858,
          -0.009906252687709657,
          -0.023284596198503482,
          0.0412462372065021,
          -0.05948481981594565,
          -0.022243035344465784,
          -0.004413838892558336,
          -0.08834619962708391,
          0.07588288316183127,
          0.04570568504343338,
          0.03678678936957082,
          0.003996731745076129,
          -0.00834846983707617,
          0.0005534972841137048,
          -0.038222584618348696,
          0.052254181545468945,
          -0.05423164652334114,
          -0.014620166719992306,
          0.021581053232737124,
          0.0840258998548122,
          0.008456179582007395,
          0.031269050027177475,
          0.009496976076950076,
          0.021047561709813367,
          0.003472090823084209,
          -0.013563019080844133,
          0.07013277228812859,
          -0.03744267495106082,
          0.06378643081241743,
          -0.045319514922163934,
          -0.065505508191758,
          0.0021688048522880143,
          0.012137256723329437,
          -0.08362454503546832,
          -0.05477711498238662,
          -0.009127328145533617,
          -0.04111526248249715,
          0.024204330040905928,
          -0.05162221947007384,
          -0.03194865867167558,
          -0.002823600240818777,
          -0.0015202179701529484,
          -0.006766500849725812,
          0.05749102130118891,
          0.05910399851371714,
          0.04045927582351423,
          0.011612601361695701,
          -0.09095752183770431,
          0.010817063730971008,
          -0.03534405350452578,
          -0.00936564622339657,
          0.0412462372065021,
          0.038117134226479235,
          -0.031671465973089466,
          -0.0014955721156823393,
          0.04674558452191742,
          -0.032975868546539236,
          0.014489550184914435,
          -0.0222201005993298,
          -0.0022825795264537763,
          0.04521001348710467,
          0.08163336567107697,
          -0.057648576588973946,
          -0.035613657865313494,
          0.00477532148533448,
          0.033919761369031645,
          -0.009898268465288448,
          -0.04400791261718413,
          -0.00205306032584765,
          0.05019456524730945,
          0.053050657951320204,
          -0.0212094890485839,
          0.045190544506256314,
          0.047298887352145824,
          0.018188496050205047,
          0.030491098305667846,
          0.04700789866589607,
          0.027370565082161236,
          -0.05502537197901436,
          0.013694002380608375,
          -0.03271353274294876,
          0.016343262528469876,
          0.003742770937189291,
          0.0005948387673867378,
          0.0037260649094199294,
          -0.017251225595596456,
          -0.014628020985636883,
          0.007677686149442517,
          0.026792182818299717,
          0.006095295433043782,
          0.009217800222227568,
          0.002947449901092289,
          0.048853530575384885,
          -0.02775163236801728,
          -0.017505771208977963,
          0.030781047865459252,
          0.010580495995155662,
          -0.025113273952667492,
          0.0032348407695906994,
          -0.0374499010922852,
          -0.01435783903917541,
          0.028682289229583546,
          0.01030953904588898,
          -0.0004462289013204557,
          -0.02196534178286494,
          0.06881042324656468,
          0.04414123378298877,
          0.015809844254765767,
          -0.02014452219263664,
          0.054849723251357924,
          -0.04792900935119626,
          -0.0041352025457985775,
          -0.016718788166527332,
          -0.05370039703018668,
          -0.023524331837824444,
          0.008701597589167775,
          -0.0382592632089524,
          -0.013578739141653029,
          0.011096546456660403,
          -0.00386473180650021,
          0.032580620747070674,
          0.0071700132118576315,
          -0.032997915247590145,
          -0.08099509761761417,
          0.05621830467422195,
          -0.003348241162810711,
          0.05987098993721511,
          0.0005782951816762083,
          -0.014111296881127833,
          0.009784867438708031,
          -0.03427350956691681,
          -0.0030777487640495926,
          0.03572839047481438,
          0.10055305548101204,
          -0.008324302380387172,
          -0.08281967122872928,
          0.05307027503113623,
          0.04045927582351423,
          -0.041902245524947784,
          -0.040860067085232654,
          -0.002028438040782052,
          -0.04296585271877859,
          -0.02775163236801728,
          0.013448895127413832,
          0.04282015997247787,
          -0.03375578018771848,
          0.03942881324443161,
          0.011604025113958888,
          -0.03165702155184279,
          -0.04819810986455289,
          -0.038222584618348696,
          -0.05608155991771076,
          0.023906836421929673,
          -0.026949567718385636,
          -0.04923412512730174,
          -0.01907973729387924,
          -0.018308323184786132,
          -0.007807688999741977,
          -0.02930316729627258,
          0.02525364076417344,
          -0.00045447195588078915,
          -0.006766500849725812,
          0.05489666869648084,
          0.014235878169864477,
          -0.04478785001393347,
          -0.018038186978584322,
          0.061950269704975774,
          -0.041384708007224574,
          -0.029835172207371335,
          0.024204330040905928,
          0.057247785327255524,
          0.02576045300362595,
          0.02025185598007445,
          0.03940999397953039,
          -0.033245432057990756,
          -0.1019701848908339,
          0.02288380493678506,
          -0.04741112682210226,
          0.028899369771025987,
          0.003209770362088235,
          0.016325793411886128,
          0.003742770937189291,
          0.02867304529722217,
          -0.015931805124076673,
          -0.01959674256342507,
          -0.04166167850066051,
          -0.050027695779920056,
          0.0737842617152962,
          0.014734698370761773,
          -0.059243600637098257,
          -0.004659843467790498,
          -0.005446804850778364,
          0.0021688048522880143,
          -0.02666522156504507,
          0.04388852190546966,
          -0.05293379018996705,
          0.0016358475961125024,
          0.04152749967315539,
          0.0475612231557363,
          0.04412244308213098,
          0.03705838640093302,
          0.027089934529891585,
          0.043335500650195063,
          0.008726996872710002,
          -0.06604283134084457,
          0.06619759984586168,
          -0.00150378267914833,
          0.05487732298525537,
          -0.04296585271877859,
          -0.029820607745451547,
          0.04284891002174451,
          -0.033245432057990756,
          -0.0014955721156823393,
          -0.020376193884010907,
          -0.0474180786101316,
          -0.03430205556033371,
          0.03126905002717746,
          -0.011194124852054718,
          -0.008316303009034673,
          0.011892220142577944,
          -0.0652558699578567,
          0.04073097393236934,
          -0.10225499504623514,
          -0.004889776594170725,
          -0.020931464624572557,
          -0.016726584673604536,
          -0.03952060474062147,
          -0.0014955721156823393,
          -0.035089016943321574,
          0.05749102130118891,
          -0.04822682348732167,
          -0.09542272297239185,
          -0.09148791605745249,
          -0.018570637328764752,
          0.012382431660715149,
          0.03834248403786879,
          0.002177129134584274,
          -0.00570912531177431,
          -0.025630466046005967,
          -0.058711745926904466,
          0.0008488862131246361,
          0.049922245388050554,
          -0.013054098219661123,
          -0.03036724864539435,
          -0.04482450799285853,
          -0.028778495689091646,
          0.06485507869613831,
          -0.08884819437945556,
          0.0548869011782919,
          -0.08518631285973297,
          0.006865436481726106,
          0.06801305273732483,
          0.05565486019374724,
          -0.023292291920380348,
          0.027587826122853376,
          -0.019357579760700697,
          0.04859121011438891,
          -0.02878586148410381,
          0.045977527548706945,
          0.01764613802048394,
          0.013711222808230741,
          -0.02956550309986307,
          -0.03904617586250787,
          0.027099030475679325,
          -0.038215642288954355,
          0.034163584759611246,
          0.03470676877980307,
          -0.03849198567432836,
          -0.035613657865313494,
          -0.02196534178286494,
          -0.059229329645454465,
          0.047260980845442516,
          0.0032264723489461855,
          0.01685915497803328,
          0.043869441816461685,
          0.008980820503999315,
          -0.022759955276511548
         ],
         "xaxis": "x",
         "yaxis": "y"
        }
       ],
       "layout": {
        "barmode": "relative",
        "legend": {
         "tracegroupgap": 0
        },
        "margin": {
         "t": 60
        },
        "shapes": [
         {
          "line": {
           "color": "red"
          },
          "type": "line",
          "x0": 0.017865337447582882,
          "x1": 0.017865337447582882,
          "xref": "x",
          "y0": 0,
          "y1": 1,
          "yref": "y domain"
         }
        ],
        "template": {
         "data": {
          "bar": [
           {
            "error_x": {
             "color": "#2a3f5f"
            },
            "error_y": {
             "color": "#2a3f5f"
            },
            "marker": {
             "line": {
              "color": "#E5ECF6",
              "width": 0.5
             },
             "pattern": {
              "fillmode": "overlay",
              "size": 10,
              "solidity": 0.2
             }
            },
            "type": "bar"
           }
          ],
          "barpolar": [
           {
            "marker": {
             "line": {
              "color": "#E5ECF6",
              "width": 0.5
             },
             "pattern": {
              "fillmode": "overlay",
              "size": 10,
              "solidity": 0.2
             }
            },
            "type": "barpolar"
           }
          ],
          "carpet": [
           {
            "aaxis": {
             "endlinecolor": "#2a3f5f",
             "gridcolor": "white",
             "linecolor": "white",
             "minorgridcolor": "white",
             "startlinecolor": "#2a3f5f"
            },
            "baxis": {
             "endlinecolor": "#2a3f5f",
             "gridcolor": "white",
             "linecolor": "white",
             "minorgridcolor": "white",
             "startlinecolor": "#2a3f5f"
            },
            "type": "carpet"
           }
          ],
          "choropleth": [
           {
            "colorbar": {
             "outlinewidth": 0,
             "ticks": ""
            },
            "type": "choropleth"
           }
          ],
          "contour": [
           {
            "colorbar": {
             "outlinewidth": 0,
             "ticks": ""
            },
            "colorscale": [
             [
              0,
              "#0d0887"
             ],
             [
              0.1111111111111111,
              "#46039f"
             ],
             [
              0.2222222222222222,
              "#7201a8"
             ],
             [
              0.3333333333333333,
              "#9c179e"
             ],
             [
              0.4444444444444444,
              "#bd3786"
             ],
             [
              0.5555555555555556,
              "#d8576b"
             ],
             [
              0.6666666666666666,
              "#ed7953"
             ],
             [
              0.7777777777777778,
              "#fb9f3a"
             ],
             [
              0.8888888888888888,
              "#fdca26"
             ],
             [
              1,
              "#f0f921"
             ]
            ],
            "type": "contour"
           }
          ],
          "contourcarpet": [
           {
            "colorbar": {
             "outlinewidth": 0,
             "ticks": ""
            },
            "type": "contourcarpet"
           }
          ],
          "heatmap": [
           {
            "colorbar": {
             "outlinewidth": 0,
             "ticks": ""
            },
            "colorscale": [
             [
              0,
              "#0d0887"
             ],
             [
              0.1111111111111111,
              "#46039f"
             ],
             [
              0.2222222222222222,
              "#7201a8"
             ],
             [
              0.3333333333333333,
              "#9c179e"
             ],
             [
              0.4444444444444444,
              "#bd3786"
             ],
             [
              0.5555555555555556,
              "#d8576b"
             ],
             [
              0.6666666666666666,
              "#ed7953"
             ],
             [
              0.7777777777777778,
              "#fb9f3a"
             ],
             [
              0.8888888888888888,
              "#fdca26"
             ],
             [
              1,
              "#f0f921"
             ]
            ],
            "type": "heatmap"
           }
          ],
          "heatmapgl": [
           {
            "colorbar": {
             "outlinewidth": 0,
             "ticks": ""
            },
            "colorscale": [
             [
              0,
              "#0d0887"
             ],
             [
              0.1111111111111111,
              "#46039f"
             ],
             [
              0.2222222222222222,
              "#7201a8"
             ],
             [
              0.3333333333333333,
              "#9c179e"
             ],
             [
              0.4444444444444444,
              "#bd3786"
             ],
             [
              0.5555555555555556,
              "#d8576b"
             ],
             [
              0.6666666666666666,
              "#ed7953"
             ],
             [
              0.7777777777777778,
              "#fb9f3a"
             ],
             [
              0.8888888888888888,
              "#fdca26"
             ],
             [
              1,
              "#f0f921"
             ]
            ],
            "type": "heatmapgl"
           }
          ],
          "histogram": [
           {
            "marker": {
             "pattern": {
              "fillmode": "overlay",
              "size": 10,
              "solidity": 0.2
             }
            },
            "type": "histogram"
           }
          ],
          "histogram2d": [
           {
            "colorbar": {
             "outlinewidth": 0,
             "ticks": ""
            },
            "colorscale": [
             [
              0,
              "#0d0887"
             ],
             [
              0.1111111111111111,
              "#46039f"
             ],
             [
              0.2222222222222222,
              "#7201a8"
             ],
             [
              0.3333333333333333,
              "#9c179e"
             ],
             [
              0.4444444444444444,
              "#bd3786"
             ],
             [
              0.5555555555555556,
              "#d8576b"
             ],
             [
              0.6666666666666666,
              "#ed7953"
             ],
             [
              0.7777777777777778,
              "#fb9f3a"
             ],
             [
              0.8888888888888888,
              "#fdca26"
             ],
             [
              1,
              "#f0f921"
             ]
            ],
            "type": "histogram2d"
           }
          ],
          "histogram2dcontour": [
           {
            "colorbar": {
             "outlinewidth": 0,
             "ticks": ""
            },
            "colorscale": [
             [
              0,
              "#0d0887"
             ],
             [
              0.1111111111111111,
              "#46039f"
             ],
             [
              0.2222222222222222,
              "#7201a8"
             ],
             [
              0.3333333333333333,
              "#9c179e"
             ],
             [
              0.4444444444444444,
              "#bd3786"
             ],
             [
              0.5555555555555556,
              "#d8576b"
             ],
             [
              0.6666666666666666,
              "#ed7953"
             ],
             [
              0.7777777777777778,
              "#fb9f3a"
             ],
             [
              0.8888888888888888,
              "#fdca26"
             ],
             [
              1,
              "#f0f921"
             ]
            ],
            "type": "histogram2dcontour"
           }
          ],
          "mesh3d": [
           {
            "colorbar": {
             "outlinewidth": 0,
             "ticks": ""
            },
            "type": "mesh3d"
           }
          ],
          "parcoords": [
           {
            "line": {
             "colorbar": {
              "outlinewidth": 0,
              "ticks": ""
             }
            },
            "type": "parcoords"
           }
          ],
          "pie": [
           {
            "automargin": true,
            "type": "pie"
           }
          ],
          "scatter": [
           {
            "fillpattern": {
             "fillmode": "overlay",
             "size": 10,
             "solidity": 0.2
            },
            "type": "scatter"
           }
          ],
          "scatter3d": [
           {
            "line": {
             "colorbar": {
              "outlinewidth": 0,
              "ticks": ""
             }
            },
            "marker": {
             "colorbar": {
              "outlinewidth": 0,
              "ticks": ""
             }
            },
            "type": "scatter3d"
           }
          ],
          "scattercarpet": [
           {
            "marker": {
             "colorbar": {
              "outlinewidth": 0,
              "ticks": ""
             }
            },
            "type": "scattercarpet"
           }
          ],
          "scattergeo": [
           {
            "marker": {
             "colorbar": {
              "outlinewidth": 0,
              "ticks": ""
             }
            },
            "type": "scattergeo"
           }
          ],
          "scattergl": [
           {
            "marker": {
             "colorbar": {
              "outlinewidth": 0,
              "ticks": ""
             }
            },
            "type": "scattergl"
           }
          ],
          "scattermapbox": [
           {
            "marker": {
             "colorbar": {
              "outlinewidth": 0,
              "ticks": ""
             }
            },
            "type": "scattermapbox"
           }
          ],
          "scatterpolar": [
           {
            "marker": {
             "colorbar": {
              "outlinewidth": 0,
              "ticks": ""
             }
            },
            "type": "scatterpolar"
           }
          ],
          "scatterpolargl": [
           {
            "marker": {
             "colorbar": {
              "outlinewidth": 0,
              "ticks": ""
             }
            },
            "type": "scatterpolargl"
           }
          ],
          "scatterternary": [
           {
            "marker": {
             "colorbar": {
              "outlinewidth": 0,
              "ticks": ""
             }
            },
            "type": "scatterternary"
           }
          ],
          "surface": [
           {
            "colorbar": {
             "outlinewidth": 0,
             "ticks": ""
            },
            "colorscale": [
             [
              0,
              "#0d0887"
             ],
             [
              0.1111111111111111,
              "#46039f"
             ],
             [
              0.2222222222222222,
              "#7201a8"
             ],
             [
              0.3333333333333333,
              "#9c179e"
             ],
             [
              0.4444444444444444,
              "#bd3786"
             ],
             [
              0.5555555555555556,
              "#d8576b"
             ],
             [
              0.6666666666666666,
              "#ed7953"
             ],
             [
              0.7777777777777778,
              "#fb9f3a"
             ],
             [
              0.8888888888888888,
              "#fdca26"
             ],
             [
              1,
              "#f0f921"
             ]
            ],
            "type": "surface"
           }
          ],
          "table": [
           {
            "cells": {
             "fill": {
              "color": "#EBF0F8"
             },
             "line": {
              "color": "white"
             }
            },
            "header": {
             "fill": {
              "color": "#C8D4E3"
             },
             "line": {
              "color": "white"
             }
            },
            "type": "table"
           }
          ]
         },
         "layout": {
          "annotationdefaults": {
           "arrowcolor": "#2a3f5f",
           "arrowhead": 0,
           "arrowwidth": 1
          },
          "autotypenumbers": "strict",
          "coloraxis": {
           "colorbar": {
            "outlinewidth": 0,
            "ticks": ""
           }
          },
          "colorscale": {
           "diverging": [
            [
             0,
             "#8e0152"
            ],
            [
             0.1,
             "#c51b7d"
            ],
            [
             0.2,
             "#de77ae"
            ],
            [
             0.3,
             "#f1b6da"
            ],
            [
             0.4,
             "#fde0ef"
            ],
            [
             0.5,
             "#f7f7f7"
            ],
            [
             0.6,
             "#e6f5d0"
            ],
            [
             0.7,
             "#b8e186"
            ],
            [
             0.8,
             "#7fbc41"
            ],
            [
             0.9,
             "#4d9221"
            ],
            [
             1,
             "#276419"
            ]
           ],
           "sequential": [
            [
             0,
             "#0d0887"
            ],
            [
             0.1111111111111111,
             "#46039f"
            ],
            [
             0.2222222222222222,
             "#7201a8"
            ],
            [
             0.3333333333333333,
             "#9c179e"
            ],
            [
             0.4444444444444444,
             "#bd3786"
            ],
            [
             0.5555555555555556,
             "#d8576b"
            ],
            [
             0.6666666666666666,
             "#ed7953"
            ],
            [
             0.7777777777777778,
             "#fb9f3a"
            ],
            [
             0.8888888888888888,
             "#fdca26"
            ],
            [
             1,
             "#f0f921"
            ]
           ],
           "sequentialminus": [
            [
             0,
             "#0d0887"
            ],
            [
             0.1111111111111111,
             "#46039f"
            ],
            [
             0.2222222222222222,
             "#7201a8"
            ],
            [
             0.3333333333333333,
             "#9c179e"
            ],
            [
             0.4444444444444444,
             "#bd3786"
            ],
            [
             0.5555555555555556,
             "#d8576b"
            ],
            [
             0.6666666666666666,
             "#ed7953"
            ],
            [
             0.7777777777777778,
             "#fb9f3a"
            ],
            [
             0.8888888888888888,
             "#fdca26"
            ],
            [
             1,
             "#f0f921"
            ]
           ]
          },
          "colorway": [
           "#636efa",
           "#EF553B",
           "#00cc96",
           "#ab63fa",
           "#FFA15A",
           "#19d3f3",
           "#FF6692",
           "#B6E880",
           "#FF97FF",
           "#FECB52"
          ],
          "font": {
           "color": "#2a3f5f"
          },
          "geo": {
           "bgcolor": "white",
           "lakecolor": "white",
           "landcolor": "#E5ECF6",
           "showlakes": true,
           "showland": true,
           "subunitcolor": "white"
          },
          "hoverlabel": {
           "align": "left"
          },
          "hovermode": "closest",
          "mapbox": {
           "style": "light"
          },
          "paper_bgcolor": "white",
          "plot_bgcolor": "#E5ECF6",
          "polar": {
           "angularaxis": {
            "gridcolor": "white",
            "linecolor": "white",
            "ticks": ""
           },
           "bgcolor": "#E5ECF6",
           "radialaxis": {
            "gridcolor": "white",
            "linecolor": "white",
            "ticks": ""
           }
          },
          "scene": {
           "xaxis": {
            "backgroundcolor": "#E5ECF6",
            "gridcolor": "white",
            "gridwidth": 2,
            "linecolor": "white",
            "showbackground": true,
            "ticks": "",
            "zerolinecolor": "white"
           },
           "yaxis": {
            "backgroundcolor": "#E5ECF6",
            "gridcolor": "white",
            "gridwidth": 2,
            "linecolor": "white",
            "showbackground": true,
            "ticks": "",
            "zerolinecolor": "white"
           },
           "zaxis": {
            "backgroundcolor": "#E5ECF6",
            "gridcolor": "white",
            "gridwidth": 2,
            "linecolor": "white",
            "showbackground": true,
            "ticks": "",
            "zerolinecolor": "white"
           }
          },
          "shapedefaults": {
           "line": {
            "color": "#2a3f5f"
           }
          },
          "ternary": {
           "aaxis": {
            "gridcolor": "white",
            "linecolor": "white",
            "ticks": ""
           },
           "baxis": {
            "gridcolor": "white",
            "linecolor": "white",
            "ticks": ""
           },
           "bgcolor": "#E5ECF6",
           "caxis": {
            "gridcolor": "white",
            "linecolor": "white",
            "ticks": ""
           }
          },
          "title": {
           "x": 0.05
          },
          "xaxis": {
           "automargin": true,
           "gridcolor": "white",
           "linecolor": "white",
           "ticks": "",
           "title": {
            "standoff": 15
           },
           "zerolinecolor": "white",
           "zerolinewidth": 2
          },
          "yaxis": {
           "automargin": true,
           "gridcolor": "white",
           "linecolor": "white",
           "ticks": "",
           "title": {
            "standoff": 15
           },
           "zerolinecolor": "white",
           "zerolinewidth": 2
          }
         }
        },
        "title": {
         "text": "Empirical Distribution of the Mean Differences <br> in ANOMALY.LEVELS (RES.PRICE <= 11.5 & RES.PRICE > 11.5)"
        },
        "xaxis": {
         "anchor": "y",
         "domain": [
          0,
          1
         ],
         "range": [
          -0.2,
          0.2
         ],
         "title": {
          "text": "0"
         }
        },
        "yaxis": {
         "anchor": "x",
         "domain": [
          0,
          1
         ],
         "title": {
          "text": "probability"
         }
        }
       }
      }
     },
     "metadata": {},
     "output_type": "display_data"
    }
   ],
   "source": [
    "fig = px.histogram(\n",
    "    pd.DataFrame(differences), x=0, nbins=50, histnorm='probability', \n",
    "    title='Empirical Distribution of the Mean Differences <br> in ANOMALY.LEVELS (RES.PRICE <= 11.5 & RES.PRICE > 11.5)')\n",
    "fig.add_vline(x=observed_difference, line_color='red')\n",
    "fig.update_layout(xaxis_range=[-0.2, 0.2], margin=dict(t=60))"
   ]
  },
  {
   "cell_type": "markdown",
   "metadata": {},
   "source": [
    "Under the null hypothesis, we can regularly see a difference like 0.01786. Therefore we fail to reject the null hypothesis that these two groups come the same distribution. The difference between the two samples is not statistically significant. "
   ]
  },
  {
   "cell_type": "markdown",
   "metadata": {},
   "source": [
    "## Step 5: Framing a Prediction Problem"
   ]
  },
  {
   "cell_type": "code",
   "execution_count": 106,
   "metadata": {
    "ExecuteTime": {
     "end_time": "2019-10-31T23:36:28.657068Z",
     "start_time": "2019-10-31T23:36:28.654650Z"
    }
   },
   "outputs": [
    {
     "data": {
      "text/html": [
       "<div>\n",
       "<style scoped>\n",
       "    .dataframe tbody tr th:only-of-type {\n",
       "        vertical-align: middle;\n",
       "    }\n",
       "\n",
       "    .dataframe tbody tr th {\n",
       "        vertical-align: top;\n",
       "    }\n",
       "\n",
       "    .dataframe thead th {\n",
       "        text-align: right;\n",
       "    }\n",
       "</style>\n",
       "<table border=\"1\" class=\"dataframe\">\n",
       "  <thead>\n",
       "    <tr style=\"text-align: right;\">\n",
       "      <th></th>\n",
       "      <th>YEAR</th>\n",
       "      <th>MONTH</th>\n",
       "      <th>U.S._STATE</th>\n",
       "      <th>POSTAL.CODE</th>\n",
       "      <th>NERC.REGION</th>\n",
       "      <th>CLIMATE.REGION</th>\n",
       "      <th>ANOMALY.LEVEL</th>\n",
       "      <th>CLIMATE.CATEGORY</th>\n",
       "      <th>OUTAGE.START.DATE</th>\n",
       "      <th>OUTAGE.START.TIME</th>\n",
       "      <th>...</th>\n",
       "      <th>POPPCT_UC</th>\n",
       "      <th>POPDEN_URBAN</th>\n",
       "      <th>POPDEN_UC</th>\n",
       "      <th>POPDEN_RURAL</th>\n",
       "      <th>AREAPCT_URBAN</th>\n",
       "      <th>AREAPCT_UC</th>\n",
       "      <th>PCT_LAND</th>\n",
       "      <th>PCT_WATER_TOT</th>\n",
       "      <th>PCT_WATER_INLAND</th>\n",
       "      <th>RES.PRICE &lt;= 11.5</th>\n",
       "    </tr>\n",
       "  </thead>\n",
       "  <tbody>\n",
       "    <tr>\n",
       "      <th>6</th>\n",
       "      <td>2011</td>\n",
       "      <td>7</td>\n",
       "      <td>Minnesota</td>\n",
       "      <td>MN</td>\n",
       "      <td>MRO</td>\n",
       "      <td>East North Central</td>\n",
       "      <td>-0.3</td>\n",
       "      <td>normal</td>\n",
       "      <td>Friday, July 1, 2011</td>\n",
       "      <td>5:00:00 PM</td>\n",
       "      <td>...</td>\n",
       "      <td>15.28</td>\n",
       "      <td>2279</td>\n",
       "      <td>1700.5</td>\n",
       "      <td>18.2</td>\n",
       "      <td>2.14</td>\n",
       "      <td>0.6</td>\n",
       "      <td>91.59266587</td>\n",
       "      <td>8.407334131</td>\n",
       "      <td>5.478742983</td>\n",
       "      <td>False</td>\n",
       "    </tr>\n",
       "    <tr>\n",
       "      <th>7</th>\n",
       "      <td>2014</td>\n",
       "      <td>5</td>\n",
       "      <td>Minnesota</td>\n",
       "      <td>MN</td>\n",
       "      <td>MRO</td>\n",
       "      <td>East North Central</td>\n",
       "      <td>-0.1</td>\n",
       "      <td>normal</td>\n",
       "      <td>Sunday, May 11, 2014</td>\n",
       "      <td>6:38:00 PM</td>\n",
       "      <td>...</td>\n",
       "      <td>15.28</td>\n",
       "      <td>2279</td>\n",
       "      <td>1700.5</td>\n",
       "      <td>18.2</td>\n",
       "      <td>2.14</td>\n",
       "      <td>0.6</td>\n",
       "      <td>91.59266587</td>\n",
       "      <td>8.407334131</td>\n",
       "      <td>5.478742983</td>\n",
       "      <td>False</td>\n",
       "    </tr>\n",
       "    <tr>\n",
       "      <th>8</th>\n",
       "      <td>2010</td>\n",
       "      <td>10</td>\n",
       "      <td>Minnesota</td>\n",
       "      <td>MN</td>\n",
       "      <td>MRO</td>\n",
       "      <td>East North Central</td>\n",
       "      <td>-1.5</td>\n",
       "      <td>cold</td>\n",
       "      <td>Tuesday, October 26, 2010</td>\n",
       "      <td>8:00:00 PM</td>\n",
       "      <td>...</td>\n",
       "      <td>15.28</td>\n",
       "      <td>2279</td>\n",
       "      <td>1700.5</td>\n",
       "      <td>18.2</td>\n",
       "      <td>2.14</td>\n",
       "      <td>0.6</td>\n",
       "      <td>91.59266587</td>\n",
       "      <td>8.407334131</td>\n",
       "      <td>5.478742983</td>\n",
       "      <td>True</td>\n",
       "    </tr>\n",
       "    <tr>\n",
       "      <th>9</th>\n",
       "      <td>2012</td>\n",
       "      <td>6</td>\n",
       "      <td>Minnesota</td>\n",
       "      <td>MN</td>\n",
       "      <td>MRO</td>\n",
       "      <td>East North Central</td>\n",
       "      <td>-0.1</td>\n",
       "      <td>normal</td>\n",
       "      <td>Tuesday, June 19, 2012</td>\n",
       "      <td>4:30:00 AM</td>\n",
       "      <td>...</td>\n",
       "      <td>15.28</td>\n",
       "      <td>2279</td>\n",
       "      <td>1700.5</td>\n",
       "      <td>18.2</td>\n",
       "      <td>2.14</td>\n",
       "      <td>0.6</td>\n",
       "      <td>91.59266587</td>\n",
       "      <td>8.407334131</td>\n",
       "      <td>5.478742983</td>\n",
       "      <td>False</td>\n",
       "    </tr>\n",
       "    <tr>\n",
       "      <th>10</th>\n",
       "      <td>2015</td>\n",
       "      <td>7</td>\n",
       "      <td>Minnesota</td>\n",
       "      <td>MN</td>\n",
       "      <td>MRO</td>\n",
       "      <td>East North Central</td>\n",
       "      <td>1.2</td>\n",
       "      <td>warm</td>\n",
       "      <td>Saturday, July 18, 2015</td>\n",
       "      <td>2:00:00 AM</td>\n",
       "      <td>...</td>\n",
       "      <td>15.28</td>\n",
       "      <td>2279</td>\n",
       "      <td>1700.5</td>\n",
       "      <td>18.2</td>\n",
       "      <td>2.14</td>\n",
       "      <td>0.6</td>\n",
       "      <td>91.59266587</td>\n",
       "      <td>8.407334131</td>\n",
       "      <td>5.478742983</td>\n",
       "      <td>False</td>\n",
       "    </tr>\n",
       "  </tbody>\n",
       "</table>\n",
       "<p>5 rows × 54 columns</p>\n",
       "</div>"
      ],
      "text/plain": [
       "    YEAR MONTH U.S._STATE POSTAL.CODE NERC.REGION      CLIMATE.REGION  \\\n",
       "6   2011     7  Minnesota          MN         MRO  East North Central   \n",
       "7   2014     5  Minnesota          MN         MRO  East North Central   \n",
       "8   2010    10  Minnesota          MN         MRO  East North Central   \n",
       "9   2012     6  Minnesota          MN         MRO  East North Central   \n",
       "10  2015     7  Minnesota          MN         MRO  East North Central   \n",
       "\n",
       "    ANOMALY.LEVEL CLIMATE.CATEGORY          OUTAGE.START.DATE  \\\n",
       "6            -0.3           normal       Friday, July 1, 2011   \n",
       "7            -0.1           normal       Sunday, May 11, 2014   \n",
       "8            -1.5             cold  Tuesday, October 26, 2010   \n",
       "9            -0.1           normal     Tuesday, June 19, 2012   \n",
       "10            1.2             warm    Saturday, July 18, 2015   \n",
       "\n",
       "   OUTAGE.START.TIME  ... POPPCT_UC POPDEN_URBAN POPDEN_UC  POPDEN_RURAL  \\\n",
       "6         5:00:00 PM  ...     15.28         2279    1700.5          18.2   \n",
       "7         6:38:00 PM  ...     15.28         2279    1700.5          18.2   \n",
       "8         8:00:00 PM  ...     15.28         2279    1700.5          18.2   \n",
       "9         4:30:00 AM  ...     15.28         2279    1700.5          18.2   \n",
       "10        2:00:00 AM  ...     15.28         2279    1700.5          18.2   \n",
       "\n",
       "   AREAPCT_URBAN AREAPCT_UC     PCT_LAND PCT_WATER_TOT PCT_WATER_INLAND  \\\n",
       "6           2.14        0.6  91.59266587   8.407334131      5.478742983   \n",
       "7           2.14        0.6  91.59266587   8.407334131      5.478742983   \n",
       "8           2.14        0.6  91.59266587   8.407334131      5.478742983   \n",
       "9           2.14        0.6  91.59266587   8.407334131      5.478742983   \n",
       "10          2.14        0.6  91.59266587   8.407334131      5.478742983   \n",
       "\n",
       "   RES.PRICE <= 11.5  \n",
       "6              False  \n",
       "7              False  \n",
       "8               True  \n",
       "9              False  \n",
       "10             False  \n",
       "\n",
       "[5 rows x 54 columns]"
      ]
     },
     "execution_count": 106,
     "metadata": {},
     "output_type": "execute_result"
    }
   ],
   "source": [
    "outages1.head()"
   ]
  },
  {
   "cell_type": "markdown",
   "metadata": {},
   "source": [
    "Notebook: We want to predict the duration of a power outages based on the following features: “RES.PRICE”, “IND.PRICE”, “CLIMATE.REGION”, “CLIMATE.CATEGORY”, “COM.PRICE”.\n",
    "\n",
    "These are the features that we are going to be using because these are the only features that we can be sure of before the power outage itself. Other factors like “CUSTOMERS.AFFECTED” wouldnt be known to us before the start of the power outage. Thus, these features are going to be the ones we’re training our Regression model on. \n",
    "\n",
    "To recap, our response variable is going to be “OUTAGE.DURATION” and our features that we are going to be using are “RES.PRICE”, “IND.PRICE”, “CLIMATE.REGION”, “CLIMATE.CATEGORY”, “COM.PRICE”, . The metric that we are going to be using to determine the accuracy of our model is the RMSE as well as the R^2. \n"
   ]
  },
  {
   "cell_type": "markdown",
   "metadata": {},
   "source": [
    "## Step 6: Baseline Model"
   ]
  },
  {
   "cell_type": "markdown",
   "metadata": {},
   "source": [
    "As stated before, we are going to be running a Multi-Linear Regression model, lets begin trianing that model."
   ]
  },
  {
   "cell_type": "code",
   "execution_count": 107,
   "metadata": {},
   "outputs": [
    {
     "data": {
      "text/html": [
       "<div>\n",
       "<style scoped>\n",
       "    .dataframe tbody tr th:only-of-type {\n",
       "        vertical-align: middle;\n",
       "    }\n",
       "\n",
       "    .dataframe tbody tr th {\n",
       "        vertical-align: top;\n",
       "    }\n",
       "\n",
       "    .dataframe thead th {\n",
       "        text-align: right;\n",
       "    }\n",
       "</style>\n",
       "<table border=\"1\" class=\"dataframe\">\n",
       "  <thead>\n",
       "    <tr style=\"text-align: right;\">\n",
       "      <th></th>\n",
       "      <th>RES.PRICE</th>\n",
       "      <th>CLIMATE.REGION</th>\n",
       "      <th>COM.PRICE</th>\n",
       "      <th>OUTAGE_DURATION</th>\n",
       "      <th>PI.UTIL.OFUSA</th>\n",
       "      <th>CUSTOMERS.AFFECTED</th>\n",
       "    </tr>\n",
       "  </thead>\n",
       "  <tbody>\n",
       "    <tr>\n",
       "      <th>0</th>\n",
       "      <td>11.6</td>\n",
       "      <td>East North Central</td>\n",
       "      <td>9.18</td>\n",
       "      <td>3060.000000</td>\n",
       "      <td>2.2</td>\n",
       "      <td>70000.0</td>\n",
       "    </tr>\n",
       "    <tr>\n",
       "      <th>1</th>\n",
       "      <td>12.12</td>\n",
       "      <td>East North Central</td>\n",
       "      <td>9.71</td>\n",
       "      <td>1.000000</td>\n",
       "      <td>2.2</td>\n",
       "      <td>0.0</td>\n",
       "    </tr>\n",
       "    <tr>\n",
       "      <th>2</th>\n",
       "      <td>10.87</td>\n",
       "      <td>East North Central</td>\n",
       "      <td>8.19</td>\n",
       "      <td>3000.000000</td>\n",
       "      <td>2.1</td>\n",
       "      <td>70000.0</td>\n",
       "    </tr>\n",
       "    <tr>\n",
       "      <th>3</th>\n",
       "      <td>11.79</td>\n",
       "      <td>East North Central</td>\n",
       "      <td>9.25</td>\n",
       "      <td>2550.000000</td>\n",
       "      <td>2.2</td>\n",
       "      <td>68200.0</td>\n",
       "    </tr>\n",
       "    <tr>\n",
       "      <th>4</th>\n",
       "      <td>13.07</td>\n",
       "      <td>East North Central</td>\n",
       "      <td>10.16</td>\n",
       "      <td>1740.000000</td>\n",
       "      <td>2.2</td>\n",
       "      <td>250000.0</td>\n",
       "    </tr>\n",
       "    <tr>\n",
       "      <th>...</th>\n",
       "      <td>...</td>\n",
       "      <td>...</td>\n",
       "      <td>...</td>\n",
       "      <td>...</td>\n",
       "      <td>...</td>\n",
       "      <td>...</td>\n",
       "    </tr>\n",
       "    <tr>\n",
       "      <th>1526</th>\n",
       "      <td>9.8</td>\n",
       "      <td>Northwest</td>\n",
       "      <td>7.66</td>\n",
       "      <td>2771.879828</td>\n",
       "      <td>0.4</td>\n",
       "      <td>0.0</td>\n",
       "    </tr>\n",
       "    <tr>\n",
       "      <th>1527</th>\n",
       "      <td>9.8</td>\n",
       "      <td>Northwest</td>\n",
       "      <td>7.66</td>\n",
       "      <td>2771.879828</td>\n",
       "      <td>0.4</td>\n",
       "      <td>0.0</td>\n",
       "    </tr>\n",
       "    <tr>\n",
       "      <th>1529</th>\n",
       "      <td>8.41</td>\n",
       "      <td>West North Central</td>\n",
       "      <td>7.8</td>\n",
       "      <td>720.000000</td>\n",
       "      <td>0.5</td>\n",
       "      <td>34500.0</td>\n",
       "    </tr>\n",
       "    <tr>\n",
       "      <th>1531</th>\n",
       "      <td>9.25</td>\n",
       "      <td>West North Central</td>\n",
       "      <td>7.47</td>\n",
       "      <td>59.000000</td>\n",
       "      <td>0.3</td>\n",
       "      <td>62000.0</td>\n",
       "    </tr>\n",
       "    <tr>\n",
       "      <th>1532</th>\n",
       "      <td>9.25</td>\n",
       "      <td>West North Central</td>\n",
       "      <td>7.47</td>\n",
       "      <td>181.000000</td>\n",
       "      <td>0.3</td>\n",
       "      <td>70000.0</td>\n",
       "    </tr>\n",
       "  </tbody>\n",
       "</table>\n",
       "<p>1507 rows × 6 columns</p>\n",
       "</div>"
      ],
      "text/plain": [
       "     RES.PRICE      CLIMATE.REGION COM.PRICE  OUTAGE_DURATION PI.UTIL.OFUSA  \\\n",
       "0         11.6  East North Central      9.18      3060.000000           2.2   \n",
       "1        12.12  East North Central      9.71         1.000000           2.2   \n",
       "2        10.87  East North Central      8.19      3000.000000           2.1   \n",
       "3        11.79  East North Central      9.25      2550.000000           2.2   \n",
       "4        13.07  East North Central     10.16      1740.000000           2.2   \n",
       "...        ...                 ...       ...              ...           ...   \n",
       "1526       9.8           Northwest      7.66      2771.879828           0.4   \n",
       "1527       9.8           Northwest      7.66      2771.879828           0.4   \n",
       "1529      8.41  West North Central       7.8       720.000000           0.5   \n",
       "1531      9.25  West North Central      7.47        59.000000           0.3   \n",
       "1532      9.25  West North Central      7.47       181.000000           0.3   \n",
       "\n",
       "      CUSTOMERS.AFFECTED  \n",
       "0                70000.0  \n",
       "1                    0.0  \n",
       "2                70000.0  \n",
       "3                68200.0  \n",
       "4               250000.0  \n",
       "...                  ...  \n",
       "1526                 0.0  \n",
       "1527                 0.0  \n",
       "1529             34500.0  \n",
       "1531             62000.0  \n",
       "1532             70000.0  \n",
       "\n",
       "[1507 rows x 6 columns]"
      ]
     },
     "execution_count": 107,
     "metadata": {},
     "output_type": "execute_result"
    }
   ],
   "source": [
    "linear_outages_filled = linear_outages1.copy()\n",
    "linear_outages_filled"
   ]
  },
  {
   "cell_type": "markdown",
   "metadata": {},
   "source": [
    "Make a subset of outages1 with all the relevant features for our linear regression model. This will also help us with the tranformation of necessary columns so that we can run the Multi Linear Regression on it. "
   ]
  },
  {
   "cell_type": "code",
   "execution_count": null,
   "metadata": {},
   "outputs": [],
   "source": []
  },
  {
   "cell_type": "code",
   "execution_count": 108,
   "metadata": {},
   "outputs": [
    {
     "data": {
      "text/plain": [
       "RES.PRICE              object\n",
       "CLIMATE.REGION         object\n",
       "COM.PRICE              object\n",
       "OUTAGE_DURATION       float64\n",
       "PI.UTIL.OFUSA          object\n",
       "CUSTOMERS.AFFECTED    float64\n",
       "dtype: object"
      ]
     },
     "execution_count": 108,
     "metadata": {},
     "output_type": "execute_result"
    }
   ],
   "source": [
    "types = linear_outages_filled.dtypes\n",
    "types"
   ]
  },
  {
   "cell_type": "code",
   "execution_count": 109,
   "metadata": {},
   "outputs": [
    {
     "data": {
      "text/plain": [
       "False    1507\n",
       "Name: CUSTOMERS.AFFECTED, dtype: int64"
      ]
     },
     "execution_count": 109,
     "metadata": {},
     "output_type": "execute_result"
    }
   ],
   "source": [
    "linear_outages_filled[\"CUSTOMERS.AFFECTED\"].isna().value_counts()"
   ]
  },
  {
   "cell_type": "code",
   "execution_count": 110,
   "metadata": {},
   "outputs": [
    {
     "data": {
      "image/png": "[encoded data removed]",
      "text/plain": [
       "<Figure size 640x480 with 1 Axes>"
      ]
     },
     "metadata": {},
     "output_type": "display_data"
    }
   ],
   "source": [
    "import matplotlib.pyplot as plt\n",
    "\n",
    "# Extracting data\n",
    "outage_duration = linear_outages_filled['OUTAGE_DURATION']\n",
    "customers_affected = linear_outages_filled['CUSTOMERS.AFFECTED']\n",
    "\n",
    "# Create scatter plot\n",
    "\n",
    "plt.scatter(outage_duration, customers_affected, alpha=0.5)\n",
    "plt.title('Relationship between Outage Duration and Customers Affected')\n",
    "plt.xlabel('Outage Duration')\n",
    "plt.ylabel('Customers Affected')\n",
    "\n",
    "plt.show()\n"
   ]
  },
  {
   "cell_type": "code",
   "execution_count": 111,
   "metadata": {},
   "outputs": [
    {
     "data": {
      "text/plain": [
       "Pipeline(steps=[('one_hot_encoder',\n",
       "                 ColumnTransformer(remainder='passthrough',\n",
       "                                   transformers=[('onehot',\n",
       "                                                  OneHotEncoder(drop='first'),\n",
       "                                                  ['CLIMATE.REGION']),\n",
       "                                                 ('transform',\n",
       "                                                  FunctionTransformer(func=<function <lambda> at 0x0000018964ABB670>),\n",
       "                                                  ['RES.PRICE', 'PI.UTIL.OFUSA',\n",
       "                                                   'OUTAGE_DURATION']),\n",
       "                                                 ('STD', StandardScaler(),\n",
       "                                                  ['RES.PRICE', 'PI.UTIL.OFUSA',\n",
       "                                                   'OUTAGE_DURATION'])])),\n",
       "                ('linear', LinearRegression())])"
      ]
     },
     "execution_count": 111,
     "metadata": {},
     "output_type": "execute_result"
    }
   ],
   "source": [
    "from sklearn.pipeline import Pipeline\n",
    "from sklearn.compose import ColumnTransformer\n",
    "from sklearn.preprocessing import OneHotEncoder,FunctionTransformer,StandardScaler\n",
    "from sklearn.model_selection import train_test_split\n",
    "from sklearn.metrics import mean_squared_error,r2_score\n",
    "from sklearn.linear_model import LinearRegression\n",
    "X = linear_outages_filled[['RES.PRICE','CLIMATE.REGION','PI.UTIL.OFUSA','OUTAGE_DURATION']]\n",
    "y = linear_outages_filled['CUSTOMERS.AFFECTED']\n",
    "\n",
    "one_hot_encoder = ColumnTransformer(\n",
    "    transformers=[\n",
    "    (\"onehot\", OneHotEncoder(drop='first'), ['CLIMATE.REGION']),\n",
    "    ('transform', FunctionTransformer(lambda x: x.astype(float)), ['RES.PRICE','PI.UTIL.OFUSA','OUTAGE_DURATION']),\n",
    "    ('STD', StandardScaler(),['RES.PRICE','PI.UTIL.OFUSA','OUTAGE_DURATION'])\n",
    "],\n",
    "    remainder=\"passthrough\"\n",
    ")\n",
    "pipeline = Pipeline([\n",
    "    ('one_hot_encoder', one_hot_encoder),\n",
    "    ('linear',LinearRegression())\n",
    "])\n",
    "pipeline"
   ]
  },
  {
   "cell_type": "code",
   "execution_count": 112,
   "metadata": {},
   "outputs": [
    {
     "data": {
      "text/plain": [
       "Pipeline(steps=[('one_hot_encoder',\n",
       "                 ColumnTransformer(remainder='passthrough',\n",
       "                                   transformers=[('onehot',\n",
       "                                                  OneHotEncoder(drop='first'),\n",
       "                                                  ['CLIMATE.REGION']),\n",
       "                                                 ('transform',\n",
       "                                                  FunctionTransformer(func=<function <lambda> at 0x0000018964ABB670>),\n",
       "                                                  ['RES.PRICE', 'PI.UTIL.OFUSA',\n",
       "                                                   'OUTAGE_DURATION']),\n",
       "                                                 ('STD', StandardScaler(),\n",
       "                                                  ['RES.PRICE', 'PI.UTIL.OFUSA',\n",
       "                                                   'OUTAGE_DURATION'])])),\n",
       "                ('linear', LinearRegression())])"
      ]
     },
     "execution_count": 112,
     "metadata": {},
     "output_type": "execute_result"
    }
   ],
   "source": [
    "# Split data into train and test sets\n",
    "X_train, X_test, y_train, y_test = train_test_split(X, y, test_size=0.2, random_state=42)\n",
    "\n",
    "# Fit the pipeline on training data\n",
    "pipeline.fit(X_train, y_train)"
   ]
  },
  {
   "cell_type": "markdown",
   "metadata": {},
   "source": [
    "Training Data"
   ]
  },
  {
   "cell_type": "code",
   "execution_count": 113,
   "metadata": {},
   "outputs": [
    {
     "name": "stdout",
     "output_type": "stream",
     "text": [
      "Root Mean Squared Error (RMSE): 266854.18692191096\n",
      "R^2: 0.03968358077730261\n"
     ]
    }
   ],
   "source": [
    "y_pred = pipeline.predict(X_test)\n",
    "#R^2\n",
    "r_squared = r2_score(y_test, y_pred)\n",
    "# Calculate mean squared error\n",
    "mse = mean_squared_error(y_test, y_pred,squared=False)\n",
    "\n",
    "# Calculate root mean squared error\n",
    "print(\"Root Mean Squared Error (RMSE):\", mse)\n",
    "print(\"R^2:\", r_squared)"
   ]
  },
  {
   "cell_type": "markdown",
   "metadata": {},
   "source": [
    "Our intial model isnt very accurate at all. The RMSE is incredible high and the r^2 is incredible low. We have to make lots of adjustments going into our final model.\n",
    "\n"
   ]
  },
  {
   "cell_type": "code",
   "execution_count": 114,
   "metadata": {},
   "outputs": [
    {
     "data": {
      "text/plain": [
       "161834.49556025368"
      ]
     },
     "execution_count": 114,
     "metadata": {},
     "output_type": "execute_result"
    }
   ],
   "source": [
    "linear_regression_model = pipeline.named_steps['linear']\n",
    "linear_coefficients = linear_regression_model.coef_\n",
    "linear_regression_model.intercept_"
   ]
  },
  {
   "cell_type": "code",
   "execution_count": null,
   "metadata": {},
   "outputs": [],
   "source": []
  },
  {
   "cell_type": "code",
   "execution_count": null,
   "metadata": {},
   "outputs": [],
   "source": []
  },
  {
   "cell_type": "markdown",
   "metadata": {},
   "source": [
    "## Step 7: Final Model"
   ]
  },
  {
   "cell_type": "code",
   "execution_count": 115,
   "metadata": {
    "ExecuteTime": {
     "end_time": "2019-10-31T23:36:28.662099Z",
     "start_time": "2019-10-31T23:36:28.660016Z"
    }
   },
   "outputs": [],
   "source": [
    "X_train_transformed = pipeline.named_steps['one_hot_encoder'].transform(X_train)\n"
   ]
  },
  {
   "cell_type": "code",
   "execution_count": 116,
   "metadata": {},
   "outputs": [
    {
     "data": {
      "text/plain": [
       "dict_keys(['copy_X', 'fit_intercept', 'n_jobs', 'normalize', 'positive'])"
      ]
     },
     "execution_count": 116,
     "metadata": {},
     "output_type": "execute_result"
    }
   ],
   "source": [
    "pipeline.named_steps['linear'].get_params().keys()"
   ]
  },
  {
   "cell_type": "code",
   "execution_count": 117,
   "metadata": {},
   "outputs": [
    {
     "data": {
      "text/plain": [
       "{'copy_X': True, 'fit_intercept': True, 'positive': False}"
      ]
     },
     "execution_count": 117,
     "metadata": {},
     "output_type": "execute_result"
    }
   ],
   "source": [
    "from sklearn.model_selection import GridSearchCV\n",
    "\n",
    "param_grid = {\n",
    "    \"fit_intercept\": [True, False],\n",
    "    \"positive\":[True, False],\n",
    "    \"copy_X\":[True, False]\n",
    "}\n",
    "\n",
    "# Perform GridSearchCV for hyperparameter tuning\n",
    "grid_search = GridSearchCV(LinearRegression(), param_grid, cv=5)\n",
    "grid_search.fit(X_train_transformed, y_train)\n",
    "grid_search.best_params_"
   ]
  },
  {
   "cell_type": "code",
   "execution_count": null,
   "metadata": {},
   "outputs": [],
   "source": []
  },
  {
   "cell_type": "code",
   "execution_count": null,
   "metadata": {},
   "outputs": [],
   "source": []
  },
  {
   "cell_type": "code",
   "execution_count": 118,
   "metadata": {},
   "outputs": [],
   "source": [
    "final_linear_reg = LinearRegression(**grid_search.best_params_)\n"
   ]
  },
  {
   "cell_type": "code",
   "execution_count": 119,
   "metadata": {},
   "outputs": [
    {
     "data": {
      "text/plain": [
       "0.06637239458642286"
      ]
     },
     "execution_count": 119,
     "metadata": {},
     "output_type": "execute_result"
    }
   ],
   "source": [
    "final_linear_reg.fit(X_train_transformed, y_train)\n",
    "final_linear_reg.score(X_train_transformed, y_train)"
   ]
  },
  {
   "cell_type": "markdown",
   "metadata": {},
   "source": [
    "## Step 8: Fairness Analysis"
   ]
  },
  {
   "cell_type": "code",
   "execution_count": 120,
   "metadata": {
    "ExecuteTime": {
     "end_time": "2019-10-31T23:36:28.666489Z",
     "start_time": "2019-10-31T23:36:28.664381Z"
    }
   },
   "outputs": [],
   "source": [
    "# TODO"
   ]
  }
 ],
 "metadata": {
  "kernelspec": {
   "display_name": "Python 3 (ipykernel)",
   "language": "python",
   "name": "python3"
  },
  "language_info": {
   "codemirror_mode": {
    "name": "ipython",
    "version": 3
   },
   "file_extension": ".py",
   "mimetype": "text/x-python",
   "name": "python",
   "nbconvert_exporter": "python",
   "pygments_lexer": "ipython3",
   "version": "3.8.18"
  }
 },
 "nbformat": 4,
 "nbformat_minor": 2
}
