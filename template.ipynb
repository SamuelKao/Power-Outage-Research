{
 "cells": [
  {
   "cell_type": "markdown",
   "metadata": {},
   "source": [
    "# Your Title Here\n",
    "\n",
    "**Name(s)**: (Dawson Tam)\n",
    "\n",
    "**Website Link**: (your website link)"
   ]
  },
  {
   "cell_type": "code",
   "execution_count": 462,
   "metadata": {
    "ExecuteTime": {
     "end_time": "2019-10-31T23:36:28.652554Z",
     "start_time": "2019-10-31T23:36:27.180520Z"
    }
   },
   "outputs": [],
   "source": [
    "import pandas as pd\n",
    "import numpy as np\n",
    "import plotly.io as pio\n",
    "from scipy.stats import ks_2samp\n",
    "\n",
    "from pathlib import Path\n",
    "import matplotlib.pyplot as plt\n",
    "\n",
    "import plotly.express as px\n",
    "pd.options.plotting.backend = 'plotly'\n",
    "\n",
    "# from dsc80_utils import * # Feel free to uncomment and use this."
   ]
  },
  {
   "cell_type": "markdown",
   "metadata": {},
   "source": [
    "## Step 1: Introduction"
   ]
  },
  {
   "cell_type": "markdown",
   "metadata": {},
   "source": [
    "My partner and I are planning to conduct analysis on the outages dataset. It seems the most relevant and has real world applications; thus, we believe the power outages dataset to be the most appealing.\n",
    "\n",
    "There are various questions that we can explore when it comes to this dataset. Here are a few of them.\n",
    "\n",
    "-Which factors most heavily contribute to increasing the duration of a power outage?\n",
    "\n",
    "-Do different regions/states have different distributions in the number of power outages that they experience?\n",
    "\n",
    "-Has there been an increase in the number of power outages across the United States due to the increase of rapid urbanization?"
   ]
  },
  {
   "cell_type": "code",
   "execution_count": null,
   "metadata": {},
   "outputs": [],
   "source": []
  },
  {
   "cell_type": "markdown",
   "metadata": {},
   "source": [
    "## Step 2: Data Cleaning and Exploratory Data Analysis"
   ]
  },
  {
   "cell_type": "code",
   "execution_count": 463,
   "metadata": {
    "ExecuteTime": {
     "end_time": "2019-10-31T23:36:28.657068Z",
     "start_time": "2019-10-31T23:36:28.654650Z"
    }
   },
   "outputs": [],
   "source": [
    "import pandas as pd\n",
    "\n",
    "# Read the CSV file\n",
    "df = pd.read_csv(\"outage.csv\")\n",
    "\n",
    "# Make a copy of the DataFrame\n",
    "\n",
    "# Slice the DataFrame starting from row 6 (index 5)\n",
    "outages = df.iloc[6:].copy()  # Ensure a copy is made\n",
    "\n",
    "# Use the row at index 4 as column names\n",
    "column_names = list(df.iloc[4].values)\n",
    "\n",
    "# Rename columns for better understanding\n",
    "outages.rename(columns=dict(zip(outages.columns, column_names)), inplace=True)\n",
    "\n",
    "# Drop the 'variables' column\n",
    "outages.drop(columns='variables', inplace=True)\n",
    "\n",
    "# Now modifications are applied to the original DataFrame 'outages1' without raising the warning\n"
   ]
  },
  {
   "cell_type": "code",
   "execution_count": null,
   "metadata": {},
   "outputs": [],
   "source": []
  },
  {
   "cell_type": "code",
   "execution_count": 464,
   "metadata": {},
   "outputs": [
    {
     "data": {
      "text/plain": [
       "Index(['OBS', 'YEAR', 'MONTH', 'U.S._STATE', 'POSTAL.CODE', 'NERC.REGION',\n",
       "       'CLIMATE.REGION', 'ANOMALY.LEVEL', 'CLIMATE.CATEGORY',\n",
       "       'OUTAGE.START.DATE', 'OUTAGE.START.TIME', 'OUTAGE.RESTORATION.DATE',\n",
       "       'OUTAGE.RESTORATION.TIME', 'CAUSE.CATEGORY', 'CAUSE.CATEGORY.DETAIL',\n",
       "       'HURRICANE.NAMES', 'OUTAGE.DURATION', 'DEMAND.LOSS.MW',\n",
       "       'CUSTOMERS.AFFECTED', 'RES.PRICE', 'COM.PRICE', 'IND.PRICE',\n",
       "       'TOTAL.PRICE', 'RES.SALES', 'COM.SALES', 'IND.SALES', 'TOTAL.SALES',\n",
       "       'RES.PERCEN', 'COM.PERCEN', 'IND.PERCEN', 'RES.CUSTOMERS',\n",
       "       'COM.CUSTOMERS', 'IND.CUSTOMERS', 'TOTAL.CUSTOMERS', 'RES.CUST.PCT',\n",
       "       'COM.CUST.PCT', 'IND.CUST.PCT', 'PC.REALGSP.STATE', 'PC.REALGSP.USA',\n",
       "       'PC.REALGSP.REL', 'PC.REALGSP.CHANGE', 'UTIL.REALGSP', 'TOTAL.REALGSP',\n",
       "       'UTIL.CONTRI', 'PI.UTIL.OFUSA', 'POPULATION', 'POPPCT_URBAN',\n",
       "       'POPPCT_UC', 'POPDEN_URBAN', 'POPDEN_UC', 'POPDEN_RURAL',\n",
       "       'AREAPCT_URBAN', 'AREAPCT_UC', 'PCT_LAND', 'PCT_WATER_TOT',\n",
       "       'PCT_WATER_INLAND'],\n",
       "      dtype='object')"
      ]
     },
     "execution_count": 464,
     "metadata": {},
     "output_type": "execute_result"
    }
   ],
   "source": [
    "#lets check what columns we have to work with\n",
    "outages.columns"
   ]
  },
  {
   "cell_type": "code",
   "execution_count": 465,
   "metadata": {},
   "outputs": [
    {
     "data": {
      "text/plain": [
       "['MONTH',\n",
       " 'CLIMATE.REGION',\n",
       " 'ANOMALY.LEVEL',\n",
       " 'CLIMATE.CATEGORY',\n",
       " 'OUTAGE.START.DATE',\n",
       " 'OUTAGE.START.TIME',\n",
       " 'OUTAGE.RESTORATION.DATE',\n",
       " 'OUTAGE.RESTORATION.TIME',\n",
       " 'CAUSE.CATEGORY.DETAIL',\n",
       " 'HURRICANE.NAMES',\n",
       " 'OUTAGE.DURATION',\n",
       " 'DEMAND.LOSS.MW',\n",
       " 'CUSTOMERS.AFFECTED',\n",
       " 'RES.PRICE',\n",
       " 'COM.PRICE',\n",
       " 'IND.PRICE',\n",
       " 'TOTAL.PRICE',\n",
       " 'RES.SALES',\n",
       " 'COM.SALES',\n",
       " 'IND.SALES',\n",
       " 'TOTAL.SALES',\n",
       " 'RES.PERCEN',\n",
       " 'COM.PERCEN',\n",
       " 'IND.PERCEN',\n",
       " 'POPDEN_UC',\n",
       " 'POPDEN_RURAL']"
      ]
     },
     "execution_count": 465,
     "metadata": {},
     "output_type": "execute_result"
    }
   ],
   "source": [
    "#CHECK OUT WHICH COLUMNS HAVE MISSING VALUES\n",
    "columns_with_na = outages.columns[outages.isna().any()].tolist()\n",
    "columns_with_na"
   ]
  },
  {
   "cell_type": "markdown",
   "metadata": {},
   "source": [
    "There are a couple of columns that we don't need. Because we are ultimately trying to predict which variables are going to be the most efffective at determining how long outages last for, we might not need columns such as \"OUTAGE.RESTORATION.DATE\".\"OUTAGE.RESTORATION.TIME\", \"RES.PRICE\".etc. "
   ]
  },
  {
   "cell_type": "code",
   "execution_count": 466,
   "metadata": {},
   "outputs": [],
   "source": [
    "#lets take out some of those unecessary columsn\n",
    "outages.drop(columns = \"OUTAGE.RESTORATION.DATE\", inplace = True)\n"
   ]
  },
  {
   "cell_type": "code",
   "execution_count": 467,
   "metadata": {},
   "outputs": [
    {
     "data": {
      "text/html": [
       "<div>\n",
       "<style scoped>\n",
       "    .dataframe tbody tr th:only-of-type {\n",
       "        vertical-align: middle;\n",
       "    }\n",
       "\n",
       "    .dataframe tbody tr th {\n",
       "        vertical-align: top;\n",
       "    }\n",
       "\n",
       "    .dataframe thead th {\n",
       "        text-align: right;\n",
       "    }\n",
       "</style>\n",
       "<table border=\"1\" class=\"dataframe\">\n",
       "  <thead>\n",
       "    <tr style=\"text-align: right;\">\n",
       "      <th></th>\n",
       "      <th>OBS</th>\n",
       "      <th>YEAR</th>\n",
       "      <th>MONTH</th>\n",
       "      <th>U.S._STATE</th>\n",
       "      <th>POSTAL.CODE</th>\n",
       "      <th>NERC.REGION</th>\n",
       "      <th>CLIMATE.REGION</th>\n",
       "      <th>ANOMALY.LEVEL</th>\n",
       "      <th>CLIMATE.CATEGORY</th>\n",
       "      <th>OUTAGE.START.DATE</th>\n",
       "      <th>...</th>\n",
       "      <th>POPPCT_URBAN</th>\n",
       "      <th>POPPCT_UC</th>\n",
       "      <th>POPDEN_URBAN</th>\n",
       "      <th>POPDEN_UC</th>\n",
       "      <th>POPDEN_RURAL</th>\n",
       "      <th>AREAPCT_URBAN</th>\n",
       "      <th>AREAPCT_UC</th>\n",
       "      <th>PCT_LAND</th>\n",
       "      <th>PCT_WATER_TOT</th>\n",
       "      <th>PCT_WATER_INLAND</th>\n",
       "    </tr>\n",
       "  </thead>\n",
       "  <tbody>\n",
       "    <tr>\n",
       "      <th>6</th>\n",
       "      <td>1</td>\n",
       "      <td>2011</td>\n",
       "      <td>7</td>\n",
       "      <td>Minnesota</td>\n",
       "      <td>MN</td>\n",
       "      <td>MRO</td>\n",
       "      <td>East North Central</td>\n",
       "      <td>-0.3</td>\n",
       "      <td>normal</td>\n",
       "      <td>Friday, July 1, 2011</td>\n",
       "      <td>...</td>\n",
       "      <td>73.27</td>\n",
       "      <td>15.28</td>\n",
       "      <td>2279</td>\n",
       "      <td>1700.5</td>\n",
       "      <td>18.2</td>\n",
       "      <td>2.14</td>\n",
       "      <td>0.6</td>\n",
       "      <td>91.59266587</td>\n",
       "      <td>8.407334131</td>\n",
       "      <td>5.478742983</td>\n",
       "    </tr>\n",
       "    <tr>\n",
       "      <th>7</th>\n",
       "      <td>2</td>\n",
       "      <td>2014</td>\n",
       "      <td>5</td>\n",
       "      <td>Minnesota</td>\n",
       "      <td>MN</td>\n",
       "      <td>MRO</td>\n",
       "      <td>East North Central</td>\n",
       "      <td>-0.1</td>\n",
       "      <td>normal</td>\n",
       "      <td>Sunday, May 11, 2014</td>\n",
       "      <td>...</td>\n",
       "      <td>73.27</td>\n",
       "      <td>15.28</td>\n",
       "      <td>2279</td>\n",
       "      <td>1700.5</td>\n",
       "      <td>18.2</td>\n",
       "      <td>2.14</td>\n",
       "      <td>0.6</td>\n",
       "      <td>91.59266587</td>\n",
       "      <td>8.407334131</td>\n",
       "      <td>5.478742983</td>\n",
       "    </tr>\n",
       "    <tr>\n",
       "      <th>8</th>\n",
       "      <td>3</td>\n",
       "      <td>2010</td>\n",
       "      <td>10</td>\n",
       "      <td>Minnesota</td>\n",
       "      <td>MN</td>\n",
       "      <td>MRO</td>\n",
       "      <td>East North Central</td>\n",
       "      <td>-1.5</td>\n",
       "      <td>cold</td>\n",
       "      <td>Tuesday, October 26, 2010</td>\n",
       "      <td>...</td>\n",
       "      <td>73.27</td>\n",
       "      <td>15.28</td>\n",
       "      <td>2279</td>\n",
       "      <td>1700.5</td>\n",
       "      <td>18.2</td>\n",
       "      <td>2.14</td>\n",
       "      <td>0.6</td>\n",
       "      <td>91.59266587</td>\n",
       "      <td>8.407334131</td>\n",
       "      <td>5.478742983</td>\n",
       "    </tr>\n",
       "    <tr>\n",
       "      <th>9</th>\n",
       "      <td>4</td>\n",
       "      <td>2012</td>\n",
       "      <td>6</td>\n",
       "      <td>Minnesota</td>\n",
       "      <td>MN</td>\n",
       "      <td>MRO</td>\n",
       "      <td>East North Central</td>\n",
       "      <td>-0.1</td>\n",
       "      <td>normal</td>\n",
       "      <td>Tuesday, June 19, 2012</td>\n",
       "      <td>...</td>\n",
       "      <td>73.27</td>\n",
       "      <td>15.28</td>\n",
       "      <td>2279</td>\n",
       "      <td>1700.5</td>\n",
       "      <td>18.2</td>\n",
       "      <td>2.14</td>\n",
       "      <td>0.6</td>\n",
       "      <td>91.59266587</td>\n",
       "      <td>8.407334131</td>\n",
       "      <td>5.478742983</td>\n",
       "    </tr>\n",
       "    <tr>\n",
       "      <th>10</th>\n",
       "      <td>5</td>\n",
       "      <td>2015</td>\n",
       "      <td>7</td>\n",
       "      <td>Minnesota</td>\n",
       "      <td>MN</td>\n",
       "      <td>MRO</td>\n",
       "      <td>East North Central</td>\n",
       "      <td>1.2</td>\n",
       "      <td>warm</td>\n",
       "      <td>Saturday, July 18, 2015</td>\n",
       "      <td>...</td>\n",
       "      <td>73.27</td>\n",
       "      <td>15.28</td>\n",
       "      <td>2279</td>\n",
       "      <td>1700.5</td>\n",
       "      <td>18.2</td>\n",
       "      <td>2.14</td>\n",
       "      <td>0.6</td>\n",
       "      <td>91.59266587</td>\n",
       "      <td>8.407334131</td>\n",
       "      <td>5.478742983</td>\n",
       "    </tr>\n",
       "    <tr>\n",
       "      <th>...</th>\n",
       "      <td>...</td>\n",
       "      <td>...</td>\n",
       "      <td>...</td>\n",
       "      <td>...</td>\n",
       "      <td>...</td>\n",
       "      <td>...</td>\n",
       "      <td>...</td>\n",
       "      <td>...</td>\n",
       "      <td>...</td>\n",
       "      <td>...</td>\n",
       "      <td>...</td>\n",
       "      <td>...</td>\n",
       "      <td>...</td>\n",
       "      <td>...</td>\n",
       "      <td>...</td>\n",
       "      <td>...</td>\n",
       "      <td>...</td>\n",
       "      <td>...</td>\n",
       "      <td>...</td>\n",
       "      <td>...</td>\n",
       "      <td>...</td>\n",
       "    </tr>\n",
       "    <tr>\n",
       "      <th>1535</th>\n",
       "      <td>1530</td>\n",
       "      <td>2011</td>\n",
       "      <td>12</td>\n",
       "      <td>North Dakota</td>\n",
       "      <td>ND</td>\n",
       "      <td>MRO</td>\n",
       "      <td>West North Central</td>\n",
       "      <td>-0.9</td>\n",
       "      <td>cold</td>\n",
       "      <td>Tuesday, December 6, 2011</td>\n",
       "      <td>...</td>\n",
       "      <td>59.9</td>\n",
       "      <td>19.9</td>\n",
       "      <td>2192.2</td>\n",
       "      <td>1868.2</td>\n",
       "      <td>3.9</td>\n",
       "      <td>0.27</td>\n",
       "      <td>0.1</td>\n",
       "      <td>97.59964921</td>\n",
       "      <td>2.401765255</td>\n",
       "      <td>2.401765255</td>\n",
       "    </tr>\n",
       "    <tr>\n",
       "      <th>1536</th>\n",
       "      <td>1531</td>\n",
       "      <td>2006</td>\n",
       "      <td>NaN</td>\n",
       "      <td>North Dakota</td>\n",
       "      <td>ND</td>\n",
       "      <td>MRO</td>\n",
       "      <td>West North Central</td>\n",
       "      <td>NaN</td>\n",
       "      <td>NaN</td>\n",
       "      <td>NaN</td>\n",
       "      <td>...</td>\n",
       "      <td>59.9</td>\n",
       "      <td>19.9</td>\n",
       "      <td>2192.2</td>\n",
       "      <td>1868.2</td>\n",
       "      <td>3.9</td>\n",
       "      <td>0.27</td>\n",
       "      <td>0.1</td>\n",
       "      <td>97.59964921</td>\n",
       "      <td>2.401765255</td>\n",
       "      <td>2.401765255</td>\n",
       "    </tr>\n",
       "    <tr>\n",
       "      <th>1537</th>\n",
       "      <td>1532</td>\n",
       "      <td>2009</td>\n",
       "      <td>8</td>\n",
       "      <td>South Dakota</td>\n",
       "      <td>SD</td>\n",
       "      <td>RFC</td>\n",
       "      <td>West North Central</td>\n",
       "      <td>0.5</td>\n",
       "      <td>warm</td>\n",
       "      <td>Saturday, August 29, 2009</td>\n",
       "      <td>...</td>\n",
       "      <td>56.65</td>\n",
       "      <td>26.73</td>\n",
       "      <td>2038.3</td>\n",
       "      <td>1905.4</td>\n",
       "      <td>4.7</td>\n",
       "      <td>0.3</td>\n",
       "      <td>0.15</td>\n",
       "      <td>98.30774418</td>\n",
       "      <td>1.692255822</td>\n",
       "      <td>1.692255822</td>\n",
       "    </tr>\n",
       "    <tr>\n",
       "      <th>1538</th>\n",
       "      <td>1533</td>\n",
       "      <td>2009</td>\n",
       "      <td>8</td>\n",
       "      <td>South Dakota</td>\n",
       "      <td>SD</td>\n",
       "      <td>MRO</td>\n",
       "      <td>West North Central</td>\n",
       "      <td>0.5</td>\n",
       "      <td>warm</td>\n",
       "      <td>Saturday, August 29, 2009</td>\n",
       "      <td>...</td>\n",
       "      <td>56.65</td>\n",
       "      <td>26.73</td>\n",
       "      <td>2038.3</td>\n",
       "      <td>1905.4</td>\n",
       "      <td>4.7</td>\n",
       "      <td>0.3</td>\n",
       "      <td>0.15</td>\n",
       "      <td>98.30774418</td>\n",
       "      <td>1.692255822</td>\n",
       "      <td>1.692255822</td>\n",
       "    </tr>\n",
       "    <tr>\n",
       "      <th>1539</th>\n",
       "      <td>1534</td>\n",
       "      <td>2000</td>\n",
       "      <td>NaN</td>\n",
       "      <td>Alaska</td>\n",
       "      <td>AK</td>\n",
       "      <td>ASCC</td>\n",
       "      <td>NaN</td>\n",
       "      <td>NaN</td>\n",
       "      <td>NaN</td>\n",
       "      <td>NaN</td>\n",
       "      <td>...</td>\n",
       "      <td>66.02</td>\n",
       "      <td>21.56</td>\n",
       "      <td>1802.6</td>\n",
       "      <td>1276</td>\n",
       "      <td>0.4</td>\n",
       "      <td>0.05</td>\n",
       "      <td>0.02</td>\n",
       "      <td>85.76115446</td>\n",
       "      <td>14.23884554</td>\n",
       "      <td>2.901181874</td>\n",
       "    </tr>\n",
       "  </tbody>\n",
       "</table>\n",
       "<p>1534 rows × 54 columns</p>\n",
       "</div>"
      ],
      "text/plain": [
       "       OBS  YEAR MONTH    U.S._STATE POSTAL.CODE NERC.REGION  \\\n",
       "6        1  2011     7     Minnesota          MN         MRO   \n",
       "7        2  2014     5     Minnesota          MN         MRO   \n",
       "8        3  2010    10     Minnesota          MN         MRO   \n",
       "9        4  2012     6     Minnesota          MN         MRO   \n",
       "10       5  2015     7     Minnesota          MN         MRO   \n",
       "...    ...   ...   ...           ...         ...         ...   \n",
       "1535  1530  2011    12  North Dakota          ND         MRO   \n",
       "1536  1531  2006   NaN  North Dakota          ND         MRO   \n",
       "1537  1532  2009     8  South Dakota          SD         RFC   \n",
       "1538  1533  2009     8  South Dakota          SD         MRO   \n",
       "1539  1534  2000   NaN        Alaska          AK        ASCC   \n",
       "\n",
       "          CLIMATE.REGION ANOMALY.LEVEL CLIMATE.CATEGORY  \\\n",
       "6     East North Central          -0.3           normal   \n",
       "7     East North Central          -0.1           normal   \n",
       "8     East North Central          -1.5             cold   \n",
       "9     East North Central          -0.1           normal   \n",
       "10    East North Central           1.2             warm   \n",
       "...                  ...           ...              ...   \n",
       "1535  West North Central          -0.9             cold   \n",
       "1536  West North Central           NaN              NaN   \n",
       "1537  West North Central           0.5             warm   \n",
       "1538  West North Central           0.5             warm   \n",
       "1539                 NaN           NaN              NaN   \n",
       "\n",
       "              OUTAGE.START.DATE  ... POPPCT_URBAN POPPCT_UC POPDEN_URBAN  \\\n",
       "6          Friday, July 1, 2011  ...        73.27     15.28         2279   \n",
       "7          Sunday, May 11, 2014  ...        73.27     15.28         2279   \n",
       "8     Tuesday, October 26, 2010  ...        73.27     15.28         2279   \n",
       "9        Tuesday, June 19, 2012  ...        73.27     15.28         2279   \n",
       "10      Saturday, July 18, 2015  ...        73.27     15.28         2279   \n",
       "...                         ...  ...          ...       ...          ...   \n",
       "1535  Tuesday, December 6, 2011  ...         59.9      19.9       2192.2   \n",
       "1536                        NaN  ...         59.9      19.9       2192.2   \n",
       "1537  Saturday, August 29, 2009  ...        56.65     26.73       2038.3   \n",
       "1538  Saturday, August 29, 2009  ...        56.65     26.73       2038.3   \n",
       "1539                        NaN  ...        66.02     21.56       1802.6   \n",
       "\n",
       "     POPDEN_UC POPDEN_RURAL AREAPCT_URBAN AREAPCT_UC     PCT_LAND  \\\n",
       "6       1700.5         18.2          2.14        0.6  91.59266587   \n",
       "7       1700.5         18.2          2.14        0.6  91.59266587   \n",
       "8       1700.5         18.2          2.14        0.6  91.59266587   \n",
       "9       1700.5         18.2          2.14        0.6  91.59266587   \n",
       "10      1700.5         18.2          2.14        0.6  91.59266587   \n",
       "...        ...          ...           ...        ...          ...   \n",
       "1535    1868.2          3.9          0.27        0.1  97.59964921   \n",
       "1536    1868.2          3.9          0.27        0.1  97.59964921   \n",
       "1537    1905.4          4.7           0.3       0.15  98.30774418   \n",
       "1538    1905.4          4.7           0.3       0.15  98.30774418   \n",
       "1539      1276          0.4          0.05       0.02  85.76115446   \n",
       "\n",
       "     PCT_WATER_TOT PCT_WATER_INLAND  \n",
       "6      8.407334131      5.478742983  \n",
       "7      8.407334131      5.478742983  \n",
       "8      8.407334131      5.478742983  \n",
       "9      8.407334131      5.478742983  \n",
       "10     8.407334131      5.478742983  \n",
       "...            ...              ...  \n",
       "1535   2.401765255      2.401765255  \n",
       "1536   2.401765255      2.401765255  \n",
       "1537   1.692255822      1.692255822  \n",
       "1538   1.692255822      1.692255822  \n",
       "1539   14.23884554      2.901181874  \n",
       "\n",
       "[1534 rows x 54 columns]"
      ]
     },
     "execution_count": 467,
     "metadata": {},
     "output_type": "execute_result"
    }
   ],
   "source": [
    "outages.drop(columns = \"OUTAGE.RESTORATION.TIME\", inplace = True)\n",
    "outages"
   ]
  },
  {
   "cell_type": "code",
   "execution_count": 468,
   "metadata": {},
   "outputs": [
    {
     "data": {
      "text/html": [
       "<div>\n",
       "<style scoped>\n",
       "    .dataframe tbody tr th:only-of-type {\n",
       "        vertical-align: middle;\n",
       "    }\n",
       "\n",
       "    .dataframe tbody tr th {\n",
       "        vertical-align: top;\n",
       "    }\n",
       "\n",
       "    .dataframe thead th {\n",
       "        text-align: right;\n",
       "    }\n",
       "</style>\n",
       "<table border=\"1\" class=\"dataframe\">\n",
       "  <thead>\n",
       "    <tr style=\"text-align: right;\">\n",
       "      <th></th>\n",
       "      <th>YEAR</th>\n",
       "      <th>MONTH</th>\n",
       "      <th>U.S._STATE</th>\n",
       "      <th>POSTAL.CODE</th>\n",
       "      <th>NERC.REGION</th>\n",
       "      <th>CLIMATE.REGION</th>\n",
       "      <th>ANOMALY.LEVEL</th>\n",
       "      <th>CLIMATE.CATEGORY</th>\n",
       "      <th>OUTAGE.START.DATE</th>\n",
       "      <th>OUTAGE.START.TIME</th>\n",
       "      <th>...</th>\n",
       "      <th>POPPCT_URBAN</th>\n",
       "      <th>POPPCT_UC</th>\n",
       "      <th>POPDEN_URBAN</th>\n",
       "      <th>POPDEN_UC</th>\n",
       "      <th>POPDEN_RURAL</th>\n",
       "      <th>AREAPCT_URBAN</th>\n",
       "      <th>AREAPCT_UC</th>\n",
       "      <th>PCT_LAND</th>\n",
       "      <th>PCT_WATER_TOT</th>\n",
       "      <th>PCT_WATER_INLAND</th>\n",
       "    </tr>\n",
       "  </thead>\n",
       "  <tbody>\n",
       "    <tr>\n",
       "      <th>6</th>\n",
       "      <td>2011</td>\n",
       "      <td>7</td>\n",
       "      <td>Minnesota</td>\n",
       "      <td>MN</td>\n",
       "      <td>MRO</td>\n",
       "      <td>East North Central</td>\n",
       "      <td>-0.3</td>\n",
       "      <td>normal</td>\n",
       "      <td>Friday, July 1, 2011</td>\n",
       "      <td>5:00:00 PM</td>\n",
       "      <td>...</td>\n",
       "      <td>73.27</td>\n",
       "      <td>15.28</td>\n",
       "      <td>2279</td>\n",
       "      <td>1700.5</td>\n",
       "      <td>18.2</td>\n",
       "      <td>2.14</td>\n",
       "      <td>0.6</td>\n",
       "      <td>91.59266587</td>\n",
       "      <td>8.407334131</td>\n",
       "      <td>5.478742983</td>\n",
       "    </tr>\n",
       "    <tr>\n",
       "      <th>7</th>\n",
       "      <td>2014</td>\n",
       "      <td>5</td>\n",
       "      <td>Minnesota</td>\n",
       "      <td>MN</td>\n",
       "      <td>MRO</td>\n",
       "      <td>East North Central</td>\n",
       "      <td>-0.1</td>\n",
       "      <td>normal</td>\n",
       "      <td>Sunday, May 11, 2014</td>\n",
       "      <td>6:38:00 PM</td>\n",
       "      <td>...</td>\n",
       "      <td>73.27</td>\n",
       "      <td>15.28</td>\n",
       "      <td>2279</td>\n",
       "      <td>1700.5</td>\n",
       "      <td>18.2</td>\n",
       "      <td>2.14</td>\n",
       "      <td>0.6</td>\n",
       "      <td>91.59266587</td>\n",
       "      <td>8.407334131</td>\n",
       "      <td>5.478742983</td>\n",
       "    </tr>\n",
       "    <tr>\n",
       "      <th>8</th>\n",
       "      <td>2010</td>\n",
       "      <td>10</td>\n",
       "      <td>Minnesota</td>\n",
       "      <td>MN</td>\n",
       "      <td>MRO</td>\n",
       "      <td>East North Central</td>\n",
       "      <td>-1.5</td>\n",
       "      <td>cold</td>\n",
       "      <td>Tuesday, October 26, 2010</td>\n",
       "      <td>8:00:00 PM</td>\n",
       "      <td>...</td>\n",
       "      <td>73.27</td>\n",
       "      <td>15.28</td>\n",
       "      <td>2279</td>\n",
       "      <td>1700.5</td>\n",
       "      <td>18.2</td>\n",
       "      <td>2.14</td>\n",
       "      <td>0.6</td>\n",
       "      <td>91.59266587</td>\n",
       "      <td>8.407334131</td>\n",
       "      <td>5.478742983</td>\n",
       "    </tr>\n",
       "    <tr>\n",
       "      <th>9</th>\n",
       "      <td>2012</td>\n",
       "      <td>6</td>\n",
       "      <td>Minnesota</td>\n",
       "      <td>MN</td>\n",
       "      <td>MRO</td>\n",
       "      <td>East North Central</td>\n",
       "      <td>-0.1</td>\n",
       "      <td>normal</td>\n",
       "      <td>Tuesday, June 19, 2012</td>\n",
       "      <td>4:30:00 AM</td>\n",
       "      <td>...</td>\n",
       "      <td>73.27</td>\n",
       "      <td>15.28</td>\n",
       "      <td>2279</td>\n",
       "      <td>1700.5</td>\n",
       "      <td>18.2</td>\n",
       "      <td>2.14</td>\n",
       "      <td>0.6</td>\n",
       "      <td>91.59266587</td>\n",
       "      <td>8.407334131</td>\n",
       "      <td>5.478742983</td>\n",
       "    </tr>\n",
       "    <tr>\n",
       "      <th>10</th>\n",
       "      <td>2015</td>\n",
       "      <td>7</td>\n",
       "      <td>Minnesota</td>\n",
       "      <td>MN</td>\n",
       "      <td>MRO</td>\n",
       "      <td>East North Central</td>\n",
       "      <td>1.2</td>\n",
       "      <td>warm</td>\n",
       "      <td>Saturday, July 18, 2015</td>\n",
       "      <td>2:00:00 AM</td>\n",
       "      <td>...</td>\n",
       "      <td>73.27</td>\n",
       "      <td>15.28</td>\n",
       "      <td>2279</td>\n",
       "      <td>1700.5</td>\n",
       "      <td>18.2</td>\n",
       "      <td>2.14</td>\n",
       "      <td>0.6</td>\n",
       "      <td>91.59266587</td>\n",
       "      <td>8.407334131</td>\n",
       "      <td>5.478742983</td>\n",
       "    </tr>\n",
       "    <tr>\n",
       "      <th>...</th>\n",
       "      <td>...</td>\n",
       "      <td>...</td>\n",
       "      <td>...</td>\n",
       "      <td>...</td>\n",
       "      <td>...</td>\n",
       "      <td>...</td>\n",
       "      <td>...</td>\n",
       "      <td>...</td>\n",
       "      <td>...</td>\n",
       "      <td>...</td>\n",
       "      <td>...</td>\n",
       "      <td>...</td>\n",
       "      <td>...</td>\n",
       "      <td>...</td>\n",
       "      <td>...</td>\n",
       "      <td>...</td>\n",
       "      <td>...</td>\n",
       "      <td>...</td>\n",
       "      <td>...</td>\n",
       "      <td>...</td>\n",
       "      <td>...</td>\n",
       "    </tr>\n",
       "    <tr>\n",
       "      <th>1535</th>\n",
       "      <td>2011</td>\n",
       "      <td>12</td>\n",
       "      <td>North Dakota</td>\n",
       "      <td>ND</td>\n",
       "      <td>MRO</td>\n",
       "      <td>West North Central</td>\n",
       "      <td>-0.9</td>\n",
       "      <td>cold</td>\n",
       "      <td>Tuesday, December 6, 2011</td>\n",
       "      <td>8:00:00 AM</td>\n",
       "      <td>...</td>\n",
       "      <td>59.9</td>\n",
       "      <td>19.9</td>\n",
       "      <td>2192.2</td>\n",
       "      <td>1868.2</td>\n",
       "      <td>3.9</td>\n",
       "      <td>0.27</td>\n",
       "      <td>0.1</td>\n",
       "      <td>97.59964921</td>\n",
       "      <td>2.401765255</td>\n",
       "      <td>2.401765255</td>\n",
       "    </tr>\n",
       "    <tr>\n",
       "      <th>1536</th>\n",
       "      <td>2006</td>\n",
       "      <td>NaN</td>\n",
       "      <td>North Dakota</td>\n",
       "      <td>ND</td>\n",
       "      <td>MRO</td>\n",
       "      <td>West North Central</td>\n",
       "      <td>NaN</td>\n",
       "      <td>NaN</td>\n",
       "      <td>NaN</td>\n",
       "      <td>NaN</td>\n",
       "      <td>...</td>\n",
       "      <td>59.9</td>\n",
       "      <td>19.9</td>\n",
       "      <td>2192.2</td>\n",
       "      <td>1868.2</td>\n",
       "      <td>3.9</td>\n",
       "      <td>0.27</td>\n",
       "      <td>0.1</td>\n",
       "      <td>97.59964921</td>\n",
       "      <td>2.401765255</td>\n",
       "      <td>2.401765255</td>\n",
       "    </tr>\n",
       "    <tr>\n",
       "      <th>1537</th>\n",
       "      <td>2009</td>\n",
       "      <td>8</td>\n",
       "      <td>South Dakota</td>\n",
       "      <td>SD</td>\n",
       "      <td>RFC</td>\n",
       "      <td>West North Central</td>\n",
       "      <td>0.5</td>\n",
       "      <td>warm</td>\n",
       "      <td>Saturday, August 29, 2009</td>\n",
       "      <td>10:54:00 PM</td>\n",
       "      <td>...</td>\n",
       "      <td>56.65</td>\n",
       "      <td>26.73</td>\n",
       "      <td>2038.3</td>\n",
       "      <td>1905.4</td>\n",
       "      <td>4.7</td>\n",
       "      <td>0.3</td>\n",
       "      <td>0.15</td>\n",
       "      <td>98.30774418</td>\n",
       "      <td>1.692255822</td>\n",
       "      <td>1.692255822</td>\n",
       "    </tr>\n",
       "    <tr>\n",
       "      <th>1538</th>\n",
       "      <td>2009</td>\n",
       "      <td>8</td>\n",
       "      <td>South Dakota</td>\n",
       "      <td>SD</td>\n",
       "      <td>MRO</td>\n",
       "      <td>West North Central</td>\n",
       "      <td>0.5</td>\n",
       "      <td>warm</td>\n",
       "      <td>Saturday, August 29, 2009</td>\n",
       "      <td>11:00:00 AM</td>\n",
       "      <td>...</td>\n",
       "      <td>56.65</td>\n",
       "      <td>26.73</td>\n",
       "      <td>2038.3</td>\n",
       "      <td>1905.4</td>\n",
       "      <td>4.7</td>\n",
       "      <td>0.3</td>\n",
       "      <td>0.15</td>\n",
       "      <td>98.30774418</td>\n",
       "      <td>1.692255822</td>\n",
       "      <td>1.692255822</td>\n",
       "    </tr>\n",
       "    <tr>\n",
       "      <th>1539</th>\n",
       "      <td>2000</td>\n",
       "      <td>NaN</td>\n",
       "      <td>Alaska</td>\n",
       "      <td>AK</td>\n",
       "      <td>ASCC</td>\n",
       "      <td>NaN</td>\n",
       "      <td>NaN</td>\n",
       "      <td>NaN</td>\n",
       "      <td>NaN</td>\n",
       "      <td>NaN</td>\n",
       "      <td>...</td>\n",
       "      <td>66.02</td>\n",
       "      <td>21.56</td>\n",
       "      <td>1802.6</td>\n",
       "      <td>1276</td>\n",
       "      <td>0.4</td>\n",
       "      <td>0.05</td>\n",
       "      <td>0.02</td>\n",
       "      <td>85.76115446</td>\n",
       "      <td>14.23884554</td>\n",
       "      <td>2.901181874</td>\n",
       "    </tr>\n",
       "  </tbody>\n",
       "</table>\n",
       "<p>1534 rows × 53 columns</p>\n",
       "</div>"
      ],
      "text/plain": [
       "      YEAR MONTH    U.S._STATE POSTAL.CODE NERC.REGION      CLIMATE.REGION  \\\n",
       "6     2011     7     Minnesota          MN         MRO  East North Central   \n",
       "7     2014     5     Minnesota          MN         MRO  East North Central   \n",
       "8     2010    10     Minnesota          MN         MRO  East North Central   \n",
       "9     2012     6     Minnesota          MN         MRO  East North Central   \n",
       "10    2015     7     Minnesota          MN         MRO  East North Central   \n",
       "...    ...   ...           ...         ...         ...                 ...   \n",
       "1535  2011    12  North Dakota          ND         MRO  West North Central   \n",
       "1536  2006   NaN  North Dakota          ND         MRO  West North Central   \n",
       "1537  2009     8  South Dakota          SD         RFC  West North Central   \n",
       "1538  2009     8  South Dakota          SD         MRO  West North Central   \n",
       "1539  2000   NaN        Alaska          AK        ASCC                 NaN   \n",
       "\n",
       "     ANOMALY.LEVEL CLIMATE.CATEGORY          OUTAGE.START.DATE  \\\n",
       "6             -0.3           normal       Friday, July 1, 2011   \n",
       "7             -0.1           normal       Sunday, May 11, 2014   \n",
       "8             -1.5             cold  Tuesday, October 26, 2010   \n",
       "9             -0.1           normal     Tuesday, June 19, 2012   \n",
       "10             1.2             warm    Saturday, July 18, 2015   \n",
       "...            ...              ...                        ...   \n",
       "1535          -0.9             cold  Tuesday, December 6, 2011   \n",
       "1536           NaN              NaN                        NaN   \n",
       "1537           0.5             warm  Saturday, August 29, 2009   \n",
       "1538           0.5             warm  Saturday, August 29, 2009   \n",
       "1539           NaN              NaN                        NaN   \n",
       "\n",
       "     OUTAGE.START.TIME  ... POPPCT_URBAN POPPCT_UC POPDEN_URBAN POPDEN_UC  \\\n",
       "6           5:00:00 PM  ...        73.27     15.28         2279    1700.5   \n",
       "7           6:38:00 PM  ...        73.27     15.28         2279    1700.5   \n",
       "8           8:00:00 PM  ...        73.27     15.28         2279    1700.5   \n",
       "9           4:30:00 AM  ...        73.27     15.28         2279    1700.5   \n",
       "10          2:00:00 AM  ...        73.27     15.28         2279    1700.5   \n",
       "...                ...  ...          ...       ...          ...       ...   \n",
       "1535        8:00:00 AM  ...         59.9      19.9       2192.2    1868.2   \n",
       "1536               NaN  ...         59.9      19.9       2192.2    1868.2   \n",
       "1537       10:54:00 PM  ...        56.65     26.73       2038.3    1905.4   \n",
       "1538       11:00:00 AM  ...        56.65     26.73       2038.3    1905.4   \n",
       "1539               NaN  ...        66.02     21.56       1802.6      1276   \n",
       "\n",
       "     POPDEN_RURAL AREAPCT_URBAN AREAPCT_UC     PCT_LAND PCT_WATER_TOT  \\\n",
       "6            18.2          2.14        0.6  91.59266587   8.407334131   \n",
       "7            18.2          2.14        0.6  91.59266587   8.407334131   \n",
       "8            18.2          2.14        0.6  91.59266587   8.407334131   \n",
       "9            18.2          2.14        0.6  91.59266587   8.407334131   \n",
       "10           18.2          2.14        0.6  91.59266587   8.407334131   \n",
       "...           ...           ...        ...          ...           ...   \n",
       "1535          3.9          0.27        0.1  97.59964921   2.401765255   \n",
       "1536          3.9          0.27        0.1  97.59964921   2.401765255   \n",
       "1537          4.7           0.3       0.15  98.30774418   1.692255822   \n",
       "1538          4.7           0.3       0.15  98.30774418   1.692255822   \n",
       "1539          0.4          0.05       0.02  85.76115446   14.23884554   \n",
       "\n",
       "     PCT_WATER_INLAND  \n",
       "6         5.478742983  \n",
       "7         5.478742983  \n",
       "8         5.478742983  \n",
       "9         5.478742983  \n",
       "10        5.478742983  \n",
       "...               ...  \n",
       "1535      2.401765255  \n",
       "1536      2.401765255  \n",
       "1537      1.692255822  \n",
       "1538      1.692255822  \n",
       "1539      2.901181874  \n",
       "\n",
       "[1534 rows x 53 columns]"
      ]
     },
     "execution_count": 468,
     "metadata": {},
     "output_type": "execute_result"
    }
   ],
   "source": [
    "#drop the first columns too\n",
    "outages = outages.iloc[:,1:]\n",
    "outages"
   ]
  },
  {
   "cell_type": "code",
   "execution_count": 469,
   "metadata": {},
   "outputs": [],
   "source": [
    "\n",
    "outages1 = outages.copy()\n",
    "\n",
    "# Fill missing values in 'OUTAGE.DURATION' column with string '0' in the copy\n",
    "outages1[\"OUTAGE.DURATION\"].fillna(\"0\", inplace=True)\n",
    "\n",
    "# Convert the values in 'OUTAGE.DURATION' column to int in the copy\n",
    "outages1[\"OUTAGE.DURATION\"] = outages1[\"OUTAGE.DURATION\"].astype(int)"
   ]
  },
  {
   "cell_type": "code",
   "execution_count": 470,
   "metadata": {},
   "outputs": [
    {
     "data": {
      "text/plain": [
       "6       3060.000000\n",
       "7          1.000000\n",
       "8       3000.000000\n",
       "9       2550.000000\n",
       "10      1740.000000\n",
       "           ...     \n",
       "1535     720.000000\n",
       "1536    2771.879828\n",
       "1537      59.000000\n",
       "1538     181.000000\n",
       "1539    2771.879828\n",
       "Name: OUTAGE.DURATION, Length: 1534, dtype: float64"
      ]
     },
     "execution_count": 470,
     "metadata": {},
     "output_type": "execute_result"
    }
   ],
   "source": [
    "#impute all 0 to the mean of outage_duration\n",
    "outages1[\"OUTAGE.DURATION\"] = outages1[\"OUTAGE.DURATION\"].replace(0, np.nan)\n",
    "average_outage_duration = outages1[\"OUTAGE.DURATION\"].mean()\n",
    "outages1[\"OUTAGE.DURATION\"].fillna(average_outage_duration, inplace = True)\n",
    "outages1[\"OUTAGE.DURATION\"]"
   ]
  },
  {
   "cell_type": "code",
   "execution_count": 471,
   "metadata": {},
   "outputs": [],
   "source": [
    "import plotly.express as px"
   ]
  },
  {
   "cell_type": "code",
   "execution_count": 472,
   "metadata": {},
   "outputs": [
    {
     "data": {
      "text/plain": [
       "6       3060.000000\n",
       "7          1.000000\n",
       "8       3000.000000\n",
       "9       2550.000000\n",
       "10      1740.000000\n",
       "           ...     \n",
       "1535     720.000000\n",
       "1536    2771.879828\n",
       "1537      59.000000\n",
       "1538     181.000000\n",
       "1539    2771.879828\n",
       "Name: OUTAGE_DURATION, Length: 1534, dtype: float64"
      ]
     },
     "execution_count": 472,
     "metadata": {},
     "output_type": "execute_result"
    }
   ],
   "source": [
    "#rename because the periods are not helpful\n",
    "outages1.rename(columns = {\"OUTAGE.DURATION\":\"OUTAGE_DURATION\"}, inplace = True)\n",
    "outages1[\"OUTAGE_DURATION\"]"
   ]
  },
  {
   "cell_type": "code",
   "execution_count": 473,
   "metadata": {},
   "outputs": [
    {
     "data": {
      "application/vnd.plotly.v1+json": {
       "config": {
        "plotlyServerURL": "https://plot.ly"
       },
       "data": [
        {
         "type": "histogram",
         "x": [
          3060,
          1,
          3000,
          2550,
          1740,
          1860,
          2970,
          3960,
          155,
          3621,
          7740,
          8880,
          2771.8798283261804,
          1322,
          60,
          19,
          2771.8798283261804,
          21,
          196,
          840,
          935,
          1260,
          2771.8798283261804,
          619,
          150,
          762,
          2771.8798283261804,
          660,
          1,
          2700,
          1,
          4921,
          95,
          251,
          4125,
          2550,
          2771.8798283261804,
          1200,
          310,
          2818,
          5054,
          136,
          528,
          150,
          46,
          1,
          1920,
          2771.8798283261804,
          32,
          2771.8798283261804,
          135,
          3000,
          32,
          108653,
          8468,
          960,
          44,
          1605,
          4410,
          388,
          480,
          1219,
          90,
          18660,
          538,
          104,
          60,
          1272,
          60,
          1,
          1000,
          17339,
          9576,
          3090,
          6510,
          5820,
          1078,
          1513,
          4830,
          3051,
          4200,
          2085,
          5730,
          4290,
          2670,
          3540,
          3637,
          1710,
          4320,
          3915,
          3120,
          4590,
          7530,
          5034,
          8160,
          3300,
          4320,
          1770,
          9857,
          4080,
          5670,
          5700,
          1995,
          300,
          5115,
          2670,
          7650,
          4338,
          761,
          5760,
          2820,
          4110,
          3360,
          3015,
          232,
          11525,
          6420,
          46080,
          5700,
          5610,
          78377,
          270,
          4050,
          5865,
          1,
          2325,
          4170,
          4485,
          2694,
          168,
          5580,
          705,
          11850,
          3494,
          4560,
          2760,
          5760,
          8922,
          6030,
          7800,
          4242,
          3120,
          5700,
          900,
          1046,
          7620,
          3630,
          1260,
          5840,
          5790,
          2820,
          600,
          4259,
          2939,
          7080,
          3600,
          1588,
          4260,
          2700,
          200,
          8430,
          85,
          9150,
          1019,
          420,
          1140,
          7440,
          4458,
          373,
          1203,
          868,
          1455,
          206,
          1195,
          1559,
          900,
          2690,
          5115,
          5,
          189,
          2142,
          360,
          2771.8798283261804,
          225,
          2340,
          480,
          9486,
          480,
          3000,
          300,
          3020,
          766,
          2771.8798283261804,
          1335,
          197,
          245,
          3255,
          12180,
          1077,
          600,
          186,
          690,
          27698,
          402,
          2420,
          327,
          1,
          1860,
          220,
          455,
          318,
          757,
          847,
          410,
          215,
          5,
          570,
          12124,
          2655,
          20160,
          1440,
          600,
          39,
          181,
          1185,
          1500,
          2771.8798283261804,
          271,
          1860,
          1200,
          2159,
          6300,
          2771.8798283261804,
          1620,
          224,
          70,
          1697,
          95,
          2220,
          2771.8798283261804,
          7809,
          1200,
          121,
          63,
          5595,
          1,
          557,
          240,
          3360,
          685,
          2280,
          210,
          167,
          1920,
          3569,
          3300,
          10,
          1560,
          840,
          240,
          990,
          6000,
          17865,
          1282,
          1080,
          7540,
          1320,
          1110,
          27698,
          130,
          3040,
          394,
          10140,
          20160,
          21540,
          45,
          1,
          1200,
          550,
          900,
          885,
          940,
          2771.8798283261804,
          3050,
          1830,
          6000,
          1500,
          150,
          1955,
          2220,
          330,
          74,
          420,
          1440,
          255,
          1060,
          12240,
          5250,
          4320,
          120,
          233,
          2771.8798283261804,
          65,
          2120,
          96,
          3,
          4320,
          65,
          2146,
          96,
          4032,
          2580,
          6,
          569,
          2771.8798283261804,
          15950,
          200,
          1980,
          4045,
          2730,
          3314,
          7319,
          1,
          47,
          1440,
          276,
          2771.8798283261804,
          2771.8798283261804,
          3646,
          1130,
          2880,
          513,
          35,
          23773,
          10,
          3872,
          23187,
          12240,
          390,
          2771.8798283261804,
          3264,
          1230,
          803,
          77,
          30,
          300,
          1,
          5,
          1450,
          2680,
          2771.8798283261804,
          7609,
          150,
          3000,
          420,
          479,
          1680,
          2700,
          149,
          1110,
          2790,
          659,
          1320,
          1830,
          3000,
          2771.8798283261804,
          870,
          810,
          1336,
          1695,
          360,
          360,
          120,
          3000,
          1290,
          1530,
          2370,
          1200,
          1200,
          90,
          120,
          1200,
          2761,
          720,
          1120,
          2100,
          960,
          450,
          1440,
          1020,
          2771.8798283261804,
          2010,
          120,
          9230,
          1240,
          465,
          2771.8798283261804,
          2460,
          1183,
          8880,
          394,
          219,
          487,
          19,
          28,
          2771.8798283261804,
          1,
          5340,
          8940,
          467,
          2771.8798283261804,
          1920,
          2771.8798283261804,
          25,
          420,
          2040,
          2771.8798283261804,
          1,
          1423,
          60,
          1620,
          3300,
          385,
          663,
          123,
          1276,
          1919,
          2771.8798283261804,
          440,
          6690,
          2771.8798283261804,
          2771.8798283261804,
          2771.8798283261804,
          717,
          1204,
          292,
          313,
          1,
          5,
          6276,
          2771.8798283261804,
          74,
          2771.8798283261804,
          2771.8798283261804,
          248,
          1,
          2700,
          25,
          126,
          1,
          255,
          1207,
          2771.8798283261804,
          2771.8798283261804,
          245,
          476,
          2771.8798283261804,
          2771.8798283261804,
          2771.8798283261804,
          1,
          2639,
          502,
          548,
          369,
          6480,
          15,
          5,
          2771.8798283261804,
          1,
          2771.8798283261804,
          432,
          21,
          1697,
          2771.8798283261804,
          2615,
          9630,
          3507,
          2820,
          314,
          5855,
          2771.8798283261804,
          2771.8798283261804,
          1,
          22769,
          70,
          4285,
          355,
          2771.8798283261804,
          2520,
          2771.8798283261804,
          180,
          554,
          50,
          70,
          180,
          3842,
          35,
          1,
          189,
          49320,
          4200,
          353,
          1,
          87,
          66,
          2771.8798283261804,
          1,
          227,
          2771.8798283261804,
          1440,
          1,
          2700,
          2771.8798283261804,
          49320,
          2,
          215,
          451,
          418,
          100,
          2021,
          1671,
          3938,
          4470,
          2279,
          4440,
          2760,
          2771.8798283261804,
          1,
          2771.8798283261804,
          1,
          1840,
          428,
          331,
          1980,
          1,
          1,
          1950,
          3037,
          1,
          1,
          1196,
          5628,
          1440,
          7700,
          2,
          12890,
          4232,
          95,
          2610,
          4320,
          17,
          113,
          2771.8798283261804,
          2507,
          2771.8798283261804,
          1,
          4920,
          1,
          4080,
          2771.8798283261804,
          960,
          185,
          1320,
          1673,
          2855,
          3060,
          565,
          1,
          1,
          7298,
          5790,
          3040,
          11700,
          7987,
          304,
          4517,
          2771.8798283261804,
          3058,
          13381,
          2865,
          152,
          380,
          9450,
          7803,
          5579,
          8979,
          4800,
          3060,
          4792,
          3894,
          1757,
          2880,
          2985,
          164,
          3232,
          2319,
          4338,
          2880,
          1714,
          90,
          59,
          4139,
          10530,
          6938,
          930,
          278,
          299,
          5320,
          2880,
          1,
          4260,
          6713,
          5160,
          1440,
          78,
          7523,
          2668,
          1,
          376,
          1324,
          6940,
          2684,
          54,
          100,
          720,
          2880,
          3189,
          2790,
          13679,
          2843,
          13488,
          1642,
          7709,
          7080,
          1440,
          1,
          1680,
          1579,
          652,
          108,
          300,
          1020,
          3570,
          6492,
          23700,
          10499,
          15180,
          2771.8798283261804,
          120,
          1,
          1,
          1,
          1,
          1,
          1,
          60,
          113,
          204,
          31,
          57,
          13,
          2,
          11,
          283,
          2771.8798283261804,
          1,
          871,
          1631,
          56,
          15,
          15,
          20,
          60,
          1,
          95,
          300,
          1,
          3186,
          575,
          2275,
          15,
          1,
          44,
          21,
          1,
          114,
          1,
          60,
          4920,
          2771.8798283261804,
          4920,
          420,
          2771.8798283261804,
          7,
          21,
          340,
          4200,
          805,
          5040,
          7430,
          5490,
          165,
          3630,
          11640,
          1590,
          3137,
          1440,
          7920,
          360,
          2771.8798283261804,
          1440,
          1372,
          6480,
          2190,
          285,
          75,
          1843,
          1,
          11531,
          1420,
          2771.8798283261804,
          930,
          11420,
          2771.8798283261804,
          352,
          2771.8798283261804,
          960,
          1733,
          3690,
          10619,
          634,
          11280,
          1440,
          180,
          1574,
          45,
          563,
          388,
          373,
          4510,
          290,
          1950,
          270,
          1355,
          1318,
          2490,
          1265,
          195,
          3120,
          3388,
          1025,
          990,
          240,
          1485,
          129,
          2771.8798283261804,
          1528,
          1890,
          2551,
          985,
          405,
          1698,
          167,
          1460,
          182,
          4113,
          2771.8798283261804,
          885,
          15,
          42,
          1050,
          1,
          132,
          4140,
          2880,
          2771.8798283261804,
          11430,
          3599,
          2771.8798283261804,
          2941,
          2771.8798283261804,
          6090,
          1365,
          375,
          2520,
          10080,
          76,
          2771.8798283261804,
          3720,
          333,
          2771.8798283261804,
          353,
          11337,
          2771.8798283261804,
          2771.8798283261804,
          7020,
          11058,
          2771.8798283261804,
          9360,
          3300,
          3339,
          2880,
          11580,
          9600,
          13201,
          9719,
          488,
          2415,
          180,
          4177,
          7440,
          3480,
          6600,
          300,
          1526,
          60,
          210,
          2,
          1350,
          73,
          1,
          200,
          2771.8798283261804,
          2771.8798283261804,
          4380,
          2771.8798283261804,
          120,
          2680,
          840,
          989,
          4313,
          214,
          4,
          164,
          91,
          1050,
          838,
          60,
          1,
          1,
          9886,
          2425,
          390,
          14500,
          6660,
          159,
          54,
          30,
          8077,
          855,
          65,
          810,
          4150,
          4740,
          25,
          2771.8798283261804,
          2771.8798283261804,
          2070,
          870,
          12652,
          2880,
          120,
          1199,
          2771.8798283261804,
          1470,
          4140,
          15420,
          50,
          2771.8798283261804,
          1,
          1,
          2771.8798283261804,
          2771.8798283261804,
          2771.8798283261804,
          457,
          1,
          1,
          2771.8798283261804,
          30,
          1,
          1,
          65,
          1,
          2771.8798283261804,
          2771.8798283261804,
          2771.8798283261804,
          1,
          2771.8798283261804,
          1,
          2771.8798283261804,
          1,
          1,
          110,
          39,
          1,
          1,
          1,
          1,
          1,
          1,
          507,
          213,
          4254,
          1,
          1,
          53,
          2771.8798283261804,
          2771.8798283261804,
          251,
          347,
          1637,
          21360,
          2161,
          2880,
          1044,
          8670,
          56,
          93,
          13,
          2089,
          20280,
          14639,
          2880,
          681,
          494,
          1,
          5355,
          2771.8798283261804,
          3943,
          3300,
          191,
          2771.8798283261804,
          73,
          4680,
          17310,
          10080,
          10726,
          1,
          5,
          2515,
          25920,
          2730,
          9480,
          5400,
          30,
          3584,
          3600,
          5850,
          4710,
          1,
          1732,
          2771.8798283261804,
          23040,
          1800,
          6074,
          2771.8798283261804,
          49,
          2299,
          5760,
          420,
          7320,
          2880,
          448,
          2520,
          18717,
          5513,
          21,
          2100,
          3120,
          8221,
          3240,
          2880,
          255,
          2355,
          161,
          50,
          258,
          13140,
          8640,
          18240,
          15492,
          8268,
          2771.8798283261804,
          300,
          14400,
          7962,
          2400,
          11296,
          48,
          60480,
          28170,
          300,
          8054,
          2775,
          2775,
          2160,
          2100,
          2775,
          3180,
          2775,
          1440,
          430,
          2129,
          1755,
          2771.8798283261804,
          692,
          732,
          7,
          510,
          420,
          13215,
          557,
          300,
          17812,
          20416,
          6240,
          467,
          3067,
          3060,
          355,
          430,
          300,
          227,
          52,
          2771.8798283261804,
          2880,
          18804,
          1867,
          1690,
          295,
          17,
          240,
          17520,
          8189,
          182,
          5820,
          83,
          230,
          2009,
          720,
          155,
          4320,
          4320,
          480,
          1005,
          221,
          372,
          13430,
          4320,
          91,
          1419,
          3600,
          10080,
          5071,
          152,
          6840,
          221,
          24780,
          38,
          61,
          7560,
          90,
          10380,
          396,
          2040,
          12060,
          1080,
          1680,
          13920,
          14101,
          1099,
          2460,
          540,
          52,
          816,
          420,
          155,
          437,
          247,
          540,
          1135,
          437,
          180,
          171,
          656,
          84,
          202,
          255,
          1054,
          1,
          1254,
          1456,
          177,
          106,
          32,
          2464,
          55,
          144,
          70,
          64,
          8873,
          945,
          2771.8798283261804,
          523,
          56,
          3,
          8472,
          155,
          33,
          749,
          159,
          2771.8798283261804,
          270,
          2790,
          224,
          1470,
          334,
          2050,
          370,
          26,
          797,
          12,
          195,
          1,
          230,
          125,
          15,
          316,
          365,
          1560,
          4740,
          294,
          455,
          2878,
          336,
          295,
          480,
          25,
          2771.8798283261804,
          223,
          2645,
          2016,
          7371,
          360,
          3408,
          3698,
          4890,
          1,
          871,
          2759,
          250,
          3301,
          249,
          164,
          435,
          420,
          854,
          5160,
          133,
          15180,
          2055,
          451,
          140,
          199,
          721,
          179,
          1524,
          78,
          268,
          39,
          1,
          14190,
          47,
          161,
          900,
          6070,
          697,
          234,
          14,
          5910,
          2771.8798283261804,
          34390,
          40,
          166,
          182,
          829,
          15,
          64,
          13,
          245,
          1080,
          2771.8798283261804,
          390,
          47,
          269,
          2771.8798283261804,
          400,
          660,
          213,
          2771.8798283261804,
          761,
          8100,
          180,
          124,
          4320,
          2820,
          3100,
          49427,
          989,
          125,
          44,
          26,
          245,
          2771.8798283261804,
          98,
          1,
          2771.8798283261804,
          135,
          50,
          1008,
          53,
          554,
          1260,
          2895,
          89,
          98,
          865,
          128,
          230,
          252,
          130,
          5,
          157,
          6914,
          11,
          13,
          2880,
          270,
          962,
          47,
          2771.8798283261804,
          20,
          108,
          9855,
          75,
          17,
          21,
          1950,
          11867,
          141,
          959,
          1035,
          617,
          1230,
          572,
          324,
          1835,
          6780,
          900,
          2771.8798283261804,
          37,
          72,
          1,
          251,
          620,
          89,
          909,
          236,
          326,
          300,
          751,
          122,
          214,
          193,
          8,
          5227,
          2771.8798283261804,
          1414,
          448,
          4605,
          4080,
          2771.8798283261804,
          1914,
          759,
          1,
          10274,
          3,
          2700,
          105,
          240,
          210,
          1,
          1201,
          30,
          2806,
          1226,
          300,
          206,
          270,
          2880,
          513,
          8160,
          3314,
          414,
          126,
          60,
          285,
          110,
          62,
          2363,
          424,
          180,
          2771.8798283261804,
          448,
          2,
          624,
          2435,
          131,
          2771.8798283261804,
          208,
          103,
          1355,
          1523,
          90,
          1205,
          385,
          144,
          235,
          241,
          6787,
          1337,
          1673,
          3366,
          2640,
          1826,
          570,
          1565,
          2691,
          1072,
          115,
          816,
          168,
          30,
          160,
          485,
          1508,
          1301,
          159,
          60,
          4,
          9600,
          106,
          2771.8798283261804,
          2771.8798283261804,
          1,
          32,
          61,
          314,
          30,
          2771.8798283261804,
          92,
          390,
          161,
          60,
          76,
          1,
          1,
          160,
          20,
          1,
          1,
          70,
          50,
          15,
          810,
          1380,
          1800,
          1560,
          2054,
          1452,
          1865,
          1999,
          120,
          1950,
          360,
          1087,
          1200,
          4122,
          360,
          645,
          108,
          2771.8798283261804,
          1,
          1440,
          4560,
          1,
          1,
          110,
          210,
          120,
          2771.8798283261804,
          4260,
          76,
          210,
          3305,
          5880,
          145,
          60,
          2640,
          1042,
          110,
          11880,
          2245,
          984,
          7200,
          1381,
          148,
          13972,
          2771.8798283261804,
          796,
          300,
          2771.8798283261804,
          2612,
          3000,
          431,
          5310,
          1732,
          2771.8798283261804,
          6685,
          3300,
          280,
          117,
          2895,
          480,
          31,
          1,
          2771.8798283261804,
          2771.8798283261804,
          103,
          4745,
          307,
          1656,
          3525,
          374,
          1068,
          1569,
          114,
          115,
          15,
          2891,
          1,
          1676,
          2771.8798283261804,
          2771.8798283261804,
          3604,
          195,
          1,
          2771.8798283261804,
          2108,
          198,
          3667,
          1037,
          673,
          2771.8798283261804,
          2652,
          300,
          881,
          618,
          1187,
          950,
          2535,
          27,
          108,
          73,
          200,
          5,
          75,
          2771.8798283261804,
          77,
          660,
          2771.8798283261804,
          92,
          30,
          33,
          1895,
          274,
          1,
          1534,
          1,
          60,
          108,
          2,
          175,
          2771.8798283261804,
          2040,
          2710,
          284,
          105,
          4019,
          1,
          391,
          439,
          5,
          201,
          2140,
          103,
          2771.8798283261804,
          187,
          1406,
          348,
          13650,
          90,
          913,
          2771.8798283261804,
          14040,
          1367,
          174,
          543,
          237,
          1906,
          224,
          2771.8798283261804,
          95,
          360,
          1548,
          870,
          2771.8798283261804,
          2771.8798283261804,
          220,
          720,
          2771.8798283261804,
          59,
          181,
          2771.8798283261804
         ]
        }
       ],
       "layout": {
        "template": {
         "data": {
          "bar": [
           {
            "error_x": {
             "color": "#2a3f5f"
            },
            "error_y": {
             "color": "#2a3f5f"
            },
            "marker": {
             "line": {
              "color": "#E5ECF6",
              "width": 0.5
             },
             "pattern": {
              "fillmode": "overlay",
              "size": 10,
              "solidity": 0.2
             }
            },
            "type": "bar"
           }
          ],
          "barpolar": [
           {
            "marker": {
             "line": {
              "color": "#E5ECF6",
              "width": 0.5
             },
             "pattern": {
              "fillmode": "overlay",
              "size": 10,
              "solidity": 0.2
             }
            },
            "type": "barpolar"
           }
          ],
          "carpet": [
           {
            "aaxis": {
             "endlinecolor": "#2a3f5f",
             "gridcolor": "white",
             "linecolor": "white",
             "minorgridcolor": "white",
             "startlinecolor": "#2a3f5f"
            },
            "baxis": {
             "endlinecolor": "#2a3f5f",
             "gridcolor": "white",
             "linecolor": "white",
             "minorgridcolor": "white",
             "startlinecolor": "#2a3f5f"
            },
            "type": "carpet"
           }
          ],
          "choropleth": [
           {
            "colorbar": {
             "outlinewidth": 0,
             "ticks": ""
            },
            "type": "choropleth"
           }
          ],
          "contour": [
           {
            "colorbar": {
             "outlinewidth": 0,
             "ticks": ""
            },
            "colorscale": [
             [
              0,
              "#0d0887"
             ],
             [
              0.1111111111111111,
              "#46039f"
             ],
             [
              0.2222222222222222,
              "#7201a8"
             ],
             [
              0.3333333333333333,
              "#9c179e"
             ],
             [
              0.4444444444444444,
              "#bd3786"
             ],
             [
              0.5555555555555556,
              "#d8576b"
             ],
             [
              0.6666666666666666,
              "#ed7953"
             ],
             [
              0.7777777777777778,
              "#fb9f3a"
             ],
             [
              0.8888888888888888,
              "#fdca26"
             ],
             [
              1,
              "#f0f921"
             ]
            ],
            "type": "contour"
           }
          ],
          "contourcarpet": [
           {
            "colorbar": {
             "outlinewidth": 0,
             "ticks": ""
            },
            "type": "contourcarpet"
           }
          ],
          "heatmap": [
           {
            "colorbar": {
             "outlinewidth": 0,
             "ticks": ""
            },
            "colorscale": [
             [
              0,
              "#0d0887"
             ],
             [
              0.1111111111111111,
              "#46039f"
             ],
             [
              0.2222222222222222,
              "#7201a8"
             ],
             [
              0.3333333333333333,
              "#9c179e"
             ],
             [
              0.4444444444444444,
              "#bd3786"
             ],
             [
              0.5555555555555556,
              "#d8576b"
             ],
             [
              0.6666666666666666,
              "#ed7953"
             ],
             [
              0.7777777777777778,
              "#fb9f3a"
             ],
             [
              0.8888888888888888,
              "#fdca26"
             ],
             [
              1,
              "#f0f921"
             ]
            ],
            "type": "heatmap"
           }
          ],
          "heatmapgl": [
           {
            "colorbar": {
             "outlinewidth": 0,
             "ticks": ""
            },
            "colorscale": [
             [
              0,
              "#0d0887"
             ],
             [
              0.1111111111111111,
              "#46039f"
             ],
             [
              0.2222222222222222,
              "#7201a8"
             ],
             [
              0.3333333333333333,
              "#9c179e"
             ],
             [
              0.4444444444444444,
              "#bd3786"
             ],
             [
              0.5555555555555556,
              "#d8576b"
             ],
             [
              0.6666666666666666,
              "#ed7953"
             ],
             [
              0.7777777777777778,
              "#fb9f3a"
             ],
             [
              0.8888888888888888,
              "#fdca26"
             ],
             [
              1,
              "#f0f921"
             ]
            ],
            "type": "heatmapgl"
           }
          ],
          "histogram": [
           {
            "marker": {
             "pattern": {
              "fillmode": "overlay",
              "size": 10,
              "solidity": 0.2
             }
            },
            "type": "histogram"
           }
          ],
          "histogram2d": [
           {
            "colorbar": {
             "outlinewidth": 0,
             "ticks": ""
            },
            "colorscale": [
             [
              0,
              "#0d0887"
             ],
             [
              0.1111111111111111,
              "#46039f"
             ],
             [
              0.2222222222222222,
              "#7201a8"
             ],
             [
              0.3333333333333333,
              "#9c179e"
             ],
             [
              0.4444444444444444,
              "#bd3786"
             ],
             [
              0.5555555555555556,
              "#d8576b"
             ],
             [
              0.6666666666666666,
              "#ed7953"
             ],
             [
              0.7777777777777778,
              "#fb9f3a"
             ],
             [
              0.8888888888888888,
              "#fdca26"
             ],
             [
              1,
              "#f0f921"
             ]
            ],
            "type": "histogram2d"
           }
          ],
          "histogram2dcontour": [
           {
            "colorbar": {
             "outlinewidth": 0,
             "ticks": ""
            },
            "colorscale": [
             [
              0,
              "#0d0887"
             ],
             [
              0.1111111111111111,
              "#46039f"
             ],
             [
              0.2222222222222222,
              "#7201a8"
             ],
             [
              0.3333333333333333,
              "#9c179e"
             ],
             [
              0.4444444444444444,
              "#bd3786"
             ],
             [
              0.5555555555555556,
              "#d8576b"
             ],
             [
              0.6666666666666666,
              "#ed7953"
             ],
             [
              0.7777777777777778,
              "#fb9f3a"
             ],
             [
              0.8888888888888888,
              "#fdca26"
             ],
             [
              1,
              "#f0f921"
             ]
            ],
            "type": "histogram2dcontour"
           }
          ],
          "mesh3d": [
           {
            "colorbar": {
             "outlinewidth": 0,
             "ticks": ""
            },
            "type": "mesh3d"
           }
          ],
          "parcoords": [
           {
            "line": {
             "colorbar": {
              "outlinewidth": 0,
              "ticks": ""
             }
            },
            "type": "parcoords"
           }
          ],
          "pie": [
           {
            "automargin": true,
            "type": "pie"
           }
          ],
          "scatter": [
           {
            "fillpattern": {
             "fillmode": "overlay",
             "size": 10,
             "solidity": 0.2
            },
            "type": "scatter"
           }
          ],
          "scatter3d": [
           {
            "line": {
             "colorbar": {
              "outlinewidth": 0,
              "ticks": ""
             }
            },
            "marker": {
             "colorbar": {
              "outlinewidth": 0,
              "ticks": ""
             }
            },
            "type": "scatter3d"
           }
          ],
          "scattercarpet": [
           {
            "marker": {
             "colorbar": {
              "outlinewidth": 0,
              "ticks": ""
             }
            },
            "type": "scattercarpet"
           }
          ],
          "scattergeo": [
           {
            "marker": {
             "colorbar": {
              "outlinewidth": 0,
              "ticks": ""
             }
            },
            "type": "scattergeo"
           }
          ],
          "scattergl": [
           {
            "marker": {
             "colorbar": {
              "outlinewidth": 0,
              "ticks": ""
             }
            },
            "type": "scattergl"
           }
          ],
          "scattermapbox": [
           {
            "marker": {
             "colorbar": {
              "outlinewidth": 0,
              "ticks": ""
             }
            },
            "type": "scattermapbox"
           }
          ],
          "scatterpolar": [
           {
            "marker": {
             "colorbar": {
              "outlinewidth": 0,
              "ticks": ""
             }
            },
            "type": "scatterpolar"
           }
          ],
          "scatterpolargl": [
           {
            "marker": {
             "colorbar": {
              "outlinewidth": 0,
              "ticks": ""
             }
            },
            "type": "scatterpolargl"
           }
          ],
          "scatterternary": [
           {
            "marker": {
             "colorbar": {
              "outlinewidth": 0,
              "ticks": ""
             }
            },
            "type": "scatterternary"
           }
          ],
          "surface": [
           {
            "colorbar": {
             "outlinewidth": 0,
             "ticks": ""
            },
            "colorscale": [
             [
              0,
              "#0d0887"
             ],
             [
              0.1111111111111111,
              "#46039f"
             ],
             [
              0.2222222222222222,
              "#7201a8"
             ],
             [
              0.3333333333333333,
              "#9c179e"
             ],
             [
              0.4444444444444444,
              "#bd3786"
             ],
             [
              0.5555555555555556,
              "#d8576b"
             ],
             [
              0.6666666666666666,
              "#ed7953"
             ],
             [
              0.7777777777777778,
              "#fb9f3a"
             ],
             [
              0.8888888888888888,
              "#fdca26"
             ],
             [
              1,
              "#f0f921"
             ]
            ],
            "type": "surface"
           }
          ],
          "table": [
           {
            "cells": {
             "fill": {
              "color": "#EBF0F8"
             },
             "line": {
              "color": "white"
             }
            },
            "header": {
             "fill": {
              "color": "#C8D4E3"
             },
             "line": {
              "color": "white"
             }
            },
            "type": "table"
           }
          ]
         },
         "layout": {
          "annotationdefaults": {
           "arrowcolor": "#2a3f5f",
           "arrowhead": 0,
           "arrowwidth": 1
          },
          "autotypenumbers": "strict",
          "coloraxis": {
           "colorbar": {
            "outlinewidth": 0,
            "ticks": ""
           }
          },
          "colorscale": {
           "diverging": [
            [
             0,
             "#8e0152"
            ],
            [
             0.1,
             "#c51b7d"
            ],
            [
             0.2,
             "#de77ae"
            ],
            [
             0.3,
             "#f1b6da"
            ],
            [
             0.4,
             "#fde0ef"
            ],
            [
             0.5,
             "#f7f7f7"
            ],
            [
             0.6,
             "#e6f5d0"
            ],
            [
             0.7,
             "#b8e186"
            ],
            [
             0.8,
             "#7fbc41"
            ],
            [
             0.9,
             "#4d9221"
            ],
            [
             1,
             "#276419"
            ]
           ],
           "sequential": [
            [
             0,
             "#0d0887"
            ],
            [
             0.1111111111111111,
             "#46039f"
            ],
            [
             0.2222222222222222,
             "#7201a8"
            ],
            [
             0.3333333333333333,
             "#9c179e"
            ],
            [
             0.4444444444444444,
             "#bd3786"
            ],
            [
             0.5555555555555556,
             "#d8576b"
            ],
            [
             0.6666666666666666,
             "#ed7953"
            ],
            [
             0.7777777777777778,
             "#fb9f3a"
            ],
            [
             0.8888888888888888,
             "#fdca26"
            ],
            [
             1,
             "#f0f921"
            ]
           ],
           "sequentialminus": [
            [
             0,
             "#0d0887"
            ],
            [
             0.1111111111111111,
             "#46039f"
            ],
            [
             0.2222222222222222,
             "#7201a8"
            ],
            [
             0.3333333333333333,
             "#9c179e"
            ],
            [
             0.4444444444444444,
             "#bd3786"
            ],
            [
             0.5555555555555556,
             "#d8576b"
            ],
            [
             0.6666666666666666,
             "#ed7953"
            ],
            [
             0.7777777777777778,
             "#fb9f3a"
            ],
            [
             0.8888888888888888,
             "#fdca26"
            ],
            [
             1,
             "#f0f921"
            ]
           ]
          },
          "colorway": [
           "#636efa",
           "#EF553B",
           "#00cc96",
           "#ab63fa",
           "#FFA15A",
           "#19d3f3",
           "#FF6692",
           "#B6E880",
           "#FF97FF",
           "#FECB52"
          ],
          "font": {
           "color": "#2a3f5f"
          },
          "geo": {
           "bgcolor": "white",
           "lakecolor": "white",
           "landcolor": "#E5ECF6",
           "showlakes": true,
           "showland": true,
           "subunitcolor": "white"
          },
          "hoverlabel": {
           "align": "left"
          },
          "hovermode": "closest",
          "mapbox": {
           "style": "light"
          },
          "paper_bgcolor": "white",
          "plot_bgcolor": "#E5ECF6",
          "polar": {
           "angularaxis": {
            "gridcolor": "white",
            "linecolor": "white",
            "ticks": ""
           },
           "bgcolor": "#E5ECF6",
           "radialaxis": {
            "gridcolor": "white",
            "linecolor": "white",
            "ticks": ""
           }
          },
          "scene": {
           "xaxis": {
            "backgroundcolor": "#E5ECF6",
            "gridcolor": "white",
            "gridwidth": 2,
            "linecolor": "white",
            "showbackground": true,
            "ticks": "",
            "zerolinecolor": "white"
           },
           "yaxis": {
            "backgroundcolor": "#E5ECF6",
            "gridcolor": "white",
            "gridwidth": 2,
            "linecolor": "white",
            "showbackground": true,
            "ticks": "",
            "zerolinecolor": "white"
           },
           "zaxis": {
            "backgroundcolor": "#E5ECF6",
            "gridcolor": "white",
            "gridwidth": 2,
            "linecolor": "white",
            "showbackground": true,
            "ticks": "",
            "zerolinecolor": "white"
           }
          },
          "shapedefaults": {
           "line": {
            "color": "#2a3f5f"
           }
          },
          "ternary": {
           "aaxis": {
            "gridcolor": "white",
            "linecolor": "white",
            "ticks": ""
           },
           "baxis": {
            "gridcolor": "white",
            "linecolor": "white",
            "ticks": ""
           },
           "bgcolor": "#E5ECF6",
           "caxis": {
            "gridcolor": "white",
            "linecolor": "white",
            "ticks": ""
           }
          },
          "title": {
           "x": 0.05
          },
          "xaxis": {
           "automargin": true,
           "gridcolor": "white",
           "linecolor": "white",
           "ticks": "",
           "title": {
            "standoff": 15
           },
           "zerolinecolor": "white",
           "zerolinewidth": 2
          },
          "yaxis": {
           "automargin": true,
           "gridcolor": "white",
           "linecolor": "white",
           "ticks": "",
           "title": {
            "standoff": 15
           },
           "zerolinecolor": "white",
           "zerolinewidth": 2
          }
         }
        },
        "title": {
         "text": "Distribution of Outage Duration"
        },
        "xaxis": {
         "title": {
          "text": "Outage Duration"
         }
        },
        "yaxis": {
         "title": {
          "text": "Count of Outage Length"
         }
        }
       }
      }
     },
     "metadata": {},
     "output_type": "display_data"
    }
   ],
   "source": [
    "import plotly.graph_objects as go\n",
    "\n",
    "# Make the distribution plot using Plotly\n",
    "fig = go.Figure(data=[go.Histogram(x=outages1[\"OUTAGE_DURATION\"])])\n",
    "fig.update_layout(\n",
    "    title=\"Distribution of Outage Duration\",\n",
    "    xaxis_title=\"Outage Duration\",\n",
    "    yaxis_title=\"Count of Outage Length\"\n",
    ")\n",
    "fig.show()\n",
    "\n",
    "# Save the plot as HTML to a file\n",
    "fig.write_html('fig1.html', include_plotlyjs='cdn')\n"
   ]
  },
  {
   "cell_type": "code",
   "execution_count": 474,
   "metadata": {},
   "outputs": [
    {
     "data": {
      "text/plain": [
       "Index(['YEAR', 'MONTH', 'U.S._STATE', 'POSTAL.CODE', 'NERC.REGION',\n",
       "       'CLIMATE.REGION', 'ANOMALY.LEVEL', 'CLIMATE.CATEGORY',\n",
       "       'OUTAGE.START.DATE', 'OUTAGE.START.TIME', 'CAUSE.CATEGORY',\n",
       "       'CAUSE.CATEGORY.DETAIL', 'HURRICANE.NAMES', 'OUTAGE_DURATION',\n",
       "       'DEMAND.LOSS.MW', 'CUSTOMERS.AFFECTED', 'RES.PRICE', 'COM.PRICE',\n",
       "       'IND.PRICE', 'TOTAL.PRICE', 'RES.SALES', 'COM.SALES', 'IND.SALES',\n",
       "       'TOTAL.SALES', 'RES.PERCEN', 'COM.PERCEN', 'IND.PERCEN',\n",
       "       'RES.CUSTOMERS', 'COM.CUSTOMERS', 'IND.CUSTOMERS', 'TOTAL.CUSTOMERS',\n",
       "       'RES.CUST.PCT', 'COM.CUST.PCT', 'IND.CUST.PCT', 'PC.REALGSP.STATE',\n",
       "       'PC.REALGSP.USA', 'PC.REALGSP.REL', 'PC.REALGSP.CHANGE', 'UTIL.REALGSP',\n",
       "       'TOTAL.REALGSP', 'UTIL.CONTRI', 'PI.UTIL.OFUSA', 'POPULATION',\n",
       "       'POPPCT_URBAN', 'POPPCT_UC', 'POPDEN_URBAN', 'POPDEN_UC',\n",
       "       'POPDEN_RURAL', 'AREAPCT_URBAN', 'AREAPCT_UC', 'PCT_LAND',\n",
       "       'PCT_WATER_TOT', 'PCT_WATER_INLAND'],\n",
       "      dtype='object')"
      ]
     },
     "execution_count": 474,
     "metadata": {},
     "output_type": "execute_result"
    }
   ],
   "source": [
    "#scatter plot showing the number of outages that occur every year\n",
    "outages1.columns"
   ]
  },
  {
   "cell_type": "code",
   "execution_count": 475,
   "metadata": {},
   "outputs": [
    {
     "data": {
      "application/vnd.plotly.v1+json": {
       "config": {
        "plotlyServerURL": "https://plot.ly"
       },
       "data": [
        {
         "mode": "markers",
         "type": "scatter",
         "x": [
          "2000",
          "2001",
          "2002",
          "2003",
          "2004",
          "2005",
          "2006",
          "2007",
          "2008",
          "2009",
          "2010",
          "2011",
          "2012",
          "2013",
          "2014",
          "2015",
          "2016"
         ],
         "y": [
          19,
          15,
          16,
          46,
          71,
          55,
          66,
          56,
          111,
          78,
          106,
          269,
          174,
          153,
          112,
          119,
          59
         ]
        }
       ],
       "layout": {
        "template": {
         "data": {
          "bar": [
           {
            "error_x": {
             "color": "#2a3f5f"
            },
            "error_y": {
             "color": "#2a3f5f"
            },
            "marker": {
             "line": {
              "color": "#E5ECF6",
              "width": 0.5
             },
             "pattern": {
              "fillmode": "overlay",
              "size": 10,
              "solidity": 0.2
             }
            },
            "type": "bar"
           }
          ],
          "barpolar": [
           {
            "marker": {
             "line": {
              "color": "#E5ECF6",
              "width": 0.5
             },
             "pattern": {
              "fillmode": "overlay",
              "size": 10,
              "solidity": 0.2
             }
            },
            "type": "barpolar"
           }
          ],
          "carpet": [
           {
            "aaxis": {
             "endlinecolor": "#2a3f5f",
             "gridcolor": "white",
             "linecolor": "white",
             "minorgridcolor": "white",
             "startlinecolor": "#2a3f5f"
            },
            "baxis": {
             "endlinecolor": "#2a3f5f",
             "gridcolor": "white",
             "linecolor": "white",
             "minorgridcolor": "white",
             "startlinecolor": "#2a3f5f"
            },
            "type": "carpet"
           }
          ],
          "choropleth": [
           {
            "colorbar": {
             "outlinewidth": 0,
             "ticks": ""
            },
            "type": "choropleth"
           }
          ],
          "contour": [
           {
            "colorbar": {
             "outlinewidth": 0,
             "ticks": ""
            },
            "colorscale": [
             [
              0,
              "#0d0887"
             ],
             [
              0.1111111111111111,
              "#46039f"
             ],
             [
              0.2222222222222222,
              "#7201a8"
             ],
             [
              0.3333333333333333,
              "#9c179e"
             ],
             [
              0.4444444444444444,
              "#bd3786"
             ],
             [
              0.5555555555555556,
              "#d8576b"
             ],
             [
              0.6666666666666666,
              "#ed7953"
             ],
             [
              0.7777777777777778,
              "#fb9f3a"
             ],
             [
              0.8888888888888888,
              "#fdca26"
             ],
             [
              1,
              "#f0f921"
             ]
            ],
            "type": "contour"
           }
          ],
          "contourcarpet": [
           {
            "colorbar": {
             "outlinewidth": 0,
             "ticks": ""
            },
            "type": "contourcarpet"
           }
          ],
          "heatmap": [
           {
            "colorbar": {
             "outlinewidth": 0,
             "ticks": ""
            },
            "colorscale": [
             [
              0,
              "#0d0887"
             ],
             [
              0.1111111111111111,
              "#46039f"
             ],
             [
              0.2222222222222222,
              "#7201a8"
             ],
             [
              0.3333333333333333,
              "#9c179e"
             ],
             [
              0.4444444444444444,
              "#bd3786"
             ],
             [
              0.5555555555555556,
              "#d8576b"
             ],
             [
              0.6666666666666666,
              "#ed7953"
             ],
             [
              0.7777777777777778,
              "#fb9f3a"
             ],
             [
              0.8888888888888888,
              "#fdca26"
             ],
             [
              1,
              "#f0f921"
             ]
            ],
            "type": "heatmap"
           }
          ],
          "heatmapgl": [
           {
            "colorbar": {
             "outlinewidth": 0,
             "ticks": ""
            },
            "colorscale": [
             [
              0,
              "#0d0887"
             ],
             [
              0.1111111111111111,
              "#46039f"
             ],
             [
              0.2222222222222222,
              "#7201a8"
             ],
             [
              0.3333333333333333,
              "#9c179e"
             ],
             [
              0.4444444444444444,
              "#bd3786"
             ],
             [
              0.5555555555555556,
              "#d8576b"
             ],
             [
              0.6666666666666666,
              "#ed7953"
             ],
             [
              0.7777777777777778,
              "#fb9f3a"
             ],
             [
              0.8888888888888888,
              "#fdca26"
             ],
             [
              1,
              "#f0f921"
             ]
            ],
            "type": "heatmapgl"
           }
          ],
          "histogram": [
           {
            "marker": {
             "pattern": {
              "fillmode": "overlay",
              "size": 10,
              "solidity": 0.2
             }
            },
            "type": "histogram"
           }
          ],
          "histogram2d": [
           {
            "colorbar": {
             "outlinewidth": 0,
             "ticks": ""
            },
            "colorscale": [
             [
              0,
              "#0d0887"
             ],
             [
              0.1111111111111111,
              "#46039f"
             ],
             [
              0.2222222222222222,
              "#7201a8"
             ],
             [
              0.3333333333333333,
              "#9c179e"
             ],
             [
              0.4444444444444444,
              "#bd3786"
             ],
             [
              0.5555555555555556,
              "#d8576b"
             ],
             [
              0.6666666666666666,
              "#ed7953"
             ],
             [
              0.7777777777777778,
              "#fb9f3a"
             ],
             [
              0.8888888888888888,
              "#fdca26"
             ],
             [
              1,
              "#f0f921"
             ]
            ],
            "type": "histogram2d"
           }
          ],
          "histogram2dcontour": [
           {
            "colorbar": {
             "outlinewidth": 0,
             "ticks": ""
            },
            "colorscale": [
             [
              0,
              "#0d0887"
             ],
             [
              0.1111111111111111,
              "#46039f"
             ],
             [
              0.2222222222222222,
              "#7201a8"
             ],
             [
              0.3333333333333333,
              "#9c179e"
             ],
             [
              0.4444444444444444,
              "#bd3786"
             ],
             [
              0.5555555555555556,
              "#d8576b"
             ],
             [
              0.6666666666666666,
              "#ed7953"
             ],
             [
              0.7777777777777778,
              "#fb9f3a"
             ],
             [
              0.8888888888888888,
              "#fdca26"
             ],
             [
              1,
              "#f0f921"
             ]
            ],
            "type": "histogram2dcontour"
           }
          ],
          "mesh3d": [
           {
            "colorbar": {
             "outlinewidth": 0,
             "ticks": ""
            },
            "type": "mesh3d"
           }
          ],
          "parcoords": [
           {
            "line": {
             "colorbar": {
              "outlinewidth": 0,
              "ticks": ""
             }
            },
            "type": "parcoords"
           }
          ],
          "pie": [
           {
            "automargin": true,
            "type": "pie"
           }
          ],
          "scatter": [
           {
            "fillpattern": {
             "fillmode": "overlay",
             "size": 10,
             "solidity": 0.2
            },
            "type": "scatter"
           }
          ],
          "scatter3d": [
           {
            "line": {
             "colorbar": {
              "outlinewidth": 0,
              "ticks": ""
             }
            },
            "marker": {
             "colorbar": {
              "outlinewidth": 0,
              "ticks": ""
             }
            },
            "type": "scatter3d"
           }
          ],
          "scattercarpet": [
           {
            "marker": {
             "colorbar": {
              "outlinewidth": 0,
              "ticks": ""
             }
            },
            "type": "scattercarpet"
           }
          ],
          "scattergeo": [
           {
            "marker": {
             "colorbar": {
              "outlinewidth": 0,
              "ticks": ""
             }
            },
            "type": "scattergeo"
           }
          ],
          "scattergl": [
           {
            "marker": {
             "colorbar": {
              "outlinewidth": 0,
              "ticks": ""
             }
            },
            "type": "scattergl"
           }
          ],
          "scattermapbox": [
           {
            "marker": {
             "colorbar": {
              "outlinewidth": 0,
              "ticks": ""
             }
            },
            "type": "scattermapbox"
           }
          ],
          "scatterpolar": [
           {
            "marker": {
             "colorbar": {
              "outlinewidth": 0,
              "ticks": ""
             }
            },
            "type": "scatterpolar"
           }
          ],
          "scatterpolargl": [
           {
            "marker": {
             "colorbar": {
              "outlinewidth": 0,
              "ticks": ""
             }
            },
            "type": "scatterpolargl"
           }
          ],
          "scatterternary": [
           {
            "marker": {
             "colorbar": {
              "outlinewidth": 0,
              "ticks": ""
             }
            },
            "type": "scatterternary"
           }
          ],
          "surface": [
           {
            "colorbar": {
             "outlinewidth": 0,
             "ticks": ""
            },
            "colorscale": [
             [
              0,
              "#0d0887"
             ],
             [
              0.1111111111111111,
              "#46039f"
             ],
             [
              0.2222222222222222,
              "#7201a8"
             ],
             [
              0.3333333333333333,
              "#9c179e"
             ],
             [
              0.4444444444444444,
              "#bd3786"
             ],
             [
              0.5555555555555556,
              "#d8576b"
             ],
             [
              0.6666666666666666,
              "#ed7953"
             ],
             [
              0.7777777777777778,
              "#fb9f3a"
             ],
             [
              0.8888888888888888,
              "#fdca26"
             ],
             [
              1,
              "#f0f921"
             ]
            ],
            "type": "surface"
           }
          ],
          "table": [
           {
            "cells": {
             "fill": {
              "color": "#EBF0F8"
             },
             "line": {
              "color": "white"
             }
            },
            "header": {
             "fill": {
              "color": "#C8D4E3"
             },
             "line": {
              "color": "white"
             }
            },
            "type": "table"
           }
          ]
         },
         "layout": {
          "annotationdefaults": {
           "arrowcolor": "#2a3f5f",
           "arrowhead": 0,
           "arrowwidth": 1
          },
          "autotypenumbers": "strict",
          "coloraxis": {
           "colorbar": {
            "outlinewidth": 0,
            "ticks": ""
           }
          },
          "colorscale": {
           "diverging": [
            [
             0,
             "#8e0152"
            ],
            [
             0.1,
             "#c51b7d"
            ],
            [
             0.2,
             "#de77ae"
            ],
            [
             0.3,
             "#f1b6da"
            ],
            [
             0.4,
             "#fde0ef"
            ],
            [
             0.5,
             "#f7f7f7"
            ],
            [
             0.6,
             "#e6f5d0"
            ],
            [
             0.7,
             "#b8e186"
            ],
            [
             0.8,
             "#7fbc41"
            ],
            [
             0.9,
             "#4d9221"
            ],
            [
             1,
             "#276419"
            ]
           ],
           "sequential": [
            [
             0,
             "#0d0887"
            ],
            [
             0.1111111111111111,
             "#46039f"
            ],
            [
             0.2222222222222222,
             "#7201a8"
            ],
            [
             0.3333333333333333,
             "#9c179e"
            ],
            [
             0.4444444444444444,
             "#bd3786"
            ],
            [
             0.5555555555555556,
             "#d8576b"
            ],
            [
             0.6666666666666666,
             "#ed7953"
            ],
            [
             0.7777777777777778,
             "#fb9f3a"
            ],
            [
             0.8888888888888888,
             "#fdca26"
            ],
            [
             1,
             "#f0f921"
            ]
           ],
           "sequentialminus": [
            [
             0,
             "#0d0887"
            ],
            [
             0.1111111111111111,
             "#46039f"
            ],
            [
             0.2222222222222222,
             "#7201a8"
            ],
            [
             0.3333333333333333,
             "#9c179e"
            ],
            [
             0.4444444444444444,
             "#bd3786"
            ],
            [
             0.5555555555555556,
             "#d8576b"
            ],
            [
             0.6666666666666666,
             "#ed7953"
            ],
            [
             0.7777777777777778,
             "#fb9f3a"
            ],
            [
             0.8888888888888888,
             "#fdca26"
            ],
            [
             1,
             "#f0f921"
            ]
           ]
          },
          "colorway": [
           "#636efa",
           "#EF553B",
           "#00cc96",
           "#ab63fa",
           "#FFA15A",
           "#19d3f3",
           "#FF6692",
           "#B6E880",
           "#FF97FF",
           "#FECB52"
          ],
          "font": {
           "color": "#2a3f5f"
          },
          "geo": {
           "bgcolor": "white",
           "lakecolor": "white",
           "landcolor": "#E5ECF6",
           "showlakes": true,
           "showland": true,
           "subunitcolor": "white"
          },
          "hoverlabel": {
           "align": "left"
          },
          "hovermode": "closest",
          "mapbox": {
           "style": "light"
          },
          "paper_bgcolor": "white",
          "plot_bgcolor": "#E5ECF6",
          "polar": {
           "angularaxis": {
            "gridcolor": "white",
            "linecolor": "white",
            "ticks": ""
           },
           "bgcolor": "#E5ECF6",
           "radialaxis": {
            "gridcolor": "white",
            "linecolor": "white",
            "ticks": ""
           }
          },
          "scene": {
           "xaxis": {
            "backgroundcolor": "#E5ECF6",
            "gridcolor": "white",
            "gridwidth": 2,
            "linecolor": "white",
            "showbackground": true,
            "ticks": "",
            "zerolinecolor": "white"
           },
           "yaxis": {
            "backgroundcolor": "#E5ECF6",
            "gridcolor": "white",
            "gridwidth": 2,
            "linecolor": "white",
            "showbackground": true,
            "ticks": "",
            "zerolinecolor": "white"
           },
           "zaxis": {
            "backgroundcolor": "#E5ECF6",
            "gridcolor": "white",
            "gridwidth": 2,
            "linecolor": "white",
            "showbackground": true,
            "ticks": "",
            "zerolinecolor": "white"
           }
          },
          "shapedefaults": {
           "line": {
            "color": "#2a3f5f"
           }
          },
          "ternary": {
           "aaxis": {
            "gridcolor": "white",
            "linecolor": "white",
            "ticks": ""
           },
           "baxis": {
            "gridcolor": "white",
            "linecolor": "white",
            "ticks": ""
           },
           "bgcolor": "#E5ECF6",
           "caxis": {
            "gridcolor": "white",
            "linecolor": "white",
            "ticks": ""
           }
          },
          "title": {
           "x": 0.05
          },
          "xaxis": {
           "automargin": true,
           "gridcolor": "white",
           "linecolor": "white",
           "ticks": "",
           "title": {
            "standoff": 15
           },
           "zerolinecolor": "white",
           "zerolinewidth": 2
          },
          "yaxis": {
           "automargin": true,
           "gridcolor": "white",
           "linecolor": "white",
           "ticks": "",
           "title": {
            "standoff": 15
           },
           "zerolinecolor": "white",
           "zerolinewidth": 2
          }
         }
        },
        "title": {
         "text": "Number of Outages per Year"
        },
        "xaxis": {
         "tickangle": 45,
         "title": {
          "text": "Year"
         }
        },
        "yaxis": {
         "title": {
          "text": "Number of Outages"
         }
        }
       }
      }
     },
     "metadata": {},
     "output_type": "display_data"
    }
   ],
   "source": [
    "# Define data for scatter plot\n",
    "x = outages1.groupby(\"YEAR\").count()[\"MONTH\"].index\n",
    "y = outages1.groupby(\"YEAR\").count()[\"MONTH\"].values\n",
    "\n",
    "# Create scatter plot using Plotly\n",
    "fig = go.Figure(data=go.Scatter(x=x, y=y, mode='markers'))\n",
    "fig.update_layout(\n",
    "    title=\"Number of Outages per Year\",\n",
    "    xaxis_title=\"Year\",\n",
    "    yaxis_title=\"Number of Outages\",\n",
    "    xaxis=dict(tickangle=45)  # Rotate x-axis tick labels by 45 degrees\n",
    ")\n",
    "fig.show()\n",
    "\n",
    "# Save the plot as HTML to a file\n",
    "fig.write_html('scatter_plot.html', include_plotlyjs='cdn')"
   ]
  },
  {
   "cell_type": "code",
   "execution_count": 476,
   "metadata": {},
   "outputs": [
    {
     "data": {
      "text/plain": [
       "6        70000\n",
       "7          NaN\n",
       "8        70000\n",
       "9        68200\n",
       "10      250000\n",
       "         ...  \n",
       "1535     34500\n",
       "1536       NaN\n",
       "1537       NaN\n",
       "1538       NaN\n",
       "1539     14273\n",
       "Name: CUSTOMERS.AFFECTED, Length: 1534, dtype: object"
      ]
     },
     "execution_count": 476,
     "metadata": {},
     "output_type": "execute_result"
    }
   ],
   "source": [
    "outages1['CUSTOMERS.AFFECTED']"
   ]
  },
  {
   "cell_type": "markdown",
   "metadata": {},
   "source": [
    "Let's do something about the Missingness of some of the columns that we are going to be using later on in the regression portion of this project."
   ]
  },
  {
   "cell_type": "code",
   "execution_count": 477,
   "metadata": {},
   "outputs": [
    {
     "data": {
      "text/plain": [
       "'linear_outages = outages1[[\\n    \"RES.PRICE\",\\n    \\'POPULATION\\',\\n    \"CLIMATE.REGION\",\\n    \"COM.PRICE\",\\n    \"OUTAGE_DURATION\",\"PI.UTIL.OFUSA\",\"CUSTOMERS.AFFECTED\"]]\\nlinear_outages1 = linear_outages.copy()\\nlinear_outages1 = linear_outages1.reset_index(drop=True)\\nlinear_outages1[\\'CUSTOMERS.AFFECTED\\'] = linear_outages1[\\'CUSTOMERS.AFFECTED\\'].astype(float)\\n\\nprobabilities = linear_outages1.groupby(\\'OUTAGE_DURATION\\')[\\'CUSTOMERS.AFFECTED\\'].apply(lambda x: x.value_counts(normalize=True))\\n\\n# Function to fill missing values probabilistically\\ndef fill_missing_customers(row):\\n    if pd.isnull(row[\\'CUSTOMERS.AFFECTED\\']):\\n        outage_duration = row[\\'OUTAGE_DURATION\\']\\n        if outage_duration in probabilities:\\n            sampled_value = np.random.choice(probabilities[outage_duration].index, p=probabilities[outage_duration].values)\\n            return sampled_value\\n    return row[\\'CUSTOMERS.AFFECTED\\']\\n\\n# Apply the function to fill missing values\\nlinear_outages1[\\'CUSTOMERS.AFFECTED\\'] = linear_outages1.apply(fill_missing_customers, axis=1)\\nlinear_outages1[\\'CUSTOMERS.AFFECTED\\'].fillna(linear_outages1[\\'CUSTOMERS.AFFECTED\\'].mean(), inplace=True)  # Or you can use mode() for mode or any default value\\n'"
      ]
     },
     "execution_count": 477,
     "metadata": {},
     "output_type": "execute_result"
    }
   ],
   "source": [
    "'''linear_outages = outages1[[\n",
    "    \"RES.PRICE\",\n",
    "    'POPULATION',\n",
    "    \"CLIMATE.REGION\",\n",
    "    \"COM.PRICE\",\n",
    "    \"OUTAGE_DURATION\",\"PI.UTIL.OFUSA\",\"CUSTOMERS.AFFECTED\"]]\n",
    "linear_outages1 = linear_outages.copy()\n",
    "linear_outages1 = linear_outages1.reset_index(drop=True)\n",
    "linear_outages1['CUSTOMERS.AFFECTED'] = linear_outages1['CUSTOMERS.AFFECTED'].astype(float)\n",
    "\n",
    "probabilities = linear_outages1.groupby('OUTAGE_DURATION')['CUSTOMERS.AFFECTED'].apply(lambda x: x.value_counts(normalize=True))\n",
    "\n",
    "# Function to fill missing values probabilistically\n",
    "def fill_missing_customers(row):\n",
    "    if pd.isnull(row['CUSTOMERS.AFFECTED']):\n",
    "        outage_duration = row['OUTAGE_DURATION']\n",
    "        if outage_duration in probabilities:\n",
    "            sampled_value = np.random.choice(probabilities[outage_duration].index, p=probabilities[outage_duration].values)\n",
    "            return sampled_value\n",
    "    return row['CUSTOMERS.AFFECTED']\n",
    "\n",
    "# Apply the function to fill missing values\n",
    "linear_outages1['CUSTOMERS.AFFECTED'] = linear_outages1.apply(fill_missing_customers, axis=1)\n",
    "linear_outages1['CUSTOMERS.AFFECTED'].fillna(linear_outages1['CUSTOMERS.AFFECTED'].mean(), inplace=True)  # Or you can use mode() for mode or any default value\n",
    "'''"
   ]
  },
  {
   "cell_type": "code",
   "execution_count": 478,
   "metadata": {},
   "outputs": [
    {
     "data": {
      "text/html": [
       "<div>\n",
       "<style scoped>\n",
       "    .dataframe tbody tr th:only-of-type {\n",
       "        vertical-align: middle;\n",
       "    }\n",
       "\n",
       "    .dataframe tbody tr th {\n",
       "        vertical-align: top;\n",
       "    }\n",
       "\n",
       "    .dataframe thead th {\n",
       "        text-align: right;\n",
       "    }\n",
       "</style>\n",
       "<table border=\"1\" class=\"dataframe\">\n",
       "  <thead>\n",
       "    <tr style=\"text-align: right;\">\n",
       "      <th></th>\n",
       "      <th>ANOMALY.LEVEL</th>\n",
       "      <th>CLIMATE.REGION</th>\n",
       "      <th>COM.PRICE</th>\n",
       "      <th>OUTAGE_DURATION</th>\n",
       "      <th>PI.UTIL.OFUSA</th>\n",
       "    </tr>\n",
       "  </thead>\n",
       "  <tbody>\n",
       "    <tr>\n",
       "      <th>0</th>\n",
       "      <td>-0.3</td>\n",
       "      <td>East North Central</td>\n",
       "      <td>9.18</td>\n",
       "      <td>3060.000000</td>\n",
       "      <td>2.2</td>\n",
       "    </tr>\n",
       "    <tr>\n",
       "      <th>1</th>\n",
       "      <td>-0.1</td>\n",
       "      <td>East North Central</td>\n",
       "      <td>9.71</td>\n",
       "      <td>1.000000</td>\n",
       "      <td>2.2</td>\n",
       "    </tr>\n",
       "    <tr>\n",
       "      <th>2</th>\n",
       "      <td>-1.5</td>\n",
       "      <td>East North Central</td>\n",
       "      <td>8.19</td>\n",
       "      <td>3000.000000</td>\n",
       "      <td>2.1</td>\n",
       "    </tr>\n",
       "    <tr>\n",
       "      <th>3</th>\n",
       "      <td>-0.1</td>\n",
       "      <td>East North Central</td>\n",
       "      <td>9.25</td>\n",
       "      <td>2550.000000</td>\n",
       "      <td>2.2</td>\n",
       "    </tr>\n",
       "    <tr>\n",
       "      <th>4</th>\n",
       "      <td>1.2</td>\n",
       "      <td>East North Central</td>\n",
       "      <td>10.16</td>\n",
       "      <td>1740.000000</td>\n",
       "      <td>2.2</td>\n",
       "    </tr>\n",
       "    <tr>\n",
       "      <th>...</th>\n",
       "      <td>...</td>\n",
       "      <td>...</td>\n",
       "      <td>...</td>\n",
       "      <td>...</td>\n",
       "      <td>...</td>\n",
       "    </tr>\n",
       "    <tr>\n",
       "      <th>1529</th>\n",
       "      <td>-0.9</td>\n",
       "      <td>West North Central</td>\n",
       "      <td>7.8</td>\n",
       "      <td>720.000000</td>\n",
       "      <td>0.5</td>\n",
       "    </tr>\n",
       "    <tr>\n",
       "      <th>1530</th>\n",
       "      <td>NaN</td>\n",
       "      <td>West North Central</td>\n",
       "      <td>NaN</td>\n",
       "      <td>2771.879828</td>\n",
       "      <td>0.7</td>\n",
       "    </tr>\n",
       "    <tr>\n",
       "      <th>1531</th>\n",
       "      <td>0.5</td>\n",
       "      <td>West North Central</td>\n",
       "      <td>7.47</td>\n",
       "      <td>59.000000</td>\n",
       "      <td>0.3</td>\n",
       "    </tr>\n",
       "    <tr>\n",
       "      <th>1532</th>\n",
       "      <td>0.5</td>\n",
       "      <td>West North Central</td>\n",
       "      <td>7.47</td>\n",
       "      <td>181.000000</td>\n",
       "      <td>0.3</td>\n",
       "    </tr>\n",
       "    <tr>\n",
       "      <th>1533</th>\n",
       "      <td>NaN</td>\n",
       "      <td>NaN</td>\n",
       "      <td>NaN</td>\n",
       "      <td>2771.879828</td>\n",
       "      <td>0.2</td>\n",
       "    </tr>\n",
       "  </tbody>\n",
       "</table>\n",
       "<p>1534 rows × 5 columns</p>\n",
       "</div>"
      ],
      "text/plain": [
       "     ANOMALY.LEVEL      CLIMATE.REGION COM.PRICE  OUTAGE_DURATION  \\\n",
       "0             -0.3  East North Central      9.18      3060.000000   \n",
       "1             -0.1  East North Central      9.71         1.000000   \n",
       "2             -1.5  East North Central      8.19      3000.000000   \n",
       "3             -0.1  East North Central      9.25      2550.000000   \n",
       "4              1.2  East North Central     10.16      1740.000000   \n",
       "...            ...                 ...       ...              ...   \n",
       "1529          -0.9  West North Central       7.8       720.000000   \n",
       "1530           NaN  West North Central       NaN      2771.879828   \n",
       "1531           0.5  West North Central      7.47        59.000000   \n",
       "1532           0.5  West North Central      7.47       181.000000   \n",
       "1533           NaN                 NaN       NaN      2771.879828   \n",
       "\n",
       "     PI.UTIL.OFUSA  \n",
       "0              2.2  \n",
       "1              2.2  \n",
       "2              2.1  \n",
       "3              2.2  \n",
       "4              2.2  \n",
       "...            ...  \n",
       "1529           0.5  \n",
       "1530           0.7  \n",
       "1531           0.3  \n",
       "1532           0.3  \n",
       "1533           0.2  \n",
       "\n",
       "[1534 rows x 5 columns]"
      ]
     },
     "execution_count": 478,
     "metadata": {},
     "output_type": "execute_result"
    }
   ],
   "source": [
    "linear_outages = outages1[[\n",
    "    \"ANOMALY.LEVEL\",\n",
    "    \"CLIMATE.REGION\",\n",
    "    \"COM.PRICE\",\n",
    "    \"OUTAGE_DURATION\",\"PI.UTIL.OFUSA\"]]\n",
    "linear_outages1 = linear_outages.copy()\n",
    "linear_outages1 = linear_outages1.reset_index(drop=True)\n",
    "\n",
    "linear_outages1"
   ]
  },
  {
   "cell_type": "code",
   "execution_count": null,
   "metadata": {},
   "outputs": [],
   "source": []
  },
  {
   "cell_type": "code",
   "execution_count": 479,
   "metadata": {},
   "outputs": [
    {
     "data": {
      "text/plain": [
       "ANOMALY.LEVEL       9\n",
       "CLIMATE.REGION      6\n",
       "COM.PRICE          22\n",
       "OUTAGE_DURATION     0\n",
       "PI.UTIL.OFUSA       0\n",
       "dtype: int64"
      ]
     },
     "execution_count": 479,
     "metadata": {},
     "output_type": "execute_result"
    }
   ],
   "source": [
    "linear_outages1.isna().sum()"
   ]
  },
  {
   "cell_type": "code",
   "execution_count": null,
   "metadata": {},
   "outputs": [],
   "source": []
  },
  {
   "cell_type": "code",
   "execution_count": 480,
   "metadata": {},
   "outputs": [
    {
     "data": {
      "text/plain": [
       "ANOMALY.LEVEL       9\n",
       "CLIMATE.REGION      6\n",
       "COM.PRICE          22\n",
       "OUTAGE_DURATION     0\n",
       "PI.UTIL.OFUSA       0\n",
       "dtype: int64"
      ]
     },
     "execution_count": 480,
     "metadata": {},
     "output_type": "execute_result"
    }
   ],
   "source": [
    "linear_outages1.isna().sum()"
   ]
  },
  {
   "cell_type": "code",
   "execution_count": 481,
   "metadata": {},
   "outputs": [
    {
     "data": {
      "text/plain": [
       "1534"
      ]
     },
     "execution_count": 481,
     "metadata": {},
     "output_type": "execute_result"
    }
   ],
   "source": [
    "linear_outages1.shape[0]"
   ]
  },
  {
   "cell_type": "markdown",
   "metadata": {},
   "source": [
    "The total number of NA rows seemed pretty insignficant in the grand scheme of things, thus we are dropping it for the first round of our model testing."
   ]
  },
  {
   "cell_type": "code",
   "execution_count": 482,
   "metadata": {},
   "outputs": [
    {
     "data": {
      "text/plain": [
       "1507"
      ]
     },
     "execution_count": 482,
     "metadata": {},
     "output_type": "execute_result"
    }
   ],
   "source": [
    "linear_outages1 = linear_outages1.dropna()\n",
    "linear_outages1.shape[0]"
   ]
  },
  {
   "cell_type": "markdown",
   "metadata": {},
   "source": [
    "## Step 3: Assessment of Missingness"
   ]
  },
  {
   "cell_type": "markdown",
   "metadata": {},
   "source": [
    "### NMAR Analysis\n"
   ]
  },
  {
   "cell_type": "code",
   "execution_count": 483,
   "metadata": {},
   "outputs": [
    {
     "data": {
      "text/html": [
       "<div>\n",
       "<style scoped>\n",
       "    .dataframe tbody tr th:only-of-type {\n",
       "        vertical-align: middle;\n",
       "    }\n",
       "\n",
       "    .dataframe tbody tr th {\n",
       "        vertical-align: top;\n",
       "    }\n",
       "\n",
       "    .dataframe thead th {\n",
       "        text-align: right;\n",
       "    }\n",
       "</style>\n",
       "<table border=\"1\" class=\"dataframe\">\n",
       "  <thead>\n",
       "    <tr style=\"text-align: right;\">\n",
       "      <th></th>\n",
       "      <th>MONTH</th>\n",
       "      <th>CLIMATE.REGION</th>\n",
       "      <th>ANOMALY.LEVEL</th>\n",
       "      <th>CLIMATE.CATEGORY</th>\n",
       "      <th>OUTAGE.START.TIME</th>\n",
       "      <th>CAUSE.CATEGORY.DETAIL</th>\n",
       "      <th>COM.PRICE</th>\n",
       "      <th>IND.PRICE</th>\n",
       "      <th>RES.SALES</th>\n",
       "      <th>COM.SALES</th>\n",
       "      <th>IND.SALES</th>\n",
       "      <th>TOTAL.SALES</th>\n",
       "      <th>RES.PERCEN</th>\n",
       "      <th>COM.PERCEN</th>\n",
       "      <th>IND.PERCEN</th>\n",
       "      <th>POPDEN_UC</th>\n",
       "      <th>POPDEN_RURAL</th>\n",
       "      <th>RES.PRICE</th>\n",
       "    </tr>\n",
       "  </thead>\n",
       "  <tbody>\n",
       "    <tr>\n",
       "      <th>6</th>\n",
       "      <td>7</td>\n",
       "      <td>East North Central</td>\n",
       "      <td>-0.3</td>\n",
       "      <td>normal</td>\n",
       "      <td>5:00:00 PM</td>\n",
       "      <td>NaN</td>\n",
       "      <td>9.18</td>\n",
       "      <td>6.81</td>\n",
       "      <td>2332915</td>\n",
       "      <td>2114774</td>\n",
       "      <td>2113291</td>\n",
       "      <td>6562520</td>\n",
       "      <td>35.54907261</td>\n",
       "      <td>32.22502941</td>\n",
       "      <td>32.20243138</td>\n",
       "      <td>1700.5</td>\n",
       "      <td>18.2</td>\n",
       "      <td>11.6</td>\n",
       "    </tr>\n",
       "    <tr>\n",
       "      <th>7</th>\n",
       "      <td>5</td>\n",
       "      <td>East North Central</td>\n",
       "      <td>-0.1</td>\n",
       "      <td>normal</td>\n",
       "      <td>6:38:00 PM</td>\n",
       "      <td>vandalism</td>\n",
       "      <td>9.71</td>\n",
       "      <td>6.49</td>\n",
       "      <td>1586986</td>\n",
       "      <td>1807756</td>\n",
       "      <td>1887927</td>\n",
       "      <td>5284231</td>\n",
       "      <td>30.03248722</td>\n",
       "      <td>34.21038936</td>\n",
       "      <td>35.72756376</td>\n",
       "      <td>1700.5</td>\n",
       "      <td>18.2</td>\n",
       "      <td>12.12</td>\n",
       "    </tr>\n",
       "    <tr>\n",
       "      <th>8</th>\n",
       "      <td>10</td>\n",
       "      <td>East North Central</td>\n",
       "      <td>-1.5</td>\n",
       "      <td>cold</td>\n",
       "      <td>8:00:00 PM</td>\n",
       "      <td>heavy wind</td>\n",
       "      <td>8.19</td>\n",
       "      <td>6.07</td>\n",
       "      <td>1467293</td>\n",
       "      <td>1801683</td>\n",
       "      <td>1951295</td>\n",
       "      <td>5222116</td>\n",
       "      <td>28.09767152</td>\n",
       "      <td>34.50101453</td>\n",
       "      <td>37.36598344</td>\n",
       "      <td>1700.5</td>\n",
       "      <td>18.2</td>\n",
       "      <td>10.87</td>\n",
       "    </tr>\n",
       "    <tr>\n",
       "      <th>9</th>\n",
       "      <td>6</td>\n",
       "      <td>East North Central</td>\n",
       "      <td>-0.1</td>\n",
       "      <td>normal</td>\n",
       "      <td>4:30:00 AM</td>\n",
       "      <td>thunderstorm</td>\n",
       "      <td>9.25</td>\n",
       "      <td>6.71</td>\n",
       "      <td>1851519</td>\n",
       "      <td>1941174</td>\n",
       "      <td>1993026</td>\n",
       "      <td>5787064</td>\n",
       "      <td>31.99409925</td>\n",
       "      <td>33.54333043</td>\n",
       "      <td>34.43932882</td>\n",
       "      <td>1700.5</td>\n",
       "      <td>18.2</td>\n",
       "      <td>11.79</td>\n",
       "    </tr>\n",
       "    <tr>\n",
       "      <th>10</th>\n",
       "      <td>7</td>\n",
       "      <td>East North Central</td>\n",
       "      <td>1.2</td>\n",
       "      <td>warm</td>\n",
       "      <td>2:00:00 AM</td>\n",
       "      <td>NaN</td>\n",
       "      <td>10.16</td>\n",
       "      <td>7.74</td>\n",
       "      <td>2028875</td>\n",
       "      <td>2161612</td>\n",
       "      <td>1777937</td>\n",
       "      <td>5970339</td>\n",
       "      <td>33.9825762</td>\n",
       "      <td>36.20585029</td>\n",
       "      <td>29.77949828</td>\n",
       "      <td>1700.5</td>\n",
       "      <td>18.2</td>\n",
       "      <td>13.07</td>\n",
       "    </tr>\n",
       "    <tr>\n",
       "      <th>...</th>\n",
       "      <td>...</td>\n",
       "      <td>...</td>\n",
       "      <td>...</td>\n",
       "      <td>...</td>\n",
       "      <td>...</td>\n",
       "      <td>...</td>\n",
       "      <td>...</td>\n",
       "      <td>...</td>\n",
       "      <td>...</td>\n",
       "      <td>...</td>\n",
       "      <td>...</td>\n",
       "      <td>...</td>\n",
       "      <td>...</td>\n",
       "      <td>...</td>\n",
       "      <td>...</td>\n",
       "      <td>...</td>\n",
       "      <td>...</td>\n",
       "      <td>...</td>\n",
       "    </tr>\n",
       "    <tr>\n",
       "      <th>1535</th>\n",
       "      <td>12</td>\n",
       "      <td>West North Central</td>\n",
       "      <td>-0.9</td>\n",
       "      <td>cold</td>\n",
       "      <td>8:00:00 AM</td>\n",
       "      <td>NaN</td>\n",
       "      <td>7.8</td>\n",
       "      <td>6.2</td>\n",
       "      <td>488853</td>\n",
       "      <td>438133</td>\n",
       "      <td>386693</td>\n",
       "      <td>1313678</td>\n",
       "      <td>37.21254371</td>\n",
       "      <td>33.35162802</td>\n",
       "      <td>29.43590438</td>\n",
       "      <td>1868.2</td>\n",
       "      <td>3.9</td>\n",
       "      <td>8.41</td>\n",
       "    </tr>\n",
       "    <tr>\n",
       "      <th>1536</th>\n",
       "      <td>NaN</td>\n",
       "      <td>West North Central</td>\n",
       "      <td>NaN</td>\n",
       "      <td>NaN</td>\n",
       "      <td>NaN</td>\n",
       "      <td>Coal</td>\n",
       "      <td>NaN</td>\n",
       "      <td>NaN</td>\n",
       "      <td>NaN</td>\n",
       "      <td>NaN</td>\n",
       "      <td>NaN</td>\n",
       "      <td>NaN</td>\n",
       "      <td>NaN</td>\n",
       "      <td>NaN</td>\n",
       "      <td>NaN</td>\n",
       "      <td>1868.2</td>\n",
       "      <td>3.9</td>\n",
       "      <td>NaN</td>\n",
       "    </tr>\n",
       "    <tr>\n",
       "      <th>1537</th>\n",
       "      <td>8</td>\n",
       "      <td>West North Central</td>\n",
       "      <td>0.5</td>\n",
       "      <td>warm</td>\n",
       "      <td>10:54:00 PM</td>\n",
       "      <td>NaN</td>\n",
       "      <td>7.47</td>\n",
       "      <td>5.53</td>\n",
       "      <td>337874</td>\n",
       "      <td>370771</td>\n",
       "      <td>215406</td>\n",
       "      <td>924051</td>\n",
       "      <td>36.56443205</td>\n",
       "      <td>40.12451694</td>\n",
       "      <td>23.31105101</td>\n",
       "      <td>1905.4</td>\n",
       "      <td>4.7</td>\n",
       "      <td>9.25</td>\n",
       "    </tr>\n",
       "    <tr>\n",
       "      <th>1538</th>\n",
       "      <td>8</td>\n",
       "      <td>West North Central</td>\n",
       "      <td>0.5</td>\n",
       "      <td>warm</td>\n",
       "      <td>11:00:00 AM</td>\n",
       "      <td>NaN</td>\n",
       "      <td>7.47</td>\n",
       "      <td>5.53</td>\n",
       "      <td>337874</td>\n",
       "      <td>370771</td>\n",
       "      <td>215406</td>\n",
       "      <td>924051</td>\n",
       "      <td>36.56443205</td>\n",
       "      <td>40.12451694</td>\n",
       "      <td>23.31105101</td>\n",
       "      <td>1905.4</td>\n",
       "      <td>4.7</td>\n",
       "      <td>9.25</td>\n",
       "    </tr>\n",
       "    <tr>\n",
       "      <th>1539</th>\n",
       "      <td>NaN</td>\n",
       "      <td>NaN</td>\n",
       "      <td>NaN</td>\n",
       "      <td>NaN</td>\n",
       "      <td>NaN</td>\n",
       "      <td>failure</td>\n",
       "      <td>NaN</td>\n",
       "      <td>NaN</td>\n",
       "      <td>NaN</td>\n",
       "      <td>NaN</td>\n",
       "      <td>NaN</td>\n",
       "      <td>NaN</td>\n",
       "      <td>NaN</td>\n",
       "      <td>NaN</td>\n",
       "      <td>NaN</td>\n",
       "      <td>1276</td>\n",
       "      <td>0.4</td>\n",
       "      <td>NaN</td>\n",
       "    </tr>\n",
       "  </tbody>\n",
       "</table>\n",
       "<p>1534 rows × 18 columns</p>\n",
       "</div>"
      ],
      "text/plain": [
       "     MONTH      CLIMATE.REGION ANOMALY.LEVEL CLIMATE.CATEGORY  \\\n",
       "6        7  East North Central          -0.3           normal   \n",
       "7        5  East North Central          -0.1           normal   \n",
       "8       10  East North Central          -1.5             cold   \n",
       "9        6  East North Central          -0.1           normal   \n",
       "10       7  East North Central           1.2             warm   \n",
       "...    ...                 ...           ...              ...   \n",
       "1535    12  West North Central          -0.9             cold   \n",
       "1536   NaN  West North Central           NaN              NaN   \n",
       "1537     8  West North Central           0.5             warm   \n",
       "1538     8  West North Central           0.5             warm   \n",
       "1539   NaN                 NaN           NaN              NaN   \n",
       "\n",
       "     OUTAGE.START.TIME CAUSE.CATEGORY.DETAIL COM.PRICE IND.PRICE RES.SALES  \\\n",
       "6           5:00:00 PM                   NaN      9.18      6.81   2332915   \n",
       "7           6:38:00 PM             vandalism      9.71      6.49   1586986   \n",
       "8           8:00:00 PM            heavy wind      8.19      6.07   1467293   \n",
       "9           4:30:00 AM          thunderstorm      9.25      6.71   1851519   \n",
       "10          2:00:00 AM                   NaN     10.16      7.74   2028875   \n",
       "...                ...                   ...       ...       ...       ...   \n",
       "1535        8:00:00 AM                   NaN       7.8       6.2    488853   \n",
       "1536               NaN                  Coal       NaN       NaN       NaN   \n",
       "1537       10:54:00 PM                   NaN      7.47      5.53    337874   \n",
       "1538       11:00:00 AM                   NaN      7.47      5.53    337874   \n",
       "1539               NaN               failure       NaN       NaN       NaN   \n",
       "\n",
       "     COM.SALES IND.SALES TOTAL.SALES   RES.PERCEN   COM.PERCEN   IND.PERCEN  \\\n",
       "6      2114774   2113291     6562520  35.54907261  32.22502941  32.20243138   \n",
       "7      1807756   1887927     5284231  30.03248722  34.21038936  35.72756376   \n",
       "8      1801683   1951295     5222116  28.09767152  34.50101453  37.36598344   \n",
       "9      1941174   1993026     5787064  31.99409925  33.54333043  34.43932882   \n",
       "10     2161612   1777937     5970339   33.9825762  36.20585029  29.77949828   \n",
       "...        ...       ...         ...          ...          ...          ...   \n",
       "1535    438133    386693     1313678  37.21254371  33.35162802  29.43590438   \n",
       "1536       NaN       NaN         NaN          NaN          NaN          NaN   \n",
       "1537    370771    215406      924051  36.56443205  40.12451694  23.31105101   \n",
       "1538    370771    215406      924051  36.56443205  40.12451694  23.31105101   \n",
       "1539       NaN       NaN         NaN          NaN          NaN          NaN   \n",
       "\n",
       "     POPDEN_UC POPDEN_RURAL RES.PRICE  \n",
       "6       1700.5         18.2      11.6  \n",
       "7       1700.5         18.2     12.12  \n",
       "8       1700.5         18.2     10.87  \n",
       "9       1700.5         18.2     11.79  \n",
       "10      1700.5         18.2     13.07  \n",
       "...        ...          ...       ...  \n",
       "1535    1868.2          3.9      8.41  \n",
       "1536    1868.2          3.9       NaN  \n",
       "1537    1905.4          4.7      9.25  \n",
       "1538    1905.4          4.7      9.25  \n",
       "1539      1276          0.4       NaN  \n",
       "\n",
       "[1534 rows x 18 columns]"
      ]
     },
     "execution_count": 483,
     "metadata": {},
     "output_type": "execute_result"
    }
   ],
   "source": [
    "outages1[['MONTH',\n",
    " 'CLIMATE.REGION',\n",
    " 'ANOMALY.LEVEL',\n",
    " 'CLIMATE.CATEGORY','OUTAGE.START.TIME',\n",
    "          'CAUSE.CATEGORY.DETAIL',\n",
    " 'COM.PRICE',\n",
    " 'IND.PRICE',\n",
    " 'RES.SALES',\n",
    " 'COM.SALES',\n",
    " 'IND.SALES',\n",
    " 'TOTAL.SALES',\n",
    " 'RES.PERCEN',\n",
    " 'COM.PERCEN',\n",
    " 'IND.PERCEN',\n",
    " 'POPDEN_UC',\n",
    " 'POPDEN_RURAL',\"RES.PRICE\"\n",
    "]]"
   ]
  },
  {
   "cell_type": "markdown",
   "metadata": {
    "ExecuteTime": {
     "end_time": "2019-10-31T23:36:28.662099Z",
     "start_time": "2019-10-31T23:36:28.660016Z"
    }
   },
   "source": [
    "Relevant Columns:\n",
    "\n",
    "MONTH - The Month Column has no correlation whatsoever with any other column so thus it MCAR.\n",
    "\n",
    "'CLIMATE.REGION' - MCAR because Climate Region relies on National Centers for Environmental Information which is outside the scope of this df.\n",
    "\n",
    "'ANOMALY.LEVEL - Anomaly level and climate category refer to each other so thus missing values in Anomaly Level are MAR.\n",
    "\n",
    "'CLIMATE.CATEGORY' - Climate Category relies on Climate region so if Climate Region is missing then Climate Category is also missing. This makes it MAR.\n",
    "\n",
    "‘CAUSE.CATEGORY.DETAIL' - This variable is a detailed description of the cause of the outage. Missingess relies on the value itself so this is NMAR. \n",
    "\n",
    "'RES.PRICE' - Despite these next 3 columns all deal with prices in various sectors they are NMAR as they aren;t related to one another and the missing is instead to the individual value itself. This applies to COMP.PRICE, IND.PRICE,RES.SALES,COM.SALES,IND.SALES\n",
    " 'COM.PRICE', \n",
    " 'IND.PRICE', \n",
    "'RES.SALES', \n",
    " 'COM.SALES' : \n",
    " 'IND.SALES',\n",
    "\n",
    "'TOTAL.SALES', Total Sales relies on RES, Com, and Ind Sales so it would be MAR\n",
    "\n",
    "The reason is that the percentage of residential, commercial, and industrial electricity consumption compared to the total consumption so they are mar\n",
    " 'RES.PERCEN',\n",
    " 'COM.PERCEN',\n",
    " 'IND.PERCEN',  \n",
    "\n",
    "'POPDEN_UC',  MCAR because it does not rely on any columns\n",
    "\n",
    "'POPDEN_RURAL'   MCAR because it does not rely on any columns\n"
   ]
  },
  {
   "cell_type": "markdown",
   "metadata": {},
   "source": [
    "### CUSTOMERS.AFFECTED and POSTAL.CODE (MCAR)"
   ]
  },
  {
   "cell_type": "markdown",
   "metadata": {},
   "source": [
    "Null Hypothesis: The missingness of Customers Affected does not depend on Postal Code\n",
    "\n",
    "Alternative Hypothesis: The missingness of Customers Affected depend on Postal Code"
   ]
  },
  {
   "cell_type": "markdown",
   "metadata": {},
   "source": [
    "#### Test Statistic"
   ]
  },
  {
   "cell_type": "code",
   "execution_count": 484,
   "metadata": {},
   "outputs": [
    {
     "data": {
      "text/html": [
       "<div>\n",
       "<style scoped>\n",
       "    .dataframe tbody tr th:only-of-type {\n",
       "        vertical-align: middle;\n",
       "    }\n",
       "\n",
       "    .dataframe tbody tr th {\n",
       "        vertical-align: top;\n",
       "    }\n",
       "\n",
       "    .dataframe thead th {\n",
       "        text-align: right;\n",
       "    }\n",
       "</style>\n",
       "<table border=\"1\" class=\"dataframe\">\n",
       "  <thead>\n",
       "    <tr style=\"text-align: right;\">\n",
       "      <th>POSTAL.CODE</th>\n",
       "      <th>AK</th>\n",
       "      <th>AL</th>\n",
       "      <th>AR</th>\n",
       "      <th>AZ</th>\n",
       "      <th>CA</th>\n",
       "      <th>CO</th>\n",
       "      <th>CT</th>\n",
       "      <th>DC</th>\n",
       "      <th>DE</th>\n",
       "      <th>FL</th>\n",
       "      <th>...</th>\n",
       "      <th>SD</th>\n",
       "      <th>TN</th>\n",
       "      <th>TX</th>\n",
       "      <th>UT</th>\n",
       "      <th>VA</th>\n",
       "      <th>VT</th>\n",
       "      <th>WA</th>\n",
       "      <th>WI</th>\n",
       "      <th>WV</th>\n",
       "      <th>WY</th>\n",
       "    </tr>\n",
       "    <tr>\n",
       "      <th>is_missing</th>\n",
       "      <th></th>\n",
       "      <th></th>\n",
       "      <th></th>\n",
       "      <th></th>\n",
       "      <th></th>\n",
       "      <th></th>\n",
       "      <th></th>\n",
       "      <th></th>\n",
       "      <th></th>\n",
       "      <th></th>\n",
       "      <th></th>\n",
       "      <th></th>\n",
       "      <th></th>\n",
       "      <th></th>\n",
       "      <th></th>\n",
       "      <th></th>\n",
       "      <th></th>\n",
       "      <th></th>\n",
       "      <th></th>\n",
       "      <th></th>\n",
       "      <th></th>\n",
       "    </tr>\n",
       "  </thead>\n",
       "  <tbody>\n",
       "    <tr>\n",
       "      <th>False</th>\n",
       "      <td>1</td>\n",
       "      <td>5</td>\n",
       "      <td>13</td>\n",
       "      <td>9</td>\n",
       "      <td>127</td>\n",
       "      <td>11</td>\n",
       "      <td>13</td>\n",
       "      <td>9</td>\n",
       "      <td>24</td>\n",
       "      <td>44</td>\n",
       "      <td>...</td>\n",
       "      <td>0</td>\n",
       "      <td>17</td>\n",
       "      <td>94</td>\n",
       "      <td>22</td>\n",
       "      <td>34</td>\n",
       "      <td>5</td>\n",
       "      <td>44</td>\n",
       "      <td>10</td>\n",
       "      <td>3</td>\n",
       "      <td>3</td>\n",
       "    </tr>\n",
       "    <tr>\n",
       "      <th>True</th>\n",
       "      <td>0</td>\n",
       "      <td>1</td>\n",
       "      <td>12</td>\n",
       "      <td>19</td>\n",
       "      <td>83</td>\n",
       "      <td>4</td>\n",
       "      <td>5</td>\n",
       "      <td>1</td>\n",
       "      <td>17</td>\n",
       "      <td>1</td>\n",
       "      <td>...</td>\n",
       "      <td>2</td>\n",
       "      <td>17</td>\n",
       "      <td>33</td>\n",
       "      <td>19</td>\n",
       "      <td>3</td>\n",
       "      <td>4</td>\n",
       "      <td>53</td>\n",
       "      <td>10</td>\n",
       "      <td>1</td>\n",
       "      <td>3</td>\n",
       "    </tr>\n",
       "  </tbody>\n",
       "</table>\n",
       "<p>2 rows × 50 columns</p>\n",
       "</div>"
      ],
      "text/plain": [
       "POSTAL.CODE  AK  AL  AR  AZ   CA  CO  CT  DC  DE  FL  ...  SD  TN  TX  UT  VA  \\\n",
       "is_missing                                            ...                       \n",
       "False         1   5  13   9  127  11  13   9  24  44  ...   0  17  94  22  34   \n",
       "True          0   1  12  19   83   4   5   1  17   1  ...   2  17  33  19   3   \n",
       "\n",
       "POSTAL.CODE  VT  WA  WI  WV  WY  \n",
       "is_missing                       \n",
       "False         5  44  10   3   3  \n",
       "True          4  53  10   1   3  \n",
       "\n",
       "[2 rows x 50 columns]"
      ]
     },
     "execution_count": 484,
     "metadata": {},
     "output_type": "execute_result"
    }
   ],
   "source": [
    "\n",
    "# Create a DataFrame indicating missing values (1) and non-missing values (0) in 'CUSTOMERS.AFFECTED' column\n",
    "missing_indicator = outages1[['CUSTOMERS.AFFECTED', 'POSTAL.CODE']].assign(is_missing=outages1['CUSTOMERS.AFFECTED'].isna())\n",
    "missing_indicator = missing_indicator.drop(columns=['CUSTOMERS.AFFECTED'])\n",
    "pivot_table = missing_indicator.pivot_table(index='is_missing', columns='POSTAL.CODE', aggfunc='size', fill_value=0)\n",
    "pivot_table"
   ]
  },
  {
   "cell_type": "code",
   "execution_count": 485,
   "metadata": {},
   "outputs": [
    {
     "data": {
      "text/html": [
       "<div>\n",
       "<style scoped>\n",
       "    .dataframe tbody tr th:only-of-type {\n",
       "        vertical-align: middle;\n",
       "    }\n",
       "\n",
       "    .dataframe tbody tr th {\n",
       "        vertical-align: top;\n",
       "    }\n",
       "\n",
       "    .dataframe thead th {\n",
       "        text-align: right;\n",
       "    }\n",
       "</style>\n",
       "<table border=\"1\" class=\"dataframe\">\n",
       "  <thead>\n",
       "    <tr style=\"text-align: right;\">\n",
       "      <th>POSTAL.CODE</th>\n",
       "      <th>AK</th>\n",
       "      <th>AL</th>\n",
       "      <th>AR</th>\n",
       "      <th>AZ</th>\n",
       "      <th>CA</th>\n",
       "      <th>CO</th>\n",
       "      <th>CT</th>\n",
       "      <th>DC</th>\n",
       "      <th>DE</th>\n",
       "      <th>FL</th>\n",
       "      <th>...</th>\n",
       "      <th>SD</th>\n",
       "      <th>TN</th>\n",
       "      <th>TX</th>\n",
       "      <th>UT</th>\n",
       "      <th>VA</th>\n",
       "      <th>VT</th>\n",
       "      <th>WA</th>\n",
       "      <th>WI</th>\n",
       "      <th>WV</th>\n",
       "      <th>WY</th>\n",
       "    </tr>\n",
       "    <tr>\n",
       "      <th>is_missing</th>\n",
       "      <th></th>\n",
       "      <th></th>\n",
       "      <th></th>\n",
       "      <th></th>\n",
       "      <th></th>\n",
       "      <th></th>\n",
       "      <th></th>\n",
       "      <th></th>\n",
       "      <th></th>\n",
       "      <th></th>\n",
       "      <th></th>\n",
       "      <th></th>\n",
       "      <th></th>\n",
       "      <th></th>\n",
       "      <th></th>\n",
       "      <th></th>\n",
       "      <th></th>\n",
       "      <th></th>\n",
       "      <th></th>\n",
       "      <th></th>\n",
       "      <th></th>\n",
       "    </tr>\n",
       "  </thead>\n",
       "  <tbody>\n",
       "    <tr>\n",
       "      <th>False</th>\n",
       "      <td>1.0</td>\n",
       "      <td>0.833333</td>\n",
       "      <td>0.52</td>\n",
       "      <td>0.321429</td>\n",
       "      <td>0.604762</td>\n",
       "      <td>0.733333</td>\n",
       "      <td>0.722222</td>\n",
       "      <td>0.9</td>\n",
       "      <td>0.585366</td>\n",
       "      <td>0.977778</td>\n",
       "      <td>...</td>\n",
       "      <td>0.0</td>\n",
       "      <td>0.5</td>\n",
       "      <td>0.740157</td>\n",
       "      <td>0.536585</td>\n",
       "      <td>0.918919</td>\n",
       "      <td>0.555556</td>\n",
       "      <td>0.453608</td>\n",
       "      <td>0.5</td>\n",
       "      <td>0.75</td>\n",
       "      <td>0.5</td>\n",
       "    </tr>\n",
       "    <tr>\n",
       "      <th>True</th>\n",
       "      <td>0.0</td>\n",
       "      <td>0.166667</td>\n",
       "      <td>0.48</td>\n",
       "      <td>0.678571</td>\n",
       "      <td>0.395238</td>\n",
       "      <td>0.266667</td>\n",
       "      <td>0.277778</td>\n",
       "      <td>0.1</td>\n",
       "      <td>0.414634</td>\n",
       "      <td>0.022222</td>\n",
       "      <td>...</td>\n",
       "      <td>1.0</td>\n",
       "      <td>0.5</td>\n",
       "      <td>0.259843</td>\n",
       "      <td>0.463415</td>\n",
       "      <td>0.081081</td>\n",
       "      <td>0.444444</td>\n",
       "      <td>0.546392</td>\n",
       "      <td>0.5</td>\n",
       "      <td>0.25</td>\n",
       "      <td>0.5</td>\n",
       "    </tr>\n",
       "  </tbody>\n",
       "</table>\n",
       "<p>2 rows × 50 columns</p>\n",
       "</div>"
      ],
      "text/plain": [
       "POSTAL.CODE   AK        AL    AR        AZ        CA        CO        CT   DC  \\\n",
       "is_missing                                                                      \n",
       "False        1.0  0.833333  0.52  0.321429  0.604762  0.733333  0.722222  0.9   \n",
       "True         0.0  0.166667  0.48  0.678571  0.395238  0.266667  0.277778  0.1   \n",
       "\n",
       "POSTAL.CODE        DE        FL  ...   SD   TN        TX        UT        VA  \\\n",
       "is_missing                       ...                                           \n",
       "False        0.585366  0.977778  ...  0.0  0.5  0.740157  0.536585  0.918919   \n",
       "True         0.414634  0.022222  ...  1.0  0.5  0.259843  0.463415  0.081081   \n",
       "\n",
       "POSTAL.CODE        VT        WA   WI    WV   WY  \n",
       "is_missing                                       \n",
       "False        0.555556  0.453608  0.5  0.75  0.5  \n",
       "True         0.444444  0.546392  0.5  0.25  0.5  \n",
       "\n",
       "[2 rows x 50 columns]"
      ]
     },
     "execution_count": 485,
     "metadata": {},
     "output_type": "execute_result"
    }
   ],
   "source": [
    "column_sum = pivot_table.sum(axis=0)\n",
    "# Divide each column by its sum to get proportions\n",
    "proportions = pivot_table.div(column_sum, axis=1)\n",
    "proportions"
   ]
  },
  {
   "cell_type": "markdown",
   "metadata": {},
   "source": [
    "We're analyzing missing values in the 'CUSTOMERS.AFFECTED' column of the dataset. We've created an indicator showing missing (1) and non-missing (0) values. Then, we're calculating Total Variation Distance (TVD) for these proportions. This helps measure the difference in distribution between missing and non-missing values across postal codes."
   ]
  },
  {
   "cell_type": "code",
   "execution_count": 486,
   "metadata": {},
   "outputs": [
    {
     "data": {
      "text/plain": [
       "25.021954716018406"
      ]
     },
     "execution_count": 486,
     "metadata": {},
     "output_type": "execute_result"
    }
   ],
   "source": [
    "observe_tvd = proportions.diff().abs().sum(axis=1).iloc[-1]\n",
    "observe_tvd"
   ]
  },
  {
   "cell_type": "markdown",
   "metadata": {},
   "source": [
    "#### Permutation Test"
   ]
  },
  {
   "cell_type": "code",
   "execution_count": 487,
   "metadata": {},
   "outputs": [
    {
     "data": {
      "text/plain": [
       "0.059"
      ]
     },
     "execution_count": 487,
     "metadata": {},
     "output_type": "execute_result"
    }
   ],
   "source": [
    "# Number of permutations\n",
    "n_permutations = 1000\n",
    "\n",
    "# Initialize an array to store permuted differences\n",
    "permuted_diffs = []\n",
    "\n",
    "# Perform permutations and calculate differences\n",
    "for i in range(n_permutations):\n",
    "    shuffled_categories = np.random.permutation(outages1['POSTAL.CODE'])\n",
    "    shuffled_df = outages1.copy()\n",
    "    shuffled_df['POSTAL.CODE'] = shuffled_categories\n",
    "\n",
    "    missing_indicator = shuffled_df[['CUSTOMERS.AFFECTED', 'POSTAL.CODE']].assign(is_missing=shuffled_df['CUSTOMERS.AFFECTED'].isna())\n",
    "    missing_indicator = missing_indicator.drop(columns=['CUSTOMERS.AFFECTED'])\n",
    "    pivot_table = missing_indicator.pivot_table(index='is_missing', columns='POSTAL.CODE', aggfunc='size', fill_value=0)\n",
    "    column_sum = pivot_table.sum(axis=0)\n",
    "\n",
    "    # Divide each column by its sum to get proportions\n",
    "    proportions = pivot_table.div(column_sum, axis=1)\n",
    "    tvd = proportions.diff().abs().sum(axis=1).iloc[-1]\n",
    "    \n",
    "    # Append the calculated TVD to the list\n",
    "    permuted_diffs.append(tvd)\n",
    "\n",
    "# Convert the list of TVDs to a NumPy array\n",
    "permuted_diffs = np.array(permuted_diffs)\n",
    "\n",
    "# Calculate the p-value\n",
    "p_value = np.sum(permuted_diffs >= observe_tvd) / n_permutations\n",
    "\n",
    "p_value\n"
   ]
  },
  {
   "cell_type": "markdown",
   "metadata": {},
   "source": [
    "Below is the graph of our result of permutation test, our p-value is greater than our significance level of 5%, so we fail to reject the null hypothesis. The significance of this is that it is highly possible that the missingness of Customer Affected does not depend on Postal Code.\n"
   ]
  },
  {
   "cell_type": "code",
   "execution_count": 488,
   "metadata": {},
   "outputs": [
    {
     "data": {
      "image/png": "[encoded data removed]",
      "text/plain": [
       "<Figure size 640x480 with 1 Axes>"
      ]
     },
     "metadata": {},
     "output_type": "display_data"
    }
   ],
   "source": [
    "fig = go.Figure()\n",
    "fig.add_trace(go.Histogram(x=permuted_diffs, opacity=0.5, marker_color='blue', name='Permuted Differences'))\n",
    "fig.add_shape(type=\"line\", x0=observe_tvd, y0=0, x1=observe_tvd, y1=max(plt.hist(permuted_diffs, bins=30)[0]), line=dict(color=\"red\", width=2))\n",
    "fig.update_layout(xaxis_title='TVD', yaxis_title='Frequency', title='Distribution of Permuted Differences', showlegend=True)\n",
    "fig.write_html('Dist_Perm_Diff.html', include_plotlyjs='cdn')\n"
   ]
  },
  {
   "cell_type": "markdown",
   "metadata": {},
   "source": [
    "### CUSTOMERS.AFFECTED and OUTAGE_DURATION (MAR)"
   ]
  },
  {
   "cell_type": "markdown",
   "metadata": {},
   "source": [
    "Null Hypothesis: The missingness of CUSTOMERS.AFFECTED does not depend on OUTAGE_DURATION\n",
    "\n",
    "Alternative Hypothesis: The missingness of CUSTOMERS.AFFECTED depend on OUTAGE_DURATION"
   ]
  },
  {
   "cell_type": "markdown",
   "metadata": {},
   "source": [
    "#### Test Statistic"
   ]
  },
  {
   "cell_type": "code",
   "execution_count": 489,
   "metadata": {},
   "outputs": [
    {
     "name": "stdout",
     "output_type": "stream",
     "text": [
      "Observed KS statistic: 0.309633715625278\n",
      "P-value: 3.239604091385534e-27\n"
     ]
    }
   ],
   "source": [
    "# Compute the observed KS statistic\n",
    "observed_ks_stat, p_value_ks = ks_2samp(outages1.loc[outages1['CUSTOMERS.AFFECTED'].notna(), 'OUTAGE_DURATION'],\n",
    "                                         outages1.loc[outages1['CUSTOMERS.AFFECTED'].isna(), 'OUTAGE_DURATION'])\n",
    "\n",
    "print(\"Observed KS statistic:\", observed_ks_stat)\n",
    "print(\"P-value:\", p_value_ks)"
   ]
  },
  {
   "cell_type": "markdown",
   "metadata": {},
   "source": [
    "#### Permutation Test"
   ]
  },
  {
   "cell_type": "code",
   "execution_count": 490,
   "metadata": {},
   "outputs": [
    {
     "name": "stdout",
     "output_type": "stream",
     "text": [
      "Permutation test p-value: 0.0\n"
     ]
    }
   ],
   "source": [
    "import numpy as np\n",
    "\n",
    "\n",
    "\n",
    "n_permutations = 1000\n",
    "permuted_ks_stats = []\n",
    "\n",
    "for _ in range(n_permutations):\n",
    "    # Shuffle the 'OUTAGE_DURATION' data\n",
    "    shuffled_outage_duration = np.random.permutation(outages1['OUTAGE_DURATION'])\n",
    "\n",
    "    # Compute KS statistic for shuffled data\n",
    "    permuted_ks_stat, _ = ks_2samp(shuffled_outage_duration[outages1['CUSTOMERS.AFFECTED'].notna()],\n",
    "                                    shuffled_outage_duration[outages1['CUSTOMERS.AFFECTED'].isna()])\n",
    "\n",
    "    permuted_ks_stats.append(permuted_ks_stat)\n",
    "\n",
    "permuted_ks_stats = np.array(permuted_ks_stats)\n",
    "\n",
    "# Compute p-value\n",
    "p_value_permutation = np.sum(permuted_ks_stats >= observed_ks_stat) / n_permutations\n",
    "\n",
    "print(\"Permutation test p-value:\", p_value_permutation)\n"
   ]
  },
  {
   "cell_type": "markdown",
   "metadata": {},
   "source": [
    "Below is the graph and the output of permutation test. Our p-value is less than our significance level of 5%, so we reject the null hypothesis. The significance of this is that it is highly possible that the missingness of Customer Affected depends on outage duration.\n"
   ]
  },
  {
   "cell_type": "code",
   "execution_count": 491,
   "metadata": {},
   "outputs": [
    {
     "data": {
      "image/png": "[encoded data removed]",
      "text/plain": [
       "<Figure size 640x480 with 1 Axes>"
      ]
     },
     "metadata": {},
     "output_type": "display_data"
    }
   ],
   "source": [
    "fig = go.Figure(data=[go.Histogram(x=permuted_ks_stats, nbinsx=30, marker_color='skyblue', opacity=0.7)])\n",
    "\n",
    "# Calculate the x position of the p-value\n",
    "p_value_x_position = np.percentile(permuted_ks_stats, 100 * (1 - p_value_permutation))\n",
    "\n",
    "# Add red line at the position of the p-value\n",
    "fig.add_shape(type='line', x0=p_value_x_position, y0=0, x1=p_value_x_position, y1=max(plt.hist(permuted_ks_stats, bins=30)[0]), \n",
    "              line=dict(color='red', width=1), name='P-value')\n",
    "\n",
    "fig.update_layout(title='Distribution of Permuted KS Statistics',\n",
    "                  xaxis_title='KS Statistic',\n",
    "                  yaxis_title='Frequency',\n",
    "                  showlegend=True)\n",
    "\n",
    "fig.write_html('permuted_ks_stats_distribution_with_p_value.html', include_plotlyjs='cdn')"
   ]
  },
  {
   "cell_type": "markdown",
   "metadata": {},
   "source": [
    "## Step 4: Hypothesis Testing"
   ]
  },
  {
   "cell_type": "code",
   "execution_count": 492,
   "metadata": {
    "ExecuteTime": {
     "end_time": "2019-10-31T23:36:28.666489Z",
     "start_time": "2019-10-31T23:36:28.664381Z"
    }
   },
   "outputs": [],
   "source": [
    "outages1.loc[:, \"RES.PRICE\"] = pd.to_numeric(outages1[\"RES.PRICE\"])"
   ]
  },
  {
   "cell_type": "code",
   "execution_count": 493,
   "metadata": {},
   "outputs": [
    {
     "data": {
      "text/plain": [
       "11.96837301587301"
      ]
     },
     "execution_count": 493,
     "metadata": {},
     "output_type": "execute_result"
    }
   ],
   "source": [
    "res_price_mean = outages1[\"RES.PRICE\"].mean()\n",
    "res_price_mean"
   ]
  },
  {
   "cell_type": "markdown",
   "metadata": {},
   "source": [
    "### DEFINING THE HYPOTHESIS\n",
    "\n",
    "Null Hypothesis: The mean duration of power outages in areas with a RES.PRICE > 11.5 are the same as the mean duration of power outages in areas witha. RES.pRICE <= 11.5. \n",
    "\n",
    "Alternative Hypothesis: The mean duration of power outages in areas with a RES.PRICE > 11.5 are different than the mean duration of power outages in areas witha. RES.pRICE <= 11.5. "
   ]
  },
  {
   "cell_type": "code",
   "execution_count": 494,
   "metadata": {},
   "outputs": [
    {
     "data": {
      "text/plain": [
       "False    775\n",
       "True     759\n",
       "Name: RES.PRICE <= 11.5, dtype: int64"
      ]
     },
     "execution_count": 494,
     "metadata": {},
     "output_type": "execute_result"
    }
   ],
   "source": [
    "#make a new columned called \"RES.PRICE < 11.5\" where the values are either true and false\n",
    "#this way we can group the RES.PRICE column into either of those groups for our permutation test.\n",
    "\n",
    "\n",
    "outages1[\"RES.PRICE <= 11.5\"] = outages1[\"RES.PRICE\"] <= 11.5\n",
    "outages1[\"RES.PRICE <= 11.5\"].value_counts()"
   ]
  },
  {
   "cell_type": "code",
   "execution_count": 495,
   "metadata": {},
   "outputs": [
    {
     "data": {
      "text/html": [
       "<div>\n",
       "<style scoped>\n",
       "    .dataframe tbody tr th:only-of-type {\n",
       "        vertical-align: middle;\n",
       "    }\n",
       "\n",
       "    .dataframe tbody tr th {\n",
       "        vertical-align: top;\n",
       "    }\n",
       "\n",
       "    .dataframe thead th {\n",
       "        text-align: right;\n",
       "    }\n",
       "</style>\n",
       "<table border=\"1\" class=\"dataframe\">\n",
       "  <thead>\n",
       "    <tr style=\"text-align: right;\">\n",
       "      <th></th>\n",
       "      <th>mean</th>\n",
       "      <th>count</th>\n",
       "    </tr>\n",
       "    <tr>\n",
       "      <th>RES.PRICE &lt;= 11.5</th>\n",
       "      <th></th>\n",
       "      <th></th>\n",
       "    </tr>\n",
       "  </thead>\n",
       "  <tbody>\n",
       "    <tr>\n",
       "      <th>False</th>\n",
       "      <td>-0.105744</td>\n",
       "      <td>766</td>\n",
       "    </tr>\n",
       "    <tr>\n",
       "      <th>True</th>\n",
       "      <td>-0.087879</td>\n",
       "      <td>759</td>\n",
       "    </tr>\n",
       "  </tbody>\n",
       "</table>\n",
       "</div>"
      ],
      "text/plain": [
       "                       mean  count\n",
       "RES.PRICE <= 11.5                 \n",
       "False             -0.105744    766\n",
       "True              -0.087879    759"
      ]
     },
     "execution_count": 495,
     "metadata": {},
     "output_type": "execute_result"
    }
   ],
   "source": [
    "#How many residential areas are in each group and what is the mean ANOMALY.LEVEL in each group?\n",
    "\n",
    "outages1.loc[:, \"ANOMALY.LEVEL\"] = pd.to_numeric(outages1[\"ANOMALY.LEVEL\"])\n",
    "\n",
    "outages1.groupby(\"RES.PRICE <= 11.5\")[\"ANOMALY.LEVEL\"].agg([\"mean\",\"count\"])"
   ]
  },
  {
   "cell_type": "markdown",
   "metadata": {},
   "source": [
    "Let's visualize the distribution of anomaly.levels in places with a res.price <= 11.5 and places with a res.price > 11.5"
   ]
  },
  {
   "cell_type": "code",
   "execution_count": 496,
   "metadata": {},
   "outputs": [
    {
     "data": {
      "application/vnd.plotly.v1+json": {
       "config": {
        "plotlyServerURL": "https://plot.ly"
       },
       "data": [
        {
         "alignmentgroup": "True",
         "bingroup": "x",
         "histnorm": "probability",
         "hovertemplate": "RES.PRICE <= 11.5=False<br>value=%{x}<br>probability=%{y}<extra></extra>",
         "legendgroup": "False",
         "marker": {
          "color": "#636efa",
          "opacity": 0.7,
          "pattern": {
           "shape": ""
          }
         },
         "name": "False",
         "offsetgroup": "False",
         "orientation": "v",
         "showlegend": true,
         "type": "histogram",
         "x": [
          -0.3,
          -0.1,
          -0.1,
          1.2,
          0.6,
          -0.2,
          -0.2,
          -0.3,
          0,
          -0.3,
          0,
          -0.5,
          -0.3,
          -0.5,
          -0.2,
          -0.5,
          2.2,
          -1.2,
          -1.5,
          -0.5,
          -0.4,
          0,
          -0.3,
          -0.5,
          -0.3,
          -0.5,
          -0.4,
          -0.3,
          2,
          -0.4,
          -0.4,
          -0.2,
          -0.4,
          2.2,
          0.9,
          0.4,
          -0.3,
          -1,
          -1.3,
          -0.3,
          0.3,
          1.4,
          -0.3,
          0.1,
          1,
          -0.3,
          -1.5,
          1.7,
          -0.5,
          0.5,
          -1.2,
          -0.4,
          -0.3,
          -0.4,
          -0.2,
          -1.4,
          -0.4,
          -0.4,
          -0.4,
          0,
          -0.2,
          -0.9,
          -0.3,
          -0.3,
          -0.9,
          -0.2,
          -0.3,
          1.4,
          -0.4,
          0.4,
          0.5,
          -0.9,
          2.3,
          -0.4,
          -0.3,
          -0.3,
          -1.4,
          -0.2,
          -0.4,
          -0.8,
          -0.6,
          1.2,
          -0.3,
          0.7,
          0.8,
          0,
          -0.2,
          -0.4,
          -0.4,
          -0.9,
          1.4,
          -0.9,
          1,
          0.7,
          -0.3,
          -0.2,
          -0.2,
          0,
          0.1,
          -0.3,
          0.6,
          -0.9,
          -0.3,
          0.5,
          -0.6,
          -0.4,
          -0.3,
          0.9,
          0.5,
          0.7,
          0,
          0,
          0.4,
          -0.2,
          null,
          -0.2,
          1.2,
          -0.9,
          0.5,
          -0.3,
          -1.4,
          -0.4,
          0.5,
          -0.1,
          -0.5,
          0.7,
          0.5,
          0.5,
          -0.3,
          0.8,
          -0.3,
          -0.2,
          0.8,
          -0.3,
          0,
          1.2,
          -0.2,
          -0.4,
          -1.2,
          -0.2,
          0.4,
          1.4,
          -0.7,
          0.5,
          0,
          2.2,
          -0.1,
          -0.1,
          -0.4,
          0,
          null,
          1.2,
          0,
          -0.1,
          0.8,
          -0.4,
          -0.4,
          -1.5,
          -0.4,
          -0.3,
          0,
          -0.3,
          null,
          -0.7,
          -0.3,
          -0.5,
          -0.6,
          1.4,
          -0.5,
          -1.5,
          -0.3,
          -0.3,
          -0.5,
          -0.3,
          0.2,
          -0.3,
          -0.3,
          0.5,
          0.5,
          -0.3,
          -0.3,
          -0.3,
          -0.1,
          0,
          0.5,
          -0.1,
          -0.5,
          -0.4,
          0.3,
          -1,
          0.3,
          -0.5,
          -0.9,
          -0.4,
          -0.6,
          0.3,
          -0.3,
          -1,
          0.1,
          -0.4,
          -0.5,
          0.3,
          -0.9,
          0.3,
          -1.3,
          -0.2,
          -0.1,
          -0.4,
          -0.3,
          -0.4,
          0.3,
          -0.4,
          -0.5,
          0.3,
          -0.1,
          -0.2,
          0.3,
          -0.5,
          1.1,
          0.4,
          -0.7,
          0.3,
          0.3,
          -0.9,
          -0.6,
          -0.1,
          0.7,
          -0.4,
          -0.9,
          0.5,
          -0.4,
          -0.2,
          1.2,
          -0.9,
          -0.5,
          0.3,
          -1.4,
          0.1,
          -0.6,
          2.2,
          -1.4,
          -0.9,
          1,
          -0.5,
          -1,
          0.3,
          -0.3,
          -1,
          -0.3,
          -0.3,
          0.9,
          -0.6,
          -0.5,
          -0.3,
          -0.3,
          0.1,
          -0.6,
          -0.5,
          -0.5,
          -0.9,
          -0.4,
          -0.5,
          -0.5,
          -0.9,
          -0.6,
          0.1,
          -0.9,
          -0.9,
          0.3,
          2,
          -0.4,
          1.2,
          0.1,
          -0.6,
          2.2,
          -0.3,
          -0.1,
          -0.6,
          0.1,
          -0.3,
          -0.3,
          0.1,
          -0.3,
          -0.4,
          -0.8,
          -0.3,
          -0.9,
          -0.3,
          -0.6,
          -0.3,
          0.3,
          -0.3,
          -0.3,
          -0.3,
          null,
          0.1,
          1,
          0.5,
          -0.6,
          -0.5,
          -0.9,
          -0.7,
          -0.9,
          0.1,
          1,
          -0.5,
          -0.7,
          -0.8,
          -0.6,
          1,
          2.2,
          -0.8,
          -0.5,
          -1,
          -0.5,
          0.3,
          -0.9,
          -0.8,
          -0.4,
          -0.1,
          -0.5,
          0.3,
          0.9,
          -0.3,
          -0.6,
          1.2,
          0.3,
          -0.9,
          0.9,
          -0.5,
          -0.5,
          -0.5,
          -0.3,
          1.2,
          -0.6,
          -1.2,
          -1.3,
          -0.4,
          -0.5,
          -0.2,
          -0.1,
          -1.2,
          -0.3,
          0.6,
          0.6,
          -0.2,
          -0.9,
          -0.7,
          -0.2,
          0.1,
          -0.5,
          -0.8,
          -0.1,
          -1.3,
          -0.4,
          -0.2,
          -1,
          -0.2,
          0.3,
          -0.3,
          2,
          0.1,
          -0.4,
          -0.8,
          -0.8,
          -0.3,
          null,
          -0.4,
          -0.4,
          -0.2,
          0.1,
          -0.3,
          0.3,
          0.1,
          0.1,
          -0.2,
          -0.2,
          -0.2,
          -0.4,
          -0.3,
          2.2,
          1,
          -0.2,
          -0.3,
          -0.5,
          -1.3,
          -0.7,
          0,
          0.3,
          0.3,
          -0.6,
          -0.7,
          -0.1,
          -0.6,
          -0.9,
          -0.4,
          -0.3,
          -0.4,
          0.6,
          -0.4,
          0.6,
          0.3,
          0.1,
          -1.2,
          -0.7,
          -0.2,
          2.2,
          -0.2,
          -0.5,
          -0.3,
          0.9,
          -0.7,
          -0.4,
          -1.4,
          -1.3,
          -0.7,
          -0.5,
          -0.4,
          0.2,
          -1.3,
          -0.6,
          -0.3,
          -0.9,
          2,
          -0.3,
          -0.6,
          0.9,
          -0.3,
          1.2,
          -0.4,
          -0.6,
          1.2,
          0.6,
          0.2,
          -0.4,
          0.3,
          0.3,
          -0.6,
          0.2,
          -0.6,
          1.2,
          -0.3,
          1.7,
          -0.5,
          -0.8,
          0.7,
          -0.6,
          -1.4,
          0.7,
          0.3,
          -0.1,
          -0.3,
          -0.7,
          -0.9,
          0.3,
          0.1,
          -0.3,
          -0.5,
          -0.3,
          -0.3,
          -0.7,
          -0.3,
          -0.5,
          -0.9,
          -0.7,
          0,
          2,
          -0.5,
          -0.2,
          -1.4,
          0.1,
          0,
          -0.3,
          0,
          -0.1,
          -0.2,
          -0.4,
          0.5,
          -0.4,
          -0.7,
          -1.4,
          -0.3,
          1.7,
          -1,
          1.2,
          -1.4,
          -0.3,
          -0.6,
          -1,
          1.1,
          1,
          -1.4,
          0.9,
          -0.3,
          0.9,
          -0.2,
          0.2,
          -1.3,
          0.9,
          -0.4,
          -1.3,
          -0.5,
          1.3,
          0.7,
          1,
          -0.5,
          1,
          1,
          0.7,
          -0.2,
          -0.3,
          -0.3,
          0.9,
          -0.3,
          0,
          -0.6,
          0.7,
          1.3,
          -0.3,
          -0.4,
          0.8,
          0.6,
          -0.3,
          1.1,
          -0.2,
          2,
          -0.6,
          -0.9,
          0.1,
          1.2,
          -1,
          -0.2,
          -1,
          2.3,
          0,
          0.3,
          -0.1,
          -0.4,
          -0.1,
          -0.2,
          -0.6,
          1,
          -0.1,
          1.2,
          -0.7,
          -1.4,
          1.2,
          -0.2,
          -1.5,
          0.3,
          -0.4,
          -1.4,
          -0.3,
          -1.4,
          0.9,
          0.5,
          1.3,
          0,
          0.7,
          1.3,
          -0.4,
          -0.7,
          0.3,
          0.3,
          -0.1,
          0.9,
          1.2,
          -0.2,
          -1.3,
          2.3,
          0.6,
          -0.5,
          -0.1,
          1.3,
          0.9,
          -0.9,
          -0.4,
          0.5,
          0.4,
          -1.2,
          -0.7,
          -0.1,
          -0.6,
          -0.7,
          0.1,
          -0.1,
          0.1,
          1.1,
          -0.2,
          1.6,
          2,
          0.1,
          1.2,
          0.3,
          0,
          0.6,
          -0.1,
          -0.3,
          -1.4,
          -0.4,
          -1.4,
          -0.3,
          -1,
          -1.5,
          0.5,
          1,
          -0.3,
          -0.3,
          -0.2,
          -0.4,
          -0.7,
          -1.4,
          1.2,
          -0.7,
          -1.5,
          -0.2,
          -0.1,
          0.2,
          -1.1,
          -0.9,
          2,
          0.3,
          -0.2,
          -0.9,
          -0.2,
          -1.1,
          -1.1,
          0.3,
          -0.7,
          -1.1,
          -0.7,
          -0.1,
          -0.1,
          0.3,
          -0.5,
          1.1,
          0.4,
          -0.1,
          -1.1,
          2.3,
          0.8,
          -1.4,
          -0.3,
          -0.4,
          0.5,
          0.7,
          1.3,
          -0.9,
          -0.6,
          -0.4,
          -1.3,
          -0.5,
          0.5,
          -1.4,
          0.3,
          0.5,
          -0.3,
          -0.4,
          0.4,
          -0.3,
          0.3,
          -0.6,
          1.2,
          null,
          -0.1,
          -0.1,
          -0.1,
          -0.3,
          -0.2,
          0.3,
          0.1,
          -0.4,
          -0.5,
          -0.3,
          -0.3,
          -0.3,
          -0.4,
          -0.3,
          -0.3,
          -0.4,
          -0.3,
          -0.6,
          0.4,
          -0.2,
          -0.3,
          -0.7,
          -0.4,
          -0.3,
          -0.8,
          -0.2,
          -0.9,
          -0.8,
          0.9,
          0.1,
          -0.7,
          -0.4,
          -0.3,
          -1.3,
          -0.1,
          -0.6,
          -1.3,
          -0.4,
          -0.4,
          -0.4,
          -0.4,
          0.3,
          0.3,
          0.6,
          1.6,
          -0.3,
          -0.3,
          0.3,
          -0.3,
          -0.4,
          0.1,
          -1.3,
          -0.3,
          -0.6,
          -0.1,
          -0.3,
          2.3,
          -0.3,
          -0.6,
          -0.7,
          -0.7,
          -1.3,
          -1.4,
          -1.1,
          -0.3,
          -0.2,
          0.5,
          -0.4,
          0.3,
          -0.1,
          0.3,
          0.1,
          -0.5,
          -0.3,
          -0.7,
          0.3,
          -0.4,
          -0.4,
          -0.2,
          -0.1,
          -0.4,
          -0.7,
          -1,
          0.1,
          -1.3,
          -0.2,
          2.3,
          -0.4,
          0.3,
          1.6,
          -0.2,
          -0.2,
          -0.3,
          0.5,
          -0.4,
          -0.1,
          null,
          0.6,
          2.3,
          0.7,
          2.3,
          1,
          -0.7,
          -0.4,
          0.7,
          0,
          0.7,
          -0.3,
          -0.3,
          null,
          null
         ],
         "xaxis": "x",
         "yaxis": "y"
        },
        {
         "alignmentgroup": "True",
         "hovertemplate": "RES.PRICE <= 11.5=False<br>value=%{x}<extra></extra>",
         "legendgroup": "False",
         "marker": {
          "color": "#636efa"
         },
         "name": "False",
         "notched": true,
         "offsetgroup": "False",
         "showlegend": false,
         "type": "box",
         "x": [
          -0.3,
          -0.1,
          -0.1,
          1.2,
          0.6,
          -0.2,
          -0.2,
          -0.3,
          0,
          -0.3,
          0,
          -0.5,
          -0.3,
          -0.5,
          -0.2,
          -0.5,
          2.2,
          -1.2,
          -1.5,
          -0.5,
          -0.4,
          0,
          -0.3,
          -0.5,
          -0.3,
          -0.5,
          -0.4,
          -0.3,
          2,
          -0.4,
          -0.4,
          -0.2,
          -0.4,
          2.2,
          0.9,
          0.4,
          -0.3,
          -1,
          -1.3,
          -0.3,
          0.3,
          1.4,
          -0.3,
          0.1,
          1,
          -0.3,
          -1.5,
          1.7,
          -0.5,
          0.5,
          -1.2,
          -0.4,
          -0.3,
          -0.4,
          -0.2,
          -1.4,
          -0.4,
          -0.4,
          -0.4,
          0,
          -0.2,
          -0.9,
          -0.3,
          -0.3,
          -0.9,
          -0.2,
          -0.3,
          1.4,
          -0.4,
          0.4,
          0.5,
          -0.9,
          2.3,
          -0.4,
          -0.3,
          -0.3,
          -1.4,
          -0.2,
          -0.4,
          -0.8,
          -0.6,
          1.2,
          -0.3,
          0.7,
          0.8,
          0,
          -0.2,
          -0.4,
          -0.4,
          -0.9,
          1.4,
          -0.9,
          1,
          0.7,
          -0.3,
          -0.2,
          -0.2,
          0,
          0.1,
          -0.3,
          0.6,
          -0.9,
          -0.3,
          0.5,
          -0.6,
          -0.4,
          -0.3,
          0.9,
          0.5,
          0.7,
          0,
          0,
          0.4,
          -0.2,
          null,
          -0.2,
          1.2,
          -0.9,
          0.5,
          -0.3,
          -1.4,
          -0.4,
          0.5,
          -0.1,
          -0.5,
          0.7,
          0.5,
          0.5,
          -0.3,
          0.8,
          -0.3,
          -0.2,
          0.8,
          -0.3,
          0,
          1.2,
          -0.2,
          -0.4,
          -1.2,
          -0.2,
          0.4,
          1.4,
          -0.7,
          0.5,
          0,
          2.2,
          -0.1,
          -0.1,
          -0.4,
          0,
          null,
          1.2,
          0,
          -0.1,
          0.8,
          -0.4,
          -0.4,
          -1.5,
          -0.4,
          -0.3,
          0,
          -0.3,
          null,
          -0.7,
          -0.3,
          -0.5,
          -0.6,
          1.4,
          -0.5,
          -1.5,
          -0.3,
          -0.3,
          -0.5,
          -0.3,
          0.2,
          -0.3,
          -0.3,
          0.5,
          0.5,
          -0.3,
          -0.3,
          -0.3,
          -0.1,
          0,
          0.5,
          -0.1,
          -0.5,
          -0.4,
          0.3,
          -1,
          0.3,
          -0.5,
          -0.9,
          -0.4,
          -0.6,
          0.3,
          -0.3,
          -1,
          0.1,
          -0.4,
          -0.5,
          0.3,
          -0.9,
          0.3,
          -1.3,
          -0.2,
          -0.1,
          -0.4,
          -0.3,
          -0.4,
          0.3,
          -0.4,
          -0.5,
          0.3,
          -0.1,
          -0.2,
          0.3,
          -0.5,
          1.1,
          0.4,
          -0.7,
          0.3,
          0.3,
          -0.9,
          -0.6,
          -0.1,
          0.7,
          -0.4,
          -0.9,
          0.5,
          -0.4,
          -0.2,
          1.2,
          -0.9,
          -0.5,
          0.3,
          -1.4,
          0.1,
          -0.6,
          2.2,
          -1.4,
          -0.9,
          1,
          -0.5,
          -1,
          0.3,
          -0.3,
          -1,
          -0.3,
          -0.3,
          0.9,
          -0.6,
          -0.5,
          -0.3,
          -0.3,
          0.1,
          -0.6,
          -0.5,
          -0.5,
          -0.9,
          -0.4,
          -0.5,
          -0.5,
          -0.9,
          -0.6,
          0.1,
          -0.9,
          -0.9,
          0.3,
          2,
          -0.4,
          1.2,
          0.1,
          -0.6,
          2.2,
          -0.3,
          -0.1,
          -0.6,
          0.1,
          -0.3,
          -0.3,
          0.1,
          -0.3,
          -0.4,
          -0.8,
          -0.3,
          -0.9,
          -0.3,
          -0.6,
          -0.3,
          0.3,
          -0.3,
          -0.3,
          -0.3,
          null,
          0.1,
          1,
          0.5,
          -0.6,
          -0.5,
          -0.9,
          -0.7,
          -0.9,
          0.1,
          1,
          -0.5,
          -0.7,
          -0.8,
          -0.6,
          1,
          2.2,
          -0.8,
          -0.5,
          -1,
          -0.5,
          0.3,
          -0.9,
          -0.8,
          -0.4,
          -0.1,
          -0.5,
          0.3,
          0.9,
          -0.3,
          -0.6,
          1.2,
          0.3,
          -0.9,
          0.9,
          -0.5,
          -0.5,
          -0.5,
          -0.3,
          1.2,
          -0.6,
          -1.2,
          -1.3,
          -0.4,
          -0.5,
          -0.2,
          -0.1,
          -1.2,
          -0.3,
          0.6,
          0.6,
          -0.2,
          -0.9,
          -0.7,
          -0.2,
          0.1,
          -0.5,
          -0.8,
          -0.1,
          -1.3,
          -0.4,
          -0.2,
          -1,
          -0.2,
          0.3,
          -0.3,
          2,
          0.1,
          -0.4,
          -0.8,
          -0.8,
          -0.3,
          null,
          -0.4,
          -0.4,
          -0.2,
          0.1,
          -0.3,
          0.3,
          0.1,
          0.1,
          -0.2,
          -0.2,
          -0.2,
          -0.4,
          -0.3,
          2.2,
          1,
          -0.2,
          -0.3,
          -0.5,
          -1.3,
          -0.7,
          0,
          0.3,
          0.3,
          -0.6,
          -0.7,
          -0.1,
          -0.6,
          -0.9,
          -0.4,
          -0.3,
          -0.4,
          0.6,
          -0.4,
          0.6,
          0.3,
          0.1,
          -1.2,
          -0.7,
          -0.2,
          2.2,
          -0.2,
          -0.5,
          -0.3,
          0.9,
          -0.7,
          -0.4,
          -1.4,
          -1.3,
          -0.7,
          -0.5,
          -0.4,
          0.2,
          -1.3,
          -0.6,
          -0.3,
          -0.9,
          2,
          -0.3,
          -0.6,
          0.9,
          -0.3,
          1.2,
          -0.4,
          -0.6,
          1.2,
          0.6,
          0.2,
          -0.4,
          0.3,
          0.3,
          -0.6,
          0.2,
          -0.6,
          1.2,
          -0.3,
          1.7,
          -0.5,
          -0.8,
          0.7,
          -0.6,
          -1.4,
          0.7,
          0.3,
          -0.1,
          -0.3,
          -0.7,
          -0.9,
          0.3,
          0.1,
          -0.3,
          -0.5,
          -0.3,
          -0.3,
          -0.7,
          -0.3,
          -0.5,
          -0.9,
          -0.7,
          0,
          2,
          -0.5,
          -0.2,
          -1.4,
          0.1,
          0,
          -0.3,
          0,
          -0.1,
          -0.2,
          -0.4,
          0.5,
          -0.4,
          -0.7,
          -1.4,
          -0.3,
          1.7,
          -1,
          1.2,
          -1.4,
          -0.3,
          -0.6,
          -1,
          1.1,
          1,
          -1.4,
          0.9,
          -0.3,
          0.9,
          -0.2,
          0.2,
          -1.3,
          0.9,
          -0.4,
          -1.3,
          -0.5,
          1.3,
          0.7,
          1,
          -0.5,
          1,
          1,
          0.7,
          -0.2,
          -0.3,
          -0.3,
          0.9,
          -0.3,
          0,
          -0.6,
          0.7,
          1.3,
          -0.3,
          -0.4,
          0.8,
          0.6,
          -0.3,
          1.1,
          -0.2,
          2,
          -0.6,
          -0.9,
          0.1,
          1.2,
          -1,
          -0.2,
          -1,
          2.3,
          0,
          0.3,
          -0.1,
          -0.4,
          -0.1,
          -0.2,
          -0.6,
          1,
          -0.1,
          1.2,
          -0.7,
          -1.4,
          1.2,
          -0.2,
          -1.5,
          0.3,
          -0.4,
          -1.4,
          -0.3,
          -1.4,
          0.9,
          0.5,
          1.3,
          0,
          0.7,
          1.3,
          -0.4,
          -0.7,
          0.3,
          0.3,
          -0.1,
          0.9,
          1.2,
          -0.2,
          -1.3,
          2.3,
          0.6,
          -0.5,
          -0.1,
          1.3,
          0.9,
          -0.9,
          -0.4,
          0.5,
          0.4,
          -1.2,
          -0.7,
          -0.1,
          -0.6,
          -0.7,
          0.1,
          -0.1,
          0.1,
          1.1,
          -0.2,
          1.6,
          2,
          0.1,
          1.2,
          0.3,
          0,
          0.6,
          -0.1,
          -0.3,
          -1.4,
          -0.4,
          -1.4,
          -0.3,
          -1,
          -1.5,
          0.5,
          1,
          -0.3,
          -0.3,
          -0.2,
          -0.4,
          -0.7,
          -1.4,
          1.2,
          -0.7,
          -1.5,
          -0.2,
          -0.1,
          0.2,
          -1.1,
          -0.9,
          2,
          0.3,
          -0.2,
          -0.9,
          -0.2,
          -1.1,
          -1.1,
          0.3,
          -0.7,
          -1.1,
          -0.7,
          -0.1,
          -0.1,
          0.3,
          -0.5,
          1.1,
          0.4,
          -0.1,
          -1.1,
          2.3,
          0.8,
          -1.4,
          -0.3,
          -0.4,
          0.5,
          0.7,
          1.3,
          -0.9,
          -0.6,
          -0.4,
          -1.3,
          -0.5,
          0.5,
          -1.4,
          0.3,
          0.5,
          -0.3,
          -0.4,
          0.4,
          -0.3,
          0.3,
          -0.6,
          1.2,
          null,
          -0.1,
          -0.1,
          -0.1,
          -0.3,
          -0.2,
          0.3,
          0.1,
          -0.4,
          -0.5,
          -0.3,
          -0.3,
          -0.3,
          -0.4,
          -0.3,
          -0.3,
          -0.4,
          -0.3,
          -0.6,
          0.4,
          -0.2,
          -0.3,
          -0.7,
          -0.4,
          -0.3,
          -0.8,
          -0.2,
          -0.9,
          -0.8,
          0.9,
          0.1,
          -0.7,
          -0.4,
          -0.3,
          -1.3,
          -0.1,
          -0.6,
          -1.3,
          -0.4,
          -0.4,
          -0.4,
          -0.4,
          0.3,
          0.3,
          0.6,
          1.6,
          -0.3,
          -0.3,
          0.3,
          -0.3,
          -0.4,
          0.1,
          -1.3,
          -0.3,
          -0.6,
          -0.1,
          -0.3,
          2.3,
          -0.3,
          -0.6,
          -0.7,
          -0.7,
          -1.3,
          -1.4,
          -1.1,
          -0.3,
          -0.2,
          0.5,
          -0.4,
          0.3,
          -0.1,
          0.3,
          0.1,
          -0.5,
          -0.3,
          -0.7,
          0.3,
          -0.4,
          -0.4,
          -0.2,
          -0.1,
          -0.4,
          -0.7,
          -1,
          0.1,
          -1.3,
          -0.2,
          2.3,
          -0.4,
          0.3,
          1.6,
          -0.2,
          -0.2,
          -0.3,
          0.5,
          -0.4,
          -0.1,
          null,
          0.6,
          2.3,
          0.7,
          2.3,
          1,
          -0.7,
          -0.4,
          0.7,
          0,
          0.7,
          -0.3,
          -0.3,
          null,
          null
         ],
         "xaxis": "x2",
         "yaxis": "y2"
        },
        {
         "alignmentgroup": "True",
         "bingroup": "x",
         "histnorm": "probability",
         "hovertemplate": "RES.PRICE <= 11.5=True<br>value=%{x}<br>probability=%{y}<extra></extra>",
         "legendgroup": "True",
         "marker": {
          "color": "#EF553B",
          "opacity": 0.7,
          "pattern": {
           "shape": ""
          }
         },
         "name": "True",
         "offsetgroup": "True",
         "orientation": "v",
         "showlegend": true,
         "type": "histogram",
         "x": [
          -1.5,
          -1.4,
          -0.9,
          0.2,
          0,
          -0.4,
          1,
          0.3,
          1,
          -0.5,
          -1.3,
          0.6,
          0.1,
          1.2,
          -0.2,
          -0.5,
          0.5,
          -0.3,
          -0.5,
          0,
          -0.1,
          0,
          -0.5,
          0.8,
          0.5,
          0,
          -0.5,
          -0.5,
          0.6,
          -0.4,
          -0.5,
          0.4,
          -0.4,
          -0.5,
          -0.5,
          0,
          -0.5,
          1.1,
          -0.7,
          -0.5,
          0.1,
          0,
          0,
          0.6,
          0,
          0.3,
          -0.1,
          0,
          0.3,
          -0.4,
          0.2,
          0,
          -0.1,
          -1.3,
          -0.4,
          0.2,
          0.2,
          -0.5,
          0.1,
          -0.1,
          0.2,
          -0.7,
          -0.7,
          0.2,
          -1.4,
          0.7,
          1.3,
          -0.6,
          -0.2,
          -0.4,
          -0.5,
          0.2,
          -0.9,
          -0.7,
          -0.5,
          0.2,
          -0.5,
          0.2,
          -0.2,
          0.3,
          0.2,
          0.7,
          -0.6,
          -0.5,
          0.1,
          0.1,
          0.7,
          -1,
          -1,
          0.3,
          -0.5,
          -0.5,
          0.6,
          -0.3,
          0.1,
          -0.7,
          -0.4,
          -0.6,
          -0.6,
          0.6,
          -0.7,
          0.6,
          0,
          -0.5,
          2,
          -1,
          -0.2,
          -0.5,
          2,
          -0.2,
          -0.7,
          1.1,
          -0.3,
          0.1,
          0.2,
          0.1,
          1.1,
          -0.7,
          -0.3,
          -0.3,
          -0.7,
          1.2,
          -1.1,
          -1,
          -0.1,
          -0.3,
          0.1,
          -0.5,
          -0.3,
          -0.1,
          -1.3,
          -0.4,
          -0.5,
          -0.6,
          0.2,
          -0.4,
          -0.6,
          0.3,
          -0.3,
          -0.1,
          -0.3,
          -0.5,
          0.3,
          2.3,
          1.1,
          -0.8,
          0.2,
          -0.7,
          0.3,
          -0.4,
          -0.9,
          -0.7,
          0.5,
          -0.3,
          -0.7,
          -0.5,
          -0.7,
          -0.7,
          -0.5,
          -0.3,
          -0.3,
          -0.3,
          -0.9,
          -0.3,
          0.3,
          0.1,
          -1,
          0.7,
          0.3,
          -0.4,
          -0.2,
          -0.2,
          -0.4,
          -0.7,
          -0.5,
          -0.9,
          0.1,
          0.3,
          -0.3,
          -0.4,
          -0.3,
          -0.3,
          -0.4,
          -0.7,
          -0.7,
          -0.5,
          -0.4,
          -0.4,
          -0.7,
          -0.8,
          -0.5,
          -0.2,
          -0.4,
          -0.7,
          -0.6,
          -0.1,
          0.1,
          -0.3,
          0.7,
          0.2,
          0.4,
          0.6,
          0.1,
          0.1,
          -0.2,
          0.1,
          -0.3,
          -0.3,
          0.5,
          -0.4,
          -1.3,
          -0.4,
          0.3,
          -0.5,
          -0.5,
          0.3,
          0.1,
          0.1,
          -1,
          -0.5,
          -0.9,
          -0.5,
          -1.4,
          -0.5,
          1.4,
          -0.6,
          -0.4,
          -0.4,
          0.8,
          -0.2,
          -0.3,
          0.3,
          0.3,
          0.9,
          -0.8,
          -0.9,
          -0.7,
          -0.4,
          1.2,
          2.3,
          0.7,
          -0.4,
          -0.8,
          -1,
          -0.9,
          -0.3,
          -0.6,
          0.6,
          -0.5,
          -0.8,
          1.6,
          1.6,
          -0.3,
          -0.6,
          1.6,
          -0.3,
          1.4,
          -0.5,
          -0.1,
          -0.4,
          1.1,
          -0.3,
          -0.2,
          -1.1,
          -1,
          -0.4,
          -0.7,
          2.2,
          -0.3,
          -0.3,
          -1.4,
          -0.5,
          -1,
          -0.3,
          0.3,
          -0.8,
          -0.3,
          -0.3,
          -0.8,
          -0.9,
          1.6,
          2.2,
          1.2,
          0.1,
          0.9,
          -0.4,
          0,
          -0.6,
          0.3,
          -0.3,
          -0.3,
          0.6,
          -0.9,
          -0.7,
          -0.9,
          1,
          -0.8,
          -0.3,
          -0.4,
          0.9,
          -0.6,
          0.9,
          -0.3,
          0.9,
          -0.3,
          -0.7,
          -0.4,
          0.9,
          -0.3,
          0.1,
          -0.6,
          -0.7,
          1.4,
          -0.7,
          -0.2,
          -0.3,
          0.1,
          0.5,
          1.3,
          -0.5,
          -0.5,
          -0.7,
          0.2,
          2,
          -0.5,
          -0.3,
          -0.5,
          -0.3,
          -0.7,
          0.5,
          -1,
          -0.4,
          0.3,
          0.1,
          0.3,
          -0.6,
          0.7,
          -0.6,
          0,
          0.3,
          0,
          0.2,
          0,
          0.3,
          0.2,
          -0.1,
          0.2,
          0.4,
          0,
          0.1,
          0.5,
          0,
          0.2,
          -0.7,
          0.7,
          0.1,
          0,
          -0.6,
          0.1,
          -1.1,
          1.1,
          1.1,
          -0.3,
          -0.5,
          -0.6,
          -0.6,
          0.2,
          1,
          -0.3,
          -1.3,
          -0.7,
          -0.7,
          -1.3,
          -0.3,
          -0.7,
          -0.9,
          2,
          -0.1,
          -0.3,
          -0.3,
          -0.3,
          -0.5,
          0.7,
          2.2,
          0.7,
          0.6,
          2,
          -0.3,
          -0.5,
          -0.3,
          -0.5,
          -0.4,
          -0.4,
          -0.3,
          -1.3,
          -0.9,
          -0.5,
          -1,
          0.5,
          1.1,
          -0.4,
          -0.6,
          -0.8,
          -0.4,
          -0.7,
          -0.5,
          -0.9,
          0.5,
          -0.1,
          -0.3,
          2,
          -0.3,
          -0.4,
          0.8,
          -0.3,
          0.2,
          -0.7,
          0.2,
          0.3,
          -0.7,
          -0.3,
          -1.4,
          0.1,
          -0.6,
          0.7,
          0.2,
          -0.9,
          0.5,
          -0.5,
          0.9,
          0.5,
          -0.4,
          -0.4,
          -0.3,
          0.9,
          -0.6,
          -0.3,
          1.3,
          -0.5,
          -0.5,
          -0.7,
          0,
          0,
          -0.5,
          -0.4,
          -0.5,
          -0.3,
          0.1,
          -0.5,
          -0.2,
          0.5,
          0.1,
          -1.3,
          -0.5,
          -0.5,
          -0.6,
          -0.1,
          0.7,
          -0.4,
          0.5,
          0.5,
          -0.2,
          -0.2,
          0.5,
          0.2,
          0.7,
          -0.6,
          -0.4,
          -0.2,
          1.3,
          -0.5,
          -0.6,
          -0.3,
          0.2,
          -0.4,
          -0.4,
          -0.6,
          0.6,
          -0.3,
          -1.6,
          0.3,
          -1.6,
          -0.7,
          -0.9,
          0.6,
          -0.2,
          -0.3,
          2,
          0.6,
          -0.7,
          -0.5,
          2,
          0.9,
          -0.6,
          -0.5,
          -0.5,
          -0.2,
          0.9,
          -0.4,
          -0.3,
          -0.6,
          0.6,
          0.9,
          -0.2,
          2,
          -0.5,
          1.7,
          0.2,
          2.3,
          0.2,
          -0.7,
          -0.7,
          -0.5,
          2.3,
          -0.6,
          -0.7,
          -0.4,
          -0.4,
          -0.5,
          -0.4,
          -0.2,
          -0.4,
          0.4,
          -0.4,
          -0.4,
          -0.4,
          -0.4,
          0.4,
          -0.5,
          -0.4,
          -0.2,
          -0.4,
          0.5,
          0.3,
          -1.2,
          -1.2,
          -0.1,
          0.7,
          -1.2,
          0.6,
          -1.2,
          0,
          -0.4,
          -0.7,
          0.5,
          0.6,
          -0.1,
          -0.1,
          -0.5,
          0.4,
          -0.4,
          -0.3,
          -0.4,
          0.5,
          -0.3,
          -0.3,
          0,
          -0.4,
          0.3,
          0.3,
          -0.7,
          -0.4,
          0.5,
          -0.2,
          -0.2,
          1.1,
          1.3,
          0,
          0.3,
          -0.5,
          0.5,
          -0.3,
          0.3,
          -0.1,
          0,
          -1.3,
          1.1,
          0.8,
          -0.7,
          -0.2,
          -1.3,
          0.2,
          0.2,
          0.6,
          0.1,
          0.5,
          1.3,
          -0.1,
          0.2,
          -1.3,
          0.7,
          0,
          -0.2,
          0.7,
          0.6,
          -0.2,
          -1.3,
          -1.3,
          0.7,
          -0.3,
          0.7,
          0.7,
          0.7,
          -0.2,
          0.7,
          0.6,
          -0.1,
          0.6,
          0.7,
          -0.7,
          -1.3,
          0.3,
          0.7,
          -0.4,
          -0.7,
          0.7,
          0.3,
          -0.4,
          -0.7,
          -0.4,
          -0.4,
          -0.7,
          -0.2,
          -0.7,
          -1,
          -0.7,
          -0.4,
          -0.3,
          0.3,
          -0.3,
          -0.5,
          -0.2,
          -0.5,
          1.2,
          -0.1,
          -0.4,
          -0.6,
          -0.3,
          -0.5,
          1.1,
          -0.3,
          0.1,
          -0.1,
          -0.2,
          -0.2,
          -0.3,
          0.1,
          2.2,
          -0.5,
          -0.3,
          -0.6,
          -0.3,
          -0.2,
          0.5,
          0.3,
          -0.9,
          -0.4,
          -1.3,
          0.3,
          -0.3,
          -0.4,
          -0.4,
          -0.9,
          -0.9,
          -0.1,
          -0.4,
          0.3,
          -1.2,
          -0.4,
          -0.5,
          -1.3,
          -0.3,
          1.1,
          0.1,
          0.1,
          -0.6,
          0.1,
          -1.4,
          -1,
          -0.6,
          -0.2,
          -1.2,
          -0.5,
          0.3,
          0.9,
          0.9,
          -1,
          -0.4,
          -0.3,
          -0.2,
          -1.4,
          -0.4,
          -1.1,
          -0.4,
          -0.4,
          -0.4,
          -0.3,
          0.3,
          0.7,
          0.3,
          0.7,
          -0.4,
          -0.7,
          0.5,
          0.9,
          -0.7,
          0.6,
          -0.5,
          0.4,
          -0.5,
          0.7,
          -0.4,
          1.2,
          2.3,
          -0.7,
          -0.2,
          -0.3,
          -0.6,
          1.3,
          -0.6,
          1.2,
          -1.3,
          2.3,
          0.3,
          2.2,
          -0.6,
          -0.2,
          -0.6,
          -0.2,
          -0.3,
          -0.3,
          0.3,
          2.2,
          2.3,
          -0.7,
          -0.4,
          -0.7,
          0.2,
          -0.9,
          0.5,
          1.6,
          0.3,
          -0.6,
          0.3,
          0.7,
          -0.5,
          -1.3,
          -0.3,
          0.7,
          -0.9,
          0.3,
          -1.3,
          -0.1,
          -0.3,
          1.6,
          1.6,
          -0.9,
          0.5,
          0.5
         ],
         "xaxis": "x",
         "yaxis": "y"
        },
        {
         "alignmentgroup": "True",
         "hovertemplate": "RES.PRICE <= 11.5=True<br>value=%{x}<extra></extra>",
         "legendgroup": "True",
         "marker": {
          "color": "#EF553B"
         },
         "name": "True",
         "notched": true,
         "offsetgroup": "True",
         "showlegend": false,
         "type": "box",
         "x": [
          -1.5,
          -1.4,
          -0.9,
          0.2,
          0,
          -0.4,
          1,
          0.3,
          1,
          -0.5,
          -1.3,
          0.6,
          0.1,
          1.2,
          -0.2,
          -0.5,
          0.5,
          -0.3,
          -0.5,
          0,
          -0.1,
          0,
          -0.5,
          0.8,
          0.5,
          0,
          -0.5,
          -0.5,
          0.6,
          -0.4,
          -0.5,
          0.4,
          -0.4,
          -0.5,
          -0.5,
          0,
          -0.5,
          1.1,
          -0.7,
          -0.5,
          0.1,
          0,
          0,
          0.6,
          0,
          0.3,
          -0.1,
          0,
          0.3,
          -0.4,
          0.2,
          0,
          -0.1,
          -1.3,
          -0.4,
          0.2,
          0.2,
          -0.5,
          0.1,
          -0.1,
          0.2,
          -0.7,
          -0.7,
          0.2,
          -1.4,
          0.7,
          1.3,
          -0.6,
          -0.2,
          -0.4,
          -0.5,
          0.2,
          -0.9,
          -0.7,
          -0.5,
          0.2,
          -0.5,
          0.2,
          -0.2,
          0.3,
          0.2,
          0.7,
          -0.6,
          -0.5,
          0.1,
          0.1,
          0.7,
          -1,
          -1,
          0.3,
          -0.5,
          -0.5,
          0.6,
          -0.3,
          0.1,
          -0.7,
          -0.4,
          -0.6,
          -0.6,
          0.6,
          -0.7,
          0.6,
          0,
          -0.5,
          2,
          -1,
          -0.2,
          -0.5,
          2,
          -0.2,
          -0.7,
          1.1,
          -0.3,
          0.1,
          0.2,
          0.1,
          1.1,
          -0.7,
          -0.3,
          -0.3,
          -0.7,
          1.2,
          -1.1,
          -1,
          -0.1,
          -0.3,
          0.1,
          -0.5,
          -0.3,
          -0.1,
          -1.3,
          -0.4,
          -0.5,
          -0.6,
          0.2,
          -0.4,
          -0.6,
          0.3,
          -0.3,
          -0.1,
          -0.3,
          -0.5,
          0.3,
          2.3,
          1.1,
          -0.8,
          0.2,
          -0.7,
          0.3,
          -0.4,
          -0.9,
          -0.7,
          0.5,
          -0.3,
          -0.7,
          -0.5,
          -0.7,
          -0.7,
          -0.5,
          -0.3,
          -0.3,
          -0.3,
          -0.9,
          -0.3,
          0.3,
          0.1,
          -1,
          0.7,
          0.3,
          -0.4,
          -0.2,
          -0.2,
          -0.4,
          -0.7,
          -0.5,
          -0.9,
          0.1,
          0.3,
          -0.3,
          -0.4,
          -0.3,
          -0.3,
          -0.4,
          -0.7,
          -0.7,
          -0.5,
          -0.4,
          -0.4,
          -0.7,
          -0.8,
          -0.5,
          -0.2,
          -0.4,
          -0.7,
          -0.6,
          -0.1,
          0.1,
          -0.3,
          0.7,
          0.2,
          0.4,
          0.6,
          0.1,
          0.1,
          -0.2,
          0.1,
          -0.3,
          -0.3,
          0.5,
          -0.4,
          -1.3,
          -0.4,
          0.3,
          -0.5,
          -0.5,
          0.3,
          0.1,
          0.1,
          -1,
          -0.5,
          -0.9,
          -0.5,
          -1.4,
          -0.5,
          1.4,
          -0.6,
          -0.4,
          -0.4,
          0.8,
          -0.2,
          -0.3,
          0.3,
          0.3,
          0.9,
          -0.8,
          -0.9,
          -0.7,
          -0.4,
          1.2,
          2.3,
          0.7,
          -0.4,
          -0.8,
          -1,
          -0.9,
          -0.3,
          -0.6,
          0.6,
          -0.5,
          -0.8,
          1.6,
          1.6,
          -0.3,
          -0.6,
          1.6,
          -0.3,
          1.4,
          -0.5,
          -0.1,
          -0.4,
          1.1,
          -0.3,
          -0.2,
          -1.1,
          -1,
          -0.4,
          -0.7,
          2.2,
          -0.3,
          -0.3,
          -1.4,
          -0.5,
          -1,
          -0.3,
          0.3,
          -0.8,
          -0.3,
          -0.3,
          -0.8,
          -0.9,
          1.6,
          2.2,
          1.2,
          0.1,
          0.9,
          -0.4,
          0,
          -0.6,
          0.3,
          -0.3,
          -0.3,
          0.6,
          -0.9,
          -0.7,
          -0.9,
          1,
          -0.8,
          -0.3,
          -0.4,
          0.9,
          -0.6,
          0.9,
          -0.3,
          0.9,
          -0.3,
          -0.7,
          -0.4,
          0.9,
          -0.3,
          0.1,
          -0.6,
          -0.7,
          1.4,
          -0.7,
          -0.2,
          -0.3,
          0.1,
          0.5,
          1.3,
          -0.5,
          -0.5,
          -0.7,
          0.2,
          2,
          -0.5,
          -0.3,
          -0.5,
          -0.3,
          -0.7,
          0.5,
          -1,
          -0.4,
          0.3,
          0.1,
          0.3,
          -0.6,
          0.7,
          -0.6,
          0,
          0.3,
          0,
          0.2,
          0,
          0.3,
          0.2,
          -0.1,
          0.2,
          0.4,
          0,
          0.1,
          0.5,
          0,
          0.2,
          -0.7,
          0.7,
          0.1,
          0,
          -0.6,
          0.1,
          -1.1,
          1.1,
          1.1,
          -0.3,
          -0.5,
          -0.6,
          -0.6,
          0.2,
          1,
          -0.3,
          -1.3,
          -0.7,
          -0.7,
          -1.3,
          -0.3,
          -0.7,
          -0.9,
          2,
          -0.1,
          -0.3,
          -0.3,
          -0.3,
          -0.5,
          0.7,
          2.2,
          0.7,
          0.6,
          2,
          -0.3,
          -0.5,
          -0.3,
          -0.5,
          -0.4,
          -0.4,
          -0.3,
          -1.3,
          -0.9,
          -0.5,
          -1,
          0.5,
          1.1,
          -0.4,
          -0.6,
          -0.8,
          -0.4,
          -0.7,
          -0.5,
          -0.9,
          0.5,
          -0.1,
          -0.3,
          2,
          -0.3,
          -0.4,
          0.8,
          -0.3,
          0.2,
          -0.7,
          0.2,
          0.3,
          -0.7,
          -0.3,
          -1.4,
          0.1,
          -0.6,
          0.7,
          0.2,
          -0.9,
          0.5,
          -0.5,
          0.9,
          0.5,
          -0.4,
          -0.4,
          -0.3,
          0.9,
          -0.6,
          -0.3,
          1.3,
          -0.5,
          -0.5,
          -0.7,
          0,
          0,
          -0.5,
          -0.4,
          -0.5,
          -0.3,
          0.1,
          -0.5,
          -0.2,
          0.5,
          0.1,
          -1.3,
          -0.5,
          -0.5,
          -0.6,
          -0.1,
          0.7,
          -0.4,
          0.5,
          0.5,
          -0.2,
          -0.2,
          0.5,
          0.2,
          0.7,
          -0.6,
          -0.4,
          -0.2,
          1.3,
          -0.5,
          -0.6,
          -0.3,
          0.2,
          -0.4,
          -0.4,
          -0.6,
          0.6,
          -0.3,
          -1.6,
          0.3,
          -1.6,
          -0.7,
          -0.9,
          0.6,
          -0.2,
          -0.3,
          2,
          0.6,
          -0.7,
          -0.5,
          2,
          0.9,
          -0.6,
          -0.5,
          -0.5,
          -0.2,
          0.9,
          -0.4,
          -0.3,
          -0.6,
          0.6,
          0.9,
          -0.2,
          2,
          -0.5,
          1.7,
          0.2,
          2.3,
          0.2,
          -0.7,
          -0.7,
          -0.5,
          2.3,
          -0.6,
          -0.7,
          -0.4,
          -0.4,
          -0.5,
          -0.4,
          -0.2,
          -0.4,
          0.4,
          -0.4,
          -0.4,
          -0.4,
          -0.4,
          0.4,
          -0.5,
          -0.4,
          -0.2,
          -0.4,
          0.5,
          0.3,
          -1.2,
          -1.2,
          -0.1,
          0.7,
          -1.2,
          0.6,
          -1.2,
          0,
          -0.4,
          -0.7,
          0.5,
          0.6,
          -0.1,
          -0.1,
          -0.5,
          0.4,
          -0.4,
          -0.3,
          -0.4,
          0.5,
          -0.3,
          -0.3,
          0,
          -0.4,
          0.3,
          0.3,
          -0.7,
          -0.4,
          0.5,
          -0.2,
          -0.2,
          1.1,
          1.3,
          0,
          0.3,
          -0.5,
          0.5,
          -0.3,
          0.3,
          -0.1,
          0,
          -1.3,
          1.1,
          0.8,
          -0.7,
          -0.2,
          -1.3,
          0.2,
          0.2,
          0.6,
          0.1,
          0.5,
          1.3,
          -0.1,
          0.2,
          -1.3,
          0.7,
          0,
          -0.2,
          0.7,
          0.6,
          -0.2,
          -1.3,
          -1.3,
          0.7,
          -0.3,
          0.7,
          0.7,
          0.7,
          -0.2,
          0.7,
          0.6,
          -0.1,
          0.6,
          0.7,
          -0.7,
          -1.3,
          0.3,
          0.7,
          -0.4,
          -0.7,
          0.7,
          0.3,
          -0.4,
          -0.7,
          -0.4,
          -0.4,
          -0.7,
          -0.2,
          -0.7,
          -1,
          -0.7,
          -0.4,
          -0.3,
          0.3,
          -0.3,
          -0.5,
          -0.2,
          -0.5,
          1.2,
          -0.1,
          -0.4,
          -0.6,
          -0.3,
          -0.5,
          1.1,
          -0.3,
          0.1,
          -0.1,
          -0.2,
          -0.2,
          -0.3,
          0.1,
          2.2,
          -0.5,
          -0.3,
          -0.6,
          -0.3,
          -0.2,
          0.5,
          0.3,
          -0.9,
          -0.4,
          -1.3,
          0.3,
          -0.3,
          -0.4,
          -0.4,
          -0.9,
          -0.9,
          -0.1,
          -0.4,
          0.3,
          -1.2,
          -0.4,
          -0.5,
          -1.3,
          -0.3,
          1.1,
          0.1,
          0.1,
          -0.6,
          0.1,
          -1.4,
          -1,
          -0.6,
          -0.2,
          -1.2,
          -0.5,
          0.3,
          0.9,
          0.9,
          -1,
          -0.4,
          -0.3,
          -0.2,
          -1.4,
          -0.4,
          -1.1,
          -0.4,
          -0.4,
          -0.4,
          -0.3,
          0.3,
          0.7,
          0.3,
          0.7,
          -0.4,
          -0.7,
          0.5,
          0.9,
          -0.7,
          0.6,
          -0.5,
          0.4,
          -0.5,
          0.7,
          -0.4,
          1.2,
          2.3,
          -0.7,
          -0.2,
          -0.3,
          -0.6,
          1.3,
          -0.6,
          1.2,
          -1.3,
          2.3,
          0.3,
          2.2,
          -0.6,
          -0.2,
          -0.6,
          -0.2,
          -0.3,
          -0.3,
          0.3,
          2.2,
          2.3,
          -0.7,
          -0.4,
          -0.7,
          0.2,
          -0.9,
          0.5,
          1.6,
          0.3,
          -0.6,
          0.3,
          0.7,
          -0.5,
          -1.3,
          -0.3,
          0.7,
          -0.9,
          0.3,
          -1.3,
          -0.1,
          -0.3,
          1.6,
          1.6,
          -0.9,
          0.5,
          0.5
         ],
         "xaxis": "x2",
         "yaxis": "y2"
        }
       ],
       "layout": {
        "barmode": "overlay",
        "legend": {
         "title": {
          "text": "RES.PRICE <= 11.5"
         },
         "tracegroupgap": 0
        },
        "template": {
         "data": {
          "bar": [
           {
            "error_x": {
             "color": "#2a3f5f"
            },
            "error_y": {
             "color": "#2a3f5f"
            },
            "marker": {
             "line": {
              "color": "#E5ECF6",
              "width": 0.5
             },
             "pattern": {
              "fillmode": "overlay",
              "size": 10,
              "solidity": 0.2
             }
            },
            "type": "bar"
           }
          ],
          "barpolar": [
           {
            "marker": {
             "line": {
              "color": "#E5ECF6",
              "width": 0.5
             },
             "pattern": {
              "fillmode": "overlay",
              "size": 10,
              "solidity": 0.2
             }
            },
            "type": "barpolar"
           }
          ],
          "carpet": [
           {
            "aaxis": {
             "endlinecolor": "#2a3f5f",
             "gridcolor": "white",
             "linecolor": "white",
             "minorgridcolor": "white",
             "startlinecolor": "#2a3f5f"
            },
            "baxis": {
             "endlinecolor": "#2a3f5f",
             "gridcolor": "white",
             "linecolor": "white",
             "minorgridcolor": "white",
             "startlinecolor": "#2a3f5f"
            },
            "type": "carpet"
           }
          ],
          "choropleth": [
           {
            "colorbar": {
             "outlinewidth": 0,
             "ticks": ""
            },
            "type": "choropleth"
           }
          ],
          "contour": [
           {
            "colorbar": {
             "outlinewidth": 0,
             "ticks": ""
            },
            "colorscale": [
             [
              0,
              "#0d0887"
             ],
             [
              0.1111111111111111,
              "#46039f"
             ],
             [
              0.2222222222222222,
              "#7201a8"
             ],
             [
              0.3333333333333333,
              "#9c179e"
             ],
             [
              0.4444444444444444,
              "#bd3786"
             ],
             [
              0.5555555555555556,
              "#d8576b"
             ],
             [
              0.6666666666666666,
              "#ed7953"
             ],
             [
              0.7777777777777778,
              "#fb9f3a"
             ],
             [
              0.8888888888888888,
              "#fdca26"
             ],
             [
              1,
              "#f0f921"
             ]
            ],
            "type": "contour"
           }
          ],
          "contourcarpet": [
           {
            "colorbar": {
             "outlinewidth": 0,
             "ticks": ""
            },
            "type": "contourcarpet"
           }
          ],
          "heatmap": [
           {
            "colorbar": {
             "outlinewidth": 0,
             "ticks": ""
            },
            "colorscale": [
             [
              0,
              "#0d0887"
             ],
             [
              0.1111111111111111,
              "#46039f"
             ],
             [
              0.2222222222222222,
              "#7201a8"
             ],
             [
              0.3333333333333333,
              "#9c179e"
             ],
             [
              0.4444444444444444,
              "#bd3786"
             ],
             [
              0.5555555555555556,
              "#d8576b"
             ],
             [
              0.6666666666666666,
              "#ed7953"
             ],
             [
              0.7777777777777778,
              "#fb9f3a"
             ],
             [
              0.8888888888888888,
              "#fdca26"
             ],
             [
              1,
              "#f0f921"
             ]
            ],
            "type": "heatmap"
           }
          ],
          "heatmapgl": [
           {
            "colorbar": {
             "outlinewidth": 0,
             "ticks": ""
            },
            "colorscale": [
             [
              0,
              "#0d0887"
             ],
             [
              0.1111111111111111,
              "#46039f"
             ],
             [
              0.2222222222222222,
              "#7201a8"
             ],
             [
              0.3333333333333333,
              "#9c179e"
             ],
             [
              0.4444444444444444,
              "#bd3786"
             ],
             [
              0.5555555555555556,
              "#d8576b"
             ],
             [
              0.6666666666666666,
              "#ed7953"
             ],
             [
              0.7777777777777778,
              "#fb9f3a"
             ],
             [
              0.8888888888888888,
              "#fdca26"
             ],
             [
              1,
              "#f0f921"
             ]
            ],
            "type": "heatmapgl"
           }
          ],
          "histogram": [
           {
            "marker": {
             "pattern": {
              "fillmode": "overlay",
              "size": 10,
              "solidity": 0.2
             }
            },
            "type": "histogram"
           }
          ],
          "histogram2d": [
           {
            "colorbar": {
             "outlinewidth": 0,
             "ticks": ""
            },
            "colorscale": [
             [
              0,
              "#0d0887"
             ],
             [
              0.1111111111111111,
              "#46039f"
             ],
             [
              0.2222222222222222,
              "#7201a8"
             ],
             [
              0.3333333333333333,
              "#9c179e"
             ],
             [
              0.4444444444444444,
              "#bd3786"
             ],
             [
              0.5555555555555556,
              "#d8576b"
             ],
             [
              0.6666666666666666,
              "#ed7953"
             ],
             [
              0.7777777777777778,
              "#fb9f3a"
             ],
             [
              0.8888888888888888,
              "#fdca26"
             ],
             [
              1,
              "#f0f921"
             ]
            ],
            "type": "histogram2d"
           }
          ],
          "histogram2dcontour": [
           {
            "colorbar": {
             "outlinewidth": 0,
             "ticks": ""
            },
            "colorscale": [
             [
              0,
              "#0d0887"
             ],
             [
              0.1111111111111111,
              "#46039f"
             ],
             [
              0.2222222222222222,
              "#7201a8"
             ],
             [
              0.3333333333333333,
              "#9c179e"
             ],
             [
              0.4444444444444444,
              "#bd3786"
             ],
             [
              0.5555555555555556,
              "#d8576b"
             ],
             [
              0.6666666666666666,
              "#ed7953"
             ],
             [
              0.7777777777777778,
              "#fb9f3a"
             ],
             [
              0.8888888888888888,
              "#fdca26"
             ],
             [
              1,
              "#f0f921"
             ]
            ],
            "type": "histogram2dcontour"
           }
          ],
          "mesh3d": [
           {
            "colorbar": {
             "outlinewidth": 0,
             "ticks": ""
            },
            "type": "mesh3d"
           }
          ],
          "parcoords": [
           {
            "line": {
             "colorbar": {
              "outlinewidth": 0,
              "ticks": ""
             }
            },
            "type": "parcoords"
           }
          ],
          "pie": [
           {
            "automargin": true,
            "type": "pie"
           }
          ],
          "scatter": [
           {
            "fillpattern": {
             "fillmode": "overlay",
             "size": 10,
             "solidity": 0.2
            },
            "type": "scatter"
           }
          ],
          "scatter3d": [
           {
            "line": {
             "colorbar": {
              "outlinewidth": 0,
              "ticks": ""
             }
            },
            "marker": {
             "colorbar": {
              "outlinewidth": 0,
              "ticks": ""
             }
            },
            "type": "scatter3d"
           }
          ],
          "scattercarpet": [
           {
            "marker": {
             "colorbar": {
              "outlinewidth": 0,
              "ticks": ""
             }
            },
            "type": "scattercarpet"
           }
          ],
          "scattergeo": [
           {
            "marker": {
             "colorbar": {
              "outlinewidth": 0,
              "ticks": ""
             }
            },
            "type": "scattergeo"
           }
          ],
          "scattergl": [
           {
            "marker": {
             "colorbar": {
              "outlinewidth": 0,
              "ticks": ""
             }
            },
            "type": "scattergl"
           }
          ],
          "scattermapbox": [
           {
            "marker": {
             "colorbar": {
              "outlinewidth": 0,
              "ticks": ""
             }
            },
            "type": "scattermapbox"
           }
          ],
          "scatterpolar": [
           {
            "marker": {
             "colorbar": {
              "outlinewidth": 0,
              "ticks": ""
             }
            },
            "type": "scatterpolar"
           }
          ],
          "scatterpolargl": [
           {
            "marker": {
             "colorbar": {
              "outlinewidth": 0,
              "ticks": ""
             }
            },
            "type": "scatterpolargl"
           }
          ],
          "scatterternary": [
           {
            "marker": {
             "colorbar": {
              "outlinewidth": 0,
              "ticks": ""
             }
            },
            "type": "scatterternary"
           }
          ],
          "surface": [
           {
            "colorbar": {
             "outlinewidth": 0,
             "ticks": ""
            },
            "colorscale": [
             [
              0,
              "#0d0887"
             ],
             [
              0.1111111111111111,
              "#46039f"
             ],
             [
              0.2222222222222222,
              "#7201a8"
             ],
             [
              0.3333333333333333,
              "#9c179e"
             ],
             [
              0.4444444444444444,
              "#bd3786"
             ],
             [
              0.5555555555555556,
              "#d8576b"
             ],
             [
              0.6666666666666666,
              "#ed7953"
             ],
             [
              0.7777777777777778,
              "#fb9f3a"
             ],
             [
              0.8888888888888888,
              "#fdca26"
             ],
             [
              1,
              "#f0f921"
             ]
            ],
            "type": "surface"
           }
          ],
          "table": [
           {
            "cells": {
             "fill": {
              "color": "#EBF0F8"
             },
             "line": {
              "color": "white"
             }
            },
            "header": {
             "fill": {
              "color": "#C8D4E3"
             },
             "line": {
              "color": "white"
             }
            },
            "type": "table"
           }
          ]
         },
         "layout": {
          "annotationdefaults": {
           "arrowcolor": "#2a3f5f",
           "arrowhead": 0,
           "arrowwidth": 1
          },
          "autotypenumbers": "strict",
          "coloraxis": {
           "colorbar": {
            "outlinewidth": 0,
            "ticks": ""
           }
          },
          "colorscale": {
           "diverging": [
            [
             0,
             "#8e0152"
            ],
            [
             0.1,
             "#c51b7d"
            ],
            [
             0.2,
             "#de77ae"
            ],
            [
             0.3,
             "#f1b6da"
            ],
            [
             0.4,
             "#fde0ef"
            ],
            [
             0.5,
             "#f7f7f7"
            ],
            [
             0.6,
             "#e6f5d0"
            ],
            [
             0.7,
             "#b8e186"
            ],
            [
             0.8,
             "#7fbc41"
            ],
            [
             0.9,
             "#4d9221"
            ],
            [
             1,
             "#276419"
            ]
           ],
           "sequential": [
            [
             0,
             "#0d0887"
            ],
            [
             0.1111111111111111,
             "#46039f"
            ],
            [
             0.2222222222222222,
             "#7201a8"
            ],
            [
             0.3333333333333333,
             "#9c179e"
            ],
            [
             0.4444444444444444,
             "#bd3786"
            ],
            [
             0.5555555555555556,
             "#d8576b"
            ],
            [
             0.6666666666666666,
             "#ed7953"
            ],
            [
             0.7777777777777778,
             "#fb9f3a"
            ],
            [
             0.8888888888888888,
             "#fdca26"
            ],
            [
             1,
             "#f0f921"
            ]
           ],
           "sequentialminus": [
            [
             0,
             "#0d0887"
            ],
            [
             0.1111111111111111,
             "#46039f"
            ],
            [
             0.2222222222222222,
             "#7201a8"
            ],
            [
             0.3333333333333333,
             "#9c179e"
            ],
            [
             0.4444444444444444,
             "#bd3786"
            ],
            [
             0.5555555555555556,
             "#d8576b"
            ],
            [
             0.6666666666666666,
             "#ed7953"
            ],
            [
             0.7777777777777778,
             "#fb9f3a"
            ],
            [
             0.8888888888888888,
             "#fdca26"
            ],
            [
             1,
             "#f0f921"
            ]
           ]
          },
          "colorway": [
           "#636efa",
           "#EF553B",
           "#00cc96",
           "#ab63fa",
           "#FFA15A",
           "#19d3f3",
           "#FF6692",
           "#B6E880",
           "#FF97FF",
           "#FECB52"
          ],
          "font": {
           "color": "#2a3f5f"
          },
          "geo": {
           "bgcolor": "white",
           "lakecolor": "white",
           "landcolor": "#E5ECF6",
           "showlakes": true,
           "showland": true,
           "subunitcolor": "white"
          },
          "hoverlabel": {
           "align": "left"
          },
          "hovermode": "closest",
          "mapbox": {
           "style": "light"
          },
          "paper_bgcolor": "white",
          "plot_bgcolor": "#E5ECF6",
          "polar": {
           "angularaxis": {
            "gridcolor": "white",
            "linecolor": "white",
            "ticks": ""
           },
           "bgcolor": "#E5ECF6",
           "radialaxis": {
            "gridcolor": "white",
            "linecolor": "white",
            "ticks": ""
           }
          },
          "scene": {
           "xaxis": {
            "backgroundcolor": "#E5ECF6",
            "gridcolor": "white",
            "gridwidth": 2,
            "linecolor": "white",
            "showbackground": true,
            "ticks": "",
            "zerolinecolor": "white"
           },
           "yaxis": {
            "backgroundcolor": "#E5ECF6",
            "gridcolor": "white",
            "gridwidth": 2,
            "linecolor": "white",
            "showbackground": true,
            "ticks": "",
            "zerolinecolor": "white"
           },
           "zaxis": {
            "backgroundcolor": "#E5ECF6",
            "gridcolor": "white",
            "gridwidth": 2,
            "linecolor": "white",
            "showbackground": true,
            "ticks": "",
            "zerolinecolor": "white"
           }
          },
          "shapedefaults": {
           "line": {
            "color": "#2a3f5f"
           }
          },
          "ternary": {
           "aaxis": {
            "gridcolor": "white",
            "linecolor": "white",
            "ticks": ""
           },
           "baxis": {
            "gridcolor": "white",
            "linecolor": "white",
            "ticks": ""
           },
           "bgcolor": "#E5ECF6",
           "caxis": {
            "gridcolor": "white",
            "linecolor": "white",
            "ticks": ""
           }
          },
          "title": {
           "x": 0.05
          },
          "xaxis": {
           "automargin": true,
           "gridcolor": "white",
           "linecolor": "white",
           "ticks": "",
           "title": {
            "standoff": 15
           },
           "zerolinecolor": "white",
           "zerolinewidth": 2
          },
          "yaxis": {
           "automargin": true,
           "gridcolor": "white",
           "linecolor": "white",
           "ticks": "",
           "title": {
            "standoff": 15
           },
           "zerolinecolor": "white",
           "zerolinewidth": 2
          }
         }
        },
        "title": {
         "text": "ANOMALY.LEVEL by RES.PRICE groups"
        },
        "xaxis": {
         "anchor": "y",
         "domain": [
          0,
          1
         ],
         "title": {
          "text": "value"
         }
        },
        "xaxis2": {
         "anchor": "y2",
         "domain": [
          0,
          1
         ],
         "matches": "x",
         "showgrid": true,
         "showticklabels": false
        },
        "yaxis": {
         "anchor": "x",
         "domain": [
          0,
          0.7326
         ],
         "title": {
          "text": "probability"
         }
        },
        "yaxis2": {
         "anchor": "x2",
         "domain": [
          0.7426,
          1
         ],
         "matches": "y2",
         "showgrid": false,
         "showline": false,
         "showticklabels": false,
         "ticks": ""
        }
       }
      }
     },
     "metadata": {},
     "output_type": "display_data"
    }
   ],
   "source": [
    "#Visualize the distribution of ANOMALY.LEVELS across both groups\n",
    "\n",
    "anomalies = outages1[[\"RES.PRICE <= 11.5\", \"ANOMALY.LEVEL\"]]\n",
    "\n",
    "fig = px.histogram(anomalies, color='RES.PRICE <= 11.5', histnorm='probability', marginal='box', \n",
    "                   title=\"ANOMALY.LEVEL by RES.PRICE groups\", barmode='overlay', opacity=0.7)\n",
    "fig.write_html('Anomaly.html', include_plotlyjs='cdn')\n",
    "fig.show()"
   ]
  },
  {
   "cell_type": "markdown",
   "metadata": {},
   "source": [
    "From this distribution above, its difficulat to tell whether or not there is a difference between the two groups."
   ]
  },
  {
   "cell_type": "markdown",
   "metadata": {},
   "source": [
    "### Test Statistic Calculations\n",
    "\n",
    "Before we begin our permuation test, let's see what our observed statistic is. For the sake of our hypothesis testing, we will be using the difference in grouped means."
   ]
  },
  {
   "cell_type": "code",
   "execution_count": 497,
   "metadata": {},
   "outputs": [
    {
     "data": {
      "text/plain": [
       "RES.PRICE <= 11.5\n",
       "False   -0.105744\n",
       "True    -0.087879\n",
       "Name: ANOMALY.LEVEL, dtype: float64"
      ]
     },
     "execution_count": 497,
     "metadata": {},
     "output_type": "execute_result"
    }
   ],
   "source": [
    "#the test statistic that we are going to be using is the difference in group means\n",
    "anomaly_mean = anomalies[\"ANOMALY.LEVEL\"].mean()\n",
    "\n",
    "#we cant impute the mean because that might skew either group and make the two distributions look more similiar\n",
    "anomalies.dropna()\n",
    "\n",
    "grouped_means = anomalies.groupby(\"RES.PRICE <= 11.5\")[\"ANOMALY.LEVEL\"].mean()\n",
    "grouped_means"
   ]
  },
  {
   "cell_type": "code",
   "execution_count": 498,
   "metadata": {},
   "outputs": [
    {
     "data": {
      "text/plain": [
       "0.017865337447582882"
      ]
     },
     "execution_count": 498,
     "metadata": {},
     "output_type": "execute_result"
    }
   ],
   "source": [
    "#what is our observed statistic?\n",
    "\n",
    "grouped_means.diff().iloc[1]"
   ]
  },
  {
   "cell_type": "markdown",
   "metadata": {},
   "source": [
    "Our observed difference in grouped means is 0.01786"
   ]
  },
  {
   "cell_type": "markdown",
   "metadata": {},
   "source": [
    "### Permutation Test\n",
    "\n",
    "Now that we've calculated our observed statistic. Let' begin our comparison of these two samples by doing a permutation test. In order to do this test, we are goingt o be randomly shuffling around the values of ANOMALY.LEVEL. We are not shuffling around the RES.PRICE groups so that we can still groupby the \"RES.PRICE\" later on in our loop."
   ]
  },
  {
   "cell_type": "markdown",
   "metadata": {},
   "source": [
    "Once again, the question that we are trying to answer is that how likely is it that one random shuffle gives us a difference in grouped means (RES.PRICE <= 11.5 & RES.PRICE > 11.5) of 0.01786?"
   ]
  },
  {
   "cell_type": "code",
   "execution_count": 499,
   "metadata": {},
   "outputs": [
    {
     "data": {
      "text/html": [
       "<div>\n",
       "<style scoped>\n",
       "    .dataframe tbody tr th:only-of-type {\n",
       "        vertical-align: middle;\n",
       "    }\n",
       "\n",
       "    .dataframe tbody tr th {\n",
       "        vertical-align: top;\n",
       "    }\n",
       "\n",
       "    .dataframe thead th {\n",
       "        text-align: right;\n",
       "    }\n",
       "</style>\n",
       "<table border=\"1\" class=\"dataframe\">\n",
       "  <thead>\n",
       "    <tr style=\"text-align: right;\">\n",
       "      <th></th>\n",
       "      <th>ANOMALY.LEVEL</th>\n",
       "      <th>Shuffled_anomaly</th>\n",
       "    </tr>\n",
       "    <tr>\n",
       "      <th>RES.PRICE &lt;= 11.5</th>\n",
       "      <th></th>\n",
       "      <th></th>\n",
       "    </tr>\n",
       "  </thead>\n",
       "  <tbody>\n",
       "    <tr>\n",
       "      <th>False</th>\n",
       "      <td>-0.105744</td>\n",
       "      <td>-0.127850</td>\n",
       "    </tr>\n",
       "    <tr>\n",
       "      <th>True</th>\n",
       "      <td>-0.087879</td>\n",
       "      <td>-0.065073</td>\n",
       "    </tr>\n",
       "  </tbody>\n",
       "</table>\n",
       "</div>"
      ],
      "text/plain": [
       "                   ANOMALY.LEVEL  Shuffled_anomaly\n",
       "RES.PRICE <= 11.5                                 \n",
       "False                  -0.105744         -0.127850\n",
       "True                   -0.087879         -0.065073"
      ]
     },
     "execution_count": 499,
     "metadata": {},
     "output_type": "execute_result"
    }
   ],
   "source": [
    "#shuffle the ANOMALY.LEVEL COLUMNS FIRST\n",
    "with_shuffled = anomalies.assign(Shuffled_anomaly=np.random.permutation(outages1['ANOMALY.LEVEL']))\n",
    "group_means = with_shuffled.groupby('RES.PRICE <= 11.5').mean()\n",
    "group_means"
   ]
  },
  {
   "cell_type": "code",
   "execution_count": 500,
   "metadata": {},
   "outputs": [
    {
     "data": {
      "text/plain": [
       "[0.06328115593016255,\n",
       " 0.048328889653392965,\n",
       " 0.01474325895652294,\n",
       " -0.07417476563171926,\n",
       " -0.003085920701814737,\n",
       " -0.03876882641512029,\n",
       " -0.017768098889794845,\n",
       " -0.00884895774202095,\n",
       " 0.01057187484947944,\n",
       " -0.03927192783271062]"
      ]
     },
     "execution_count": 500,
     "metadata": {},
     "output_type": "execute_result"
    }
   ],
   "source": [
    "#begin running the permutation test by shuffling the anomaly.level\n",
    "\n",
    "n_repetitions = 500\n",
    "\n",
    "differences = []\n",
    "for i in range(n_repetitions):\n",
    "    \n",
    "    with_shuffled = anomalies.assign(Shuffled_anomaly=np.random.permutation(anomalies['ANOMALY.LEVEL']))\n",
    "\n",
    "    # Step 2: Compute the test statistic.\n",
    "    # Remember, False (0) comes before True (1),\n",
    "    # so this computes True - False.\n",
    "    grouped_means = (\n",
    "        with_shuffled\n",
    "        .groupby('RES.PRICE <= 11.5')\n",
    "        .mean()\n",
    "        .loc[:, 'Shuffled_anomaly']\n",
    "    )\n",
    "    difference = grouped_means.diff().iloc[-1]\n",
    "    \n",
    "    # Step 4: Store the result\n",
    "    differences.append(difference)\n",
    "    \n",
    "differences[:10]"
   ]
  },
  {
   "cell_type": "code",
   "execution_count": 501,
   "metadata": {},
   "outputs": [
    {
     "data": {
      "text/plain": [
       "0.017865337447582882"
      ]
     },
     "execution_count": 501,
     "metadata": {},
     "output_type": "execute_result"
    }
   ],
   "source": [
    "#heres the observed statistic once again\n",
    "grouped_means = anomalies.groupby(\"RES.PRICE <= 11.5\")[\"ANOMALY.LEVEL\"].mean()\n",
    "observed_difference = grouped_means.diff().iloc[1]\n",
    "observed_difference"
   ]
  },
  {
   "cell_type": "markdown",
   "metadata": {},
   "source": [
    "### Conclusion\n",
    "\n",
    "After permutating and shuffling the groups 500 times. We have our observed statistic as well as our simulated difference. By plotting a histogram of the simulated differences against the actauly observed statistic we can answer our question from before."
   ]
  },
  {
   "cell_type": "code",
   "execution_count": 502,
   "metadata": {},
   "outputs": [],
   "source": [
    "fig = px.histogram(\n",
    "    pd.DataFrame(differences), x=0, nbins=50, histnorm='probability', \n",
    "    title='Empirical Distribution of the Mean Differences <br> in ANOMALY.LEVELS (RES.PRICE <= 11.5 & RES.PRICE > 11.5)')\n",
    "fig.add_vline(x=observed_difference, line_color='red')\n",
    "fig.update_layout(xaxis_range=[-0.2, 0.2], margin=dict(t=60))\n",
    "fig.write_html('Mean_Anomaly.html', include_plotlyjs='cdn')\n"
   ]
  },
  {
   "cell_type": "markdown",
   "metadata": {},
   "source": [
    "Under the null hypothesis, we can regularly see a difference like 0.01786. Therefore we fail to reject the null hypothesis that these two groups come the same distribution. The difference between the two samples is not statistically significant. "
   ]
  },
  {
   "cell_type": "markdown",
   "metadata": {},
   "source": [
    "## Step 5: Framing a Prediction Problem"
   ]
  },
  {
   "cell_type": "code",
   "execution_count": 503,
   "metadata": {
    "ExecuteTime": {
     "end_time": "2019-10-31T23:36:28.657068Z",
     "start_time": "2019-10-31T23:36:28.654650Z"
    }
   },
   "outputs": [
    {
     "data": {
      "text/html": [
       "<div>\n",
       "<style scoped>\n",
       "    .dataframe tbody tr th:only-of-type {\n",
       "        vertical-align: middle;\n",
       "    }\n",
       "\n",
       "    .dataframe tbody tr th {\n",
       "        vertical-align: top;\n",
       "    }\n",
       "\n",
       "    .dataframe thead th {\n",
       "        text-align: right;\n",
       "    }\n",
       "</style>\n",
       "<table border=\"1\" class=\"dataframe\">\n",
       "  <thead>\n",
       "    <tr style=\"text-align: right;\">\n",
       "      <th></th>\n",
       "      <th>YEAR</th>\n",
       "      <th>MONTH</th>\n",
       "      <th>U.S._STATE</th>\n",
       "      <th>POSTAL.CODE</th>\n",
       "      <th>NERC.REGION</th>\n",
       "      <th>CLIMATE.REGION</th>\n",
       "      <th>ANOMALY.LEVEL</th>\n",
       "      <th>CLIMATE.CATEGORY</th>\n",
       "      <th>OUTAGE.START.DATE</th>\n",
       "      <th>OUTAGE.START.TIME</th>\n",
       "      <th>...</th>\n",
       "      <th>POPPCT_UC</th>\n",
       "      <th>POPDEN_URBAN</th>\n",
       "      <th>POPDEN_UC</th>\n",
       "      <th>POPDEN_RURAL</th>\n",
       "      <th>AREAPCT_URBAN</th>\n",
       "      <th>AREAPCT_UC</th>\n",
       "      <th>PCT_LAND</th>\n",
       "      <th>PCT_WATER_TOT</th>\n",
       "      <th>PCT_WATER_INLAND</th>\n",
       "      <th>RES.PRICE &lt;= 11.5</th>\n",
       "    </tr>\n",
       "  </thead>\n",
       "  <tbody>\n",
       "    <tr>\n",
       "      <th>6</th>\n",
       "      <td>2011</td>\n",
       "      <td>7</td>\n",
       "      <td>Minnesota</td>\n",
       "      <td>MN</td>\n",
       "      <td>MRO</td>\n",
       "      <td>East North Central</td>\n",
       "      <td>-0.3</td>\n",
       "      <td>normal</td>\n",
       "      <td>Friday, July 1, 2011</td>\n",
       "      <td>5:00:00 PM</td>\n",
       "      <td>...</td>\n",
       "      <td>15.28</td>\n",
       "      <td>2279</td>\n",
       "      <td>1700.5</td>\n",
       "      <td>18.2</td>\n",
       "      <td>2.14</td>\n",
       "      <td>0.6</td>\n",
       "      <td>91.59266587</td>\n",
       "      <td>8.407334131</td>\n",
       "      <td>5.478742983</td>\n",
       "      <td>False</td>\n",
       "    </tr>\n",
       "    <tr>\n",
       "      <th>7</th>\n",
       "      <td>2014</td>\n",
       "      <td>5</td>\n",
       "      <td>Minnesota</td>\n",
       "      <td>MN</td>\n",
       "      <td>MRO</td>\n",
       "      <td>East North Central</td>\n",
       "      <td>-0.1</td>\n",
       "      <td>normal</td>\n",
       "      <td>Sunday, May 11, 2014</td>\n",
       "      <td>6:38:00 PM</td>\n",
       "      <td>...</td>\n",
       "      <td>15.28</td>\n",
       "      <td>2279</td>\n",
       "      <td>1700.5</td>\n",
       "      <td>18.2</td>\n",
       "      <td>2.14</td>\n",
       "      <td>0.6</td>\n",
       "      <td>91.59266587</td>\n",
       "      <td>8.407334131</td>\n",
       "      <td>5.478742983</td>\n",
       "      <td>False</td>\n",
       "    </tr>\n",
       "    <tr>\n",
       "      <th>8</th>\n",
       "      <td>2010</td>\n",
       "      <td>10</td>\n",
       "      <td>Minnesota</td>\n",
       "      <td>MN</td>\n",
       "      <td>MRO</td>\n",
       "      <td>East North Central</td>\n",
       "      <td>-1.5</td>\n",
       "      <td>cold</td>\n",
       "      <td>Tuesday, October 26, 2010</td>\n",
       "      <td>8:00:00 PM</td>\n",
       "      <td>...</td>\n",
       "      <td>15.28</td>\n",
       "      <td>2279</td>\n",
       "      <td>1700.5</td>\n",
       "      <td>18.2</td>\n",
       "      <td>2.14</td>\n",
       "      <td>0.6</td>\n",
       "      <td>91.59266587</td>\n",
       "      <td>8.407334131</td>\n",
       "      <td>5.478742983</td>\n",
       "      <td>True</td>\n",
       "    </tr>\n",
       "    <tr>\n",
       "      <th>9</th>\n",
       "      <td>2012</td>\n",
       "      <td>6</td>\n",
       "      <td>Minnesota</td>\n",
       "      <td>MN</td>\n",
       "      <td>MRO</td>\n",
       "      <td>East North Central</td>\n",
       "      <td>-0.1</td>\n",
       "      <td>normal</td>\n",
       "      <td>Tuesday, June 19, 2012</td>\n",
       "      <td>4:30:00 AM</td>\n",
       "      <td>...</td>\n",
       "      <td>15.28</td>\n",
       "      <td>2279</td>\n",
       "      <td>1700.5</td>\n",
       "      <td>18.2</td>\n",
       "      <td>2.14</td>\n",
       "      <td>0.6</td>\n",
       "      <td>91.59266587</td>\n",
       "      <td>8.407334131</td>\n",
       "      <td>5.478742983</td>\n",
       "      <td>False</td>\n",
       "    </tr>\n",
       "    <tr>\n",
       "      <th>10</th>\n",
       "      <td>2015</td>\n",
       "      <td>7</td>\n",
       "      <td>Minnesota</td>\n",
       "      <td>MN</td>\n",
       "      <td>MRO</td>\n",
       "      <td>East North Central</td>\n",
       "      <td>1.2</td>\n",
       "      <td>warm</td>\n",
       "      <td>Saturday, July 18, 2015</td>\n",
       "      <td>2:00:00 AM</td>\n",
       "      <td>...</td>\n",
       "      <td>15.28</td>\n",
       "      <td>2279</td>\n",
       "      <td>1700.5</td>\n",
       "      <td>18.2</td>\n",
       "      <td>2.14</td>\n",
       "      <td>0.6</td>\n",
       "      <td>91.59266587</td>\n",
       "      <td>8.407334131</td>\n",
       "      <td>5.478742983</td>\n",
       "      <td>False</td>\n",
       "    </tr>\n",
       "  </tbody>\n",
       "</table>\n",
       "<p>5 rows × 54 columns</p>\n",
       "</div>"
      ],
      "text/plain": [
       "    YEAR MONTH U.S._STATE POSTAL.CODE NERC.REGION      CLIMATE.REGION  \\\n",
       "6   2011     7  Minnesota          MN         MRO  East North Central   \n",
       "7   2014     5  Minnesota          MN         MRO  East North Central   \n",
       "8   2010    10  Minnesota          MN         MRO  East North Central   \n",
       "9   2012     6  Minnesota          MN         MRO  East North Central   \n",
       "10  2015     7  Minnesota          MN         MRO  East North Central   \n",
       "\n",
       "    ANOMALY.LEVEL CLIMATE.CATEGORY          OUTAGE.START.DATE  \\\n",
       "6            -0.3           normal       Friday, July 1, 2011   \n",
       "7            -0.1           normal       Sunday, May 11, 2014   \n",
       "8            -1.5             cold  Tuesday, October 26, 2010   \n",
       "9            -0.1           normal     Tuesday, June 19, 2012   \n",
       "10            1.2             warm    Saturday, July 18, 2015   \n",
       "\n",
       "   OUTAGE.START.TIME  ... POPPCT_UC POPDEN_URBAN POPDEN_UC  POPDEN_RURAL  \\\n",
       "6         5:00:00 PM  ...     15.28         2279    1700.5          18.2   \n",
       "7         6:38:00 PM  ...     15.28         2279    1700.5          18.2   \n",
       "8         8:00:00 PM  ...     15.28         2279    1700.5          18.2   \n",
       "9         4:30:00 AM  ...     15.28         2279    1700.5          18.2   \n",
       "10        2:00:00 AM  ...     15.28         2279    1700.5          18.2   \n",
       "\n",
       "   AREAPCT_URBAN AREAPCT_UC     PCT_LAND PCT_WATER_TOT PCT_WATER_INLAND  \\\n",
       "6           2.14        0.6  91.59266587   8.407334131      5.478742983   \n",
       "7           2.14        0.6  91.59266587   8.407334131      5.478742983   \n",
       "8           2.14        0.6  91.59266587   8.407334131      5.478742983   \n",
       "9           2.14        0.6  91.59266587   8.407334131      5.478742983   \n",
       "10          2.14        0.6  91.59266587   8.407334131      5.478742983   \n",
       "\n",
       "   RES.PRICE <= 11.5  \n",
       "6              False  \n",
       "7              False  \n",
       "8               True  \n",
       "9              False  \n",
       "10             False  \n",
       "\n",
       "[5 rows x 54 columns]"
      ]
     },
     "execution_count": 503,
     "metadata": {},
     "output_type": "execute_result"
    }
   ],
   "source": [
    "outages1.head()"
   ]
  },
  {
   "cell_type": "markdown",
   "metadata": {},
   "source": [
    "Notebook: We want to predict the duration of a power outages based on the following features: “RES.PRICE”, “IND.PRICE”, “CLIMATE.REGION”, “CLIMATE.CATEGORY”, “COM.PRICE”.\n",
    "\n",
    "These are the features that we are going to be using because these are the only features that we can be sure of before the power outage itself. Other factors like “CUSTOMERS.AFFECTED” wouldnt be known to us before the start of the power outage. Thus, these features are going to be the ones we’re training our Regression model on. \n",
    "\n",
    "To recap, our response variable is going to be “OUTAGE.DURATION” and our features that we are going to be using are “RES.PRICE”, “IND.PRICE”, “CLIMATE.REGION”, “CLIMATE.CATEGORY”, “COM.PRICE”, . The metric that we are going to be using to determine the accuracy of our model is the RMSE as well as the R^2. \n"
   ]
  },
  {
   "cell_type": "markdown",
   "metadata": {},
   "source": [
    "## Step 6: Baseline Model"
   ]
  },
  {
   "cell_type": "markdown",
   "metadata": {},
   "source": [
    "As stated before, we are going to be running a Multi-Linear Regression model, lets begin trianing that model."
   ]
  },
  {
   "cell_type": "code",
   "execution_count": 504,
   "metadata": {},
   "outputs": [
    {
     "data": {
      "text/html": [
       "<div>\n",
       "<style scoped>\n",
       "    .dataframe tbody tr th:only-of-type {\n",
       "        vertical-align: middle;\n",
       "    }\n",
       "\n",
       "    .dataframe tbody tr th {\n",
       "        vertical-align: top;\n",
       "    }\n",
       "\n",
       "    .dataframe thead th {\n",
       "        text-align: right;\n",
       "    }\n",
       "</style>\n",
       "<table border=\"1\" class=\"dataframe\">\n",
       "  <thead>\n",
       "    <tr style=\"text-align: right;\">\n",
       "      <th></th>\n",
       "      <th>ANOMALY.LEVEL</th>\n",
       "      <th>CLIMATE.REGION</th>\n",
       "      <th>COM.PRICE</th>\n",
       "      <th>OUTAGE_DURATION</th>\n",
       "      <th>PI.UTIL.OFUSA</th>\n",
       "    </tr>\n",
       "  </thead>\n",
       "  <tbody>\n",
       "    <tr>\n",
       "      <th>0</th>\n",
       "      <td>-0.3</td>\n",
       "      <td>East North Central</td>\n",
       "      <td>9.18</td>\n",
       "      <td>3060.0</td>\n",
       "      <td>2.2</td>\n",
       "    </tr>\n",
       "    <tr>\n",
       "      <th>1</th>\n",
       "      <td>-0.1</td>\n",
       "      <td>East North Central</td>\n",
       "      <td>9.71</td>\n",
       "      <td>1.0</td>\n",
       "      <td>2.2</td>\n",
       "    </tr>\n",
       "    <tr>\n",
       "      <th>2</th>\n",
       "      <td>-1.5</td>\n",
       "      <td>East North Central</td>\n",
       "      <td>8.19</td>\n",
       "      <td>3000.0</td>\n",
       "      <td>2.1</td>\n",
       "    </tr>\n",
       "    <tr>\n",
       "      <th>3</th>\n",
       "      <td>-0.1</td>\n",
       "      <td>East North Central</td>\n",
       "      <td>9.25</td>\n",
       "      <td>2550.0</td>\n",
       "      <td>2.2</td>\n",
       "    </tr>\n",
       "    <tr>\n",
       "      <th>4</th>\n",
       "      <td>1.2</td>\n",
       "      <td>East North Central</td>\n",
       "      <td>10.16</td>\n",
       "      <td>1740.0</td>\n",
       "      <td>2.2</td>\n",
       "    </tr>\n",
       "  </tbody>\n",
       "</table>\n",
       "</div>"
      ],
      "text/plain": [
       "  ANOMALY.LEVEL      CLIMATE.REGION COM.PRICE  OUTAGE_DURATION PI.UTIL.OFUSA\n",
       "0          -0.3  East North Central      9.18           3060.0           2.2\n",
       "1          -0.1  East North Central      9.71              1.0           2.2\n",
       "2          -1.5  East North Central      8.19           3000.0           2.1\n",
       "3          -0.1  East North Central      9.25           2550.0           2.2\n",
       "4           1.2  East North Central     10.16           1740.0           2.2"
      ]
     },
     "execution_count": 504,
     "metadata": {},
     "output_type": "execute_result"
    }
   ],
   "source": [
    "linear_outages_filled = linear_outages1.copy()\n",
    "linear_outages_filled.head()"
   ]
  },
  {
   "cell_type": "markdown",
   "metadata": {},
   "source": [
    "Make a subset of outages1 with all the relevant features for our linear regression model. This will also help us with the tranformation of necessary columns so that we can run the Multi Linear Regression on it. "
   ]
  },
  {
   "cell_type": "code",
   "execution_count": null,
   "metadata": {},
   "outputs": [],
   "source": []
  },
  {
   "cell_type": "code",
   "execution_count": 505,
   "metadata": {},
   "outputs": [
    {
     "data": {
      "text/plain": [
       "ANOMALY.LEVEL       object\n",
       "CLIMATE.REGION      object\n",
       "COM.PRICE           object\n",
       "OUTAGE_DURATION    float64\n",
       "PI.UTIL.OFUSA       object\n",
       "dtype: object"
      ]
     },
     "execution_count": 505,
     "metadata": {},
     "output_type": "execute_result"
    }
   ],
   "source": [
    "types = linear_outages_filled.dtypes\n",
    "types"
   ]
  },
  {
   "cell_type": "code",
   "execution_count": 506,
   "metadata": {},
   "outputs": [],
   "source": [
    "#linear_outages_filled[\"CUSTOMERS.AFFECTED\"].isna().value_counts()"
   ]
  },
  {
   "cell_type": "code",
   "execution_count": 507,
   "metadata": {},
   "outputs": [
    {
     "data": {
      "text/plain": [
       "\"import matplotlib.pyplot as plt\\n\\n# Extracting data\\noutage_duration = linear_outages_filled['OUTAGE_DURATION']\\ncustomers_affected = linear_outages_filled['CUSTOMERS.AFFECTED']\\n\\n# Create scatter plot\\n\\nplt.scatter(outage_duration, customers_affected, alpha=0.5)\\nplt.title('Relationship between Outage Duration and Customers Affected')\\nplt.xlabel('Outage Duration')\\nplt.ylabel('Customers Affected')\\n\\nplt.show()\""
      ]
     },
     "execution_count": 507,
     "metadata": {},
     "output_type": "execute_result"
    }
   ],
   "source": [
    "'''import matplotlib.pyplot as plt\n",
    "\n",
    "# Extracting data\n",
    "outage_duration = linear_outages_filled['OUTAGE_DURATION']\n",
    "customers_affected = linear_outages_filled['CUSTOMERS.AFFECTED']\n",
    "\n",
    "# Create scatter plot\n",
    "\n",
    "plt.scatter(outage_duration, customers_affected, alpha=0.5)\n",
    "plt.title('Relationship between Outage Duration and Customers Affected')\n",
    "plt.xlabel('Outage Duration')\n",
    "plt.ylabel('Customers Affected')\n",
    "\n",
    "plt.show()'''\n"
   ]
  },
  {
   "cell_type": "code",
   "execution_count": 508,
   "metadata": {},
   "outputs": [
    {
     "data": {
      "text/plain": [
       "Pipeline(steps=[('one_hot_encoder',\n",
       "                 ColumnTransformer(remainder='passthrough',\n",
       "                                   transformers=[('transform',\n",
       "                                                  FunctionTransformer(func=<function <lambda> at 0x0000018970F99040>),\n",
       "                                                  ['COM.PRICE',\n",
       "                                                   'ANOMALY.LEVEL'])])),\n",
       "                ('linear', LinearRegression())])"
      ]
     },
     "execution_count": 508,
     "metadata": {},
     "output_type": "execute_result"
    }
   ],
   "source": [
    "from sklearn.pipeline import Pipeline\n",
    "from sklearn.compose import ColumnTransformer\n",
    "from sklearn.preprocessing import OneHotEncoder,FunctionTransformer,StandardScaler\n",
    "from sklearn.model_selection import train_test_split\n",
    "from sklearn.metrics import mean_squared_error,r2_score\n",
    "from sklearn.linear_model import LinearRegression\n",
    "X = linear_outages_filled[[ \"ANOMALY.LEVEL\",\n",
    "    \"COM.PRICE\",\n",
    "    \"PI.UTIL.OFUSA\"]]\n",
    "y = linear_outages_filled['OUTAGE_DURATION']\n",
    "\n",
    "one_hot_encoder = ColumnTransformer(\n",
    "    transformers=[\n",
    "    ('transform', FunctionTransformer(lambda x: x.astype(float)), ['COM.PRICE','ANOMALY.LEVEL']),\n",
    "],\n",
    "    remainder=\"passthrough\"\n",
    ")\n",
    "pipeline = Pipeline([\n",
    "    ('one_hot_encoder', one_hot_encoder),\n",
    "    ('linear',LinearRegression())\n",
    "])\n",
    "pipeline"
   ]
  },
  {
   "cell_type": "code",
   "execution_count": 509,
   "metadata": {},
   "outputs": [
    {
     "data": {
      "text/plain": [
       "Pipeline(steps=[('one_hot_encoder',\n",
       "                 ColumnTransformer(remainder='passthrough',\n",
       "                                   transformers=[('transform',\n",
       "                                                  FunctionTransformer(func=<function <lambda> at 0x0000018970F99040>),\n",
       "                                                  ['COM.PRICE',\n",
       "                                                   'ANOMALY.LEVEL'])])),\n",
       "                ('linear', LinearRegression())])"
      ]
     },
     "execution_count": 509,
     "metadata": {},
     "output_type": "execute_result"
    }
   ],
   "source": [
    "# Split data into train and test sets\n",
    "X_train, X_test, y_train, y_test = train_test_split(X, y, test_size=0.2, random_state=42)\n",
    "\n",
    "# Fit the pipeline on training data\n",
    "pipeline.fit(X_train, y_train)\n"
   ]
  },
  {
   "cell_type": "markdown",
   "metadata": {},
   "source": [
    "Training Data"
   ]
  },
  {
   "cell_type": "code",
   "execution_count": 510,
   "metadata": {},
   "outputs": [
    {
     "name": "stdout",
     "output_type": "stream",
     "text": [
      "Root Mean Squared Error (RMSE): 5473.2525455760115\n",
      "R^2: -0.017027312534863226\n"
     ]
    }
   ],
   "source": [
    "y_pred = pipeline.predict(X_test)\n",
    "#R^2\n",
    "r_squared = r2_score(y_test, y_pred)\n",
    "# Calculate mean squared error\n",
    "mse = mean_squared_error(y_test, y_pred,squared=False)\n",
    "\n",
    "# Calculate root mean squared error\n",
    "print(\"Root Mean Squared Error (RMSE):\", mse)\n",
    "print(\"R^2:\", r_squared)"
   ]
  },
  {
   "cell_type": "markdown",
   "metadata": {},
   "source": [
    "Our intial model isnt very accurate at all. The RMSE is incredible high and the r^2 is incredible low. We have to make lots of adjustments going into our final model.\n",
    "\n"
   ]
  },
  {
   "cell_type": "code",
   "execution_count": 511,
   "metadata": {},
   "outputs": [
    {
     "data": {
      "text/plain": [
       "3618.801336478347"
      ]
     },
     "execution_count": 511,
     "metadata": {},
     "output_type": "execute_result"
    }
   ],
   "source": [
    "linear_regression_model = pipeline.named_steps['linear']\n",
    "linear_coefficients = linear_regression_model.coef_\n",
    "linear_regression_model.intercept_"
   ]
  },
  {
   "cell_type": "code",
   "execution_count": null,
   "metadata": {},
   "outputs": [],
   "source": []
  },
  {
   "cell_type": "code",
   "execution_count": null,
   "metadata": {},
   "outputs": [],
   "source": []
  },
  {
   "cell_type": "markdown",
   "metadata": {},
   "source": [
    "## Step 7: Final Model"
   ]
  },
  {
   "cell_type": "code",
   "execution_count": 512,
   "metadata": {
    "ExecuteTime": {
     "end_time": "2019-10-31T23:36:28.662099Z",
     "start_time": "2019-10-31T23:36:28.660016Z"
    }
   },
   "outputs": [],
   "source": [
    "X_train_transformed = pipeline.named_steps['one_hot_encoder'].transform(X_train)\n"
   ]
  },
  {
   "cell_type": "code",
   "execution_count": 513,
   "metadata": {},
   "outputs": [
    {
     "data": {
      "text/plain": [
       "dict_keys(['copy_X', 'fit_intercept', 'n_jobs', 'normalize', 'positive'])"
      ]
     },
     "execution_count": 513,
     "metadata": {},
     "output_type": "execute_result"
    }
   ],
   "source": [
    "pipeline.named_steps['linear'].get_params().keys()"
   ]
  },
  {
   "cell_type": "code",
   "execution_count": 514,
   "metadata": {},
   "outputs": [
    {
     "data": {
      "text/plain": [
       "{'copy_X': True, 'fit_intercept': True, 'positive': True}"
      ]
     },
     "execution_count": 514,
     "metadata": {},
     "output_type": "execute_result"
    }
   ],
   "source": [
    "from sklearn.model_selection import GridSearchCV\n",
    "\n",
    "param_grid = {\n",
    "    \"fit_intercept\": [True, False],\n",
    "    \"positive\":[True, False],\n",
    "    \"copy_X\":[True, False]\n",
    "}\n",
    "\n",
    "# Perform GridSearchCV for hyperparameter tuning\n",
    "grid_search = GridSearchCV(LinearRegression(), param_grid, cv=5)\n",
    "grid_search.fit(X_train_transformed, y_train)\n",
    "grid_search.best_params_"
   ]
  },
  {
   "cell_type": "code",
   "execution_count": null,
   "metadata": {},
   "outputs": [],
   "source": []
  },
  {
   "cell_type": "code",
   "execution_count": null,
   "metadata": {},
   "outputs": [],
   "source": []
  },
  {
   "cell_type": "code",
   "execution_count": 515,
   "metadata": {},
   "outputs": [],
   "source": [
    "final_linear_reg = LinearRegression(**grid_search.best_params_)\n"
   ]
  },
  {
   "cell_type": "code",
   "execution_count": 516,
   "metadata": {},
   "outputs": [
    {
     "data": {
      "text/plain": [
       "1.9235429830288808e-05"
      ]
     },
     "execution_count": 516,
     "metadata": {},
     "output_type": "execute_result"
    }
   ],
   "source": [
    "final_linear_reg.fit(X_train_transformed, y_train)\n",
    "final_linear_reg.score(X_train_transformed, y_train)"
   ]
  },
  {
   "cell_type": "markdown",
   "metadata": {},
   "source": [
    "## Step 8: Fairness Analysis"
   ]
  },
  {
   "cell_type": "code",
   "execution_count": 517,
   "metadata": {
    "ExecuteTime": {
     "end_time": "2019-10-31T23:36:28.666489Z",
     "start_time": "2019-10-31T23:36:28.664381Z"
    }
   },
   "outputs": [],
   "source": [
    "# TODO"
   ]
  }
 ],
 "metadata": {
  "kernelspec": {
   "display_name": "Python 3 (ipykernel)",
   "language": "python",
   "name": "python3"
  },
  "language_info": {
   "codemirror_mode": {
    "name": "ipython",
    "version": 3
   },
   "file_extension": ".py",
   "mimetype": "text/x-python",
   "name": "python",
   "nbconvert_exporter": "python",
   "pygments_lexer": "ipython3",
   "version": "3.8.18"
  }
 },
 "nbformat": 4,
 "nbformat_minor": 2
}
